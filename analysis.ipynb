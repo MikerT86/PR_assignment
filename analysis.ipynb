{
 "cells": [
  {
   "cell_type": "markdown",
   "metadata": {},
   "source": [
    "# Pattern Recognition - assignment 1\n",
    "\n",
    "* Bjorn Bruns (student id 1)\n",
    "* Mikhail Ternyuk (student id 2)\n",
    "\n",
    "# 1. Exploratory Analysis"
   ]
  },
  {
   "cell_type": "code",
   "execution_count": 1,
   "metadata": {},
   "outputs": [],
   "source": [
    "import pandas as pd\n",
    "import numpy as np\n",
    "import matplotlib.pyplot as plt \n",
    "import matplotlib.image as mpimg\n",
    "import seaborn as sns\n",
    "from scipy import stats\n",
    "\n",
    "%matplotlib inline"
   ]
  },
  {
   "cell_type": "code",
<<<<<<< HEAD
   "execution_count": 2,
=======
   "execution_count": 29,
>>>>>>> a46d565c1fee6fca94c14e5ee6bc4c0d2dce59e9
   "metadata": {},
   "outputs": [
    {
     "data": {
      "text/html": [
       "<div>\n",
       "<style scoped>\n",
       "    .dataframe tbody tr th:only-of-type {\n",
       "        vertical-align: middle;\n",
       "    }\n",
       "\n",
       "    .dataframe tbody tr th {\n",
       "        vertical-align: top;\n",
       "    }\n",
       "\n",
       "    .dataframe thead th {\n",
       "        text-align: right;\n",
       "    }\n",
       "</style>\n",
       "<table border=\"1\" class=\"dataframe\">\n",
       "  <thead>\n",
       "    <tr style=\"text-align: right;\">\n",
       "      <th></th>\n",
       "      <th>label</th>\n",
       "      <th>pixel0</th>\n",
       "      <th>pixel1</th>\n",
       "      <th>pixel2</th>\n",
       "      <th>pixel3</th>\n",
       "      <th>pixel4</th>\n",
       "      <th>pixel5</th>\n",
       "      <th>pixel6</th>\n",
       "      <th>pixel7</th>\n",
       "      <th>pixel8</th>\n",
       "      <th>...</th>\n",
       "      <th>pixel774</th>\n",
       "      <th>pixel775</th>\n",
       "      <th>pixel776</th>\n",
       "      <th>pixel777</th>\n",
       "      <th>pixel778</th>\n",
       "      <th>pixel779</th>\n",
       "      <th>pixel780</th>\n",
       "      <th>pixel781</th>\n",
       "      <th>pixel782</th>\n",
       "      <th>pixel783</th>\n",
       "    </tr>\n",
       "  </thead>\n",
       "  <tbody>\n",
       "    <tr>\n",
       "      <th>0</th>\n",
       "      <td>1</td>\n",
       "      <td>0</td>\n",
       "      <td>0</td>\n",
       "      <td>0</td>\n",
       "      <td>0</td>\n",
       "      <td>0</td>\n",
       "      <td>0</td>\n",
       "      <td>0</td>\n",
       "      <td>0</td>\n",
       "      <td>0</td>\n",
       "      <td>...</td>\n",
       "      <td>0</td>\n",
       "      <td>0</td>\n",
       "      <td>0</td>\n",
       "      <td>0</td>\n",
       "      <td>0</td>\n",
       "      <td>0</td>\n",
       "      <td>0</td>\n",
       "      <td>0</td>\n",
       "      <td>0</td>\n",
       "      <td>0</td>\n",
       "    </tr>\n",
       "    <tr>\n",
       "      <th>1</th>\n",
       "      <td>0</td>\n",
       "      <td>0</td>\n",
       "      <td>0</td>\n",
       "      <td>0</td>\n",
       "      <td>0</td>\n",
       "      <td>0</td>\n",
       "      <td>0</td>\n",
       "      <td>0</td>\n",
       "      <td>0</td>\n",
       "      <td>0</td>\n",
       "      <td>...</td>\n",
       "      <td>0</td>\n",
       "      <td>0</td>\n",
       "      <td>0</td>\n",
       "      <td>0</td>\n",
       "      <td>0</td>\n",
       "      <td>0</td>\n",
       "      <td>0</td>\n",
       "      <td>0</td>\n",
       "      <td>0</td>\n",
       "      <td>0</td>\n",
       "    </tr>\n",
       "    <tr>\n",
       "      <th>2</th>\n",
       "      <td>1</td>\n",
       "      <td>0</td>\n",
       "      <td>0</td>\n",
       "      <td>0</td>\n",
       "      <td>0</td>\n",
       "      <td>0</td>\n",
       "      <td>0</td>\n",
       "      <td>0</td>\n",
       "      <td>0</td>\n",
       "      <td>0</td>\n",
       "      <td>...</td>\n",
       "      <td>0</td>\n",
       "      <td>0</td>\n",
       "      <td>0</td>\n",
       "      <td>0</td>\n",
       "      <td>0</td>\n",
       "      <td>0</td>\n",
       "      <td>0</td>\n",
       "      <td>0</td>\n",
       "      <td>0</td>\n",
       "      <td>0</td>\n",
       "    </tr>\n",
       "    <tr>\n",
       "      <th>3</th>\n",
       "      <td>4</td>\n",
       "      <td>0</td>\n",
       "      <td>0</td>\n",
       "      <td>0</td>\n",
       "      <td>0</td>\n",
       "      <td>0</td>\n",
       "      <td>0</td>\n",
       "      <td>0</td>\n",
       "      <td>0</td>\n",
       "      <td>0</td>\n",
       "      <td>...</td>\n",
       "      <td>0</td>\n",
       "      <td>0</td>\n",
       "      <td>0</td>\n",
       "      <td>0</td>\n",
       "      <td>0</td>\n",
       "      <td>0</td>\n",
       "      <td>0</td>\n",
       "      <td>0</td>\n",
       "      <td>0</td>\n",
       "      <td>0</td>\n",
       "    </tr>\n",
       "    <tr>\n",
       "      <th>4</th>\n",
       "      <td>0</td>\n",
       "      <td>0</td>\n",
       "      <td>0</td>\n",
       "      <td>0</td>\n",
       "      <td>0</td>\n",
       "      <td>0</td>\n",
       "      <td>0</td>\n",
       "      <td>0</td>\n",
       "      <td>0</td>\n",
       "      <td>0</td>\n",
       "      <td>...</td>\n",
       "      <td>0</td>\n",
       "      <td>0</td>\n",
       "      <td>0</td>\n",
       "      <td>0</td>\n",
       "      <td>0</td>\n",
       "      <td>0</td>\n",
       "      <td>0</td>\n",
       "      <td>0</td>\n",
       "      <td>0</td>\n",
       "      <td>0</td>\n",
       "    </tr>\n",
       "  </tbody>\n",
       "</table>\n",
       "<p>5 rows × 785 columns</p>\n",
       "</div>"
      ],
      "text/plain": [
       "   label  pixel0  pixel1  pixel2  pixel3  pixel4  pixel5  pixel6  pixel7  \\\n",
       "0      1       0       0       0       0       0       0       0       0   \n",
       "1      0       0       0       0       0       0       0       0       0   \n",
       "2      1       0       0       0       0       0       0       0       0   \n",
       "3      4       0       0       0       0       0       0       0       0   \n",
       "4      0       0       0       0       0       0       0       0       0   \n",
       "\n",
       "   pixel8  ...  pixel774  pixel775  pixel776  pixel777  pixel778  pixel779  \\\n",
       "0       0  ...         0         0         0         0         0         0   \n",
       "1       0  ...         0         0         0         0         0         0   \n",
       "2       0  ...         0         0         0         0         0         0   \n",
       "3       0  ...         0         0         0         0         0         0   \n",
       "4       0  ...         0         0         0         0         0         0   \n",
       "\n",
       "   pixel780  pixel781  pixel782  pixel783  \n",
       "0         0         0         0         0  \n",
       "1         0         0         0         0  \n",
       "2         0         0         0         0  \n",
       "3         0         0         0         0  \n",
       "4         0         0         0         0  \n",
       "\n",
       "[5 rows x 785 columns]"
      ]
     },
<<<<<<< HEAD
     "execution_count": 2,
=======
     "execution_count": 29,
>>>>>>> a46d565c1fee6fca94c14e5ee6bc4c0d2dce59e9
     "metadata": {},
     "output_type": "execute_result"
    }
   ],
   "source": [
    "df = pd.read_csv(\"mnist.csv\")\n",
    "df.head()"
   ]
  },
  {
   "cell_type": "code",
   "execution_count": 16,
   "metadata": {},
   "outputs": [
    {
     "name": "stdout",
     "output_type": "stream",
     "text": [
      "740    5\n",
      "Name: label, dtype: int64\n",
      "740      5\n",
      "9193     5\n",
      "11690    8\n",
      "24247    8\n",
      "26361    5\n",
      "27004    5\n",
      "34413    5\n",
      "35846    8\n",
      "36054    5\n",
      "36357    0\n",
      "37458    8\n",
      "Name: label, dtype: int64\n",
      "9064     8\n",
      "9193     5\n",
      "11690    8\n",
      "15953    5\n",
      "24247    8\n",
      "26361    5\n",
      "27004    5\n",
      "34413    5\n",
      "35846    8\n",
      "36054    5\n",
      "36357    0\n",
      "37458    8\n",
      "37650    5\n",
      "Name: label, dtype: int64\n",
      "3374     5\n",
      "5471     8\n",
      "6341     5\n",
      "9064     8\n",
      "15953    5\n",
      "22873    5\n",
      "35381    8\n",
      "37458    8\n",
      "37650    5\n",
      "Name: label, dtype: int64\n",
      "244      5\n",
      "3374     5\n",
      "5471     8\n",
      "6341     5\n",
      "15395    5\n",
      "22721    8\n",
      "22873    5\n",
      "32569    8\n",
      "35381    8\n",
      "36320    8\n",
      "37650    5\n",
      "Name: label, dtype: int64\n",
      "244      5\n",
      "5471     8\n",
      "13032    1\n",
      "15395    5\n",
      "22721    8\n",
      "22873    5\n",
      "27175    5\n",
      "32569    8\n",
      "35381    8\n",
      "35943    8\n",
      "36320    8\n",
      "Name: label, dtype: int64\n",
      "13032    1\n",
      "21778    7\n",
      "26790    8\n",
      "27175    5\n",
      "32569    8\n",
      "35943    8\n",
      "36320    8\n",
      "38142    1\n",
      "39840    8\n",
      "Name: label, dtype: int64\n",
      "3674     2\n",
      "21778    7\n",
      "26790    8\n",
      "38142    1\n",
      "39840    8\n",
      "40907    2\n",
      "Name: label, dtype: int64\n",
      "3674     2\n",
      "39840    8\n",
      "40907    2\n",
      "Name: label, dtype: int64\n",
      "3674     2\n",
      "7599     2\n",
      "40907    2\n",
      "Name: label, dtype: int64\n",
      "235      2\n",
      "2516     4\n",
      "7599     2\n",
      "10307    4\n",
      "17939    2\n",
      "24664    2\n",
      "Name: label, dtype: int64\n",
      "235      2\n",
      "2516     4\n",
      "7599     2\n",
      "8100     0\n",
      "10307    4\n",
      "17939    2\n",
      "17972    2\n",
      "22047    2\n",
      "24664    2\n",
      "27826    2\n",
      "33284    2\n",
      "Name: label, dtype: int64\n",
      "55       2\n",
      "2516     4\n",
      "8100     0\n",
      "11784    1\n",
      "17939    2\n",
      "17972    2\n",
      "21250    2\n",
      "22047    2\n",
      "24664    2\n",
      "27826    2\n",
      "30556    2\n",
      "33284    2\n",
      "40673    2\n",
      "Name: label, dtype: int64\n",
      "55       2\n",
      "2516     4\n",
      "11784    1\n",
      "21250    2\n",
      "28293    2\n",
      "30556    2\n",
      "Name: label, dtype: int64\n",
      "11784    1\n",
      "28293    2\n",
      "Name: label, dtype: int64\n",
      "38323    5\n",
      "Name: label, dtype: int64\n",
      "24909    0\n",
      "Name: label, dtype: int64\n",
      "24909    0\n",
      "Name: label, dtype: int64\n"
     ]
    }
   ],
   "source": [
    "# for i in range(28):\n",
    "#     feature = 'pixel' + str(i)\n",
    "#     border_marked = df[df[feature] != 0]\n",
    "#     if border_marked.shape[0] > 0:\n",
    "#         print(border_marked['label']) \n",
    "        \n",
    "        \n",
    "for i in range(27, 783, 28):\n",
    "    feature = 'pixel' + str(i)\n",
    "    border_marked = df[df[feature] != 0]\n",
    "    if border_marked.shape[0] > 0:\n",
    "        print(border_marked['label'])"
   ]
  },
  {
   "cell_type": "code",
   "execution_count": 4,
   "metadata": {
    "scrolled": true
   },
   "outputs": [
    {
     "name": "stdout",
     "output_type": "stream",
     "text": [
      "<class 'pandas.core.frame.DataFrame'>\n",
      "RangeIndex: 42000 entries, 0 to 41999\n",
      "Columns: 785 entries, label to pixel783\n",
      "dtypes: int64(785)\n",
      "memory usage: 251.5 MB\n"
     ]
    }
   ],
   "source": [
    "df.info()"
   ]
  },
  {
   "cell_type": "code",
<<<<<<< HEAD
   "execution_count": 20,
=======
   "execution_count": 4,
>>>>>>> a46d565c1fee6fca94c14e5ee6bc4c0d2dce59e9
   "metadata": {},
   "outputs": [
    {
     "data": {
<<<<<<< HEAD
      "image/png": "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\n",
=======
      "image/png": "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\n",
>>>>>>> a46d565c1fee6fca94c14e5ee6bc4c0d2dce59e9
      "text/plain": [
       "<Figure size 432x288 with 1 Axes>"
      ]
     },
     "metadata": {
      "needs_background": "light"
     },
     "output_type": "display_data"
    }
   ],
   "source": [
    "input_data = np.array(df.drop([\"label\"], axis=1))\n",
    "digit_image = input_data[22873].reshape(28, 28)\n",
    "plt.imshow(digit_image, cmap = 'binary')\n",
    "plt.show()"
   ]
  },
  {
   "cell_type": "code",
<<<<<<< HEAD
=======
   "execution_count": 5,
   "metadata": {},
   "outputs": [
    {
     "name": "stdout",
     "output_type": "stream",
     "text": [
      "Label 0: 9.84%\n",
      "Label 1: 11.15%\n",
      "Label 2: 9.95%\n",
      "Label 3: 10.36%\n",
      "Label 4: 9.70%\n",
      "Label 5: 9.04%\n",
      "Label 6: 9.85%\n",
      "Label 7: 10.48%\n",
      "Label 8: 9.67%\n",
      "Label 9: 9.97%\n"
     ]
    }
   ],
   "source": [
    "labels = df[\"label\"]\n",
    "for i in range(0,10):\n",
    "    count_i = labels[labels == i]\n",
    "    precentage = count_i.count()/labels.count() * 100 \n",
    "    print(\"Label {}: {:0.2f}%\".format(i, precentage))"
   ]
  },
  {
   "cell_type": "code",
>>>>>>> a46d565c1fee6fca94c14e5ee6bc4c0d2dce59e9
   "execution_count": 6,
   "metadata": {
    "scrolled": false
   },
   "outputs": [
    {
<<<<<<< HEAD
     "ename": "NameError",
     "evalue": "name 'labels' is not defined",
     "output_type": "error",
     "traceback": [
      "\u001b[0;31m---------------------------------------------------------------------------\u001b[0m",
      "\u001b[0;31mNameError\u001b[0m                                 Traceback (most recent call last)",
      "\u001b[0;32m<ipython-input-6-b6bfdec8e3ec>\u001b[0m in \u001b[0;36m<module>\u001b[0;34m\u001b[0m\n\u001b[0;32m----> 1\u001b[0;31m \u001b[0mplt\u001b[0m\u001b[0;34m.\u001b[0m\u001b[0mhist\u001b[0m\u001b[0;34m(\u001b[0m\u001b[0mlabels\u001b[0m\u001b[0;34m,\u001b[0m \u001b[0mbins\u001b[0m\u001b[0;34m=\u001b[0m\u001b[0;36m50\u001b[0m\u001b[0;34m,\u001b[0m \u001b[0mhisttype\u001b[0m\u001b[0;34m=\u001b[0m\u001b[0;34m'step'\u001b[0m\u001b[0;34m)\u001b[0m\u001b[0;34m\u001b[0m\u001b[0;34m\u001b[0m\u001b[0m\n\u001b[0m",
      "\u001b[0;31mNameError\u001b[0m: name 'labels' is not defined"
     ]
=======
     "data": {
      "text/plain": [
       "(array([4132.,    0.,    0.,    0.,    0., 4684.,    0.,    0.,    0.,\n",
       "           0.,    0., 4177.,    0.,    0.,    0.,    0., 4351.,    0.,\n",
       "           0.,    0.,    0.,    0., 4072.,    0.,    0.,    0.,    0.,\n",
       "        3795.,    0.,    0.,    0.,    0.,    0., 4137.,    0.,    0.,\n",
       "           0.,    0., 4401.,    0.,    0.,    0.,    0.,    0., 4063.,\n",
       "           0.,    0.,    0.,    0., 4188.]),\n",
       " array([0.  , 0.18, 0.36, 0.54, 0.72, 0.9 , 1.08, 1.26, 1.44, 1.62, 1.8 ,\n",
       "        1.98, 2.16, 2.34, 2.52, 2.7 , 2.88, 3.06, 3.24, 3.42, 3.6 , 3.78,\n",
       "        3.96, 4.14, 4.32, 4.5 , 4.68, 4.86, 5.04, 5.22, 5.4 , 5.58, 5.76,\n",
       "        5.94, 6.12, 6.3 , 6.48, 6.66, 6.84, 7.02, 7.2 , 7.38, 7.56, 7.74,\n",
       "        7.92, 8.1 , 8.28, 8.46, 8.64, 8.82, 9.  ]),\n",
       " <a list of 1 Patch objects>)"
      ]
     },
     "execution_count": 6,
     "metadata": {},
     "output_type": "execute_result"
    },
    {
     "data": {
      "image/png": "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\n",
      "text/plain": [
       "<Figure size 432x288 with 1 Axes>"
      ]
     },
     "metadata": {
      "needs_background": "light"
     },
     "output_type": "display_data"
>>>>>>> a46d565c1fee6fca94c14e5ee6bc4c0d2dce59e9
    }
   ],
   "source": [
    "plt.hist(labels, bins=50, histtype='step')"
   ]
  },
  {
   "cell_type": "code",
<<<<<<< HEAD
   "execution_count": null,
   "metadata": {},
   "outputs": [],
   "source": [
    "labels = df[\"label\"]\n",
    "for i in range(0,10):\n",
    "    count_i = labels[labels == i]\n",
    "    precentege = count_i.count()/labels.count() * 100 \n",
    "    print(\"Label {}: {:0.2f}%\".format(i, precentege))"
   ]
  },
  {
   "cell_type": "code",
   "execution_count": 25,
=======
   "execution_count": 7,
>>>>>>> a46d565c1fee6fca94c14e5ee6bc4c0d2dce59e9
   "metadata": {},
   "outputs": [],
   "source": [
    "input_data = np.array(df.drop([\"label\"], axis=1))\n",
    "input_data[input_data < 200] = 0"
   ]
  },
  {
   "cell_type": "code",
<<<<<<< HEAD
   "execution_count": 26,
=======
   "execution_count": 8,
>>>>>>> a46d565c1fee6fca94c14e5ee6bc4c0d2dce59e9
   "metadata": {},
   "outputs": [
    {
     "data": {
<<<<<<< HEAD
      "image/png": "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\n",
=======
      "image/png": "iVBORw0KGgoAAAANSUhEUgAAAPsAAAD4CAYAAAAq5pAIAAAABHNCSVQICAgIfAhkiAAAAAlwSFlzAAALEgAACxIB0t1+/AAAADh0RVh0U29mdHdhcmUAbWF0cGxvdGxpYiB2ZXJzaW9uMy4xLjEsIGh0dHA6Ly9tYXRwbG90bGliLm9yZy8QZhcZAAAM7UlEQVR4nO3dUYid9ZnH8d8vbnKhLRI3ozuxwXRD1BVl0zIEwbW66IaYm1iktbkoEUOTC4UWcrHiXtRLWdaWIlJINDRZutZAKgYJu5GghgoWR4kxGt2kJtsmGTITvai5kOzEZy/mdZkmc94znvd9z3tmnu8HhnPO+5z3/B9e5jfvOed/zvwdEQIw/y1ouwEA/UHYgSQIO5AEYQeSIOxAEn/Vz8GWLFkSy5cv7+eQQConT57UuXPnPFOtUthtr5X0C0lXSHo2Ip4su//y5cs1OjpaZUgAJUZGRjrWen4ab/sKSc9Iuk/SLZI22L6l18cD0Kwqr9lXSzoeER9HxAVJv5G0vp62ANStStivl/SnabdPFdv+gu3Ntkdtj05MTFQYDkAVVcI+05sAl332NiK2RcRIRIwMDQ1VGA5AFVXCfkrSsmm3vyHpTLV2ADSlStjfkrTS9jdtL5L0A0l762kLQN16nnqLiEnbj0r6L01Nve2IiPdr6wxArSrNs0fEPkn7auoFQIP4uCyQBGEHkiDsQBKEHUiCsANJEHYgCcIOJEHYgSQIO5AEYQeSIOxAEoQdSIKwA0kQdiAJwg4kQdiBJAg7kARhB5Ig7EAShB1IgrADSRB2IAnCDiRB2IEkCDuQBGEHkiDsQBKEHUiCsANJVFrFFVi6dGlpfWxsrE+dXC4iWht7EFUKu+2Tkj6TdFHSZESM1NEUgPrVcWb/x4g4V8PjAGgQr9mBJKqGPSTtt/227c0z3cH2ZtujtkcnJiYqDgegV1XDfkdEfFvSfZIesf2dS+8QEdsiYiQiRoaGhioOB6BXlcIeEWeKy3FJL0paXUdTAOrXc9htX2X7619el7RG0pG6GgNQryrvxl8n6UXbXz7Of0TEf9bSFfpm06ZNpfVdu3aV1i9evFhaL34/WrFgQedz2V133VW676uvvlp3O63rOewR8bGkv6+xFwANYuoNSIKwA0kQdiAJwg4kQdiBJPiK6zzw0EMPdax1mzrL6vXXXy+tP/jgg6X1F154oc52+oIzO5AEYQeSIOxAEoQdSIKwA0kQdiAJwg4kwTz7HPDwww+X1gd5Lv3mm2/uWLv66qtL9124cGFp/eDBg6X1RYsWdaxNTk6W7js+Pl5an4s4swNJEHYgCcIOJEHYgSQIO5AEYQeSIOxAEsyzzwFHjx5tbewbbrihtH7ixIk+dfLVbdmypWPtmWee6WMng4EzO5AEYQeSIOxAEoQdSIKwA0kQdiAJwg4kwTz7HLB06dLGHnvdunWl9ZdffrmxsZv29NNPd6x1m2efj0s2dz2z295he9z2kWnbrrH9iu1jxeXiZtsEUNVsnsb/StLaS7Y9JulARKyUdKC4DWCAdQ17RByU9Oklm9dL2llc3ynp/pr7AlCzXt+guy4ixiSpuLy20x1tb7Y9ant0YmKix+EAVNX4u/ERsS0iRiJiZGhoqOnhAHTQa9jP2h6WpOJy/v0rTmCe6TXseyVtLK5vlPRSPe0AaErXeXbbz0u6W9IS26ck/VTSk5J2294k6Y+Svtdkk2jOXJ5Hr2Lx4nyzxV3DHhEbOpTuqbkXAA3i47JAEoQdSIKwA0kQdiAJwg4kwVdc54A9e/aU1hcs6P1v9tatW0vrTz31VM+PLUm33XZbx9qHH35Yuu/FixdL62VLMkvS559/3rH2ySeflO47H3FmB5Ig7EAShB1IgrADSRB2IAnCDiRB2IEkmGefB1auXNmxduzYsdJ9t2/fXlrfvXt3ab3bvxq7cOFCab2KJh97PuLMDiRB2IEkCDuQBGEHkiDsQBKEHUiCsANJMM8+D3z00UcdaytWrCjd98SJE6X18+fP99RTHW699dbS+uHDh/vUyfzAmR1IgrADSRB2IAnCDiRB2IEkCDuQBGEHkmCefZ67557yxXafffbZRse/8sorO9banMPPqOuZ3fYO2+O2j0zb9oTt07YPFT/rmm0TQFWzeRr/K0lrZ9j+84hYVfzsq7ctAHXrGvaIOCjp0z70AqBBVd6ge9T24eJp/uJOd7K92fao7dFu/68MQHN6DfsvJa2QtErSmKSOq/9FxLaIGImIkaGhoR6HA1BVT2GPiLMRcTEivpC0XdLqetsCULeewm57eNrN70o60um+AAZD13l2289LulvSEtunJP1U0t22V0kKSSclbWmwR3Rx4403dqwdP368j51crqw39FfXsEfEhhk2P9dALwAaxMdlgSQIO5AEYQeSIOxAEoQdSIKvuM4BDzzwQGm97em1MhHRdgsocGYHkiDsQBKEHUiCsANJEHYgCcIOJEHYgSSYZ58DypZkHnTvvvtu2y2gwJkdSIKwA0kQdiAJwg4kQdiBJAg7kARhB5Jgnn0ArFmzprT+wQcf9PzYq1eXr9+xcOHC0vobb7zR89gYLJzZgSQIO5AEYQeSIOxAEoQdSIKwA0kQdiAJ5tkHwJkzZyrtXzZX/uabb5buOzw8XGlszB1dz+y2l9l+1fZR2+/b/nGx/Rrbr9g+Vlwubr5dAL2azdP4SUlbI+LvJN0u6RHbt0h6TNKBiFgp6UBxG8CA6hr2iBiLiHeK659JOirpeknrJe0s7rZT0v1NNQmguq/0Bp3t5ZK+Jen3kq6LiDFp6g+CpGs77LPZ9qjt0YmJiWrdAujZrMNu+2uS9kj6SUT8ebb7RcS2iBiJiJGhoaFeegRQg1mF3fZCTQX91xHx22LzWdvDRX1Y0ngzLQKoQ9epN9uW9JykoxHxs2mlvZI2SnqyuHypkQ4TqPIVVql8WeRly5aV7nv27NlKY3dz0003Nfr4mL3ZzLPfIemHkt6zfajY9rimQr7b9iZJf5T0vWZaBFCHrmGPiN9JcofyPfW2A6ApfFwWSIKwA0kQdiAJwg4kQdiBJPiK6zwwOTnZsXb69OlGx167dm1pfd++fY2Oj9njzA4kQdiBJAg7kARhB5Ig7EAShB1IgrADSTDPPgAWLVpUWr9w4UKfOrncvffeW1pnHn3u4MwOJEHYgSQIO5AEYQeSIOxAEoQdSIKwA0kwzz4Abr/99tL6wYMHGxv7zjvvLK3v37+/sbHRX5zZgSQIO5AEYQeSIOxAEoQdSIKwA0kQdiCJ2azPvkzSLkl/I+kLSdsi4he2n5D0I0kTxV0fjwi+3NyD1157re0WkMBsPlQzKWlrRLxj++uS3rb9SlH7eUT8W3PtAajLbNZnH5M0Vlz/zPZRSdc33RiAen2l1+y2l0v6lqTfF5setX3Y9g7bizvss9n2qO3RiYmJme4CoA9mHXbbX5O0R9JPIuLPkn4paYWkVZo68z81034RsS0iRiJiZGhoqIaWAfRiVmG3vVBTQf91RPxWkiLibERcjIgvJG2XtLq5NgFU1TXsti3pOUlHI+Jn07YPT7vbdyUdqb89AHWZzbvxd0j6oaT3bB8qtj0uaYPtVZJC0klJWxrpEEAtZvNu/O8keYYSc+rAHMIn6IAkCDuQBGEHkiDsQBKEHUiCsANJEHYgCcIOJEHYgSQIO5AEYQeSIOxAEoQdSIKwA0k4Ivo3mD0h6X+mbVoi6VzfGvhqBrW3Qe1Lorde1dnbDREx4/9/62vYLxvcHo2IkdYaKDGovQ1qXxK99apfvfE0HkiCsANJtB32bS2PX2ZQexvUviR661Vfemv1NTuA/mn7zA6gTwg7kEQrYbe91vZHto/bfqyNHjqxfdL2e7YP2R5tuZcdtsdtH5m27Rrbr9g+VlzOuMZeS709Yft0cewO2V7XUm/LbL9q+6jt923/uNje6rEr6asvx63vr9ltXyHpvyX9k6RTkt6StCEiPuhrIx3YPilpJCJa/wCG7e9IOi9pV0TcWmz7V0mfRsSTxR/KxRHxzwPS2xOSzre9jHexWtHw9GXGJd0v6SG1eOxK+vq++nDc2jizr5Z0PCI+jogLkn4jaX0LfQy8iDgo6dNLNq+XtLO4vlNTvyx916G3gRARYxHxTnH9M0lfLjPe6rEr6asv2gj79ZL+NO32KQ3Weu8hab/tt21vbruZGVwXEWPS1C+PpGtb7udSXZfx7qdLlhkfmGPXy/LnVbUR9pmWkhqk+b87IuLbku6T9EjxdBWzM6tlvPtlhmXGB0Kvy59X1UbYT0laNu32NySdaaGPGUXEmeJyXNKLGrylqM9+uYJucTnecj//b5CW8Z5pmXENwLFrc/nzNsL+lqSVtr9pe5GkH0ja20Ifl7F9VfHGiWxfJWmNBm8p6r2SNhbXN0p6qcVe/sKgLOPdaZlxtXzsWl/+PCL6/iNpnabekf+DpH9po4cOff2tpHeLn/fb7k3S85p6Wve/mnpGtEnSX0s6IOlYcXnNAPX275Lek3RYU8Eabqm3f9DUS8PDkg4VP+vaPnYlffXluPFxWSAJPkEHJEHYgSQIO5AEYQeSIOxAEoQdSIKwA0n8H3jE68v4l6HIAAAAAElFTkSuQmCC\n",
>>>>>>> a46d565c1fee6fca94c14e5ee6bc4c0d2dce59e9
      "text/plain": [
       "<Figure size 432x288 with 1 Axes>"
      ]
     },
     "metadata": {
      "needs_background": "light"
     },
     "output_type": "display_data"
    }
   ],
   "source": [
    "digit_image = input_data[22873].reshape(28, 28)\n",
    "plt.imshow(digit_image, cmap = 'binary')\n",
    "plt.show()"
   ]
  },
  {
   "cell_type": "code",
<<<<<<< HEAD
   "execution_count": 45,
=======
   "execution_count": 9,
>>>>>>> a46d565c1fee6fca94c14e5ee6bc4c0d2dce59e9
   "metadata": {},
   "outputs": [],
   "source": [
    "#new_df = df.drop([\"label\"], axis=1) \n",
    "df[\"density\"] = df.iloc[:, 1:].astype(bool).sum(axis=1)"
   ]
  },
  {
   "cell_type": "code",
<<<<<<< HEAD
   "execution_count": null,
=======
   "execution_count": 10,
>>>>>>> a46d565c1fee6fca94c14e5ee6bc4c0d2dce59e9
   "metadata": {},
   "outputs": [],
   "source": [
    "new_df.iloc[:, [0,-1]]"
   ]
  },
  {
   "cell_type": "code",
   "execution_count": 46,
   "metadata": {
    "scrolled": true
   },
   "outputs": [
    {
     "data": {
      "text/html": [
       "<div>\n",
       "<style scoped>\n",
       "    .dataframe tbody tr th:only-of-type {\n",
       "        vertical-align: middle;\n",
       "    }\n",
       "\n",
       "    .dataframe tbody tr th {\n",
       "        vertical-align: top;\n",
       "    }\n",
       "\n",
       "    .dataframe thead th {\n",
       "        text-align: right;\n",
       "    }\n",
       "</style>\n",
       "<table border=\"1\" class=\"dataframe\">\n",
       "  <thead>\n",
       "    <tr style=\"text-align: right;\">\n",
       "      <th></th>\n",
       "      <th>label</th>\n",
       "      <th>pixel0</th>\n",
       "      <th>pixel1</th>\n",
       "      <th>pixel2</th>\n",
       "      <th>pixel3</th>\n",
       "      <th>pixel4</th>\n",
       "      <th>pixel5</th>\n",
       "      <th>pixel6</th>\n",
       "      <th>pixel7</th>\n",
       "      <th>pixel8</th>\n",
       "      <th>...</th>\n",
       "      <th>pixel775</th>\n",
       "      <th>pixel776</th>\n",
       "      <th>pixel777</th>\n",
       "      <th>pixel778</th>\n",
       "      <th>pixel779</th>\n",
       "      <th>pixel780</th>\n",
       "      <th>pixel781</th>\n",
       "      <th>pixel782</th>\n",
       "      <th>pixel783</th>\n",
       "      <th>density</th>\n",
       "    </tr>\n",
       "  </thead>\n",
       "  <tbody>\n",
       "    <tr>\n",
       "      <th>0</th>\n",
       "      <td>1</td>\n",
       "      <td>0</td>\n",
       "      <td>0</td>\n",
       "      <td>0</td>\n",
       "      <td>0</td>\n",
       "      <td>0</td>\n",
       "      <td>0</td>\n",
       "      <td>0</td>\n",
       "      <td>0</td>\n",
       "      <td>0</td>\n",
       "      <td>...</td>\n",
       "      <td>0</td>\n",
       "      <td>0</td>\n",
       "      <td>0</td>\n",
       "      <td>0</td>\n",
       "      <td>0</td>\n",
       "      <td>0</td>\n",
       "      <td>0</td>\n",
       "      <td>0</td>\n",
       "      <td>0</td>\n",
       "      <td>98</td>\n",
       "    </tr>\n",
       "    <tr>\n",
       "      <th>1</th>\n",
       "      <td>0</td>\n",
       "      <td>0</td>\n",
       "      <td>0</td>\n",
       "      <td>0</td>\n",
       "      <td>0</td>\n",
       "      <td>0</td>\n",
       "      <td>0</td>\n",
       "      <td>0</td>\n",
       "      <td>0</td>\n",
       "      <td>0</td>\n",
       "      <td>...</td>\n",
       "      <td>0</td>\n",
       "      <td>0</td>\n",
       "      <td>0</td>\n",
       "      <td>0</td>\n",
       "      <td>0</td>\n",
       "      <td>0</td>\n",
       "      <td>0</td>\n",
       "      <td>0</td>\n",
       "      <td>0</td>\n",
       "      <td>246</td>\n",
       "    </tr>\n",
       "    <tr>\n",
       "      <th>2</th>\n",
       "      <td>1</td>\n",
       "      <td>0</td>\n",
       "      <td>0</td>\n",
       "      <td>0</td>\n",
       "      <td>0</td>\n",
       "      <td>0</td>\n",
       "      <td>0</td>\n",
       "      <td>0</td>\n",
       "      <td>0</td>\n",
       "      <td>0</td>\n",
       "      <td>...</td>\n",
       "      <td>0</td>\n",
       "      <td>0</td>\n",
       "      <td>0</td>\n",
       "      <td>0</td>\n",
       "      <td>0</td>\n",
       "      <td>0</td>\n",
       "      <td>0</td>\n",
       "      <td>0</td>\n",
       "      <td>0</td>\n",
       "      <td>80</td>\n",
       "    </tr>\n",
       "    <tr>\n",
       "      <th>3</th>\n",
       "      <td>4</td>\n",
       "      <td>0</td>\n",
       "      <td>0</td>\n",
       "      <td>0</td>\n",
       "      <td>0</td>\n",
       "      <td>0</td>\n",
       "      <td>0</td>\n",
       "      <td>0</td>\n",
       "      <td>0</td>\n",
       "      <td>0</td>\n",
       "      <td>...</td>\n",
       "      <td>0</td>\n",
       "      <td>0</td>\n",
       "      <td>0</td>\n",
       "      <td>0</td>\n",
       "      <td>0</td>\n",
       "      <td>0</td>\n",
       "      <td>0</td>\n",
       "      <td>0</td>\n",
       "      <td>0</td>\n",
       "      <td>114</td>\n",
       "    </tr>\n",
       "    <tr>\n",
       "      <th>4</th>\n",
       "      <td>0</td>\n",
       "      <td>0</td>\n",
       "      <td>0</td>\n",
       "      <td>0</td>\n",
       "      <td>0</td>\n",
       "      <td>0</td>\n",
       "      <td>0</td>\n",
       "      <td>0</td>\n",
       "      <td>0</td>\n",
       "      <td>0</td>\n",
       "      <td>...</td>\n",
       "      <td>0</td>\n",
       "      <td>0</td>\n",
       "      <td>0</td>\n",
       "      <td>0</td>\n",
       "      <td>0</td>\n",
       "      <td>0</td>\n",
       "      <td>0</td>\n",
       "      <td>0</td>\n",
       "      <td>0</td>\n",
       "      <td>261</td>\n",
       "    </tr>\n",
       "  </tbody>\n",
       "</table>\n",
       "<p>5 rows × 786 columns</p>\n",
       "</div>"
      ],
      "text/plain": [
       "   label  pixel0  pixel1  pixel2  pixel3  pixel4  pixel5  pixel6  pixel7  \\\n",
       "0      1       0       0       0       0       0       0       0       0   \n",
       "1      0       0       0       0       0       0       0       0       0   \n",
       "2      1       0       0       0       0       0       0       0       0   \n",
       "3      4       0       0       0       0       0       0       0       0   \n",
       "4      0       0       0       0       0       0       0       0       0   \n",
       "\n",
       "   pixel8  ...  pixel775  pixel776  pixel777  pixel778  pixel779  pixel780  \\\n",
       "0       0  ...         0         0         0         0         0         0   \n",
       "1       0  ...         0         0         0         0         0         0   \n",
       "2       0  ...         0         0         0         0         0         0   \n",
       "3       0  ...         0         0         0         0         0         0   \n",
       "4       0  ...         0         0         0         0         0         0   \n",
       "\n",
       "   pixel781  pixel782  pixel783  density  \n",
       "0         0         0         0       98  \n",
       "1         0         0         0      246  \n",
       "2         0         0         0       80  \n",
       "3         0         0         0      114  \n",
       "4         0         0         0      261  \n",
       "\n",
       "[5 rows x 786 columns]"
      ]
     },
<<<<<<< HEAD
     "execution_count": 46,
=======
     "execution_count": 10,
>>>>>>> a46d565c1fee6fca94c14e5ee6bc4c0d2dce59e9
     "metadata": {},
     "output_type": "execute_result"
    }
   ],
   "source": [
    "df.head()"
   ]
  },
  {
   "cell_type": "code",
<<<<<<< HEAD
   "execution_count": 47,
=======
   "execution_count": 11,
>>>>>>> a46d565c1fee6fca94c14e5ee6bc4c0d2dce59e9
   "metadata": {},
   "outputs": [],
   "source": [
    "DF_Label_Density = df.iloc[:, [0,-1]]"
   ]
  },
  {
   "cell_type": "code",
<<<<<<< HEAD
   "execution_count": 48,
=======
   "execution_count": 12,
>>>>>>> a46d565c1fee6fca94c14e5ee6bc4c0d2dce59e9
   "metadata": {},
   "outputs": [
    {
     "data": {
      "text/html": [
       "<div>\n",
       "<style scoped>\n",
       "    .dataframe tbody tr th:only-of-type {\n",
       "        vertical-align: middle;\n",
       "    }\n",
       "\n",
       "    .dataframe tbody tr th {\n",
       "        vertical-align: top;\n",
       "    }\n",
       "\n",
       "    .dataframe thead th {\n",
       "        text-align: right;\n",
       "    }\n",
       "</style>\n",
       "<table border=\"1\" class=\"dataframe\">\n",
       "  <thead>\n",
       "    <tr style=\"text-align: right;\">\n",
       "      <th></th>\n",
       "      <th>label</th>\n",
       "      <th>density</th>\n",
       "    </tr>\n",
       "  </thead>\n",
       "  <tbody>\n",
       "    <tr>\n",
       "      <th>0</th>\n",
       "      <td>1</td>\n",
       "      <td>98</td>\n",
       "    </tr>\n",
       "    <tr>\n",
       "      <th>1</th>\n",
       "      <td>0</td>\n",
       "      <td>246</td>\n",
       "    </tr>\n",
       "    <tr>\n",
       "      <th>2</th>\n",
       "      <td>1</td>\n",
       "      <td>80</td>\n",
       "    </tr>\n",
       "    <tr>\n",
       "      <th>3</th>\n",
       "      <td>4</td>\n",
       "      <td>114</td>\n",
       "    </tr>\n",
       "    <tr>\n",
       "      <th>4</th>\n",
       "      <td>0</td>\n",
       "      <td>261</td>\n",
       "    </tr>\n",
       "  </tbody>\n",
       "</table>\n",
       "</div>"
      ],
      "text/plain": [
       "   label  density\n",
       "0      1       98\n",
       "1      0      246\n",
       "2      1       80\n",
       "3      4      114\n",
       "4      0      261"
      ]
     },
<<<<<<< HEAD
     "execution_count": 48,
=======
     "execution_count": 12,
>>>>>>> a46d565c1fee6fca94c14e5ee6bc4c0d2dce59e9
     "metadata": {},
     "output_type": "execute_result"
    }
   ],
   "source": [
    "DF_Label_Density.head()"
   ]
  },
  {
   "cell_type": "code",
<<<<<<< HEAD
   "execution_count": 49,
=======
   "execution_count": 13,
>>>>>>> a46d565c1fee6fca94c14e5ee6bc4c0d2dce59e9
   "metadata": {},
   "outputs": [
    {
     "data": {
      "text/plain": [
<<<<<<< HEAD
       "<matplotlib.axes._subplots.AxesSubplot at 0x1a1655df60>"
      ]
     },
     "execution_count": 49,
=======
       "<matplotlib.axes._subplots.AxesSubplot at 0x1a21db0590>"
      ]
     },
     "execution_count": 13,
>>>>>>> a46d565c1fee6fca94c14e5ee6bc4c0d2dce59e9
     "metadata": {},
     "output_type": "execute_result"
    },
    {
     "data": {
<<<<<<< HEAD
      "image/png": "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\n",
=======
      "image/png": "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\n",
>>>>>>> a46d565c1fee6fca94c14e5ee6bc4c0d2dce59e9
      "text/plain": [
       "<Figure size 432x288 with 1 Axes>"
      ]
     },
     "metadata": {
      "needs_background": "light"
     },
     "output_type": "display_data"
    }
   ],
   "source": [
    "sns.kdeplot(DF_Label_Density[\"label\"], DF_Label_Density[\"density\"], )"
   ]
  },
  {
   "cell_type": "code",
<<<<<<< HEAD
   "execution_count": null,
   "metadata": {},
   "outputs": [],
=======
   "execution_count": 14,
   "metadata": {},
   "outputs": [
    {
     "data": {
      "text/plain": [
       "<matplotlib.axes._subplots.AxesSubplot at 0x1a21ee5610>"
      ]
     },
     "execution_count": 14,
     "metadata": {},
     "output_type": "execute_result"
    },
    {
     "data": {
      "image/png": "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\n",
      "text/plain": [
       "<Figure size 432x288 with 1 Axes>"
      ]
     },
     "metadata": {
      "needs_background": "light"
     },
     "output_type": "display_data"
    }
   ],
>>>>>>> a46d565c1fee6fca94c14e5ee6bc4c0d2dce59e9
   "source": [
    "sns.barplot(x=\"label\", y=\"density\", data=DF_Label_Density, ci=68)"
   ]
  },
  {
   "cell_type": "code",
<<<<<<< HEAD
   "execution_count": null,
   "metadata": {},
   "outputs": [],
=======
   "execution_count": 15,
   "metadata": {},
   "outputs": [
    {
     "data": {
      "text/plain": [
       "<matplotlib.axes._subplots.AxesSubplot at 0x1a335aad90>"
      ]
     },
     "execution_count": 15,
     "metadata": {},
     "output_type": "execute_result"
    },
    {
     "data": {
      "image/png": "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\n",
      "text/plain": [
       "<Figure size 432x288 with 1 Axes>"
      ]
     },
     "metadata": {
      "needs_background": "light"
     },
     "output_type": "display_data"
    }
   ],
>>>>>>> a46d565c1fee6fca94c14e5ee6bc4c0d2dce59e9
   "source": [
    "sns.boxplot(x=\"label\", y=\"density\", data=DF_Label_Density)"
   ]
  },
  {
   "cell_type": "code",
<<<<<<< HEAD
   "execution_count": 50,
=======
   "execution_count": 16,
>>>>>>> a46d565c1fee6fca94c14e5ee6bc4c0d2dce59e9
   "metadata": {},
   "outputs": [
    {
     "data": {
      "text/plain": [
       "144.25143266475644"
      ]
     },
<<<<<<< HEAD
     "execution_count": 50,
=======
     "execution_count": 16,
>>>>>>> a46d565c1fee6fca94c14e5ee6bc4c0d2dce59e9
     "metadata": {},
     "output_type": "execute_result"
    }
   ],
   "source": [
    "label = 9\n",
    "DF_Label_Density['density'][DF_Label_Density['label'] == label].mean()"
   ]
  },
  {
   "cell_type": "code",
<<<<<<< HEAD
   "execution_count": 51,
=======
   "execution_count": 17,
>>>>>>> a46d565c1fee6fca94c14e5ee6bc4c0d2dce59e9
   "metadata": {},
   "outputs": [],
   "source": [
    "def density_analyse(data):\n",
    "    mean_diff = []\n",
    "    for i in range(0, 10):\n",
    "        for j in range(0, 10):\n",
    "            if j != i:\n",
    "                mean_dense_i = DF_Label_Density['density'][DF_Label_Density['label'] == i].mean()\n",
    "                mean_dense_j = DF_Label_Density['density'][DF_Label_Density['label'] == j].mean()\n",
    "                mean_difference = abs(mean_dense_i - mean_dense_j)\n",
    "                mean_diff.append([mean_difference, j, i])\n",
    "    \n",
    "    data_frame = pd.DataFrame(mean_diff, columns=[\"dens_diff\", \"label_x\", \"label_y\"])\n",
    "    sorted_df = data_frame.sort_values(by='dens_diff')\n",
    "                \n",
    "    return sorted_df.iloc[::2], np.array(sorted_df.iloc[1:2]).reshape(3), np.array(sorted_df.iloc[-2:-1]).reshape(3) "
   ]
  },
  {
   "cell_type": "code",
<<<<<<< HEAD
   "execution_count": 52,
=======
   "execution_count": 18,
>>>>>>> a46d565c1fee6fca94c14e5ee6bc4c0d2dce59e9
   "metadata": {
    "scrolled": true
   },
   "outputs": [
    {
     "name": "stdout",
     "output_type": "stream",
     "text": [
      "Max mean density difference 106 between 0 and 1\n",
      "Min mean density difference 2 between 4 and 9\n"
     ]
    }
   ],
   "source": [
    "mean_diff, min_diff, max_diff = density_analyse(DF_Label_Density)\n",
    "\n",
    "print(\"Max mean density difference {:0.0f} between {} and {}\".format(max_diff[0], int(max_diff[1]), int(max_diff[2])))\n",
    "print(\"Min mean density difference {:0.0f} between {} and {}\".format(min_diff[0], int(min_diff[1]), int(min_diff[2])))\n"
   ]
  },
  {
   "cell_type": "code",
<<<<<<< HEAD
   "execution_count": 53,
=======
   "execution_count": 19,
>>>>>>> a46d565c1fee6fca94c14e5ee6bc4c0d2dce59e9
   "metadata": {},
   "outputs": [
    {
     "data": {
      "text/html": [
       "<div>\n",
       "<style scoped>\n",
       "    .dataframe tbody tr th:only-of-type {\n",
       "        vertical-align: middle;\n",
       "    }\n",
       "\n",
       "    .dataframe tbody tr th {\n",
       "        vertical-align: top;\n",
       "    }\n",
       "\n",
       "    .dataframe thead th {\n",
       "        text-align: right;\n",
       "    }\n",
       "</style>\n",
       "<table border=\"1\" class=\"dataframe\">\n",
       "  <thead>\n",
       "    <tr style=\"text-align: right;\">\n",
       "      <th></th>\n",
       "      <th>dens_diff</th>\n",
       "      <th>label_x</th>\n",
       "      <th>label_y</th>\n",
       "    </tr>\n",
       "  </thead>\n",
       "  <tbody>\n",
       "    <tr>\n",
       "      <th>44</th>\n",
       "      <td>1.751924</td>\n",
       "      <td>9</td>\n",
       "      <td>4</td>\n",
       "    </tr>\n",
       "    <tr>\n",
       "      <th>25</th>\n",
       "      <td>5.005499</td>\n",
       "      <td>8</td>\n",
       "      <td>2</td>\n",
       "    </tr>\n",
       "    <tr>\n",
       "      <th>32</th>\n",
       "      <td>5.309825</td>\n",
       "      <td>6</td>\n",
       "      <td>3</td>\n",
       "    </tr>\n",
       "    <tr>\n",
       "      <th>29</th>\n",
       "      <td>5.448039</td>\n",
       "      <td>2</td>\n",
       "      <td>3</td>\n",
       "    </tr>\n",
       "    <tr>\n",
       "      <th>50</th>\n",
       "      <td>5.454588</td>\n",
       "      <td>6</td>\n",
       "      <td>5</td>\n",
       "    </tr>\n",
       "    <tr>\n",
       "      <th>86</th>\n",
       "      <td>9.504035</td>\n",
       "      <td>5</td>\n",
       "      <td>9</td>\n",
       "    </tr>\n",
       "    <tr>\n",
       "      <th>67</th>\n",
       "      <td>10.078468</td>\n",
       "      <td>4</td>\n",
       "      <td>7</td>\n",
       "    </tr>\n",
       "    <tr>\n",
       "      <th>34</th>\n",
       "      <td>10.453538</td>\n",
       "      <td>8</td>\n",
       "      <td>3</td>\n",
       "    </tr>\n",
       "    <tr>\n",
       "      <th>23</th>\n",
       "      <td>10.757864</td>\n",
       "      <td>6</td>\n",
       "      <td>2</td>\n",
       "    </tr>\n",
       "    <tr>\n",
       "      <th>48</th>\n",
       "      <td>10.764413</td>\n",
       "      <td>3</td>\n",
       "      <td>5</td>\n",
       "    </tr>\n",
       "    <tr>\n",
       "      <th>49</th>\n",
       "      <td>11.255959</td>\n",
       "      <td>4</td>\n",
       "      <td>5</td>\n",
       "    </tr>\n",
       "    <tr>\n",
       "      <th>88</th>\n",
       "      <td>11.830392</td>\n",
       "      <td>7</td>\n",
       "      <td>9</td>\n",
       "    </tr>\n",
       "    <tr>\n",
       "      <th>62</th>\n",
       "      <td>14.958623</td>\n",
       "      <td>9</td>\n",
       "      <td>6</td>\n",
       "    </tr>\n",
       "    <tr>\n",
       "      <th>78</th>\n",
       "      <td>15.763363</td>\n",
       "      <td>6</td>\n",
       "      <td>8</td>\n",
       "    </tr>\n",
       "    <tr>\n",
       "      <th>47</th>\n",
       "      <td>16.212452</td>\n",
       "      <td>2</td>\n",
       "      <td>5</td>\n",
       "    </tr>\n",
       "    <tr>\n",
       "      <th>41</th>\n",
       "      <td>16.710547</td>\n",
       "      <td>6</td>\n",
       "      <td>4</td>\n",
       "    </tr>\n",
       "    <tr>\n",
       "      <th>72</th>\n",
       "      <td>17.769563</td>\n",
       "      <td>0</td>\n",
       "      <td>8</td>\n",
       "    </tr>\n",
       "    <tr>\n",
       "      <th>84</th>\n",
       "      <td>20.268448</td>\n",
       "      <td>3</td>\n",
       "      <td>9</td>\n",
       "    </tr>\n",
       "    <tr>\n",
       "      <th>52</th>\n",
       "      <td>21.217951</td>\n",
       "      <td>8</td>\n",
       "      <td>5</td>\n",
       "    </tr>\n",
       "    <tr>\n",
       "      <th>51</th>\n",
       "      <td>21.334427</td>\n",
       "      <td>7</td>\n",
       "      <td>5</td>\n",
       "    </tr>\n",
       "    <tr>\n",
       "      <th>30</th>\n",
       "      <td>22.020372</td>\n",
       "      <td>4</td>\n",
       "      <td>3</td>\n",
       "    </tr>\n",
       "    <tr>\n",
       "      <th>18</th>\n",
       "      <td>22.775062</td>\n",
       "      <td>0</td>\n",
       "      <td>2</td>\n",
       "    </tr>\n",
       "    <tr>\n",
       "      <th>83</th>\n",
       "      <td>25.716487</td>\n",
       "      <td>2</td>\n",
       "      <td>9</td>\n",
       "    </tr>\n",
       "    <tr>\n",
       "      <th>69</th>\n",
       "      <td>26.789015</td>\n",
       "      <td>6</td>\n",
       "      <td>7</td>\n",
       "    </tr>\n",
       "    <tr>\n",
       "      <th>38</th>\n",
       "      <td>27.468411</td>\n",
       "      <td>2</td>\n",
       "      <td>4</td>\n",
       "    </tr>\n",
       "    <tr>\n",
       "      <th>27</th>\n",
       "      <td>28.223101</td>\n",
       "      <td>0</td>\n",
       "      <td>3</td>\n",
       "    </tr>\n",
       "    <tr>\n",
       "      <th>80</th>\n",
       "      <td>30.721986</td>\n",
       "      <td>9</td>\n",
       "      <td>8</td>\n",
       "    </tr>\n",
       "    <tr>\n",
       "      <th>33</th>\n",
       "      <td>32.098840</td>\n",
       "      <td>7</td>\n",
       "      <td>3</td>\n",
       "    </tr>\n",
       "    <tr>\n",
       "      <th>43</th>\n",
       "      <td>32.473910</td>\n",
       "      <td>8</td>\n",
       "      <td>4</td>\n",
       "    </tr>\n",
       "    <tr>\n",
       "      <th>54</th>\n",
       "      <td>33.532926</td>\n",
       "      <td>0</td>\n",
       "      <td>6</td>\n",
       "    </tr>\n",
       "    <tr>\n",
       "      <th>24</th>\n",
       "      <td>37.546879</td>\n",
       "      <td>7</td>\n",
       "      <td>2</td>\n",
       "    </tr>\n",
       "    <tr>\n",
       "      <th>4</th>\n",
       "      <td>38.987514</td>\n",
       "      <td>5</td>\n",
       "      <td>0</td>\n",
       "    </tr>\n",
       "    <tr>\n",
       "      <th>79</th>\n",
       "      <td>42.552378</td>\n",
       "      <td>7</td>\n",
       "      <td>8</td>\n",
       "    </tr>\n",
       "    <tr>\n",
       "      <th>15</th>\n",
       "      <td>45.688974</td>\n",
       "      <td>7</td>\n",
       "      <td>1</td>\n",
       "    </tr>\n",
       "    <tr>\n",
       "      <th>81</th>\n",
       "      <td>48.491549</td>\n",
       "      <td>0</td>\n",
       "      <td>9</td>\n",
       "    </tr>\n",
       "    <tr>\n",
       "      <th>3</th>\n",
       "      <td>50.243473</td>\n",
       "      <td>4</td>\n",
       "      <td>0</td>\n",
       "    </tr>\n",
       "    <tr>\n",
       "      <th>12</th>\n",
       "      <td>55.767442</td>\n",
       "      <td>4</td>\n",
       "      <td>1</td>\n",
       "    </tr>\n",
       "    <tr>\n",
       "      <th>17</th>\n",
       "      <td>57.519366</td>\n",
       "      <td>9</td>\n",
       "      <td>1</td>\n",
       "    </tr>\n",
       "    <tr>\n",
       "      <th>6</th>\n",
       "      <td>60.321941</td>\n",
       "      <td>7</td>\n",
       "      <td>0</td>\n",
       "    </tr>\n",
       "    <tr>\n",
       "      <th>13</th>\n",
       "      <td>67.023401</td>\n",
       "      <td>5</td>\n",
       "      <td>1</td>\n",
       "    </tr>\n",
       "    <tr>\n",
       "      <th>55</th>\n",
       "      <td>72.477989</td>\n",
       "      <td>1</td>\n",
       "      <td>6</td>\n",
       "    </tr>\n",
       "    <tr>\n",
       "      <th>11</th>\n",
       "      <td>77.787814</td>\n",
       "      <td>3</td>\n",
       "      <td>1</td>\n",
       "    </tr>\n",
       "    <tr>\n",
       "      <th>19</th>\n",
       "      <td>83.235853</td>\n",
       "      <td>1</td>\n",
       "      <td>2</td>\n",
       "    </tr>\n",
       "    <tr>\n",
       "      <th>73</th>\n",
       "      <td>88.241352</td>\n",
       "      <td>1</td>\n",
       "      <td>8</td>\n",
       "    </tr>\n",
       "    <tr>\n",
       "      <th>9</th>\n",
       "      <td>106.010915</td>\n",
       "      <td>0</td>\n",
       "      <td>1</td>\n",
       "    </tr>\n",
       "  </tbody>\n",
       "</table>\n",
       "</div>"
      ],
      "text/plain": [
       "     dens_diff  label_x  label_y\n",
       "44    1.751924        9        4\n",
       "25    5.005499        8        2\n",
       "32    5.309825        6        3\n",
       "29    5.448039        2        3\n",
       "50    5.454588        6        5\n",
       "86    9.504035        5        9\n",
       "67   10.078468        4        7\n",
       "34   10.453538        8        3\n",
       "23   10.757864        6        2\n",
       "48   10.764413        3        5\n",
       "49   11.255959        4        5\n",
       "88   11.830392        7        9\n",
       "62   14.958623        9        6\n",
       "78   15.763363        6        8\n",
       "47   16.212452        2        5\n",
       "41   16.710547        6        4\n",
       "72   17.769563        0        8\n",
       "84   20.268448        3        9\n",
       "52   21.217951        8        5\n",
       "51   21.334427        7        5\n",
       "30   22.020372        4        3\n",
       "18   22.775062        0        2\n",
       "83   25.716487        2        9\n",
       "69   26.789015        6        7\n",
       "38   27.468411        2        4\n",
       "27   28.223101        0        3\n",
       "80   30.721986        9        8\n",
       "33   32.098840        7        3\n",
       "43   32.473910        8        4\n",
       "54   33.532926        0        6\n",
       "24   37.546879        7        2\n",
       "4    38.987514        5        0\n",
       "79   42.552378        7        8\n",
       "15   45.688974        7        1\n",
       "81   48.491549        0        9\n",
       "3    50.243473        4        0\n",
       "12   55.767442        4        1\n",
       "17   57.519366        9        1\n",
       "6    60.321941        7        0\n",
       "13   67.023401        5        1\n",
       "55   72.477989        1        6\n",
       "11   77.787814        3        1\n",
       "19   83.235853        1        2\n",
       "73   88.241352        1        8\n",
       "9   106.010915        0        1"
      ]
     },
<<<<<<< HEAD
     "execution_count": 53,
=======
     "execution_count": 19,
>>>>>>> a46d565c1fee6fca94c14e5ee6bc4c0d2dce59e9
     "metadata": {},
     "output_type": "execute_result"
    }
   ],
   "source": [
    "mean_diff"
   ]
  },
  {
   "cell_type": "markdown",
   "metadata": {},
   "source": [
    "# Logistic Regression"
   ]
  },
  {
   "cell_type": "code",
<<<<<<< HEAD
   "execution_count": 57,
=======
   "execution_count": 21,
>>>>>>> a46d565c1fee6fca94c14e5ee6bc4c0d2dce59e9
   "metadata": {},
   "outputs": [],
   "source": [
    "from sklearn.linear_model import LogisticRegression\n",
    "from sklearn.preprocessing import LabelEncoder\n",
    "from sklearn.model_selection import train_test_split, cross_val_score, cross_val_predict\n",
    "from sklearn.metrics import accuracy_score, confusion_matrix\n",
    "from sklearn.preprocessing import scale\n",
    "import warnings\n",
    "warnings.filterwarnings('ignore')"
   ]
  },
  {
   "cell_type": "code",
<<<<<<< HEAD
   "execution_count": 82,
   "metadata": {
    "scrolled": true
   },
   "outputs": [
    {
     "ename": "NameError",
     "evalue": "name 'DF_Label_Density' is not defined",
     "output_type": "error",
     "traceback": [
      "\u001b[0;31m---------------------------------------------------------------------------\u001b[0m",
      "\u001b[0;31mNameError\u001b[0m                                 Traceback (most recent call last)",
      "\u001b[0;32m<ipython-input-82-0a217567c813>\u001b[0m in \u001b[0;36m<module>\u001b[0;34m\u001b[0m\n\u001b[1;32m      1\u001b[0m \u001b[0mLR\u001b[0m \u001b[0;34m=\u001b[0m \u001b[0mLogisticRegression\u001b[0m\u001b[0;34m(\u001b[0m\u001b[0;34m)\u001b[0m\u001b[0;34m\u001b[0m\u001b[0;34m\u001b[0m\u001b[0m\n\u001b[1;32m      2\u001b[0m \u001b[0;34m\u001b[0m\u001b[0m\n\u001b[0;32m----> 3\u001b[0;31m \u001b[0mX\u001b[0m \u001b[0;34m=\u001b[0m \u001b[0mnp\u001b[0m\u001b[0;34m.\u001b[0m\u001b[0marray\u001b[0m\u001b[0;34m(\u001b[0m\u001b[0mDF_Label_Density\u001b[0m\u001b[0;34m[\u001b[0m\u001b[0;34m\"density\"\u001b[0m\u001b[0;34m]\u001b[0m\u001b[0;34m)\u001b[0m\u001b[0;34m.\u001b[0m\u001b[0mreshape\u001b[0m\u001b[0;34m(\u001b[0m\u001b[0;34m-\u001b[0m\u001b[0;36m1\u001b[0m\u001b[0;34m,\u001b[0m \u001b[0;36m1\u001b[0m\u001b[0;34m)\u001b[0m\u001b[0;34m\u001b[0m\u001b[0;34m\u001b[0m\u001b[0m\n\u001b[0m\u001b[1;32m      4\u001b[0m \u001b[0mX\u001b[0m \u001b[0;34m=\u001b[0m \u001b[0mscale\u001b[0m\u001b[0;34m(\u001b[0m\u001b[0mX\u001b[0m\u001b[0;34m)\u001b[0m\u001b[0;34m\u001b[0m\u001b[0;34m\u001b[0m\u001b[0m\n\u001b[1;32m      5\u001b[0m \u001b[0my\u001b[0m \u001b[0;34m=\u001b[0m \u001b[0mDF_Label_Density\u001b[0m\u001b[0;34m[\u001b[0m\u001b[0;34m\"label\"\u001b[0m\u001b[0;34m]\u001b[0m\u001b[0;34m\u001b[0m\u001b[0;34m\u001b[0m\u001b[0m\n",
      "\u001b[0;31mNameError\u001b[0m: name 'DF_Label_Density' is not defined"
     ]
    }
   ],
=======
   "execution_count": 22,
   "metadata": {},
   "outputs": [],
>>>>>>> a46d565c1fee6fca94c14e5ee6bc4c0d2dce59e9
   "source": [
    "LR = LogisticRegression()\n",
    "\n",
    "X = np.array(DF_Label_Density[\"density\"]).reshape(-1, 1)\n",
    "X = scale(X)\n",
    "y = DF_Label_Density[\"label\"]"
   ]
  },
  {
   "cell_type": "code",
<<<<<<< HEAD
   "execution_count": 110,
=======
   "execution_count": 23,
>>>>>>> a46d565c1fee6fca94c14e5ee6bc4c0d2dce59e9
   "metadata": {},
   "outputs": [],
   "source": [
    "LE = LabelEncoder()\n",
    "LE.fit([0,1,2,3,4,5,6,7,8,9])\n",
    "encoded_labels = LE.transform(y)"
   ]
  },
  {
   "cell_type": "code",
<<<<<<< HEAD
   "execution_count": 112,
   "metadata": {},
   "outputs": [],
   "source": [
    "input_data = np.array(df.drop([\"label\"], axis=1))\n",
    "input_data[input_data < 200] = 0"
   ]
  },
  {
   "cell_type": "code",
   "execution_count": 113,
   "metadata": {},
   "outputs": [],
   "source": [
    "X_train, X_test, y_train, y_test = train_test_split(input_data, encoded_labels, test_size=0.33, random_state=42)"
   ]
  },
  {
   "cell_type": "code",
   "execution_count": null,
   "metadata": {},
   "outputs": [],
=======
   "execution_count": 24,
   "metadata": {},
   "outputs": [
    {
     "data": {
      "text/plain": [
       "LogisticRegression(C=1.0, class_weight=None, dual=False, fit_intercept=True,\n",
       "                   intercept_scaling=1, l1_ratio=None, max_iter=100,\n",
       "                   multi_class='warn', n_jobs=None, penalty='l2',\n",
       "                   random_state=None, solver='warn', tol=0.0001, verbose=0,\n",
       "                   warm_start=False)"
      ]
     },
     "execution_count": 24,
     "metadata": {},
     "output_type": "execute_result"
    }
   ],
>>>>>>> a46d565c1fee6fca94c14e5ee6bc4c0d2dce59e9
   "source": [
    "LR.fit(X_train, y_train)"
   ]
  },
  {
   "cell_type": "code",
<<<<<<< HEAD
   "execution_count": null,
=======
   "execution_count": 25,
>>>>>>> a46d565c1fee6fca94c14e5ee6bc4c0d2dce59e9
   "metadata": {},
   "outputs": [],
   "source": [
    "prediction = LR.predict(X_test)"
   ]
  },
  {
   "cell_type": "code",
<<<<<<< HEAD
   "execution_count": null,
   "metadata": {},
   "outputs": [],
=======
   "execution_count": 26,
   "metadata": {},
   "outputs": [
    {
     "data": {
      "text/plain": [
       "0.24725829725829726"
      ]
     },
     "execution_count": 26,
     "metadata": {},
     "output_type": "execute_result"
    }
   ],
>>>>>>> a46d565c1fee6fca94c14e5ee6bc4c0d2dce59e9
   "source": [
    "accuracy_score(y_test, prediction)"
   ]
  },
  {
   "cell_type": "code",
<<<<<<< HEAD
   "execution_count": null,
=======
   "execution_count": 27,
>>>>>>> a46d565c1fee6fca94c14e5ee6bc4c0d2dce59e9
   "metadata": {},
   "outputs": [],
   "source": [
    "scores = cross_val_score(LR, X, y, cv=5)\n",
    "print(\"Accuracy: %0.2f (+/- %0.2f)\" % (scores.mean(), scores.std() * 2))"
   ]
<<<<<<< HEAD
  },
  {
   "cell_type": "code",
   "execution_count": 7,
   "metadata": {
    "scrolled": true
   },
   "outputs": [
    {
     "data": {
      "text/html": [
       "<div>\n",
       "<style scoped>\n",
       "    .dataframe tbody tr th:only-of-type {\n",
       "        vertical-align: middle;\n",
       "    }\n",
       "\n",
       "    .dataframe tbody tr th {\n",
       "        vertical-align: top;\n",
       "    }\n",
       "\n",
       "    .dataframe thead th {\n",
       "        text-align: right;\n",
       "    }\n",
       "</style>\n",
       "<table border=\"1\" class=\"dataframe\">\n",
       "  <thead>\n",
       "    <tr style=\"text-align: right;\">\n",
       "      <th></th>\n",
       "      <th>label</th>\n",
       "      <th>pixel0</th>\n",
       "      <th>pixel1</th>\n",
       "      <th>pixel2</th>\n",
       "      <th>pixel3</th>\n",
       "      <th>pixel4</th>\n",
       "      <th>pixel5</th>\n",
       "      <th>pixel6</th>\n",
       "      <th>pixel7</th>\n",
       "      <th>pixel8</th>\n",
       "      <th>...</th>\n",
       "      <th>pixel774</th>\n",
       "      <th>pixel775</th>\n",
       "      <th>pixel776</th>\n",
       "      <th>pixel777</th>\n",
       "      <th>pixel778</th>\n",
       "      <th>pixel779</th>\n",
       "      <th>pixel780</th>\n",
       "      <th>pixel781</th>\n",
       "      <th>pixel782</th>\n",
       "      <th>pixel783</th>\n",
       "    </tr>\n",
       "  </thead>\n",
       "  <tbody>\n",
       "    <tr>\n",
       "      <th>0</th>\n",
       "      <td>1</td>\n",
       "      <td>0</td>\n",
       "      <td>0</td>\n",
       "      <td>0</td>\n",
       "      <td>0</td>\n",
       "      <td>0</td>\n",
       "      <td>0</td>\n",
       "      <td>0</td>\n",
       "      <td>0</td>\n",
       "      <td>0</td>\n",
       "      <td>...</td>\n",
       "      <td>0</td>\n",
       "      <td>0</td>\n",
       "      <td>0</td>\n",
       "      <td>0</td>\n",
       "      <td>0</td>\n",
       "      <td>0</td>\n",
       "      <td>0</td>\n",
       "      <td>0</td>\n",
       "      <td>0</td>\n",
       "      <td>0</td>\n",
       "    </tr>\n",
       "    <tr>\n",
       "      <th>1</th>\n",
       "      <td>0</td>\n",
       "      <td>0</td>\n",
       "      <td>0</td>\n",
       "      <td>0</td>\n",
       "      <td>0</td>\n",
       "      <td>0</td>\n",
       "      <td>0</td>\n",
       "      <td>0</td>\n",
       "      <td>0</td>\n",
       "      <td>0</td>\n",
       "      <td>...</td>\n",
       "      <td>0</td>\n",
       "      <td>0</td>\n",
       "      <td>0</td>\n",
       "      <td>0</td>\n",
       "      <td>0</td>\n",
       "      <td>0</td>\n",
       "      <td>0</td>\n",
       "      <td>0</td>\n",
       "      <td>0</td>\n",
       "      <td>0</td>\n",
       "    </tr>\n",
       "    <tr>\n",
       "      <th>2</th>\n",
       "      <td>1</td>\n",
       "      <td>0</td>\n",
       "      <td>0</td>\n",
       "      <td>0</td>\n",
       "      <td>0</td>\n",
       "      <td>0</td>\n",
       "      <td>0</td>\n",
       "      <td>0</td>\n",
       "      <td>0</td>\n",
       "      <td>0</td>\n",
       "      <td>...</td>\n",
       "      <td>0</td>\n",
       "      <td>0</td>\n",
       "      <td>0</td>\n",
       "      <td>0</td>\n",
       "      <td>0</td>\n",
       "      <td>0</td>\n",
       "      <td>0</td>\n",
       "      <td>0</td>\n",
       "      <td>0</td>\n",
       "      <td>0</td>\n",
       "    </tr>\n",
       "    <tr>\n",
       "      <th>3</th>\n",
       "      <td>4</td>\n",
       "      <td>0</td>\n",
       "      <td>0</td>\n",
       "      <td>0</td>\n",
       "      <td>0</td>\n",
       "      <td>0</td>\n",
       "      <td>0</td>\n",
       "      <td>0</td>\n",
       "      <td>0</td>\n",
       "      <td>0</td>\n",
       "      <td>...</td>\n",
       "      <td>0</td>\n",
       "      <td>0</td>\n",
       "      <td>0</td>\n",
       "      <td>0</td>\n",
       "      <td>0</td>\n",
       "      <td>0</td>\n",
       "      <td>0</td>\n",
       "      <td>0</td>\n",
       "      <td>0</td>\n",
       "      <td>0</td>\n",
       "    </tr>\n",
       "    <tr>\n",
       "      <th>4</th>\n",
       "      <td>0</td>\n",
       "      <td>0</td>\n",
       "      <td>0</td>\n",
       "      <td>0</td>\n",
       "      <td>0</td>\n",
       "      <td>0</td>\n",
       "      <td>0</td>\n",
       "      <td>0</td>\n",
       "      <td>0</td>\n",
       "      <td>0</td>\n",
       "      <td>...</td>\n",
       "      <td>0</td>\n",
       "      <td>0</td>\n",
       "      <td>0</td>\n",
       "      <td>0</td>\n",
       "      <td>0</td>\n",
       "      <td>0</td>\n",
       "      <td>0</td>\n",
       "      <td>0</td>\n",
       "      <td>0</td>\n",
       "      <td>0</td>\n",
       "    </tr>\n",
       "  </tbody>\n",
       "</table>\n",
       "<p>5 rows × 785 columns</p>\n",
       "</div>"
      ],
      "text/plain": [
       "   label  pixel0  pixel1  pixel2  pixel3  pixel4  pixel5  pixel6  pixel7  \\\n",
       "0      1       0       0       0       0       0       0       0       0   \n",
       "1      0       0       0       0       0       0       0       0       0   \n",
       "2      1       0       0       0       0       0       0       0       0   \n",
       "3      4       0       0       0       0       0       0       0       0   \n",
       "4      0       0       0       0       0       0       0       0       0   \n",
       "\n",
       "   pixel8  ...  pixel774  pixel775  pixel776  pixel777  pixel778  pixel779  \\\n",
       "0       0  ...         0         0         0         0         0         0   \n",
       "1       0  ...         0         0         0         0         0         0   \n",
       "2       0  ...         0         0         0         0         0         0   \n",
       "3       0  ...         0         0         0         0         0         0   \n",
       "4       0  ...         0         0         0         0         0         0   \n",
       "\n",
       "   pixel780  pixel781  pixel782  pixel783  \n",
       "0         0         0         0         0  \n",
       "1         0         0         0         0  \n",
       "2         0         0         0         0  \n",
       "3         0         0         0         0  \n",
       "4         0         0         0         0  \n",
       "\n",
       "[5 rows x 785 columns]"
      ]
     },
     "execution_count": 7,
     "metadata": {},
     "output_type": "execute_result"
    }
   ],
   "source": [
    "df.head()"
   ]
  },
  {
   "cell_type": "code",
   "execution_count": 72,
   "metadata": {},
   "outputs": [
    {
     "name": "stdout",
     "output_type": "stream",
     "text": [
      "pixel783\n",
      "pixel782\n",
      "pixel781\n",
      "pixel780\n",
      "pixel760\n",
      "pixel759\n",
      "pixel758\n",
      "pixel757\n",
      "pixel756\n",
      "9\n"
     ]
    }
   ],
   "source": [
    "clearDF = df\n",
    "counter = 0\n",
    "first_pix = 0\n",
    "last_pix = 27\n",
    "# while (first_pix < 784) or (last_pix < 784):\n",
    "#     feature_first = \"pixel\" + str(first_pix)\n",
    "#     feature_last = \"pixel\" + str(last_pix)\n",
    "#      if clearDF[feature_first].sum() == 0:\n",
    "#          print(feature_first)\n",
    "#          clearDF = clearDF.drop(feature_first, axis=1)\n",
    "        \n",
    "#     if clearDF[feature_last].sum() == 0:\n",
    "#         print(feature_last) \n",
    "#         clearDF = clearDF.drop(feature_last, axis=1)\n",
    "#         counter += 1\n",
    "        \n",
    "#     first_pix += 28\n",
    "#     last_pix += 28\n",
    "\n",
    "# print(counter)\n",
    "\n",
    "# pix = 0\n",
    "# while (pix < 27):\n",
    "#     feature = \"pixel\" + str(pix)\n",
    "#     if clearDF[feature].sum() == 0:\n",
    "#         print(feature)\n",
    "#         clearDF = clearDF.drop(feature, axis=1)\n",
    "#         counter += 1\n",
    "#     pix += 1\n",
    "    \n",
    "# print(counter)\n",
    "\n",
    "pix = 783\n",
    "while (pix > 755):\n",
    "    feature = \"pixel\" + str(pix)\n",
    "    clearDF[feature].sum()\n",
    "    if clearDF[feature].sum() == 0:\n",
    "        print(feature)\n",
    "        clearDF = clearDF.drop(feature, axis=1)\n",
    "        counter += 1\n",
    "    pix -= 1\n",
    "    \n",
    "print(counter)"
   ]
  },
  {
   "cell_type": "code",
   "execution_count": 56,
   "metadata": {},
   "outputs": [
    {
     "name": "stdout",
     "output_type": "stream",
     "text": [
      "Deleted feature:  pixel0\n",
      "Deleted feature:  pixel1\n",
      "Deleted feature:  pixel2\n",
      "Deleted feature:  pixel3\n",
      "Deleted feature:  pixel4\n",
      "Deleted feature:  pixel5\n",
      "Deleted feature:  pixel6\n",
      "Deleted feature:  pixel7\n",
      "Deleted feature:  pixel8\n",
      "Deleted feature:  pixel9\n",
      "Deleted feature:  pixel10\n",
      "Deleted feature:  pixel11\n",
      "Deleted feature:  pixel16\n",
      "Deleted feature:  pixel17\n",
      "Deleted feature:  pixel18\n",
      "Deleted feature:  pixel19\n",
      "Deleted feature:  pixel20\n",
      "Deleted feature:  pixel21\n",
      "Deleted feature:  pixel22\n",
      "Deleted feature:  pixel23\n",
      "Deleted feature:  pixel24\n",
      "Deleted feature:  pixel25\n",
      "Deleted feature:  pixel26\n",
      "Deleted feature:  pixel27\n",
      "Deleted feature:  pixel28\n",
      "Deleted feature:  pixel29\n",
      "Deleted feature:  pixel30\n",
      "Deleted feature:  pixel31\n",
      "Deleted feature:  pixel52\n",
      "Deleted feature:  pixel53\n",
      "Deleted feature:  pixel54\n",
      "Deleted feature:  pixel55\n",
      "Deleted feature:  pixel56\n",
      "Deleted feature:  pixel57\n",
      "Deleted feature:  pixel82\n",
      "Deleted feature:  pixel83\n",
      "Deleted feature:  pixel84\n",
      "Deleted feature:  pixel85\n",
      "Deleted feature:  pixel111\n",
      "Deleted feature:  pixel112\n",
      "Deleted feature:  pixel139\n",
      "Deleted feature:  pixel140\n",
      "Deleted feature:  pixel141\n",
      "Deleted feature:  pixel168\n",
      "Deleted feature:  pixel196\n",
      "Deleted feature:  pixel392\n",
      "Deleted feature:  pixel420\n",
      "Deleted feature:  pixel421\n",
      "Deleted feature:  pixel448\n",
      "Deleted feature:  pixel476\n",
      "Deleted feature:  pixel532\n",
      "Deleted feature:  pixel560\n",
      "Deleted feature:  pixel644\n",
      "Deleted feature:  pixel645\n",
      "Deleted feature:  pixel671\n",
      "Deleted feature:  pixel672\n",
      "Deleted feature:  pixel673\n",
      "Deleted feature:  pixel699\n",
      "Deleted feature:  pixel700\n",
      "Deleted feature:  pixel701\n",
      "Deleted feature:  pixel727\n",
      "Deleted feature:  pixel728\n",
      "Deleted feature:  pixel729\n",
      "Deleted feature:  pixel730\n",
      "Deleted feature:  pixel731\n",
      "Deleted feature:  pixel754\n",
      "Deleted feature:  pixel755\n",
      "Deleted feature:  pixel756\n",
      "Deleted feature:  pixel757\n",
      "Deleted feature:  pixel758\n",
      "Deleted feature:  pixel759\n",
      "Deleted feature:  pixel760\n",
      "Deleted feature:  pixel780\n",
      "Deleted feature:  pixel781\n",
      "Deleted feature:  pixel782\n",
      "Deleted feature:  pixel783\n"
     ]
    }
   ],
   "source": [
    "clearDF = df\n",
    "for i in df.columns:\n",
    "    if clearDF[i].sum() == 0:\n",
    "        print(\"Deleted feature: \", i)\n",
    "        clearDF = clearDF.drop(i, axis=1)"
   ]
  },
  {
   "cell_type": "code",
   "execution_count": 49,
   "metadata": {},
   "outputs": [],
   "source": [
    "addition = pd.DataFrame()\n",
    "for pix in range(5):\n",
    "    feature = \"new_pix\" + str(pix)\n",
    "    arr_zero = np.zeros((42000, ), dtype=int)\n",
    "    addition[feature] = arr_zero\n",
    "\n",
    "full_clearDF = pd.concat([clearDF, addition], axis=1)"
   ]
  },
  {
   "cell_type": "code",
   "execution_count": 66,
   "metadata": {},
   "outputs": [
    {
     "ename": "ValueError",
     "evalue": "cannot reshape array of size 733 into shape (27,27)",
     "output_type": "error",
     "traceback": [
      "\u001b[0;31m---------------------------------------------------------------------------\u001b[0m",
      "\u001b[0;31mValueError\u001b[0m                                Traceback (most recent call last)",
      "\u001b[0;32m<ipython-input-66-b887db7b0ea4>\u001b[0m in \u001b[0;36m<module>\u001b[0;34m\u001b[0m\n\u001b[1;32m      1\u001b[0m \u001b[0min_data\u001b[0m \u001b[0;34m=\u001b[0m \u001b[0mnp\u001b[0m\u001b[0;34m.\u001b[0m\u001b[0marray\u001b[0m\u001b[0;34m(\u001b[0m\u001b[0mclearDF\u001b[0m\u001b[0;34m.\u001b[0m\u001b[0mdrop\u001b[0m\u001b[0;34m(\u001b[0m\u001b[0;34m[\u001b[0m\u001b[0;34m\"label\"\u001b[0m\u001b[0;34m]\u001b[0m\u001b[0;34m,\u001b[0m \u001b[0maxis\u001b[0m\u001b[0;34m=\u001b[0m\u001b[0;36m1\u001b[0m\u001b[0;34m)\u001b[0m\u001b[0;34m)\u001b[0m\u001b[0;34m\u001b[0m\u001b[0;34m\u001b[0m\u001b[0m\n\u001b[1;32m      2\u001b[0m \u001b[0min_data\u001b[0m\u001b[0;34m[\u001b[0m\u001b[0min_data\u001b[0m \u001b[0;34m<\u001b[0m \u001b[0;36m100\u001b[0m\u001b[0;34m]\u001b[0m \u001b[0;34m=\u001b[0m \u001b[0;36m0\u001b[0m\u001b[0;34m\u001b[0m\u001b[0;34m\u001b[0m\u001b[0m\n\u001b[0;32m----> 3\u001b[0;31m \u001b[0mdigit_image\u001b[0m \u001b[0;34m=\u001b[0m \u001b[0min_data\u001b[0m\u001b[0;34m[\u001b[0m\u001b[0;36m13\u001b[0m\u001b[0;34m]\u001b[0m\u001b[0;34m.\u001b[0m\u001b[0mreshape\u001b[0m\u001b[0;34m(\u001b[0m\u001b[0;36m27\u001b[0m\u001b[0;34m,\u001b[0m \u001b[0;36m27\u001b[0m\u001b[0;34m)\u001b[0m\u001b[0;34m\u001b[0m\u001b[0;34m\u001b[0m\u001b[0m\n\u001b[0m\u001b[1;32m      4\u001b[0m \u001b[0mplt\u001b[0m\u001b[0;34m.\u001b[0m\u001b[0mimshow\u001b[0m\u001b[0;34m(\u001b[0m\u001b[0mdigit_image\u001b[0m\u001b[0;34m,\u001b[0m \u001b[0mcmap\u001b[0m \u001b[0;34m=\u001b[0m \u001b[0;34m'binary'\u001b[0m\u001b[0;34m)\u001b[0m\u001b[0;34m\u001b[0m\u001b[0;34m\u001b[0m\u001b[0m\n\u001b[1;32m      5\u001b[0m \u001b[0mplt\u001b[0m\u001b[0;34m.\u001b[0m\u001b[0mshow\u001b[0m\u001b[0;34m(\u001b[0m\u001b[0;34m)\u001b[0m\u001b[0;34m\u001b[0m\u001b[0;34m\u001b[0m\u001b[0m\n",
      "\u001b[0;31mValueError\u001b[0m: cannot reshape array of size 733 into shape (27,27)"
     ]
    }
   ],
   "source": [
    "in_data = np.array(clearDF.drop([\"label\"], axis=1))\n",
    "in_data[in_data < 100] = 0\n",
    "digit_image = in_data[13].reshape(27, 27)\n",
    "plt.imshow(digit_image, cmap = 'binary')\n",
    "plt.show()"
   ]
  },
  {
   "cell_type": "code",
   "execution_count": null,
   "metadata": {},
   "outputs": [],
   "source": [
    "def determine_useless_features(x):\n",
    "    \n",
    "    for arr in x:\n",
    "        if arr.sum(axis=0) != 0:\n",
    "            "
   ]
  },
  {
   "cell_type": "code",
   "execution_count": 99,
   "metadata": {},
   "outputs": [
    {
     "name": "stdout",
     "output_type": "stream",
     "text": [
      "First half:  40\n",
      "Second half:  50\n",
      "Simmetry:  10\n"
     ]
    }
   ],
   "source": [
    "input_data = np.array(df.drop([\"label\"], axis=1))\n",
    "\n",
    "def check_simmetry(x):\n",
    "    dens_1, dens_2 = 0, 0\n",
    "    simmetry = np.array([])\n",
    "    for i_set in x:\n",
    "        matr = i_set.reshape(28,28)\n",
    "        newDF = pd.DataFrame(matr)\n",
    "        for y in range(13):\n",
    "            dens_1 = dens_1 + np.array(newDF[y]).astype(bool).sum()\n",
    "        for y in range(14, 28):\n",
    "            dens_2 = dens_2 + np.array(newDF[y]).astype(bool).sum()\n",
    "        print(\"First half: \", dens_1)\n",
    "        print(\"Second half: \", dens_2)\n",
    "        print(\"Simmetry: \", abs(dens_1 - dens_2))\n",
    "        break\n",
    "            \n",
    "        simmetry = np.append(simmetry, [abs(dens_1 - dens_2)])\n",
    "    \n",
    "    return simmetry\n",
    "\n",
    "sim = check_simmetry(input_data)"
   ]
  },
  {
   "cell_type": "code",
   "execution_count": 79,
   "metadata": {},
   "outputs": [
    {
     "data": {
      "text/plain": [
       "array([1.000000e+01, 1.800000e+01, 3.900000e+01, ..., 1.117841e+06,\n",
       "       1.117876e+06, 1.117906e+06])"
      ]
     },
     "execution_count": 79,
     "metadata": {},
     "output_type": "execute_result"
    }
   ],
   "source": [
    "sim"
   ]
  },
  {
   "cell_type": "code",
   "execution_count": 58,
   "metadata": {},
   "outputs": [],
   "source": [
    "LR = LogisticRegression()\n",
    "\n",
    "X = clearDF.drop('label', axis=1)\n",
    "X = scale(X)\n",
    "y = clearDF[\"label\"]"
   ]
  },
  {
   "cell_type": "code",
   "execution_count": 59,
   "metadata": {},
   "outputs": [],
   "source": [
    "X_train, X_test, y_train, y_test = train_test_split(X, y, test_size=0.33, random_state=42)"
   ]
  },
  {
   "cell_type": "code",
   "execution_count": null,
   "metadata": {},
   "outputs": [],
   "source": [
    "LR.fit(X_train, y_train)\n",
    "prediction = LR.predict(X_test)"
   ]
  },
  {
   "cell_type": "code",
   "execution_count": 88,
   "metadata": {},
   "outputs": [
    {
     "data": {
      "text/plain": [
       "0.908008658008658"
      ]
     },
     "execution_count": 88,
     "metadata": {},
     "output_type": "execute_result"
    }
   ],
   "source": [
    "confusion_matrix(y_test, prediction)\n",
    "accuracy_score(y_test, prediction)"
   ]
  },
  {
   "cell_type": "code",
   "execution_count": 95,
   "metadata": {},
   "outputs": [
    {
     "data": {
      "text/plain": [
       "array([[1288,    0,    6,    2,    2,   17,   12,    0,    5,    1],\n",
       "       [   0, 1479,    9,    4,    1,    6,    2,    2,   15,    2],\n",
       "       [  11,   23, 1235,   33,   26,   10,   25,   19,   31,    1],\n",
       "       [   8,    4,   40, 1285,    5,   51,    5,   19,   36,   18],\n",
       "       [   6,    7,   13,    4, 1252,    4,    8,    6,    9,   49],\n",
       "       [  11,    4,    8,   47,   23, 1028,   27,    7,   35,   15],\n",
       "       [  15,    6,    8,    0,    9,   16, 1327,    3,   13,    0],\n",
       "       [   4,   11,   23,    9,   25,    4,    3, 1346,    5,   50],\n",
       "       [  11,   32,   12,   34,   16,   43,    6,    4, 1158,   18],\n",
       "       [  13,    6,    7,   23,   31,   17,    0,   47,   17, 1187]])"
      ]
     },
     "execution_count": 95,
     "metadata": {},
     "output_type": "execute_result"
    }
   ],
   "source": [
    "confusion_matrix(y_test, prediction)"
   ]
  },
  {
   "cell_type": "code",
   "execution_count": null,
   "metadata": {},
   "outputs": [],
   "source": []
=======
>>>>>>> a46d565c1fee6fca94c14e5ee6bc4c0d2dce59e9
  }
 ],
 "metadata": {
  "kernelspec": {
   "display_name": "Python 3",
   "language": "python",
   "name": "python3"
  },
  "language_info": {
   "codemirror_mode": {
    "name": "ipython",
    "version": 3
   },
   "file_extension": ".py",
   "mimetype": "text/x-python",
   "name": "python",
   "nbconvert_exporter": "python",
   "pygments_lexer": "ipython3",
   "version": "3.7.5"
  }
 },
 "nbformat": 4,
 "nbformat_minor": 2
}

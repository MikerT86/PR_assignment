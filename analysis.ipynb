{
 "cells": [
  {
   "cell_type": "markdown",
   "metadata": {},
   "source": [
    "# Pattern Recognition - assignment 1\n",
    "\n",
    "* Bjorn Bruns (student id 1)\n",
    "* Mikhail Ternyuk (student id 2)\n",
    "\n",
    "# 1. Exploratory Analysis"
   ]
  },
  {
   "cell_type": "code",
   "execution_count": 63,
   "metadata": {},
   "outputs": [],
   "source": [
    "import pandas as pd\n",
    "import numpy as np\n",
    "import matplotlib.pyplot as plt \n",
    "import matplotlib.image as mpimg\n",
    "import seaborn as sns\n",
    "from scipy import stats\n",
    "\n",
    "%matplotlib inline"
   ]
  },
  {
   "cell_type": "code",
<<<<<<< HEAD
<<<<<<< HEAD
   "execution_count": 2,
=======
   "execution_count": 29,
>>>>>>> a46d565c1fee6fca94c14e5ee6bc4c0d2dce59e9
=======
<<<<<<< HEAD
   "execution_count": 3,
>>>>>>> 7a2d47a39e0e10d2c65274881756452360e18a75
=======
   "execution_count": 64,
>>>>>>> 24b24086360749cf55a7596331efd3e4e1da3be2
>>>>>>> 6cbf756b0fd83319ecbec3bd33cdcef98bfdb39e
   "metadata": {},
   "outputs": [
    {
     "data": {
      "text/html": [
       "<div>\n",
       "<style scoped>\n",
       "    .dataframe tbody tr th:only-of-type {\n",
       "        vertical-align: middle;\n",
       "    }\n",
       "\n",
       "    .dataframe tbody tr th {\n",
       "        vertical-align: top;\n",
       "    }\n",
       "\n",
       "    .dataframe thead th {\n",
       "        text-align: right;\n",
       "    }\n",
       "</style>\n",
       "<table border=\"1\" class=\"dataframe\">\n",
       "  <thead>\n",
       "    <tr style=\"text-align: right;\">\n",
       "      <th></th>\n",
       "      <th>label</th>\n",
       "      <th>pixel0</th>\n",
       "      <th>pixel1</th>\n",
       "      <th>pixel2</th>\n",
       "      <th>pixel3</th>\n",
       "      <th>pixel4</th>\n",
       "      <th>pixel5</th>\n",
       "      <th>pixel6</th>\n",
       "      <th>pixel7</th>\n",
       "      <th>pixel8</th>\n",
       "      <th>...</th>\n",
       "      <th>pixel774</th>\n",
       "      <th>pixel775</th>\n",
       "      <th>pixel776</th>\n",
       "      <th>pixel777</th>\n",
       "      <th>pixel778</th>\n",
       "      <th>pixel779</th>\n",
       "      <th>pixel780</th>\n",
       "      <th>pixel781</th>\n",
       "      <th>pixel782</th>\n",
       "      <th>pixel783</th>\n",
       "    </tr>\n",
       "  </thead>\n",
       "  <tbody>\n",
       "    <tr>\n",
       "      <th>0</th>\n",
       "      <td>1</td>\n",
       "      <td>0</td>\n",
       "      <td>0</td>\n",
       "      <td>0</td>\n",
       "      <td>0</td>\n",
       "      <td>0</td>\n",
       "      <td>0</td>\n",
       "      <td>0</td>\n",
       "      <td>0</td>\n",
       "      <td>0</td>\n",
       "      <td>...</td>\n",
       "      <td>0</td>\n",
       "      <td>0</td>\n",
       "      <td>0</td>\n",
       "      <td>0</td>\n",
       "      <td>0</td>\n",
       "      <td>0</td>\n",
       "      <td>0</td>\n",
       "      <td>0</td>\n",
       "      <td>0</td>\n",
       "      <td>0</td>\n",
       "    </tr>\n",
       "    <tr>\n",
       "      <th>1</th>\n",
       "      <td>0</td>\n",
       "      <td>0</td>\n",
       "      <td>0</td>\n",
       "      <td>0</td>\n",
       "      <td>0</td>\n",
       "      <td>0</td>\n",
       "      <td>0</td>\n",
       "      <td>0</td>\n",
       "      <td>0</td>\n",
       "      <td>0</td>\n",
       "      <td>...</td>\n",
       "      <td>0</td>\n",
       "      <td>0</td>\n",
       "      <td>0</td>\n",
       "      <td>0</td>\n",
       "      <td>0</td>\n",
       "      <td>0</td>\n",
       "      <td>0</td>\n",
       "      <td>0</td>\n",
       "      <td>0</td>\n",
       "      <td>0</td>\n",
       "    </tr>\n",
       "    <tr>\n",
       "      <th>2</th>\n",
       "      <td>1</td>\n",
       "      <td>0</td>\n",
       "      <td>0</td>\n",
       "      <td>0</td>\n",
       "      <td>0</td>\n",
       "      <td>0</td>\n",
       "      <td>0</td>\n",
       "      <td>0</td>\n",
       "      <td>0</td>\n",
       "      <td>0</td>\n",
       "      <td>...</td>\n",
       "      <td>0</td>\n",
       "      <td>0</td>\n",
       "      <td>0</td>\n",
       "      <td>0</td>\n",
       "      <td>0</td>\n",
       "      <td>0</td>\n",
       "      <td>0</td>\n",
       "      <td>0</td>\n",
       "      <td>0</td>\n",
       "      <td>0</td>\n",
       "    </tr>\n",
       "    <tr>\n",
       "      <th>3</th>\n",
       "      <td>4</td>\n",
       "      <td>0</td>\n",
       "      <td>0</td>\n",
       "      <td>0</td>\n",
       "      <td>0</td>\n",
       "      <td>0</td>\n",
       "      <td>0</td>\n",
       "      <td>0</td>\n",
       "      <td>0</td>\n",
       "      <td>0</td>\n",
       "      <td>...</td>\n",
       "      <td>0</td>\n",
       "      <td>0</td>\n",
       "      <td>0</td>\n",
       "      <td>0</td>\n",
       "      <td>0</td>\n",
       "      <td>0</td>\n",
       "      <td>0</td>\n",
       "      <td>0</td>\n",
       "      <td>0</td>\n",
       "      <td>0</td>\n",
       "    </tr>\n",
       "    <tr>\n",
       "      <th>4</th>\n",
       "      <td>0</td>\n",
       "      <td>0</td>\n",
       "      <td>0</td>\n",
       "      <td>0</td>\n",
       "      <td>0</td>\n",
       "      <td>0</td>\n",
       "      <td>0</td>\n",
       "      <td>0</td>\n",
       "      <td>0</td>\n",
       "      <td>0</td>\n",
       "      <td>...</td>\n",
       "      <td>0</td>\n",
       "      <td>0</td>\n",
       "      <td>0</td>\n",
       "      <td>0</td>\n",
       "      <td>0</td>\n",
       "      <td>0</td>\n",
       "      <td>0</td>\n",
       "      <td>0</td>\n",
       "      <td>0</td>\n",
       "      <td>0</td>\n",
       "    </tr>\n",
       "  </tbody>\n",
       "</table>\n",
       "<p>5 rows × 785 columns</p>\n",
       "</div>"
      ],
      "text/plain": [
       "   label  pixel0  pixel1  pixel2  pixel3  pixel4  pixel5  pixel6  pixel7  \\\n",
       "0      1       0       0       0       0       0       0       0       0   \n",
       "1      0       0       0       0       0       0       0       0       0   \n",
       "2      1       0       0       0       0       0       0       0       0   \n",
       "3      4       0       0       0       0       0       0       0       0   \n",
       "4      0       0       0       0       0       0       0       0       0   \n",
       "\n",
       "   pixel8  ...  pixel774  pixel775  pixel776  pixel777  pixel778  pixel779  \\\n",
       "0       0  ...         0         0         0         0         0         0   \n",
       "1       0  ...         0         0         0         0         0         0   \n",
       "2       0  ...         0         0         0         0         0         0   \n",
       "3       0  ...         0         0         0         0         0         0   \n",
       "4       0  ...         0         0         0         0         0         0   \n",
       "\n",
       "   pixel780  pixel781  pixel782  pixel783  \n",
       "0         0         0         0         0  \n",
       "1         0         0         0         0  \n",
       "2         0         0         0         0  \n",
       "3         0         0         0         0  \n",
       "4         0         0         0         0  \n",
       "\n",
       "[5 rows x 785 columns]"
      ]
     },
<<<<<<< HEAD
<<<<<<< HEAD
     "execution_count": 2,
=======
     "execution_count": 29,
>>>>>>> a46d565c1fee6fca94c14e5ee6bc4c0d2dce59e9
=======
<<<<<<< HEAD
     "execution_count": 3,
>>>>>>> 7a2d47a39e0e10d2c65274881756452360e18a75
=======
     "execution_count": 64,
>>>>>>> 24b24086360749cf55a7596331efd3e4e1da3be2
>>>>>>> 6cbf756b0fd83319ecbec3bd33cdcef98bfdb39e
     "metadata": {},
     "output_type": "execute_result"
    }
   ],
   "source": [
    "df = pd.read_csv(\"mnist.csv\")\n",
    "df.head()"
   ]
  },
  {
   "cell_type": "code",
<<<<<<< HEAD
   "execution_count": 16,
=======
   "execution_count": 65,
>>>>>>> 24b24086360749cf55a7596331efd3e4e1da3be2
   "metadata": {},
   "outputs": [
    {
     "name": "stdout",
     "output_type": "stream",
     "text": [
      "740    5\n",
      "Name: label, dtype: int64\n",
      "740      5\n",
      "9193     5\n",
      "11690    8\n",
      "24247    8\n",
      "26361    5\n",
      "27004    5\n",
      "34413    5\n",
      "35846    8\n",
      "36054    5\n",
      "36357    0\n",
      "37458    8\n",
      "Name: label, dtype: int64\n",
      "9064     8\n",
      "9193     5\n",
      "11690    8\n",
      "15953    5\n",
      "24247    8\n",
      "26361    5\n",
      "27004    5\n",
      "34413    5\n",
      "35846    8\n",
      "36054    5\n",
      "36357    0\n",
      "37458    8\n",
      "37650    5\n",
      "Name: label, dtype: int64\n",
      "3374     5\n",
      "5471     8\n",
      "6341     5\n",
      "9064     8\n",
      "15953    5\n",
      "22873    5\n",
      "35381    8\n",
      "37458    8\n",
      "37650    5\n",
      "Name: label, dtype: int64\n",
      "244      5\n",
      "3374     5\n",
      "5471     8\n",
      "6341     5\n",
      "15395    5\n",
      "22721    8\n",
      "22873    5\n",
      "32569    8\n",
      "35381    8\n",
      "36320    8\n",
      "37650    5\n",
      "Name: label, dtype: int64\n",
      "244      5\n",
      "5471     8\n",
      "13032    1\n",
      "15395    5\n",
      "22721    8\n",
      "22873    5\n",
      "27175    5\n",
      "32569    8\n",
      "35381    8\n",
      "35943    8\n",
      "36320    8\n",
      "Name: label, dtype: int64\n",
      "13032    1\n",
      "21778    7\n",
      "26790    8\n",
      "27175    5\n",
      "32569    8\n",
      "35943    8\n",
      "36320    8\n",
      "38142    1\n",
      "39840    8\n",
      "Name: label, dtype: int64\n",
      "3674     2\n",
      "21778    7\n",
      "26790    8\n",
      "38142    1\n",
      "39840    8\n",
      "40907    2\n",
      "Name: label, dtype: int64\n",
      "3674     2\n",
      "39840    8\n",
      "40907    2\n",
      "Name: label, dtype: int64\n",
      "3674     2\n",
      "7599     2\n",
      "40907    2\n",
      "Name: label, dtype: int64\n",
      "235      2\n",
      "2516     4\n",
      "7599     2\n",
      "10307    4\n",
      "17939    2\n",
      "24664    2\n",
      "Name: label, dtype: int64\n",
      "235      2\n",
      "2516     4\n",
      "7599     2\n",
      "8100     0\n",
      "10307    4\n",
      "17939    2\n",
      "17972    2\n",
      "22047    2\n",
      "24664    2\n",
      "27826    2\n",
      "33284    2\n",
      "Name: label, dtype: int64\n",
      "55       2\n",
      "2516     4\n",
      "8100     0\n",
      "11784    1\n",
      "17939    2\n",
      "17972    2\n",
      "21250    2\n",
      "22047    2\n",
      "24664    2\n",
      "27826    2\n",
      "30556    2\n",
      "33284    2\n",
      "40673    2\n",
      "Name: label, dtype: int64\n",
      "55       2\n",
      "2516     4\n",
      "11784    1\n",
      "21250    2\n",
      "28293    2\n",
      "30556    2\n",
      "Name: label, dtype: int64\n",
      "11784    1\n",
      "28293    2\n",
      "Name: label, dtype: int64\n",
      "38323    5\n",
      "Name: label, dtype: int64\n",
      "24909    0\n",
      "Name: label, dtype: int64\n",
      "24909    0\n",
      "Name: label, dtype: int64\n"
     ]
    }
   ],
   "source": [
    "# for i in range(28):\n",
    "#     feature = 'pixel' + str(i)\n",
    "#     border_marked = df[df[feature] != 0]\n",
    "#     if border_marked.shape[0] > 0:\n",
    "#         print(border_marked['label']) \n",
    "        \n",
    "        \n",
    "for i in range(27, 783, 28):\n",
    "    feature = 'pixel' + str(i)\n",
    "    border_marked = df[df[feature] != 0]\n",
    "    if border_marked.shape[0] > 0:\n",
    "        print(border_marked['label'])"
   ]
  },
  {
   "cell_type": "code",
   "execution_count": 4,
   "metadata": {
    "scrolled": true
   },
   "outputs": [
    {
     "name": "stdout",
     "output_type": "stream",
     "text": [
      "<class 'pandas.core.frame.DataFrame'>\n",
      "RangeIndex: 42000 entries, 0 to 41999\n",
      "Columns: 785 entries, label to pixel783\n",
      "dtypes: int64(785)\n",
      "memory usage: 251.5 MB\n"
     ]
    }
   ],
   "source": [
    "df.info()"
   ]
  },
  {
   "cell_type": "code",
<<<<<<< HEAD
<<<<<<< HEAD
   "execution_count": 20,
=======
   "execution_count": 4,
>>>>>>> a46d565c1fee6fca94c14e5ee6bc4c0d2dce59e9
=======
<<<<<<< HEAD
   "execution_count": 3,
>>>>>>> 7a2d47a39e0e10d2c65274881756452360e18a75
=======
   "execution_count": 66,
>>>>>>> 24b24086360749cf55a7596331efd3e4e1da3be2
>>>>>>> 6cbf756b0fd83319ecbec3bd33cdcef98bfdb39e
   "metadata": {},
   "outputs": [
    {
     "data": {
<<<<<<< HEAD
<<<<<<< HEAD
      "image/png": "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\n",
=======
      "image/png": "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\n",
>>>>>>> a46d565c1fee6fca94c14e5ee6bc4c0d2dce59e9
=======
<<<<<<< HEAD
      "image/png": "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\n",
>>>>>>> 7a2d47a39e0e10d2c65274881756452360e18a75
=======
      "text/plain": [
       "<matplotlib.axes._subplots.AxesSubplot at 0x1a16a1bcf8>"
      ]
     },
     "execution_count": 66,
     "metadata": {},
     "output_type": "execute_result"
    },
    {
     "data": {
      "image/png": "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\n",
      "text/plain": [
       "<Figure size 432x288 with 1 Axes>"
      ]
     },
     "metadata": {
      "needs_background": "light"
     },
     "output_type": "display_data"
    }
   ],
   "source": [
    "mas = np.array(df.iloc[:420001, 1:]).reshape(-1)\n",
    "sns.distplot(mas, kde=False)"
   ]
  },
  {
   "cell_type": "code",
   "execution_count": 67,
   "metadata": {
    "scrolled": true
   },
   "outputs": [
    {
     "data": {
      "image/png": "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\n",
>>>>>>> 24b24086360749cf55a7596331efd3e4e1da3be2
>>>>>>> 6cbf756b0fd83319ecbec3bd33cdcef98bfdb39e
      "text/plain": [
       "<Figure size 432x288 with 1 Axes>"
      ]
     },
     "metadata": {
      "needs_background": "light"
     },
     "output_type": "display_data"
    }
   ],
   "source": [
    "input_data = np.array(df.drop([\"label\"], axis=1))\n",
    "digit_image = input_data[22873].reshape(28, 28)\n",
    "plt.imshow(digit_image, cmap = 'binary')\n",
    "plt.show()"
   ]
  },
  {
<<<<<<< HEAD
<<<<<<< HEAD
=======
   "cell_type": "markdown",
   "metadata": {},
   "source": [
    "### 1.1 Define and Deleting useless features!"
   ]
  },
  {
>>>>>>> 6cbf756b0fd83319ecbec3bd33cdcef98bfdb39e
   "cell_type": "code",
<<<<<<< HEAD
<<<<<<< HEAD
=======
   "execution_count": 5,
=======
<<<<<<< HEAD
   "cell_type": "markdown",
>>>>>>> 7a2d47a39e0e10d2c65274881756452360e18a75
=======
   "execution_count": 68,
>>>>>>> 24b24086360749cf55a7596331efd3e4e1da3be2
>>>>>>> 6cbf756b0fd83319ecbec3bd33cdcef98bfdb39e
   "metadata": {},
   "outputs": [],
   "source": [
    "clearDF = df.copy()\n",
    "for i in clearDF.columns:\n",
    "    if clearDF[i].sum() == 0:\n",
    "        clearDF[i] = 255"
   ]
  },
  {
   "cell_type": "code",
<<<<<<< HEAD
>>>>>>> a46d565c1fee6fca94c14e5ee6bc4c0d2dce59e9
   "execution_count": 6,
<<<<<<< HEAD
=======
   "execution_count": 17,
>>>>>>> 7a2d47a39e0e10d2c65274881756452360e18a75
=======
>>>>>>> 6cbf756b0fd83319ecbec3bd33cdcef98bfdb39e
   "metadata": {
    "scrolled": false
   },
=======
   "execution_count": 69,
   "metadata": {},
>>>>>>> 24b24086360749cf55a7596331efd3e4e1da3be2
   "outputs": [
    {
<<<<<<< HEAD
     "ename": "NameError",
     "evalue": "name 'labels' is not defined",
     "output_type": "error",
     "traceback": [
      "\u001b[0;31m---------------------------------------------------------------------------\u001b[0m",
      "\u001b[0;31mNameError\u001b[0m                                 Traceback (most recent call last)",
      "\u001b[0;32m<ipython-input-6-b6bfdec8e3ec>\u001b[0m in \u001b[0;36m<module>\u001b[0;34m\u001b[0m\n\u001b[0;32m----> 1\u001b[0;31m \u001b[0mplt\u001b[0m\u001b[0;34m.\u001b[0m\u001b[0mhist\u001b[0m\u001b[0;34m(\u001b[0m\u001b[0mlabels\u001b[0m\u001b[0;34m,\u001b[0m \u001b[0mbins\u001b[0m\u001b[0;34m=\u001b[0m\u001b[0;36m50\u001b[0m\u001b[0;34m,\u001b[0m \u001b[0mhisttype\u001b[0m\u001b[0;34m=\u001b[0m\u001b[0;34m'step'\u001b[0m\u001b[0;34m)\u001b[0m\u001b[0;34m\u001b[0m\u001b[0;34m\u001b[0m\u001b[0m\n\u001b[0m",
      "\u001b[0;31mNameError\u001b[0m: name 'labels' is not defined"
     ]
=======
     "data": {
      "image/png": "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\n",
      "text/plain": [
       "<Figure size 1440x720 with 9 Axes>"
      ]
     },
     "metadata": {
      "needs_background": "light"
     },
     "output_type": "display_data"
>>>>>>> a46d565c1fee6fca94c14e5ee6bc4c0d2dce59e9
    }
   ],
   "source": [
    "fig, axes = plt.subplots(nrows=3, ncols=3, figsize=(20, 10))\n",
    "axes = axes.flat\n",
    "input_data = np.array(clearDF.drop([\"label\"], axis=1))\n",
    "\n",
    "for i in range(9):\n",
    "    digit_image = input_data[i].reshape(28, 28)\n",
    "    axes[i].imshow(digit_image, cmap = 'binary')"
   ]
  },
  {
   "cell_type": "code",
<<<<<<< HEAD
<<<<<<< HEAD
   "execution_count": null,
   "metadata": {},
   "outputs": [],
   "source": [
    "labels = df[\"label\"]\n",
    "for i in range(0,10):\n",
    "    count_i = labels[labels == i]\n",
    "    precentege = count_i.count()/labels.count() * 100 \n",
    "    print(\"Label {}: {:0.2f}%\".format(i, precentege))"
   ]
  },
  {
   "cell_type": "code",
   "execution_count": 25,
=======
   "execution_count": 7,
>>>>>>> a46d565c1fee6fca94c14e5ee6bc4c0d2dce59e9
<<<<<<< HEAD
=======
   "execution_count": 42,
>>>>>>> 7a2d47a39e0e10d2c65274881756452360e18a75
   "metadata": {},
   "outputs": [
    {
     "name": "stdout",
     "output_type": "stream",
     "text": [
      "Label 0: 9.84%\n",
      "Label 1: 11.15%\n",
      "Label 2: 9.95%\n",
      "Label 3: 10.36%\n",
      "Label 4: 9.70%\n",
      "Label 5: 9.04%\n",
      "Label 6: 9.85%\n",
      "Label 7: 10.48%\n",
      "Label 8: 9.67%\n",
      "Label 9: 9.97%\n"
     ]
    }
   ],
   "source": [
<<<<<<< HEAD
=======
   "metadata": {},
   "outputs": [],
   "source": [
>>>>>>> 6cbf756b0fd83319ecbec3bd33cdcef98bfdb39e
    "input_data = np.array(df.drop([\"label\"], axis=1))\n",
    "input_data[input_data < 200] = 0"
   ]
  },
  {
   "cell_type": "code",
<<<<<<< HEAD
   "execution_count": 26,
=======
   "execution_count": 8,
>>>>>>> a46d565c1fee6fca94c14e5ee6bc4c0d2dce59e9
=======
   "execution_count": 70,
   "metadata": {},
   "outputs": [],
   "source": [
    "for i in clearDF.columns:\n",
    "    if clearDF[i].sum() == 0:\n",
    "        clearDF.drop(i, axis=1, inplace=True)"
   ]
  },
  {
   "cell_type": "markdown",
>>>>>>> 24b24086360749cf55a7596331efd3e4e1da3be2
   "metadata": {},
   "source": [
    "### 1.2 Predicting Majority class"
   ]
  },
  {
   "cell_type": "code",
   "execution_count": 71,
   "metadata": {
    "scrolled": false
   },
   "outputs": [
    {
     "data": {
<<<<<<< HEAD
<<<<<<< HEAD
      "image/png": "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\n",
=======
      "image/png": "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\n",
>>>>>>> a46d565c1fee6fca94c14e5ee6bc4c0d2dce59e9
=======
      "image/png": "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\n",
>>>>>>> 24b24086360749cf55a7596331efd3e4e1da3be2
      "text/plain": [
       "<Figure size 432x288 with 1 Axes>"
      ]
     },
     "metadata": {
      "needs_background": "light"
     },
     "output_type": "display_data"
    }
   ],
   "source": [
<<<<<<< HEAD
    "digit_image = input_data[22873].reshape(28, 28)\n",
    "plt.imshow(digit_image, cmap = 'binary')\n",
=======
    "labels = df[\"label\"]\n",
    "plt.hist(labels, bins=50, histtype='step')\n",
>>>>>>> 24b24086360749cf55a7596331efd3e4e1da3be2
    "plt.show()"
<<<<<<< HEAD
=======
    "labels = df[\"label\"]\n",
    "entries = np.array([])\n",
    "for i in range(10):\n",
    "    count_i = labels[labels == i]\n",
    "    precentege = count_i.count()/labels.count() * 100 \n",
    "    print(\"Label {}: {:0.2f}%\".format(i, precentege))\n",
    "    entries = np.append(entries, [i, precentege])"
   ]
  },
  {
   "cell_type": "markdown",
   "metadata": {},
   "source": [
    "### 1.3 With futher analysis some additional notes:\n",
    "    1. For all none zero features its usefull to make them equals (=1). We might have seen a lot more variety if        will be work woth binary distinguishable values\n",
    "    2. To reduce tilt of digits (it makes symmetry feature more strong) \n",
    "    3. Put digit at frame centre\n",
    "    4. Try to overlap digits to calculate mean difference"
>>>>>>> 7a2d47a39e0e10d2c65274881756452360e18a75
   ]
  },
  {
=======
   ]
  },
  {
>>>>>>> 6cbf756b0fd83319ecbec3bd33cdcef98bfdb39e
   "cell_type": "code",
<<<<<<< HEAD
<<<<<<< HEAD
   "execution_count": 45,
=======
   "execution_count": 9,
>>>>>>> a46d565c1fee6fca94c14e5ee6bc4c0d2dce59e9
   "metadata": {},
   "outputs": [],
   "source": [
    "#new_df = df.drop([\"label\"], axis=1) \n",
    "df[\"density\"] = df.iloc[:, 1:].astype(bool).sum(axis=1)"
=======
<<<<<<< HEAD
   "execution_count": 5,
   "metadata": {},
   "outputs": [],
   "source": [
    "labels = df['label']\n",
    "newDF = df.drop('label', axis=1)\n",
    "\n",
    "newDF[newDF > 0] = 1\n",
    "\n",
    "newDF = pd.concat([labels, newDF], axis=1)"
>>>>>>> 7a2d47a39e0e10d2c65274881756452360e18a75
=======
   "execution_count": 72,
   "metadata": {},
   "outputs": [
    {
     "name": "stdout",
     "output_type": "stream",
     "text": [
      "Label 0: 9.84%\n",
      "Label 1: 11.15%\n",
      "Label 2: 9.95%\n",
      "Label 3: 10.36%\n",
      "Label 4: 9.70%\n",
      "Label 5: 9.04%\n",
      "Label 6: 9.85%\n",
      "Label 7: 10.48%\n",
      "Label 8: 9.67%\n",
      "Label 9: 9.97%\n"
     ]
    }
   ],
   "source": [
    "entries = np.array([])\n",
    "for i in range(10):\n",
    "    count_i = labels[labels == i]\n",
    "    precentege = count_i.count()/labels.count() * 100 \n",
    "    print(\"Label {}: {:0.2f}%\".format(i, precentege))\n",
    "    entries = np.append(entries, [i, precentege])"
   ]
  },
  {
   "cell_type": "markdown",
   "metadata": {},
   "source": [
    "### 1.3 Additional notes with further analysis:\n",
    "    1. For all none zero features usefull to make them equals to same value (exp: 1). We might have seen a lot more variety with binary distinguishable values\n",
    "    2. Reduce tilt of digits (it makes symmetry feature more strong) \n",
    "    3. Put digit at centre frame\n",
    "    4. Try to overlap digits and to calculate mean difference"
   ]
  },
  {
   "cell_type": "code",
   "execution_count": 73,
   "metadata": {},
   "outputs": [],
   "source": [
    "newDF = df.drop('label', axis=1)\n",
    "\n",
    "newDF[newDF > 0] = 255\n",
    "\n",
    "newDF = pd.concat([labels, newDF], axis=1)"
>>>>>>> 24b24086360749cf55a7596331efd3e4e1da3be2
>>>>>>> 6cbf756b0fd83319ecbec3bd33cdcef98bfdb39e
   ]
  },
  {
   "cell_type": "code",
<<<<<<< HEAD
<<<<<<< HEAD
   "execution_count": null,
=======
   "execution_count": 10,
>>>>>>> a46d565c1fee6fca94c14e5ee6bc4c0d2dce59e9
=======
<<<<<<< HEAD
   "execution_count": 29,
>>>>>>> 7a2d47a39e0e10d2c65274881756452360e18a75
=======
   "execution_count": 74,
>>>>>>> 24b24086360749cf55a7596331efd3e4e1da3be2
>>>>>>> 6cbf756b0fd83319ecbec3bd33cdcef98bfdb39e
   "metadata": {},
   "outputs": [],
   "source": [
    "new_df.iloc[:, [0,-1]]"
   ]
  },
  {
   "cell_type": "code",
   "execution_count": 46,
   "metadata": {
    "scrolled": true
   },
   "outputs": [
    {
     "data": {
      "text/html": [
       "<div>\n",
       "<style scoped>\n",
       "    .dataframe tbody tr th:only-of-type {\n",
       "        vertical-align: middle;\n",
       "    }\n",
       "\n",
       "    .dataframe tbody tr th {\n",
       "        vertical-align: top;\n",
       "    }\n",
       "\n",
       "    .dataframe thead th {\n",
       "        text-align: right;\n",
       "    }\n",
       "</style>\n",
       "<table border=\"1\" class=\"dataframe\">\n",
       "  <thead>\n",
       "    <tr style=\"text-align: right;\">\n",
       "      <th></th>\n",
       "      <th>label</th>\n",
       "      <th>pixel0</th>\n",
       "      <th>pixel1</th>\n",
       "      <th>pixel2</th>\n",
       "      <th>pixel3</th>\n",
       "      <th>pixel4</th>\n",
       "      <th>pixel5</th>\n",
       "      <th>pixel6</th>\n",
       "      <th>pixel7</th>\n",
       "      <th>pixel8</th>\n",
       "      <th>...</th>\n",
       "      <th>pixel774</th>\n",
       "      <th>pixel775</th>\n",
       "      <th>pixel776</th>\n",
       "      <th>pixel777</th>\n",
       "      <th>pixel778</th>\n",
       "      <th>pixel779</th>\n",
       "      <th>pixel780</th>\n",
       "      <th>pixel781</th>\n",
       "      <th>pixel782</th>\n",
       "      <th>pixel783</th>\n",
       "    </tr>\n",
       "  </thead>\n",
       "  <tbody>\n",
       "    <tr>\n",
       "      <th>0</th>\n",
       "      <td>1</td>\n",
       "      <td>0</td>\n",
       "      <td>0</td>\n",
       "      <td>0</td>\n",
       "      <td>0</td>\n",
       "      <td>0</td>\n",
       "      <td>0</td>\n",
       "      <td>0</td>\n",
       "      <td>0</td>\n",
       "      <td>0</td>\n",
       "      <td>...</td>\n",
       "      <td>0</td>\n",
       "      <td>0</td>\n",
       "      <td>0</td>\n",
       "      <td>0</td>\n",
       "      <td>0</td>\n",
       "      <td>0</td>\n",
       "      <td>0</td>\n",
       "      <td>0</td>\n",
       "      <td>0</td>\n",
       "      <td>0</td>\n",
       "    </tr>\n",
       "    <tr>\n",
       "      <th>1</th>\n",
       "      <td>0</td>\n",
       "      <td>0</td>\n",
       "      <td>0</td>\n",
       "      <td>0</td>\n",
       "      <td>0</td>\n",
       "      <td>0</td>\n",
       "      <td>0</td>\n",
       "      <td>0</td>\n",
       "      <td>0</td>\n",
       "      <td>0</td>\n",
       "      <td>...</td>\n",
       "      <td>0</td>\n",
       "      <td>0</td>\n",
       "      <td>0</td>\n",
       "      <td>0</td>\n",
       "      <td>0</td>\n",
       "      <td>0</td>\n",
       "      <td>0</td>\n",
       "      <td>0</td>\n",
       "      <td>0</td>\n",
<<<<<<< HEAD
       "      <td>246</td>\n",
=======
       "      <td>0</td>\n",
<<<<<<< HEAD
>>>>>>> 7a2d47a39e0e10d2c65274881756452360e18a75
=======
>>>>>>> 24b24086360749cf55a7596331efd3e4e1da3be2
>>>>>>> 6cbf756b0fd83319ecbec3bd33cdcef98bfdb39e
       "    </tr>\n",
       "    <tr>\n",
       "      <th>2</th>\n",
       "      <td>1</td>\n",
       "      <td>0</td>\n",
       "      <td>0</td>\n",
       "      <td>0</td>\n",
       "      <td>0</td>\n",
       "      <td>0</td>\n",
       "      <td>0</td>\n",
       "      <td>0</td>\n",
       "      <td>0</td>\n",
       "      <td>0</td>\n",
       "      <td>...</td>\n",
       "      <td>0</td>\n",
       "      <td>0</td>\n",
       "      <td>0</td>\n",
       "      <td>0</td>\n",
       "      <td>0</td>\n",
       "      <td>0</td>\n",
       "      <td>0</td>\n",
       "      <td>0</td>\n",
       "      <td>0</td>\n",
       "      <td>0</td>\n",
       "    </tr>\n",
       "    <tr>\n",
       "      <th>3</th>\n",
       "      <td>4</td>\n",
       "      <td>0</td>\n",
       "      <td>0</td>\n",
       "      <td>0</td>\n",
       "      <td>0</td>\n",
       "      <td>0</td>\n",
       "      <td>0</td>\n",
       "      <td>0</td>\n",
       "      <td>0</td>\n",
       "      <td>0</td>\n",
       "      <td>...</td>\n",
       "      <td>0</td>\n",
       "      <td>0</td>\n",
       "      <td>0</td>\n",
       "      <td>0</td>\n",
       "      <td>0</td>\n",
       "      <td>0</td>\n",
       "      <td>0</td>\n",
       "      <td>0</td>\n",
       "      <td>0</td>\n",
       "      <td>0</td>\n",
       "    </tr>\n",
       "    <tr>\n",
       "      <th>4</th>\n",
       "      <td>0</td>\n",
       "      <td>0</td>\n",
       "      <td>0</td>\n",
       "      <td>0</td>\n",
       "      <td>0</td>\n",
       "      <td>0</td>\n",
       "      <td>0</td>\n",
       "      <td>0</td>\n",
       "      <td>0</td>\n",
       "      <td>0</td>\n",
       "      <td>...</td>\n",
       "      <td>0</td>\n",
       "      <td>0</td>\n",
       "      <td>0</td>\n",
       "      <td>0</td>\n",
       "      <td>0</td>\n",
       "      <td>0</td>\n",
       "      <td>0</td>\n",
       "      <td>0</td>\n",
       "      <td>0</td>\n",
<<<<<<< HEAD
       "      <td>261</td>\n",
=======
       "      <td>0</td>\n",
<<<<<<< HEAD
>>>>>>> 7a2d47a39e0e10d2c65274881756452360e18a75
=======
>>>>>>> 24b24086360749cf55a7596331efd3e4e1da3be2
>>>>>>> 6cbf756b0fd83319ecbec3bd33cdcef98bfdb39e
       "    </tr>\n",
       "  </tbody>\n",
       "</table>\n",
       "<p>5 rows × 785 columns</p>\n",
       "</div>"
      ],
      "text/plain": [
       "   label  pixel0  pixel1  pixel2  pixel3  pixel4  pixel5  pixel6  pixel7  \\\n",
       "0      1       0       0       0       0       0       0       0       0   \n",
       "1      0       0       0       0       0       0       0       0       0   \n",
       "2      1       0       0       0       0       0       0       0       0   \n",
       "3      4       0       0       0       0       0       0       0       0   \n",
       "4      0       0       0       0       0       0       0       0       0   \n",
       "\n",
       "   pixel8  ...  pixel774  pixel775  pixel776  pixel777  pixel778  pixel779  \\\n",
       "0       0  ...         0         0         0         0         0         0   \n",
       "1       0  ...         0         0         0         0         0         0   \n",
       "2       0  ...         0         0         0         0         0         0   \n",
       "3       0  ...         0         0         0         0         0         0   \n",
       "4       0  ...         0         0         0         0         0         0   \n",
       "\n",
<<<<<<< HEAD
       "   pixel781  pixel782  pixel783  density  \n",
       "0         0         0         0       98  \n",
       "1         0         0         0      246  \n",
       "2         0         0         0       80  \n",
       "3         0         0         0      114  \n",
       "4         0         0         0      261  \n",
=======
       "   pixel780  pixel781  pixel782  pixel783  \n",
       "0         0         0         0         0  \n",
       "1         0         0         0         0  \n",
       "2         0         0         0         0  \n",
       "3         0         0         0         0  \n",
       "4         0         0         0         0  \n",
<<<<<<< HEAD
>>>>>>> 7a2d47a39e0e10d2c65274881756452360e18a75
=======
>>>>>>> 24b24086360749cf55a7596331efd3e4e1da3be2
>>>>>>> 6cbf756b0fd83319ecbec3bd33cdcef98bfdb39e
       "\n",
       "[5 rows x 785 columns]"
      ]
     },
<<<<<<< HEAD
<<<<<<< HEAD
     "execution_count": 46,
=======
     "execution_count": 10,
>>>>>>> a46d565c1fee6fca94c14e5ee6bc4c0d2dce59e9
=======
<<<<<<< HEAD
     "execution_count": 29,
>>>>>>> 7a2d47a39e0e10d2c65274881756452360e18a75
=======
     "execution_count": 74,
>>>>>>> 24b24086360749cf55a7596331efd3e4e1da3be2
>>>>>>> 6cbf756b0fd83319ecbec3bd33cdcef98bfdb39e
     "metadata": {},
     "output_type": "execute_result"
    }
   ],
   "source": [
<<<<<<< HEAD
    "df.head()"
=======
    "newDF.head()"
<<<<<<< HEAD
>>>>>>> 7a2d47a39e0e10d2c65274881756452360e18a75
   ]
  },
  {
   "cell_type": "code",
<<<<<<< HEAD
<<<<<<< HEAD
   "execution_count": 47,
=======
   "execution_count": 11,
>>>>>>> a46d565c1fee6fca94c14e5ee6bc4c0d2dce59e9
   "metadata": {},
   "outputs": [],
   "source": [
    "DF_Label_Density = df.iloc[:, [0,-1]]"
=======
   "execution_count": 7,
   "metadata": {},
   "outputs": [
    {
     "data": {
      "image/png": "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\n",
      "text/plain": [
       "<Figure size 1440x720 with 9 Axes>"
      ]
     },
     "metadata": {
      "needs_background": "light"
     },
     "output_type": "display_data"
    }
   ],
   "source": [
    "input_data = np.array(newDF.drop([\"label\"], axis=1))\n",
    "digit_image = input_data[3].reshape(28, 28)\n",
    "# plt.imshow(digit_image, cmap = 'binary')\n",
    "# plt.show()\n",
    "\n",
    "fig, axes = plt.subplots(nrows=3, ncols=3, figsize=(20, 10))\n",
    "axes = axes.flat\n",
    "\n",
    "for i in range(9):\n",
    "    digit_image = input_data[i].reshape(28, 28)\n",
    "    axes[i].imshow(digit_image, cmap = 'binary')\n",
    "    #axes[i].axis('off')"
=======
>>>>>>> 6cbf756b0fd83319ecbec3bd33cdcef98bfdb39e
   ]
  },
  {
   "cell_type": "markdown",
   "metadata": {},
   "source": [
    "# 2. Calculating density"
   ]
  },
  {
   "cell_type": "code",
   "execution_count": 75,
   "metadata": {},
   "outputs": [],
   "source": [
<<<<<<< HEAD
    "new_df = newDF \n",
    "new_df[\"density\"] = new_df.iloc[:, 1:-1].astype(bool).sum(axis=1)"
>>>>>>> 7a2d47a39e0e10d2c65274881756452360e18a75
=======
    "newDF[\"density\"] = newDF.iloc[:, 1:-1].astype(bool).sum(axis=1)"
>>>>>>> 24b24086360749cf55a7596331efd3e4e1da3be2
   ]
  },
  {
   "cell_type": "code",
<<<<<<< HEAD
<<<<<<< HEAD
   "execution_count": 47,
=======
   "execution_count": 11,
>>>>>>> a46d565c1fee6fca94c14e5ee6bc4c0d2dce59e9
   "metadata": {},
   "outputs": [],
   "source": [
    "DF_Label_Density = df.iloc[:, [0,-1]]"
=======
   "execution_count": 76,
   "metadata": {},
   "outputs": [],
   "source": [
    "DF_Label_Density = newDF.iloc[:, [0, -1]]"
>>>>>>> 24b24086360749cf55a7596331efd3e4e1da3be2
>>>>>>> 6cbf756b0fd83319ecbec3bd33cdcef98bfdb39e
   ]
  },
  {
   "cell_type": "code",
<<<<<<< HEAD
<<<<<<< HEAD
   "execution_count": 48,
=======
   "execution_count": 12,
>>>>>>> a46d565c1fee6fca94c14e5ee6bc4c0d2dce59e9
=======
<<<<<<< HEAD
   "execution_count": 59,
>>>>>>> 7a2d47a39e0e10d2c65274881756452360e18a75
=======
   "execution_count": 77,
>>>>>>> 24b24086360749cf55a7596331efd3e4e1da3be2
>>>>>>> 6cbf756b0fd83319ecbec3bd33cdcef98bfdb39e
   "metadata": {},
   "outputs": [
    {
     "data": {
      "text/html": [
       "<div>\n",
       "<style scoped>\n",
       "    .dataframe tbody tr th:only-of-type {\n",
       "        vertical-align: middle;\n",
       "    }\n",
       "\n",
       "    .dataframe tbody tr th {\n",
       "        vertical-align: top;\n",
       "    }\n",
       "\n",
       "    .dataframe thead th {\n",
       "        text-align: right;\n",
       "    }\n",
       "</style>\n",
       "<table border=\"1\" class=\"dataframe\">\n",
       "  <thead>\n",
       "    <tr style=\"text-align: right;\">\n",
       "      <th></th>\n",
       "      <th>label</th>\n",
       "      <th>density</th>\n",
       "    </tr>\n",
       "  </thead>\n",
       "  <tbody>\n",
       "    <tr>\n",
       "      <th>0</th>\n",
       "      <td>1</td>\n",
       "      <td>97</td>\n",
       "    </tr>\n",
       "    <tr>\n",
       "      <th>1</th>\n",
       "      <td>0</td>\n",
<<<<<<< HEAD
<<<<<<< HEAD
       "      <td>246</td>\n",
=======
       "      <td>0</td>\n",
       "      <td>0</td>\n",
       "      <td>0</td>\n",
       "      <td>0</td>\n",
       "      <td>0</td>\n",
       "      <td>0</td>\n",
       "      <td>0</td>\n",
       "      <td>0</td>\n",
       "      <td>0</td>\n",
       "      <td>...</td>\n",
       "      <td>0</td>\n",
       "      <td>0</td>\n",
       "      <td>0</td>\n",
       "      <td>0</td>\n",
       "      <td>0</td>\n",
       "      <td>0</td>\n",
       "      <td>0</td>\n",
       "      <td>0</td>\n",
       "      <td>0</td>\n",
       "      <td>245</td>\n",
>>>>>>> 7a2d47a39e0e10d2c65274881756452360e18a75
=======
       "      <td>246</td>\n",
>>>>>>> 6cbf756b0fd83319ecbec3bd33cdcef98bfdb39e
       "    </tr>\n",
       "    <tr>\n",
       "      <th>2</th>\n",
       "      <td>1</td>\n",
       "      <td>79</td>\n",
       "    </tr>\n",
       "    <tr>\n",
       "      <th>3</th>\n",
       "      <td>4</td>\n",
       "      <td>113</td>\n",
       "    </tr>\n",
       "    <tr>\n",
       "      <th>4</th>\n",
       "      <td>0</td>\n",
<<<<<<< HEAD
<<<<<<< HEAD
       "      <td>261</td>\n",
=======
       "      <td>0</td>\n",
       "      <td>0</td>\n",
       "      <td>0</td>\n",
       "      <td>0</td>\n",
       "      <td>0</td>\n",
       "      <td>0</td>\n",
       "      <td>0</td>\n",
       "      <td>0</td>\n",
       "      <td>0</td>\n",
       "      <td>...</td>\n",
       "      <td>0</td>\n",
       "      <td>0</td>\n",
       "      <td>0</td>\n",
       "      <td>0</td>\n",
       "      <td>0</td>\n",
       "      <td>0</td>\n",
       "      <td>0</td>\n",
       "      <td>0</td>\n",
       "      <td>0</td>\n",
       "      <td>260</td>\n",
>>>>>>> 7a2d47a39e0e10d2c65274881756452360e18a75
       "    </tr>\n",
       "  </tbody>\n",
       "</table>\n",
       "<p>5 rows × 786 columns</p>\n",
       "</div>"
      ],
      "text/plain": [
<<<<<<< HEAD
       "   label  density\n",
       "0      1       98\n",
       "1      0      246\n",
       "2      1       80\n",
       "3      4      114\n",
       "4      0      261"
      ]
     },
<<<<<<< HEAD
     "execution_count": 48,
=======
     "execution_count": 12,
>>>>>>> a46d565c1fee6fca94c14e5ee6bc4c0d2dce59e9
=======
       "   label  pixel0  pixel1  pixel2  pixel3  pixel4  pixel5  pixel6  pixel7  \\\n",
       "0      1       0       0       0       0       0       0       0       0   \n",
       "1      0       0       0       0       0       0       0       0       0   \n",
       "2      1       0       0       0       0       0       0       0       0   \n",
       "3      4       0       0       0       0       0       0       0       0   \n",
       "4      0       0       0       0       0       0       0       0       0   \n",
       "\n",
       "   pixel8  ...  pixel775  pixel776  pixel777  pixel778  pixel779  pixel780  \\\n",
       "0       0  ...         0         0         0         0         0         0   \n",
       "1       0  ...         0         0         0         0         0         0   \n",
       "2       0  ...         0         0         0         0         0         0   \n",
       "3       0  ...         0         0         0         0         0         0   \n",
       "4       0  ...         0         0         0         0         0         0   \n",
       "\n",
       "   pixel781  pixel782  pixel783  density  \n",
       "0         0         0         0       97  \n",
       "1         0         0         0      245  \n",
       "2         0         0         0       79  \n",
       "3         0         0         0      113  \n",
       "4         0         0         0      260  \n",
       "\n",
       "[5 rows x 786 columns]"
      ]
     },
     "execution_count": 59,
     "metadata": {},
     "output_type": "execute_result"
    }
   ],
   "source": [
    "new_df.head()"
   ]
  },
  {
   "cell_type": "code",
   "execution_count": 60,
   "metadata": {},
   "outputs": [],
   "source": [
    "DF_Label_Density = new_df.iloc[:, [0,-2, -1]]"
   ]
  },
  {
   "cell_type": "code",
   "execution_count": 61,
   "metadata": {},
   "outputs": [
    {
     "data": {
      "text/html": [
       "<div>\n",
       "<style scoped>\n",
       "    .dataframe tbody tr th:only-of-type {\n",
       "        vertical-align: middle;\n",
       "    }\n",
       "\n",
       "    .dataframe tbody tr th {\n",
       "        vertical-align: top;\n",
       "    }\n",
       "\n",
       "    .dataframe thead th {\n",
       "        text-align: right;\n",
       "    }\n",
       "</style>\n",
       "<table border=\"1\" class=\"dataframe\">\n",
       "  <thead>\n",
       "    <tr style=\"text-align: right;\">\n",
       "      <th></th>\n",
       "      <th>label</th>\n",
       "      <th>pixel783</th>\n",
       "      <th>density</th>\n",
       "    </tr>\n",
       "  </thead>\n",
       "  <tbody>\n",
       "    <tr>\n",
       "      <th>0</th>\n",
       "      <td>1</td>\n",
       "      <td>0</td>\n",
       "      <td>97</td>\n",
       "    </tr>\n",
       "    <tr>\n",
       "      <th>1</th>\n",
       "      <td>0</td>\n",
       "      <td>0</td>\n",
       "      <td>245</td>\n",
       "    </tr>\n",
       "    <tr>\n",
       "      <th>2</th>\n",
       "      <td>1</td>\n",
       "      <td>0</td>\n",
       "      <td>79</td>\n",
       "    </tr>\n",
       "    <tr>\n",
       "      <th>3</th>\n",
       "      <td>4</td>\n",
       "      <td>0</td>\n",
       "      <td>113</td>\n",
       "    </tr>\n",
       "    <tr>\n",
       "      <th>4</th>\n",
       "      <td>0</td>\n",
       "      <td>0</td>\n",
       "      <td>260</td>\n",
=======
       "      <td>261</td>\n",
>>>>>>> 6cbf756b0fd83319ecbec3bd33cdcef98bfdb39e
       "    </tr>\n",
       "  </tbody>\n",
       "</table>\n",
       "</div>"
      ],
      "text/plain": [
<<<<<<< HEAD
       "   label  pixel783  density\n",
       "0      1         0       97\n",
       "1      0         0      245\n",
       "2      1         0       79\n",
       "3      4         0      113\n",
       "4      0         0      260"
      ]
     },
     "execution_count": 61,
>>>>>>> 7a2d47a39e0e10d2c65274881756452360e18a75
=======
       "   label  density\n",
<<<<<<< HEAD
       "0      1       98\n",
       "1      0      246\n",
       "2      1       80\n",
       "3      4      114\n",
       "4      0      261"
      ]
     },
<<<<<<< HEAD
     "execution_count": 48,
=======
     "execution_count": 12,
>>>>>>> a46d565c1fee6fca94c14e5ee6bc4c0d2dce59e9
=======
       "0      1       97\n",
       "1      0      245\n",
       "2      1       79\n",
       "3      4      113\n",
       "4      0      260"
      ]
     },
     "execution_count": 77,
>>>>>>> 24b24086360749cf55a7596331efd3e4e1da3be2
>>>>>>> 6cbf756b0fd83319ecbec3bd33cdcef98bfdb39e
     "metadata": {},
     "output_type": "execute_result"
    }
   ],
   "source": [
    "DF_Label_Density.head()"
   ]
  },
  {
   "cell_type": "code",
<<<<<<< HEAD
<<<<<<< HEAD
   "execution_count": 49,
=======
   "execution_count": 13,
>>>>>>> a46d565c1fee6fca94c14e5ee6bc4c0d2dce59e9
=======
<<<<<<< HEAD
   "execution_count": 11,
>>>>>>> 7a2d47a39e0e10d2c65274881756452360e18a75
=======
   "execution_count": 79,
>>>>>>> 24b24086360749cf55a7596331efd3e4e1da3be2
>>>>>>> 6cbf756b0fd83319ecbec3bd33cdcef98bfdb39e
   "metadata": {},
   "outputs": [
    {
     "data": {
      "text/plain": [
<<<<<<< HEAD
<<<<<<< HEAD
       "<matplotlib.axes._subplots.AxesSubplot at 0x1a1655df60>"
      ]
     },
     "execution_count": 49,
=======
       "<matplotlib.axes._subplots.AxesSubplot at 0x1a21db0590>"
      ]
     },
     "execution_count": 13,
>>>>>>> a46d565c1fee6fca94c14e5ee6bc4c0d2dce59e9
=======
<<<<<<< HEAD
       "<matplotlib.axes._subplots.AxesSubplot at 0x1a1a1f0048>"
      ]
     },
     "execution_count": 11,
>>>>>>> 7a2d47a39e0e10d2c65274881756452360e18a75
=======
       "<matplotlib.axes._subplots.AxesSubplot at 0x1a16b35eb8>"
      ]
     },
     "execution_count": 79,
>>>>>>> 24b24086360749cf55a7596331efd3e4e1da3be2
>>>>>>> 6cbf756b0fd83319ecbec3bd33cdcef98bfdb39e
     "metadata": {},
     "output_type": "execute_result"
    },
    {
     "data": {
<<<<<<< HEAD
<<<<<<< HEAD
      "image/png": "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\n",
=======
      "image/png": "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\n",
>>>>>>> a46d565c1fee6fca94c14e5ee6bc4c0d2dce59e9
=======
<<<<<<< HEAD
      "image/png": "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\n",
>>>>>>> 7a2d47a39e0e10d2c65274881756452360e18a75
=======
      "image/png": "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\n",
>>>>>>> 24b24086360749cf55a7596331efd3e4e1da3be2
>>>>>>> 6cbf756b0fd83319ecbec3bd33cdcef98bfdb39e
      "text/plain": [
       "<Figure size 432x288 with 1 Axes>"
      ]
     },
     "metadata": {
      "needs_background": "light"
     },
     "output_type": "display_data"
    }
   ],
   "source": [
    "sns.barplot(x=\"label\", y=\"density\", data=DF_Label_Density, ci=68)"
   ]
  },
  {
   "cell_type": "code",
<<<<<<< HEAD
<<<<<<< HEAD
   "execution_count": null,
   "metadata": {},
   "outputs": [],
=======
   "execution_count": 14,
=======
<<<<<<< HEAD
   "execution_count": 34,
>>>>>>> 7a2d47a39e0e10d2c65274881756452360e18a75
=======
   "execution_count": 80,
>>>>>>> 24b24086360749cf55a7596331efd3e4e1da3be2
>>>>>>> 6cbf756b0fd83319ecbec3bd33cdcef98bfdb39e
   "metadata": {},
   "outputs": [
    {
     "data": {
      "text/plain": [
       "<matplotlib.axes._subplots.AxesSubplot at 0x1a16b3ec18>"
      ]
     },
     "execution_count": 80,
     "metadata": {},
     "output_type": "execute_result"
    },
    {
     "data": {
      "image/png": "iVBORw0KGgoAAAANSUhEUgAAAYUAAAEGCAYAAACKB4k+AAAABHNCSVQICAgIfAhkiAAAAAlwSFlzAAALEgAACxIB0t1+/AAAADh0RVh0U29mdHdhcmUAbWF0cGxvdGxpYiB2ZXJzaW9uMy4xLjAsIGh0dHA6Ly9tYXRwbG90bGliLm9yZy+17YcXAAAgAElEQVR4nO3df3RdZZ3v8fc3aaCkhSltWmgbasC2jI6rFOwUrq4WEILWK6CMcvFenTMOXBgHBC7OjMowQhlwjTqglFnLZRX1MIAKiosADTQwYJkZFQvUWiiWiAEO9EcOUGiptEnzvX/sndOc9iQ9J83+kezPa62s5Nnnx/42TfLdz7Of5/uYuyMiIgJQl3QAIiKSHkoKIiJSoqQgIiIlSgoiIlKipCAiIiXjkg7gQDQ1NXlLS0vSYYiIjCpPPPFE0d2nVnpsVCeFlpYWVq9enXQYIiKjipm9MNhjGj4SEZESJQURESlRUhARkRIlBRERKcl0UigWi3zuc5/j1VdfTToUEZFUyHRSyOfzrF27lnw+n3QoIiKpEFlSMLPxZva4mf3GzJ42s6Xh8R+Y2R/MbE34MT88bma2zMw6zWytmZ0QVWwQ9BLa29txd9rb29VbEBEh2p7CTuAD7n4cMB/4kJmdFD729+4+P/xYEx5bAswJPy4EvhVhbOTzefrLhvf19am3ICJChEnBA9vDZkP4MdTmDWcDt4av+yUwycymRxVfR0cHPT09APT09LBy5cqoTiUiMmpEek/BzOrNbA2wBehw91+FD10fDhF9w8wODo/NBF4a8PJCeGzv97zQzFab2eru7u5hx9ba2kpDQwMADQ0NnHHGGcN+LxGRsSLSpODuu919PtAMLDSz9wBfAv4U+HNgMvCF8OlW6S0qvOdyd1/g7gumTq1YuqMquVwOs+CUdXV15HK5Yb+XiMhYEcvsI3ffCjwKfMjdN4ZDRDuB7wMLw6cVgKMGvKwZeCWqmJqamliyZAlmxpIlS5gyZUpUpxIRGTWinH001cwmhV8fApwOPNt/n8CCy/SPAuvCl7QBfxnOQjoJeMPdN0YVHwS9hXnz5qmXICISirJK6nQgb2b1BMnnTne/z8z+w8ymEgwXrQH+Jnz+CuDDQCewA/hMhLEBQW/h5ptvjvo0IiKjRmRJwd3XAsdXOP6BQZ7vwMVRxSMiIvuX6RXNKnMhIlIu00lBZS5ERMplNimozIWIyL4ymxRU5kJEZF+ZTQoqcyEisq/MJgWVuRAR2Vdmk4LKXIiI7CuzSUFlLkRE9hXliubUy+VydHV1qZcgIhLKdFJQmQsRkXKZHT4SEZF9KSmIiEiJkoKIiJQoKYiISImSggCqGCsiASUFAVQxVkQCSgqiirEiVchKbzrTSSEr/8n7o4qxIvuXld50ppNCVv6T90cVY0WGlqXedGaTQrFY5P7778fdue+++8b0f/L+qGKsyNDy+Tx9fX0A7N69e0xfSGY2KeTzeXp7ewHo7e0d0//J+6OKsTIYDbEGOjo6yv5ejOXedGaTwgMPPFDWbm9vTyiS5KlirAxGQ6yBRYsWlbUXL16cUCTRiywpmNl4M3vczH5jZk+b2dLw+NFm9isze87MfmxmB4XHDw7bneHjLVHFBkEXcKh21px55pk0NjZy1llnJR2KpESWxtH3Z+fOnUO2x5Ioewo7gQ+4+3HAfOBDZnYS8FXgG+4+B3gdOD98/vnA6+4+G/hG+LzI9HcFB2tnzb333suOHTtoa2tLOhRJCc1K2+Oxxx4ra69atSqhSKIXWVLwwPaw2RB+OPAB4Cfh8Tzw0fDrs8M24eOnWf9AdwQaGxuHbGeJrgilEs1K22PvP0UR/mlKXKT3FMys3szWAFuADuD3wFZ3778sLwAzw69nAi8BhI+/AewzuG1mF5rZajNb3d3dPezYDj744LL2+PHjh/1eo52uCKUSzUrb47TTTitrn3766QlFEr1Ik4K773b3+UAzsBB4V6WnhZ8rpV7f54D7cndf4O4Lpk6dOuzYXn/99bL2a6+9Nuz3Gu10RSiVaFbaHhdddBF1dcGfy7q6Oi666KKEI4pOLLOP3H0r8ChwEjDJzPp3fGsGXgm/LgBHAYSP/wmQ3b/UMdIVoVSiWWl7NDU10X8ROnXq1DH9vYhy9tFUM5sUfn0IcDqwHngE+Hj4tBxwT/h1W9gmfPw/vH9MQyK19xVglq8I0yIt6wNyuRzz5s3L/M9EsVhk8+bNAGzevDnx/5coRdlTmA48YmZrgV8DHe5+H/AF4Aoz6yS4Z3BL+PxbgCnh8SuAL0YYmwzQ1NRUusdy8MEHj+mroNEiLesD+vcxz/rPxLJly4ZsjyVRzj5a6+7Hu/s8d3+Pu18bHn/e3Re6+2x3/4S77wyPvx22Z4ePPx9VbFJuw4YNbN8eTBTbvn07nZ2dicSRlqvjpBWLRVasWIG7s2LFisx/P9Lg0UcfLWs/8sgjyQQSg8yuaJY9rrvuurL2tddem0gcabk6TtrAEiw9PT2Z/35IvJQUhK6uriHbcdBaiT1WrlxZmiLs7jz44IMJRyT19fVDtscSJQWhpaVlyHYctFZijyOOOGLItsQvS2VxlBSEq666qqz95S9/OfYYtFZij/5ZLoO1RaI0bv9PGd2WLVtW9Y3TSy+9tKw9e/bsfY6NRXPnzmXixIls376diRMnMnv27NhjaG1t5f7776e3t5dx48Zleq3EGWecQVtbG+6OmfHBD34w6ZAyb/r06WzcuLHUnjFjRoLRREs9BaFYLJaqPu7cuTOR8fxcLlfaxKSvry/T8+JzuVzZYsIsfy/SYu/fiWKxmFAk0RvzPYXBrvQfeuihslk2S5cu5dRTT40rrFTZe/w+n89zxRVXJBSN9K8kbmtr48Mf/nCiawSKxSJLly7lmmuuyfRahSxVVc5sT2FgQav6+vrMJgRIx3h+Pp8vqy2T5RvNkJ6VxJomHOjvxQ7WHksymxQAZs2aBSRzYzVNWltbS4XPzCyR8fwsbXdYjTSsJNYiumzKdFKYPHky8+fPz3QvAYJd1wbOi09i97U0JKY0ScPqbi2iS584fi4ynRQkcNddd5W177zzzthjSENiSpM0DNtoEV36xPFzoaQgPPTQQ2Xtjo6O2GNIQ2JKi2KxyP3334+7c9999yXWW9AiunQZuOo/yuE8JQVJxWrNhx9+uKy9d6LKkoHDNr29vYn1FjZt2jRkW+KVz+fLJoRE9XOhpCCpsPfWGVneSuOBBx4oa7e3tycSx5FHHjlkW+IV13CekoJw1FFHDdmOw0EHHTRkO0vSMide5TbSJa7hPCUF4bLLLitrJ7Fw7Y9//OOQ7SxJw3AesM8MMJXbSFZcw3lKCsJ9991X1m5ra0soEkmTM888s6yd9RlhSWtqahqyPVKUFCRTu0pVY8OGDSxZsiSxHej6V3YP1o7LvffeW9bWxUKyBhbkq9QeKUoKInu57rrreOuttxLbgW7x4sVl7ZNPPjmROPZeVa51CsnqX9w5WHukjPmCeLKHyojv34YNG0o7z3V1ddHZ2Rl7KfGDDz54yHaccQy8tzN+/PhE4pDAcccdxxNPPFFqH3/88ZGcR0lBqKurKyvwldRwRRpU2q/61ltvjTWGVatWlbV//vOfc+WVV8YaA8DWrVvL2q+//nrsMcRtuBdOcVw0PfPMM2XtdevWRXIeJYUMGeyH9vHHH+fv/u7vSu0bbriB9773vZHFUe0vXhK9lTTsV3344YeXXaEffvjhsccg6RPXDL3IkoKZHQXcChwJ9AHL3f0mM7sG+L9Ad/jUK919RfiaLwHnA7uBS91dg5gxWLhwYam30NjYGGlCGMysWbN48cUXy9pJaGlpKUsESexX/corrwzZzpo493TQ/ivR9hR6gc+7+5NmdijwhJn1F9X5hrv/68Anm9m7gfOAPwNmAA+Z2Vx3H7s7ZKdIS0sLzz//PNdff33k5xrsF6//Bmt9fT233XZb5HFUctVVV3HBBReU2lkvq54GA4vAJbX50+mnn15KCnV1dWM2IUCEs4/cfaO7Pxl+vQ1YD8wc4iVnAz9y953u/gegE1gYVXxS7rDDDmP+/PmJ9BL6pWF/i7lz55Z6By0tLYnsVy17DCwC197enmgp8f6fz6uvvjqxGOIQyx1FM2sBjgd+FR66xMzWmtn3zKx/wHQm8NKAlxWokETM7EIzW21mq7u7u/d+WEaxtOxvcckll1BXV7fPSm+JXz6fL02C2L17d6KlxJP++Yxr/UrkN5rNbCLwU+Byd3/TzL4F/DPg4ecbgL8GKk263acqmrsvB5YDLFiwILtV0yQyHR0d9PX18eCDDybac4pLmqcqV9qRL6v7h5944on84he/KLVPOumkSM4TaVIwswaChHC7u98N4O6bBzz+HaC/xkIBGFiJrRnI9h02iV2xWCztJ7Fy5UouuuiiSG9uVvqDXGmKcBIzscysrFptVIulhrJo0aKyRXN7L+zLkueee27I9kiJcvaRAbcA6939xgHHp7t7//rsjwH9k23bgDvM7EaCG81zgMejik+kkm9/+9ulP8h9fX18+9vfjn2NwOzZs9mwYUNZO0rVTlW+8cYbY+857dy5c8h2lhSLxbJ2VMPnUfYU3g98Gvitma0Jj10JfNLM5hMMDXUBFwG4+9NmdifwDMHMpYs180jiVmkXuiiTwmB/kE855RT6+vo4/PDD+e53vxvZ+YeycOHCUm/hkEMOSWQo7bHHHitr772wT0ZeZEnB3f+TyvcJVgzxmuuB6OdEiqTc7Nmz6ezs5IYbbkg0jqOPPprnn3+er3zlK4mcPy1lxLMku/UMRCqYNm1aWTupfYkbGxuZN29e4lNi0zBVWeKlpCAywJYtW8ra2m0sWfX19UO2ZeQpKYgMoOGKdDn99NPL2q2trQlFkh1KCiKSWp/4xCfK2ueee25CkWSHkoLIAHFtZCLVueuuu8rad955Z0KRZIeSgsgAe68Sfd/73pdQJAKVpwhLtJQURAY47LDDytqHHnpoQpEIULayu1JbRp6SgsgAlXY9k+TEVQRO9tB3WGSAvXsGe/ccJF4LF5ZXzz/xxBMTiiQ7lBREBtA6hXRJw/aoWaOkICKptXHjxrJ21rcmjYOSgoiIlCgpiEhq6UZz/CLfeU0kjdK825jssXjxYh599NFS++STT04umIyoKu2a2UfMTClaRGKlTXbiV21P4TzgJjP7KfB9d18fYUyZUiwWWbp0Kddcc02k2z5KucGu9D/60Y/y2muvldpTpkxh2bJlcYUlexm4JzHAf//3fycUSXZUlRTc/VNmdhjwSeD7ZubA94Efuvu2KAOsVi3DAf369zitdShgJIcP8vk8a9euJZ/PZ3ZD8jT52te+xgUXXFBqf/3rX08wGsmqav+eRTG0WfU9BXd/M+wpHAJcTrC/8t+b2TJ3v/mAohgBnZ2dPPXbZ+hrnFz1a2xXsCn5E7/fVPVr6na8tv8nValYLNLe3o67097eTi6XU28hYXPnzmXcuHH09vYyZcqUxDe5Eek3YcIE3nrrrbJ2FKpKCmZ2FvAZ4J3AvwML3X2LmTUC64HEkwJAX+Nk3n73RyI9x/hn7hux98rn87gHiamvr0+9hZQ45phj6OzsVC9BElPpar9YLHLOOeeU2rfddlskF5HV3jz+OPANd5/n7l939y0A7r4D+OsRjyojOjo66OnpAaCnp4eVK1cmHJFAerbCFBmoqamp1DtYsGBBZKMK1SaFje5eVinMzL4K4O4Pj3hUGdHa2kpDQwMADQ0NnHHGGQlHJCJp1tLSwoQJE/jHf/zHyM5RbVKotAfekpEMJItyuVxpExczI5fLJRyRiKRZQ0MDc+bMifTe45D3FMzss8DfAu80s7UDHjoU+K/9vPYo4FbgSKAPWO7uN5nZZODHQAvQBZzr7q9b8NfxJuDDwA7gr9z9yeH8o0aLpqYmZsyYQVdXFzNmzNBNZsm0JGfcyB776yncAZwJ3BN+7v94r7t/aj+v7QU+7+7vAk4CLjazdwNfBB529znAw2Ebgp7HnPDjQuBbtf9zRpdiscjLL78MBIW+Xn311YQjEpGs29/sI3f3LjO7eO8HzGyyuw86P9PdNwIbw6+3mdl6YCZwNnBK+LQ88CjwhfD4rR5Mx/mlmU0ys+nh+4xJ+Xy+9LW7a/aRZFqlq/1vfvOb3H333aX2ueeeyyWXXBJnWJlTTU8B4Algdfj5iQHtqphZC3A88CvgiP4/9OHnaeHTZgIvDXhZITy293tdaGarzWx1d3d3tSGkkmYfiQzt8ssvL2srIURvyKTg7h8JPx/t7seEn/s/jqnmBGY2EfgpcLm7vznUUyuFUCGm5e6+wN0XTJ06tZoQUqu1tbXsRrNmH4nsa/LkYEHqueeem3Ak2VBtQbz3m9mE8OtPmdmNZjaritc1ECSE2929vw+42cymh49PB/q3uioARw14eTMwpnfUOPPMM0uL19yds846K+GIRNJn1qxZzJ8/X72EmFRb5uJbwHFmdhzwD8AtBCubB61jG84mugVY7+43DnioDcgB/xJ+vmfA8UvM7EfAicAbY/l+AsC9996LmeHumBltbW26pyASseHUSYN01EqLQ7VJodfd3czOBm5y91vMbH+T6t8PfBr4rZmtCY9dSZAM7jSz84EXgU+Ej60gmI7aSTAl9TM1/DtGpY6OjrKewsqVK5UURCLW2dnJM888RdPUfUan9yMY6t3SXf1M+WJ3pVHxdKs2KWwzsy8BnwIWm1k90DDUC9z9P6l8nwDgtArPd2CfWU5jWWtrKytWrKCnp2dEVzSP1oqxInFpmuqcc86uyM9z990HRX6OkVZtUvhfwP8Gznf3TeH9hFRVCysUCtTteGNEC9ZVUrfjVQqF3hF5r1wuR3t7e/C+dXUjtqK5s7OTp55+CibV8KK+4NNTLz9V/Wu21hSWiIwC1e6nsAm4cUD7RYLVynIAmpqaWLJkCW1tbSxZsmRkVzRPgr5T+kbu/Sqoe1Sb8YmMNdWWzj4H+CrBmgILP9zdD4swtpo0Nzezeee4WEpnNzcfOWLvl8vl6OrqGnN1j+IcwgINY4mMlGqHj74GnKltOEdeU1MTN9+ciu0oRlRnZyfPrllDLemzv9+xdc2aIZ+3t+q3SBKR/ak2KWxWQpBaHQmcP+hcg5Fzy75rHEVkmKodFF5tZj82s0+a2Tn9H5FGlhHFYpHPfe5zKoYnIqlQbU/hMIK1AwPnTDpwd+WnS7Xy+Txr165VMTyJlBZsSbWqnX005heSJaFYLNLe3o67097eTi6X054KEonOzk5+t249Rx1a2ySJht5gMGHHC69X/ZqXtukuz2hW7eyjuQSlLo5w9/eY2TzgLHe/LtLoxrh8Pk9fXzBtdPfu3eotSKSOOvRIPr8w+uu7Gx7/fuTnkOhUO3z0HeDvgW8DuPtaM7sDUFI4AB0dHfT2Bgvhent7VeZijNL0XBlNqk0Kje7+eH+Z59DILOvNsEWLFvHggw+W2osXL04wGolKZ2cn637zGw49qNpfN+jt3Q3AC+ufrulc23bp11IOTLU/pUUzeyfh/gZm9nHCXdVEZP8OPWgcC484PPLzPL65+rH/rCoUCrz5psVSl6jYbezaWYj8PCOp2impFxMMHf2pmb0MXA78TWRRZcRjjz1W1l61alVCkYiIBIbsKZjZwAHuFcAjBInkLeAvGFAPKQ3qdrxWU0E8ezvYCM7HV1+to27Ha1DTOt3Btba2cs8995TaI1UltVAowBsx1CbaCgUfXVdBIs3NzWzp3hJbldRpU5sjP89I2t/w0aHh52OBPyfYEMcI9klI1WXt7Nmza37Nc89tA2DOO2v5I3/ksM5VyaJFi8qSwsknD7pnkYhILIZMCu6+FMDMVgInuPu2sH0NcFfk0dVgOLMt+l+zbNmykQ6nKjfddFNZ+8Ybb+T2228/4Pdtbm6m27pjqZLaPHN0XQWJyNCqvdE8CxjY19oFtIx4NBnz0ksvDdkezQqFAtuIpy7RRmB7QcNYIiOh2qTw78DjZvYzghlIHwPykUUlIiKJqLbMxfVm1g4sCg99xt1r2KJLsqa5uZmtxWJsVVInNe87jKV6P5JmaV3UWPVqGnd/Eqh+x2qRhHV2dvL0b9czqXFaTa/r2xUkspd/X33l2q07ttR0DpHOzk6eemY9u6ceUfVr6sJVBKu7X6vpXPXdm6t+bvVLLEVGoUmN0zj1T8+L/DyPPPujyM8hY8/uqUfw1l98OvLzTPjpv1f9XCUFkQwoFAq8tW1bLMXqXtq2iQmFtyI/j0QjstVNZvY9M9tiZusGHLvGzF42szXhx4cHPPYlM+s0s9+Z2QejiktERAYXZU/hB8C/Abfudfwb7v6vAw+Y2buB84A/A2YAD5nZXHffHWF8IpnR3NzMjt2vx1Y6u7E5+jpPEo3IkoK7rzKzliqffjbwI3ffCfzBzDqBhcAvIgpPJDaFQoFtu3pjKVa3bVdvUOZEhlTsrr0g3htbgwkIfzKp+rU3xW5j2tSaTpO4JO4pXGJmfwmsBj7v7q8DM4FfDnhOITwmImNIGqZhDrdMzRtbgzimTZ1T9WumTR3++ZISd1L4FvDPBAvg/hm4AfhrqDiZvWI6NrMLgQsBZs2aFU2UIiOoubmZ3dveiK10dnOFNRtp0dnZybp165g4cWLVr+np6QGgq6urpnNt37694vHhriVJuixOXGJNCu5emixrZt8B+kuaFoCjBjy1GXhlkPdYDiwHWLBgQfQ1FEarrTVWSe3//an+dxW2ov6c1GzixImccMIJkZ/nySe1rGo4Yk0KZjbd3fs35/kY0D8zqQ24w8xuJLjRPAd4PM7YxpLhVYwNusZzZlbfNWbm6Osai8jQIksKZvZD4BSgycwKwNXAKWY2n2BoqAu4CMDdnzazO4FnCLb5vFgzj4ZvNFaMFZF0iHL20ScrHL5liOdfD1wfVTwiIrJ/WtEskdlEbaWz+ysNTRnGeSZVOF4oFHhjx7ZYSlBs3bEFL/wx8vPI2FEoFKh/c1tNJSiGq757M4WdO6p6rpKCRGI49xq6w/sak+bUcF+DICHo3obIyFBSiEm187MrzakejeWY03Bfo7m5Gdv5amwF8WY219rHkSxrbm5mU/drsRXEa546uarnKimIZMRL2zbVXBBvy46gRPO0xur+oPSf51hU5mK0UlKISaUr58WLF+9zTLN/JArDHV7rea4IQOM7qv8jfyyHazhvFFNSSNCpp57KI488Umq3trYmGI2MZVrFK9WKrHS27N/SpUvL2v/0T/+UUCQiIgH1FBJ22GGH8eabb6qXMMbVWiV1R2+wdrNxXH3N50mzQqHAtm3bYilBsW3bNlWMHQYlhYQdc8wxgHoJY9mBlB15R43Tc4d7PpF+SgoiEUvD9Ny0aG5upre3N7aCeGmuGJtWSgoiIgmp795c04rmuq3BEGTfpNqm/NZ3bwatUxARSa9hDStuDYrBzKnyD3zJ1MlVn09JQca0rTu21Fz7aPvbwdXYxPHVX41t3bGFmTVXbZIsS+uwopKCjFnDveH63HPBKt6Z76z+j/xMpugGr4wJSgoyZmnBlkjttHhNRERKlBRERKREw0ciEqvt27fXtKJ5x45gc5jGxsaazyO1U1IQkdgcyOrulpaWWM6XdUoKIhKbtE7DlD10T0FEREqUFEREpERJQURESiJLCmb2PTPbYmbrBhybbGYdZvZc+Pnw8LiZ2TIz6zSztWYWfQlFERHZR5Q3mn8A/Btw64BjXwQedvd/MbMvhu0vAEuAOeHHicC3ws8HbNmyZXR2dlZ8rH9Ww2A3v2bPnj3sVbEiIqNRZD0Fd18FvLbX4bOBfPh1HvjogOO3euCXwCQzmx5VbP0OPvhgdu7cSU9PT9SnEhEZFeKeknqEu28EcPeNZjYtPD4TeGnA8wrhsY17v4GZXQhcCDBr1qz9nnCoK/0bbriBtrY25syZwxVXXFHtv0FEZMxKyzoFq3DMKz3R3ZcDywEWLFhQ8TnVKBaLtLe34+60t7eTy+WYMuXASh8PNVQ1mP0NYQ1Fw1siMtLiTgqbzWx62EuYDmwJjxeAowY8rxl4JcpA8vk8fX19AOzevZt8Pn/AvYXOzk42rHuSWRN3V/2ag3qCEby3u35d07le3F7bhu4iItWIOym0ATngX8LP9ww4fomZ/YjgBvMb/cNMUeno6KC3txeA3t5eVq5cOSJDSLMm7uaqBdHXXLlu9cTIzyEi2RPllNQfAr8AjjWzgpmdT5AMWs3sOaA1bAOsAJ4HOoHvAH8bVVz9Fi1aVNZevHhx1KcUEUm9yHoK7v7JQR46rcJzHbg4qlhERKQ6abnRHLvHHnusrL1q1SquvPLKhKIRkTQYarLI7373O3bu3MlnP/tZGhoayh4bS5M+MlvmorW1lXHjgpw4btw4zjjjjIQjEpE06+vro6+vj02bNiUdSqQy21PI5XK0t7cDUF9fTy6XSzgiEUnaYFf7xWKR8847Dwg277n66qsPeAp7WmU2KTQ1NbFkyRLa2tpYsmTJiPwHFwoF3tpWH8vMoBe21TOhUIj8PCISTGEPbn0GPYaRmMKeVpkdPoKgtzBv3jz1EkRkSB0dHaVyOD09PaxcuTLhiKKT2Z4CBL2Fm2++ecTer7m5mbd7N8a2TmF8c3NNrxnqJtqzzz7L22+/zQUXXFBxL9yxdCNNpFatra2sWLGCnp4eGhoaxvQ9yEwnBdlj165dALzwwgu8613vSjgaiZMqCe/fwHuQdXV1Y3p0QUkhQwb75d2wYQMXXHABADt37uTSSy/VhucCwCGHHJJ0CKkQxT3ItFJSEK677rqy9rXXXsutt946yLNlrMnClf5IyOVydHV1xdJLGKz3FkfPTUlB6OrqGrItIiN/D3I44ui5KSkILS0tZYmgpaUl0vMNdhU01IpRyM74tUiSP+dKCiPsxe21rVPYvCOYFXxEY1/N55lb0ysGd9VVV5XuKQB8+ctfHqF3rs3u3bvp6+ujUChw9NFHJxKDSNYpKYyg4dyc3RWOEY5vmVPT6+YO83wV32vu3FJvoaWlJfKbzJWugorFIueccw4Ab7zxxpheMSqSZkoKI2g4Xb7+1yxbtmykw6nJVVddxWWXXZZYLw2RzqAAAAgYSURBVGHvf/+yZctYunRpIrGIZJmSggBBb6F/HnYSHn300bL2I488oqSQAsVikaVLl3LNNddE3nNLcsaN7KGkIJmkBVvVyefzrF27NtFaP1orES8lBZG9xPlHKM1Xx8Vikfb2dtyd9vZ2crlcpL2FrCTatFNSkFSYMWMGr7zySlk7Smn/A5SGq+MsVQaVPZQUJBWuvfbasmmxe6+yHqvSnJwqVQZVUhj7Ml06W9Jj7ty5pd7BjBkzVHspBVpbW0uLCMd6ZVDZQ0lBUuPaa69lwoQJmeklpF0ul8PMgLFfGVT2UFKQ1OifFqteQjr0VwY1szFfGVT2SOSegpl1AduA3UCvuy8ws8nAj4EWoAs4191fTyI+EQnEWRlU0iHJnsKp7j7f3ReE7S8CD7v7HODhsC0iCeqvDKpeQnakafjobCAffp0HPppgLCIimZRUUnBgpZk9YWYXhseOcPeNAOHnaZVeaGYXmtlqM1vd3d0dU7giItmQ1DqF97v7K2Y2Degws2erfaG7LweWAyxYsMCjClBEJIsS6Sm4+yvh5y3Az4CFwGYzmw4Qft6SRGwiIlkWe1Iwswlmdmj/18AZwDqgDeif4pAD7ok7NhGRrEti+OgI4GfhophxwB3u/oCZ/Rq408zOB14EPpFAbCIimRZ7UnD354HjKhx/FTgt7nhERGSPNE1JFRGRhCkpiIhIiZKCiIiUaD+FmKR5hy0RkX5KCglLww5bIiL9lBRioqt9ERkNdE9BRERKlBRERKRESUFEREqUFEREpERJQURESpQURESkRElBRERKlBRERKTE3EfvjpZm1g28cIBv0wQURyCc0R4DpCOONMQA6YgjDTFAOuJIQwyQjjhGIoZ3uPvUSg+M6qQwEsxstbsvyHoMaYkjDTGkJY40xJCWONIQQ1riiDoGDR+JiEiJkoKIiJQoKcDypAMgHTFAOuJIQwyQjjjSEAOkI440xADpiCPSGDJ/T0FERPZQT0FEREqUFEREpCSzScHMPmRmvzOzTjP7YkIxfM/MtpjZuiTOH8ZwlJk9YmbrzexpM7ssoTjGm9njZvabMI6lScQRxlJvZk+Z2X0JxtBlZr81szVmtjqhGCaZ2U/M7Nnw5+N/JBDDseH3oP/jTTO7PIE4/l/4c7nOzH5oZuPjjiGM47Iwhqcj+z64e+Y+gHrg98AxwEHAb4B3JxDHYuAEYF2C34vpwAnh14cCGxL6XhgwMfy6AfgVcFJC35MrgDuA+xL8f+kCmpI6fxhDHrgg/PogYFLC8dQDmwgWXsV53pnAH4BDwvadwF8l8O9/D7AOaCTYNfMhYM5InyerPYWFQKe7P+/uu4AfAWfHHYS7rwJei/u8e8Ww0d2fDL/eBqwn+CWIOw539+1hsyH8iH0WhJk1A/8T+G7c504TMzuM4KLlFgB33+XuW5ONitOA37v7gVYxGI5xwCFmNo7gj/IrCcTwLuCX7r7D3XuBnwMfG+mTZDUpzAReGtAukMAfwrQxsxbgeIKr9CTOX29ma4AtQIe7JxHHN4F/APoSOPdADqw0syfM7MIEzn8M0A18PxxK+66ZTUggjoHOA34Y90nd/WXgX4EXgY3AG+6+Mu44CHoJi81sipk1Ah8Gjhrpk2Q1KViFY5mem2tmE4GfApe7+5tJxODuu919PtAMLDSz98R5fjP7CLDF3Z+I87yDeL+7nwAsAS42s8Uxn38cwdDmt9z9eOAtIJF7bwBmdhBwFnBXAuc+nGAk4WhgBjDBzD4Vdxzuvh74KtABPEAw7N070ufJalIoUJ5hm0mmO5gKZtZAkBBud/e7k44nHKZ4FPhQzKd+P3CWmXURDCl+wMxuizkGANz9lfDzFuBnBEOecSoAhQG9tZ8QJImkLAGedPfNCZz7dOAP7t7t7j3A3cD7EogDd7/F3U9w98UEQ8/PjfQ5spoUfg3MMbOjwyuQ84C2hGNKhJkZwbjxene/McE4pprZpPDrQwh+EZ+NMwZ3/5K7N7t7C8HPxH+4e+xXhGY2wcwO7f8aOINg6CA27r4JeMnMjg0PnQY8E2cMe/kkCQwdhV4ETjKzxvD35TSCe2+xM7Np4edZwDlE8D0ZN9JvOBq4e6+ZXQI8SDCj4Xvu/nTccZjZD4FTgCYzKwBXu/stMYfxfuDTwG/D8XyAK919RcxxTAfyZlZPcLFyp7snNiU0YUcAPwv+/jAOuMPdH0ggjs8Bt4cXTs8Dn0kgBsLx81bgoiTO7+6/MrOfAE8SDNc8RXLlLn5qZlOAHuBid399pE+gMhciIlKS1eEjERGpQElBRERKlBRERKRESUFEREqUFEREpERJQaRKZrZ9P4+31Frx1sx+YGYfP7DIREaOkoKIiJQoKYjUyMwmmtnDZvZkuOfBwAq748wsb2Zrw70IGsPXvNfMfh4WuHvQzKYnFL7IkJQURGr3NvCxsGDdqcANYfkDgGOB5e4+D3gT+NuwttTNwMfd/b3A94DrE4hbZL8yWeZC5AAZ8JWwcmkfQdn1I8LHXnL3/wq/vg24lKCi5XuAjjB31BOUYBZJHSUFkdr9H2Aq8F537wmrqvZvz7h33RgnSCJPu3vs21mK1ErDRyK1+xOCfRd6zOxU4B0DHps1YC/jTwL/CfwOmNp/3MwazOzPYo1YpEpKCiK1ux1YYGarCXoNA0t8rwdyZrYWmEywSc0u4OPAV83sN8AaEqrHL7I/qpIqIiIl6imIiEiJkoKIiJQoKYiISImSgoiIlCgpiIhIiZKCiIiUKCmIiEjJ/wfGvvvzV5XdOwAAAABJRU5ErkJggg==\n",
      "text/plain": [
       "<Figure size 432x288 with 1 Axes>"
      ]
     },
     "metadata": {
      "needs_background": "light"
     },
     "output_type": "display_data"
    }
   ],
>>>>>>> a46d565c1fee6fca94c14e5ee6bc4c0d2dce59e9
   "source": [
    "sns.boxplot(x=\"label\", y=\"density\", data=DF_Label_Density)"
   ]
  },
  {
<<<<<<< HEAD
   "cell_type": "code",
<<<<<<< HEAD
<<<<<<< HEAD
=======
>>>>>>> 6cbf756b0fd83319ecbec3bd33cdcef98bfdb39e
<<<<<<< HEAD
   "execution_count": null,
   "metadata": {},
   "outputs": [],
=======
   "execution_count": 15,
<<<<<<< HEAD
=======
   "execution_count": 250,
>>>>>>> 7a2d47a39e0e10d2c65274881756452360e18a75
=======
>>>>>>> 6cbf756b0fd83319ecbec3bd33cdcef98bfdb39e
   "metadata": {},
   "outputs": [
    {
     "data": {
      "text/plain": [
       "<matplotlib.axes._subplots.AxesSubplot at 0x1a335aad90>"
      ]
     },
     "execution_count": 15,
     "metadata": {},
     "output_type": "execute_result"
    },
    {
     "data": {
      "image/png": "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\n",
      "text/plain": [
       "<Figure size 432x288 with 1 Axes>"
      ]
     },
     "metadata": {
      "needs_background": "light"
     },
     "output_type": "display_data"
    }
   ],
>>>>>>> a46d565c1fee6fca94c14e5ee6bc4c0d2dce59e9
=======
   "cell_type": "markdown",
   "metadata": {},
>>>>>>> 24b24086360749cf55a7596331efd3e4e1da3be2
   "source": [
    "### 2.2 Mean diviation and standart diviation"
   ]
  },
  {
   "cell_type": "code",
<<<<<<< HEAD
<<<<<<< HEAD
   "execution_count": 50,
=======
   "execution_count": 16,
>>>>>>> a46d565c1fee6fca94c14e5ee6bc4c0d2dce59e9
<<<<<<< HEAD
   "metadata": {},
   "outputs": [
    {
     "data": {
      "text/plain": [
       "144.25143266475644"
      ]
     },
<<<<<<< HEAD
     "execution_count": 50,
=======
     "execution_count": 16,
>>>>>>> a46d565c1fee6fca94c14e5ee6bc4c0d2dce59e9
     "metadata": {},
     "output_type": "execute_result"
=======
   "execution_count": 290,
=======
>>>>>>> 6cbf756b0fd83319ecbec3bd33cdcef98bfdb39e
   "metadata": {},
   "outputs": [
    {
     "data": {
      "text/plain": [
       "144.25143266475644"
      ]
     },
<<<<<<< HEAD
     "execution_count": 50,
=======
     "execution_count": 16,
>>>>>>> a46d565c1fee6fca94c14e5ee6bc4c0d2dce59e9
     "metadata": {},
     "output_type": "execute_result"
=======
   "execution_count": 81,
   "metadata": {},
   "outputs": [
    {
     "name": "stdout",
     "output_type": "stream",
     "text": [
      "Label: 0, Mean diviation : 191.74, Standartd diviation : 33.70\n",
      "Label: 1, Mean diviation : 85.73, Standartd diviation : 20.01\n",
      "Label: 2, Mean diviation : 168.97, Standartd diviation : 33.06\n",
      "Label: 3, Mean diviation : 163.52, Standartd diviation : 33.64\n",
      "Label: 4, Mean diviation : 141.50, Standartd diviation : 27.92\n",
      "Label: 5, Mean diviation : 152.76, Standartd diviation : 33.77\n",
      "Label: 6, Mean diviation : 158.21, Standartd diviation : 32.66\n",
      "Label: 7, Mean diviation : 131.42, Standartd diviation : 27.03\n",
      "Label: 8, Mean diviation : 173.97, Standartd diviation : 32.84\n",
      "Label: 9, Mean diviation : 143.25, Standartd diviation : 28.54\n"
     ]
<<<<<<< HEAD
>>>>>>> 7a2d47a39e0e10d2c65274881756452360e18a75
=======
>>>>>>> 24b24086360749cf55a7596331efd3e4e1da3be2
>>>>>>> 6cbf756b0fd83319ecbec3bd33cdcef98bfdb39e
    }
   ],
   "source": [
    "for i in range(10):\n",
    "    DF_Label_Density = newDF.iloc[:, [0,-2, -1]]\n",
    "    digit_density = DF_Label_Density['density'][DF_Label_Density['label'] == i]\n",
    "    text = \"Label: {}, Mean diviation : {:0.2f}, Standartd diviation : {:0.2f}\" \n",
    "    print(text.format(i, digit_density.mean(), digit_density.std()))"
   ]
  },
  {
   "cell_type": "code",
<<<<<<< HEAD
<<<<<<< HEAD
   "execution_count": 51,
=======
   "execution_count": 17,
>>>>>>> a46d565c1fee6fca94c14e5ee6bc4c0d2dce59e9
=======
<<<<<<< HEAD
   "execution_count": 56,
>>>>>>> 7a2d47a39e0e10d2c65274881756452360e18a75
=======
   "execution_count": 82,
>>>>>>> 24b24086360749cf55a7596331efd3e4e1da3be2
>>>>>>> 6cbf756b0fd83319ecbec3bd33cdcef98bfdb39e
   "metadata": {},
   "outputs": [],
   "source": [
    "def density_analyse(data):\n",
    "    mean_diff = []\n",
    "    for i in range(0, 10):\n",
    "        for j in range(0, 10):\n",
    "            if j != i:\n",
    "                mean_dense_i = DF_Label_Density['density'][DF_Label_Density['label'] == i].mean()\n",
    "                mean_dense_j = DF_Label_Density['density'][DF_Label_Density['label'] == j].mean()\n",
    "                mean_difference = abs(mean_dense_i - mean_dense_j)\n",
    "                mean_diff.append([mean_difference, j, i])\n",
    "    \n",
    "    data_frame = pd.DataFrame(mean_diff, columns=[\"dens_diff\", \"label_x\", \"label_y\"])\n",
    "    sorted_df = data_frame.sort_values(by='dens_diff')\n",
    "                \n",
    "    return sorted_df.iloc[::2], np.array(sorted_df.iloc[1:2]).reshape(3), np.array(sorted_df.iloc[-2:-1]).reshape(3) "
   ]
  },
  {
   "cell_type": "code",
<<<<<<< HEAD
<<<<<<< HEAD
   "execution_count": 52,
=======
   "execution_count": 18,
>>>>>>> a46d565c1fee6fca94c14e5ee6bc4c0d2dce59e9
=======
<<<<<<< HEAD
   "execution_count": 57,
>>>>>>> 7a2d47a39e0e10d2c65274881756452360e18a75
=======
   "execution_count": 83,
>>>>>>> 24b24086360749cf55a7596331efd3e4e1da3be2
>>>>>>> 6cbf756b0fd83319ecbec3bd33cdcef98bfdb39e
   "metadata": {
    "scrolled": true
   },
   "outputs": [
    {
     "name": "stdout",
     "output_type": "stream",
     "text": [
<<<<<<< HEAD
      "Max mean density difference 106 between 0 and 1\n",
      "Min mean density difference 2 between 4 and 9\n"
=======
      "Max mean density difference 106.01 between 0 and 1\n",
      "Min mean density difference 1.75 between 4 and 9\n"
<<<<<<< HEAD
>>>>>>> 7a2d47a39e0e10d2c65274881756452360e18a75
=======
>>>>>>> 24b24086360749cf55a7596331efd3e4e1da3be2
>>>>>>> 6cbf756b0fd83319ecbec3bd33cdcef98bfdb39e
     ]
    }
   ],
   "source": [
    "mean_diff, min_diff, max_diff = density_analyse(DF_Label_Density)\n",
    "\n",
    "print(\"Max mean density difference {:0.2f} between {} and {}\".format(max_diff[0], int(max_diff[1]), int(max_diff[2])))\n",
    "print(\"Min mean density difference {:0.2f} between {} and {}\".format(min_diff[0], int(min_diff[1]), int(min_diff[2])))\n"
   ]
  },
  {
<<<<<<< HEAD
   "cell_type": "code",
<<<<<<< HEAD
<<<<<<< HEAD
   "execution_count": 53,
=======
   "execution_count": 19,
>>>>>>> a46d565c1fee6fca94c14e5ee6bc4c0d2dce59e9
   "metadata": {},
=======
   "execution_count": 16,
   "metadata": {
    "scrolled": true
   },
>>>>>>> 7a2d47a39e0e10d2c65274881756452360e18a75
   "outputs": [
    {
     "data": {
      "text/html": [
       "<div>\n",
       "<style scoped>\n",
       "    .dataframe tbody tr th:only-of-type {\n",
       "        vertical-align: middle;\n",
       "    }\n",
       "\n",
       "    .dataframe tbody tr th {\n",
       "        vertical-align: top;\n",
       "    }\n",
       "\n",
       "    .dataframe thead th {\n",
       "        text-align: right;\n",
       "    }\n",
       "</style>\n",
       "<table border=\"1\" class=\"dataframe\">\n",
       "  <thead>\n",
       "    <tr style=\"text-align: right;\">\n",
       "      <th></th>\n",
       "      <th>dens_diff</th>\n",
       "      <th>label_x</th>\n",
       "      <th>label_y</th>\n",
       "    </tr>\n",
       "  </thead>\n",
       "  <tbody>\n",
       "    <tr>\n",
       "      <th>44</th>\n",
       "      <td>1.751924</td>\n",
       "      <td>9</td>\n",
       "      <td>4</td>\n",
       "    </tr>\n",
       "    <tr>\n",
       "      <th>25</th>\n",
       "      <td>5.005499</td>\n",
       "      <td>8</td>\n",
       "      <td>2</td>\n",
       "    </tr>\n",
       "    <tr>\n",
       "      <th>32</th>\n",
       "      <td>5.309825</td>\n",
       "      <td>6</td>\n",
       "      <td>3</td>\n",
       "    </tr>\n",
       "    <tr>\n",
       "      <th>29</th>\n",
       "      <td>5.448039</td>\n",
       "      <td>2</td>\n",
       "      <td>3</td>\n",
       "    </tr>\n",
       "    <tr>\n",
       "      <th>50</th>\n",
       "      <td>5.454588</td>\n",
       "      <td>6</td>\n",
       "      <td>5</td>\n",
       "    </tr>\n",
<<<<<<< HEAD
       "    <tr>\n",
       "      <th>86</th>\n",
       "      <td>9.504035</td>\n",
       "      <td>5</td>\n",
       "      <td>9</td>\n",
       "    </tr>\n",
       "    <tr>\n",
       "      <th>67</th>\n",
       "      <td>10.078468</td>\n",
       "      <td>4</td>\n",
       "      <td>7</td>\n",
       "    </tr>\n",
       "    <tr>\n",
       "      <th>34</th>\n",
       "      <td>10.453538</td>\n",
       "      <td>8</td>\n",
       "      <td>3</td>\n",
       "    </tr>\n",
       "    <tr>\n",
       "      <th>23</th>\n",
       "      <td>10.757864</td>\n",
       "      <td>6</td>\n",
       "      <td>2</td>\n",
       "    </tr>\n",
       "    <tr>\n",
       "      <th>48</th>\n",
       "      <td>10.764413</td>\n",
       "      <td>3</td>\n",
       "      <td>5</td>\n",
       "    </tr>\n",
       "    <tr>\n",
       "      <th>49</th>\n",
       "      <td>11.255959</td>\n",
       "      <td>4</td>\n",
       "      <td>5</td>\n",
       "    </tr>\n",
       "    <tr>\n",
       "      <th>88</th>\n",
       "      <td>11.830392</td>\n",
       "      <td>7</td>\n",
       "      <td>9</td>\n",
       "    </tr>\n",
       "    <tr>\n",
       "      <th>62</th>\n",
       "      <td>14.958623</td>\n",
       "      <td>9</td>\n",
       "      <td>6</td>\n",
       "    </tr>\n",
       "    <tr>\n",
       "      <th>78</th>\n",
       "      <td>15.763363</td>\n",
       "      <td>6</td>\n",
       "      <td>8</td>\n",
       "    </tr>\n",
       "    <tr>\n",
       "      <th>47</th>\n",
       "      <td>16.212452</td>\n",
       "      <td>2</td>\n",
       "      <td>5</td>\n",
       "    </tr>\n",
       "    <tr>\n",
       "      <th>41</th>\n",
       "      <td>16.710547</td>\n",
       "      <td>6</td>\n",
       "      <td>4</td>\n",
       "    </tr>\n",
       "    <tr>\n",
       "      <th>72</th>\n",
       "      <td>17.769563</td>\n",
       "      <td>0</td>\n",
       "      <td>8</td>\n",
       "    </tr>\n",
       "    <tr>\n",
       "      <th>84</th>\n",
       "      <td>20.268448</td>\n",
       "      <td>3</td>\n",
       "      <td>9</td>\n",
       "    </tr>\n",
       "    <tr>\n",
       "      <th>52</th>\n",
       "      <td>21.217951</td>\n",
       "      <td>8</td>\n",
       "      <td>5</td>\n",
       "    </tr>\n",
       "    <tr>\n",
       "      <th>51</th>\n",
       "      <td>21.334427</td>\n",
       "      <td>7</td>\n",
       "      <td>5</td>\n",
       "    </tr>\n",
       "    <tr>\n",
       "      <th>30</th>\n",
       "      <td>22.020372</td>\n",
       "      <td>4</td>\n",
       "      <td>3</td>\n",
       "    </tr>\n",
       "    <tr>\n",
       "      <th>18</th>\n",
       "      <td>22.775062</td>\n",
       "      <td>0</td>\n",
       "      <td>2</td>\n",
       "    </tr>\n",
       "    <tr>\n",
       "      <th>83</th>\n",
       "      <td>25.716487</td>\n",
       "      <td>2</td>\n",
       "      <td>9</td>\n",
       "    </tr>\n",
       "    <tr>\n",
       "      <th>69</th>\n",
       "      <td>26.789015</td>\n",
       "      <td>6</td>\n",
       "      <td>7</td>\n",
       "    </tr>\n",
       "    <tr>\n",
       "      <th>38</th>\n",
       "      <td>27.468411</td>\n",
       "      <td>2</td>\n",
       "      <td>4</td>\n",
       "    </tr>\n",
       "    <tr>\n",
       "      <th>27</th>\n",
       "      <td>28.223101</td>\n",
       "      <td>0</td>\n",
       "      <td>3</td>\n",
       "    </tr>\n",
       "    <tr>\n",
       "      <th>80</th>\n",
       "      <td>30.721986</td>\n",
       "      <td>9</td>\n",
       "      <td>8</td>\n",
       "    </tr>\n",
       "    <tr>\n",
       "      <th>33</th>\n",
       "      <td>32.098840</td>\n",
       "      <td>7</td>\n",
       "      <td>3</td>\n",
       "    </tr>\n",
       "    <tr>\n",
       "      <th>43</th>\n",
       "      <td>32.473910</td>\n",
       "      <td>8</td>\n",
       "      <td>4</td>\n",
       "    </tr>\n",
       "    <tr>\n",
       "      <th>54</th>\n",
       "      <td>33.532926</td>\n",
       "      <td>0</td>\n",
       "      <td>6</td>\n",
       "    </tr>\n",
       "    <tr>\n",
       "      <th>24</th>\n",
       "      <td>37.546879</td>\n",
       "      <td>7</td>\n",
       "      <td>2</td>\n",
       "    </tr>\n",
       "    <tr>\n",
       "      <th>4</th>\n",
       "      <td>38.987514</td>\n",
       "      <td>5</td>\n",
       "      <td>0</td>\n",
       "    </tr>\n",
       "    <tr>\n",
       "      <th>79</th>\n",
       "      <td>42.552378</td>\n",
       "      <td>7</td>\n",
       "      <td>8</td>\n",
       "    </tr>\n",
       "    <tr>\n",
       "      <th>15</th>\n",
       "      <td>45.688974</td>\n",
       "      <td>7</td>\n",
       "      <td>1</td>\n",
       "    </tr>\n",
       "    <tr>\n",
       "      <th>81</th>\n",
       "      <td>48.491549</td>\n",
       "      <td>0</td>\n",
       "      <td>9</td>\n",
       "    </tr>\n",
       "    <tr>\n",
       "      <th>3</th>\n",
       "      <td>50.243473</td>\n",
       "      <td>4</td>\n",
       "      <td>0</td>\n",
       "    </tr>\n",
       "    <tr>\n",
       "      <th>12</th>\n",
       "      <td>55.767442</td>\n",
       "      <td>4</td>\n",
       "      <td>1</td>\n",
       "    </tr>\n",
       "    <tr>\n",
       "      <th>17</th>\n",
       "      <td>57.519366</td>\n",
       "      <td>9</td>\n",
       "      <td>1</td>\n",
       "    </tr>\n",
       "    <tr>\n",
       "      <th>6</th>\n",
       "      <td>60.321941</td>\n",
       "      <td>7</td>\n",
       "      <td>0</td>\n",
       "    </tr>\n",
       "    <tr>\n",
       "      <th>13</th>\n",
       "      <td>67.023401</td>\n",
       "      <td>5</td>\n",
       "      <td>1</td>\n",
       "    </tr>\n",
       "    <tr>\n",
       "      <th>55</th>\n",
       "      <td>72.477989</td>\n",
       "      <td>1</td>\n",
       "      <td>6</td>\n",
       "    </tr>\n",
       "    <tr>\n",
       "      <th>11</th>\n",
       "      <td>77.787814</td>\n",
       "      <td>3</td>\n",
       "      <td>1</td>\n",
       "    </tr>\n",
       "    <tr>\n",
       "      <th>19</th>\n",
       "      <td>83.235853</td>\n",
       "      <td>1</td>\n",
       "      <td>2</td>\n",
       "    </tr>\n",
       "    <tr>\n",
       "      <th>73</th>\n",
       "      <td>88.241352</td>\n",
       "      <td>1</td>\n",
       "      <td>8</td>\n",
       "    </tr>\n",
       "    <tr>\n",
       "      <th>9</th>\n",
       "      <td>106.010915</td>\n",
       "      <td>0</td>\n",
       "      <td>1</td>\n",
       "    </tr>\n",
=======
>>>>>>> 7a2d47a39e0e10d2c65274881756452360e18a75
       "  </tbody>\n",
       "</table>\n",
       "</div>"
      ],
      "text/plain": [
<<<<<<< HEAD
       "     dens_diff  label_x  label_y\n",
       "44    1.751924        9        4\n",
       "25    5.005499        8        2\n",
       "32    5.309825        6        3\n",
       "29    5.448039        2        3\n",
       "50    5.454588        6        5\n",
       "86    9.504035        5        9\n",
       "67   10.078468        4        7\n",
       "34   10.453538        8        3\n",
       "23   10.757864        6        2\n",
       "48   10.764413        3        5\n",
       "49   11.255959        4        5\n",
       "88   11.830392        7        9\n",
       "62   14.958623        9        6\n",
       "78   15.763363        6        8\n",
       "47   16.212452        2        5\n",
       "41   16.710547        6        4\n",
       "72   17.769563        0        8\n",
       "84   20.268448        3        9\n",
       "52   21.217951        8        5\n",
       "51   21.334427        7        5\n",
       "30   22.020372        4        3\n",
       "18   22.775062        0        2\n",
       "83   25.716487        2        9\n",
       "69   26.789015        6        7\n",
       "38   27.468411        2        4\n",
       "27   28.223101        0        3\n",
       "80   30.721986        9        8\n",
       "33   32.098840        7        3\n",
       "43   32.473910        8        4\n",
       "54   33.532926        0        6\n",
       "24   37.546879        7        2\n",
       "4    38.987514        5        0\n",
       "79   42.552378        7        8\n",
       "15   45.688974        7        1\n",
       "81   48.491549        0        9\n",
       "3    50.243473        4        0\n",
       "12   55.767442        4        1\n",
       "17   57.519366        9        1\n",
       "6    60.321941        7        0\n",
       "13   67.023401        5        1\n",
       "55   72.477989        1        6\n",
       "11   77.787814        3        1\n",
       "19   83.235853        1        2\n",
       "73   88.241352        1        8\n",
       "9   106.010915        0        1"
      ]
     },
<<<<<<< HEAD
     "execution_count": 53,
=======
     "execution_count": 19,
>>>>>>> a46d565c1fee6fca94c14e5ee6bc4c0d2dce59e9
=======
       "    dens_diff  label_x  label_y\n",
       "44   1.751924        9        4\n",
       "25   5.005499        8        2\n",
       "32   5.309825        6        3\n",
       "29   5.448039        2        3\n",
       "50   5.454588        6        5"
      ]
     },
     "execution_count": 16,
>>>>>>> 7a2d47a39e0e10d2c65274881756452360e18a75
     "metadata": {},
     "output_type": "execute_result"
    }
   ],
   "source": [
    "mean_diff.head()"
   ]
  },
  {
=======
>>>>>>> 6cbf756b0fd83319ecbec3bd33cdcef98bfdb39e
   "cell_type": "markdown",
   "metadata": {},
   "source": [
    "### 2.3 Logistic Regression with Density feature only"
   ]
  },
  {
   "cell_type": "code",
<<<<<<< HEAD
<<<<<<< HEAD
<<<<<<< HEAD
   "execution_count": 57,
=======
   "execution_count": 21,
>>>>>>> a46d565c1fee6fca94c14e5ee6bc4c0d2dce59e9
=======
   "execution_count": 71,
>>>>>>> 7a2d47a39e0e10d2c65274881756452360e18a75
=======
   "execution_count": 84,
>>>>>>> 6cbf756b0fd83319ecbec3bd33cdcef98bfdb39e
   "metadata": {},
   "outputs": [],
   "source": [
    "from sklearn.linear_model import LogisticRegression\n",
    "from sklearn.model_selection import train_test_split, cross_val_score, cross_val_predict\n",
    "from sklearn.metrics import accuracy_score, confusion_matrix\n",
    "from sklearn.preprocessing import scale\n",
    "from sklearn.utils.multiclass import unique_labels\n",
    "import warnings\n",
    "warnings.filterwarnings('ignore')"
<<<<<<< HEAD
   ]
  },
  {
   "cell_type": "code",
<<<<<<< HEAD
<<<<<<< HEAD
   "execution_count": 82,
   "metadata": {
    "scrolled": true
   },
   "outputs": [
    {
     "ename": "NameError",
     "evalue": "name 'DF_Label_Density' is not defined",
     "output_type": "error",
     "traceback": [
      "\u001b[0;31m---------------------------------------------------------------------------\u001b[0m",
      "\u001b[0;31mNameError\u001b[0m                                 Traceback (most recent call last)",
      "\u001b[0;32m<ipython-input-82-0a217567c813>\u001b[0m in \u001b[0;36m<module>\u001b[0;34m\u001b[0m\n\u001b[1;32m      1\u001b[0m \u001b[0mLR\u001b[0m \u001b[0;34m=\u001b[0m \u001b[0mLogisticRegression\u001b[0m\u001b[0;34m(\u001b[0m\u001b[0;34m)\u001b[0m\u001b[0;34m\u001b[0m\u001b[0;34m\u001b[0m\u001b[0m\n\u001b[1;32m      2\u001b[0m \u001b[0;34m\u001b[0m\u001b[0m\n\u001b[0;32m----> 3\u001b[0;31m \u001b[0mX\u001b[0m \u001b[0;34m=\u001b[0m \u001b[0mnp\u001b[0m\u001b[0;34m.\u001b[0m\u001b[0marray\u001b[0m\u001b[0;34m(\u001b[0m\u001b[0mDF_Label_Density\u001b[0m\u001b[0;34m[\u001b[0m\u001b[0;34m\"density\"\u001b[0m\u001b[0;34m]\u001b[0m\u001b[0;34m)\u001b[0m\u001b[0;34m.\u001b[0m\u001b[0mreshape\u001b[0m\u001b[0;34m(\u001b[0m\u001b[0;34m-\u001b[0m\u001b[0;36m1\u001b[0m\u001b[0;34m,\u001b[0m \u001b[0;36m1\u001b[0m\u001b[0;34m)\u001b[0m\u001b[0;34m\u001b[0m\u001b[0;34m\u001b[0m\u001b[0m\n\u001b[0m\u001b[1;32m      4\u001b[0m \u001b[0mX\u001b[0m \u001b[0;34m=\u001b[0m \u001b[0mscale\u001b[0m\u001b[0;34m(\u001b[0m\u001b[0mX\u001b[0m\u001b[0;34m)\u001b[0m\u001b[0;34m\u001b[0m\u001b[0;34m\u001b[0m\u001b[0m\n\u001b[1;32m      5\u001b[0m \u001b[0my\u001b[0m \u001b[0;34m=\u001b[0m \u001b[0mDF_Label_Density\u001b[0m\u001b[0;34m[\u001b[0m\u001b[0;34m\"label\"\u001b[0m\u001b[0;34m]\u001b[0m\u001b[0;34m\u001b[0m\u001b[0;34m\u001b[0m\u001b[0m\n",
      "\u001b[0;31mNameError\u001b[0m: name 'DF_Label_Density' is not defined"
     ]
    }
   ],
=======
   "execution_count": 22,
=======
   "execution_count": 63,
>>>>>>> 7a2d47a39e0e10d2c65274881756452360e18a75
   "metadata": {},
   "outputs": [],
>>>>>>> a46d565c1fee6fca94c14e5ee6bc4c0d2dce59e9
   "source": [
    "LR = LogisticRegression(random_state=0, solver='lbfgs', multi_class='multinomial')\n",
    "\n",
    "X = DF_Label_Density.loc[:,[\"density\"]]\n",
    "X = scale(X)\n",
    "#X = normalize(X)\n",
    "y = DF_Label_Density[\"label\"]"
   ]
  },
  {
   "cell_type": "code",
<<<<<<< HEAD
<<<<<<< HEAD
   "execution_count": 110,
=======
   "execution_count": 23,
>>>>>>> a46d565c1fee6fca94c14e5ee6bc4c0d2dce59e9
   "metadata": {},
   "outputs": [],
   "source": [
    "LE = LabelEncoder()\n",
    "LE.fit([0,1,2,3,4,5,6,7,8,9])\n",
    "encoded_labels = LE.transform(y)"
=======
>>>>>>> 6cbf756b0fd83319ecbec3bd33cdcef98bfdb39e
   ]
  },
  {
   "cell_type": "code",
   "execution_count": 85,
   "metadata": {},
   "outputs": [],
   "source": [
    "LR = LogisticRegression(random_state=0, solver='lbfgs', multi_class='multinomial')\n",
    "\n",
    "X = DF_Label_Density.loc[:,[\"density\"]]\n",
    "X = scale(X)\n",
    "\n",
    "y = DF_Label_Density[\"label\"]"
   ]
  },
  {
   "cell_type": "code",
   "execution_count": 86,
   "metadata": {},
   "outputs": [],
   "source": [
<<<<<<< HEAD
    "X_train, X_test, y_train, y_test = train_test_split(input_data, encoded_labels, test_size=0.33, random_state=42)"
=======
   "execution_count": 64,
   "metadata": {},
   "outputs": [],
   "source": [
    "X_train, X_test, y_train, y_test = train_test_split(X, y, test_size=0.25, random_state=42)"
>>>>>>> 7a2d47a39e0e10d2c65274881756452360e18a75
=======
    "X_train, X_test, y_train, y_test = train_test_split(X, y, test_size=0.25, random_state=42)"
>>>>>>> 6cbf756b0fd83319ecbec3bd33cdcef98bfdb39e
   ]
  },
  {
   "cell_type": "code",
<<<<<<< HEAD
<<<<<<< HEAD
   "execution_count": null,
   "metadata": {},
   "outputs": [],
=======
   "execution_count": 24,
=======
   "execution_count": 65,
>>>>>>> 7a2d47a39e0e10d2c65274881756452360e18a75
=======
<<<<<<< HEAD
   "execution_count": 53,
=======
   "execution_count": 19,
>>>>>>> a46d565c1fee6fca94c14e5ee6bc4c0d2dce59e9
=======
   "execution_count": 87,
>>>>>>> 24b24086360749cf55a7596331efd3e4e1da3be2
>>>>>>> 6cbf756b0fd83319ecbec3bd33cdcef98bfdb39e
   "metadata": {},
   "outputs": [
    {
     "data": {
      "text/plain": [
       "LogisticRegression(C=1.0, class_weight=None, dual=False, fit_intercept=True,\n",
       "                   intercept_scaling=1, l1_ratio=None, max_iter=100,\n",
       "                   multi_class='multinomial', n_jobs=None, penalty='l2',\n",
       "                   random_state=0, solver='lbfgs', tol=0.0001, verbose=0,\n",
       "                   warm_start=False)"
      ]
     },
     "execution_count": 87,
     "metadata": {},
     "output_type": "execute_result"
    }
   ],
   "source": [
    "LR.fit(X_train, y_train)"
   ]
  },
  {
   "cell_type": "code",
<<<<<<< HEAD
<<<<<<< HEAD
<<<<<<< HEAD
   "execution_count": null,
=======
   "execution_count": 25,
>>>>>>> a46d565c1fee6fca94c14e5ee6bc4c0d2dce59e9
=======
   "execution_count": 114,
=======
   "execution_count": 88,
>>>>>>> 6cbf756b0fd83319ecbec3bd33cdcef98bfdb39e
   "metadata": {},
   "outputs": [],
   "source": [
    "def plot_confusion_matrix(y_true, y_pred, classes,\n",
    "                          normalize=False,\n",
    "                          title=None,\n",
    "                          cmap=plt.cm.Blues):\n",
    "    if not title:\n",
    "        if normalize:\n",
    "            title = 'Normalized confusion matrix'\n",
    "        else:\n",
    "            title = 'Confusion matrix, without normalization'\n",
    "\n",
    "    # Compute confusion matrix\n",
    "    cm = confusion_matrix(y_true, y_pred)\n",
    "    # Only use the labels that appear in the data\n",
    "    #classes = classes[unique_labels(y_true, y_pred)]\n",
    "    fig, ax = plt.subplots()\n",
    "    im = ax.imshow(cm, interpolation='nearest', cmap=cmap)\n",
    "    ax.figure.colorbar(im, ax=ax)\n",
    "    # We want to show all ticks...\n",
    "    ax.set(xticks=np.arange(cm.shape[1]),\n",
    "           yticks=np.arange(cm.shape[0]),\n",
    "           # ... and label them with the respective list entries\n",
    "           xticklabels=classes, yticklabels=classes,\n",
    "           title=title,\n",
    "           ylabel='True label',\n",
    "           xlabel='Predicted label')\n",
    "\n",
    "    # Rotate the tick labels and set their alignment.\n",
    "    plt.setp(ax.get_xticklabels(), rotation=45, ha=\"right\",\n",
    "             rotation_mode=\"anchor\")\n",
    "\n",
    "    # Loop over data dimensions and create text annotations.\n",
    "    fmt = '.2f' if normalize else 'd'\n",
    "    thresh = cm.max() / 2.\n",
    "    for i in range(cm.shape[0]):\n",
    "        for j in range(cm.shape[1]):\n",
    "            ax.text(j, i, format(cm[i, j], fmt),\n",
    "                    ha=\"center\", va=\"center\",\n",
    "                    color=\"white\" if cm[i, j] > thresh else \"black\")\n",
    "    fig.tight_layout()\n",
    "    return ax"
   ]
  },
  {
   "cell_type": "code",
<<<<<<< HEAD
   "execution_count": 66,
>>>>>>> 7a2d47a39e0e10d2c65274881756452360e18a75
=======
   "execution_count": 89,
>>>>>>> 6cbf756b0fd83319ecbec3bd33cdcef98bfdb39e
   "metadata": {},
   "outputs": [],
   "source": [
    "prediction_dens = LR.predict(X_test)"
   ]
  },
  {
   "cell_type": "code",
<<<<<<< HEAD
<<<<<<< HEAD
<<<<<<< HEAD
   "execution_count": null,
   "metadata": {},
   "outputs": [],
=======
   "execution_count": 26,
=======
   "execution_count": 67,
=======
   "execution_count": 90,
>>>>>>> 6cbf756b0fd83319ecbec3bd33cdcef98bfdb39e
   "metadata": {},
   "outputs": [
    {
     "data": {
      "text/plain": [
       "0.25866666666666666"
      ]
     },
     "execution_count": 90,
     "metadata": {},
     "output_type": "execute_result"
    }
   ],
   "source": [
    "accuracy_score(y_test, prediction_dens)  #only density feature"
   ]
  },
  {
   "cell_type": "code",
   "execution_count": 91,
   "metadata": {
    "scrolled": true
   },
   "outputs": [
    {
     "data": {
      "image/png": "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\n",
      "text/plain": [
       "<Figure size 432x288 with 2 Axes>"
      ]
     },
     "metadata": {
      "needs_background": "light"
     },
     "output_type": "display_data"
    }
   ],
   "source": [
    "#confusion_matrix(y_test, prediction)\n",
    "plot_confusion_matrix(y_test, prediction_dens, classes=[0,1,2,3,4,5,6,7,8,9], title='Confusion matrix')\n",
    "plt.show()"
   ]
  },
  {
   "cell_type": "code",
   "execution_count": 92,
   "metadata": {
    "scrolled": true
   },
   "outputs": [
    {
     "name": "stdout",
     "output_type": "stream",
     "text": [
      "Accuracy: 0.26 (+/- 0.01)\n"
     ]
    }
   ],
   "source": [
    "scores = cross_val_score(LR, X, y, cv=5)\n",
    "print(\"Accuracy: %0.2f (+/- %0.2f)\" % (scores.mean(), scores.std() * 2))"
   ]
  },
  {
   "cell_type": "markdown",
   "metadata": {},
   "source": [
    "# 3. Calculating symmetry (new feature) "
   ]
  },
  {
   "cell_type": "code",
   "execution_count": 93,
   "metadata": {},
   "outputs": [],
   "source": [
    "symmetry = np.array([])\n",
    "for index in range(newDF.shape[0]):\n",
    "    sim_level = 0\n",
    "    testDf = np.array(newDF.iloc[[index], 1:])\n",
    "    total_density = testDf[0][:].astype(bool).sum() \n",
    "    i = 0\n",
    "    j = 783\n",
    "    while i < 392:\n",
    "        if testDf[0][i] != 0 and testDf[0][j] != 0:\n",
    "            sim_level += 2\n",
    "        i += 1\n",
    "        j -= 1\n",
    "        \n",
    "    symmetry = np.append(symmetry, [sim_level/total_density])"
   ]
  },
  {
   "cell_type": "code",
   "execution_count": 94,
   "metadata": {},
   "outputs": [
    {
     "data": {
      "text/html": [
       "<div>\n",
       "<style scoped>\n",
       "    .dataframe tbody tr th:only-of-type {\n",
       "        vertical-align: middle;\n",
       "    }\n",
       "\n",
       "    .dataframe tbody tr th {\n",
       "        vertical-align: top;\n",
       "    }\n",
       "\n",
       "    .dataframe thead th {\n",
       "        text-align: right;\n",
       "    }\n",
       "</style>\n",
       "<table border=\"1\" class=\"dataframe\">\n",
       "  <thead>\n",
       "    <tr style=\"text-align: right;\">\n",
       "      <th></th>\n",
       "      <th>label</th>\n",
       "      <th>pixel0</th>\n",
       "      <th>pixel1</th>\n",
       "      <th>pixel2</th>\n",
       "      <th>pixel3</th>\n",
       "      <th>pixel4</th>\n",
       "      <th>pixel5</th>\n",
       "      <th>pixel6</th>\n",
       "      <th>pixel7</th>\n",
       "      <th>pixel8</th>\n",
       "      <th>...</th>\n",
       "      <th>pixel776</th>\n",
       "      <th>pixel777</th>\n",
       "      <th>pixel778</th>\n",
       "      <th>pixel779</th>\n",
       "      <th>pixel780</th>\n",
       "      <th>pixel781</th>\n",
       "      <th>pixel782</th>\n",
       "      <th>pixel783</th>\n",
       "      <th>density</th>\n",
       "      <th>symmetry</th>\n",
       "    </tr>\n",
       "  </thead>\n",
       "  <tbody>\n",
       "    <tr>\n",
<<<<<<< HEAD
       "      <th>72</th>\n",
       "      <td>17.769563</td>\n",
       "      <td>0</td>\n",
       "      <td>8</td>\n",
       "    </tr>\n",
       "    <tr>\n",
       "      <th>84</th>\n",
       "      <td>20.268448</td>\n",
       "      <td>3</td>\n",
       "      <td>9</td>\n",
       "    </tr>\n",
       "    <tr>\n",
       "      <th>52</th>\n",
       "      <td>21.217951</td>\n",
       "      <td>8</td>\n",
       "      <td>5</td>\n",
       "    </tr>\n",
       "    <tr>\n",
       "      <th>51</th>\n",
       "      <td>21.334427</td>\n",
       "      <td>7</td>\n",
       "      <td>5</td>\n",
       "    </tr>\n",
       "    <tr>\n",
       "      <th>30</th>\n",
       "      <td>22.020372</td>\n",
       "      <td>4</td>\n",
       "      <td>3</td>\n",
       "    </tr>\n",
       "    <tr>\n",
       "      <th>18</th>\n",
       "      <td>22.775062</td>\n",
       "      <td>0</td>\n",
       "      <td>2</td>\n",
       "    </tr>\n",
       "    <tr>\n",
       "      <th>83</th>\n",
       "      <td>25.716487</td>\n",
       "      <td>2</td>\n",
       "      <td>9</td>\n",
       "    </tr>\n",
       "    <tr>\n",
       "      <th>69</th>\n",
       "      <td>26.789015</td>\n",
       "      <td>6</td>\n",
       "      <td>7</td>\n",
       "    </tr>\n",
       "    <tr>\n",
       "      <th>38</th>\n",
       "      <td>27.468411</td>\n",
       "      <td>2</td>\n",
       "      <td>4</td>\n",
       "    </tr>\n",
       "    <tr>\n",
       "      <th>27</th>\n",
       "      <td>28.223101</td>\n",
       "      <td>0</td>\n",
       "      <td>3</td>\n",
       "    </tr>\n",
       "    <tr>\n",
       "      <th>80</th>\n",
       "      <td>30.721986</td>\n",
       "      <td>9</td>\n",
       "      <td>8</td>\n",
       "    </tr>\n",
       "    <tr>\n",
       "      <th>33</th>\n",
       "      <td>32.098840</td>\n",
       "      <td>7</td>\n",
       "      <td>3</td>\n",
       "    </tr>\n",
       "    <tr>\n",
       "      <th>43</th>\n",
       "      <td>32.473910</td>\n",
       "      <td>8</td>\n",
       "      <td>4</td>\n",
       "    </tr>\n",
       "    <tr>\n",
       "      <th>54</th>\n",
       "      <td>33.532926</td>\n",
       "      <td>0</td>\n",
       "      <td>6</td>\n",
       "    </tr>\n",
       "    <tr>\n",
       "      <th>24</th>\n",
       "      <td>37.546879</td>\n",
       "      <td>7</td>\n",
       "      <td>2</td>\n",
       "    </tr>\n",
       "    <tr>\n",
       "      <th>4</th>\n",
       "      <td>38.987514</td>\n",
       "      <td>5</td>\n",
=======
       "      <th>0</th>\n",
       "      <td>1</td>\n",
       "      <td>0</td>\n",
       "      <td>0</td>\n",
       "      <td>0</td>\n",
       "      <td>0</td>\n",
       "      <td>0</td>\n",
       "      <td>0</td>\n",
>>>>>>> 24b24086360749cf55a7596331efd3e4e1da3be2
       "      <td>0</td>\n",
       "      <td>0</td>\n",
       "      <td>0</td>\n",
       "      <td>...</td>\n",
       "      <td>0</td>\n",
       "      <td>0</td>\n",
       "      <td>0</td>\n",
       "      <td>0</td>\n",
       "      <td>0</td>\n",
       "      <td>0</td>\n",
       "      <td>0</td>\n",
       "      <td>0</td>\n",
       "      <td>97</td>\n",
       "      <td>0.755102</td>\n",
       "    </tr>\n",
       "    <tr>\n",
       "      <th>1</th>\n",
       "      <td>0</td>\n",
       "      <td>0</td>\n",
       "      <td>0</td>\n",
       "      <td>0</td>\n",
       "      <td>0</td>\n",
       "      <td>0</td>\n",
       "      <td>0</td>\n",
       "      <td>0</td>\n",
       "      <td>0</td>\n",
       "      <td>0</td>\n",
       "      <td>...</td>\n",
       "      <td>0</td>\n",
       "      <td>0</td>\n",
       "      <td>0</td>\n",
       "      <td>0</td>\n",
       "      <td>0</td>\n",
       "      <td>0</td>\n",
       "      <td>0</td>\n",
       "      <td>0</td>\n",
       "      <td>245</td>\n",
       "      <td>0.902439</td>\n",
       "    </tr>\n",
       "    <tr>\n",
       "      <th>2</th>\n",
       "      <td>1</td>\n",
<<<<<<< HEAD
       "    </tr>\n",
       "    <tr>\n",
       "      <th>81</th>\n",
       "      <td>48.491549</td>\n",
=======
>>>>>>> 24b24086360749cf55a7596331efd3e4e1da3be2
       "      <td>0</td>\n",
       "      <td>0</td>\n",
       "      <td>0</td>\n",
       "      <td>0</td>\n",
       "      <td>0</td>\n",
       "      <td>0</td>\n",
       "      <td>0</td>\n",
       "      <td>0</td>\n",
       "      <td>0</td>\n",
       "      <td>...</td>\n",
       "      <td>0</td>\n",
       "      <td>0</td>\n",
       "      <td>0</td>\n",
       "      <td>0</td>\n",
       "      <td>0</td>\n",
       "      <td>0</td>\n",
       "      <td>0</td>\n",
       "      <td>0</td>\n",
       "      <td>79</td>\n",
       "      <td>0.975000</td>\n",
       "    </tr>\n",
       "    <tr>\n",
       "      <th>3</th>\n",
<<<<<<< HEAD
       "      <td>50.243473</td>\n",
       "      <td>4</td>\n",
       "      <td>0</td>\n",
       "    </tr>\n",
       "    <tr>\n",
       "      <th>12</th>\n",
       "      <td>55.767442</td>\n",
       "      <td>4</td>\n",
       "      <td>1</td>\n",
       "    </tr>\n",
       "    <tr>\n",
       "      <th>17</th>\n",
       "      <td>57.519366</td>\n",
       "      <td>9</td>\n",
       "      <td>1</td>\n",
       "    </tr>\n",
       "    <tr>\n",
       "      <th>6</th>\n",
       "      <td>60.321941</td>\n",
       "      <td>7</td>\n",
=======
       "      <td>4</td>\n",
       "      <td>0</td>\n",
>>>>>>> 24b24086360749cf55a7596331efd3e4e1da3be2
       "      <td>0</td>\n",
       "      <td>0</td>\n",
       "      <td>0</td>\n",
       "      <td>0</td>\n",
       "      <td>0</td>\n",
       "      <td>0</td>\n",
       "      <td>0</td>\n",
       "      <td>0</td>\n",
       "      <td>...</td>\n",
       "      <td>0</td>\n",
       "      <td>0</td>\n",
       "      <td>0</td>\n",
       "      <td>0</td>\n",
       "      <td>0</td>\n",
       "      <td>0</td>\n",
       "      <td>0</td>\n",
       "      <td>0</td>\n",
       "      <td>113</td>\n",
       "      <td>0.578947</td>\n",
       "    </tr>\n",
       "    <tr>\n",
<<<<<<< HEAD
       "      <th>13</th>\n",
       "      <td>67.023401</td>\n",
       "      <td>5</td>\n",
       "      <td>1</td>\n",
       "    </tr>\n",
       "    <tr>\n",
       "      <th>55</th>\n",
       "      <td>72.477989</td>\n",
       "      <td>1</td>\n",
       "      <td>6</td>\n",
       "    </tr>\n",
       "    <tr>\n",
       "      <th>11</th>\n",
       "      <td>77.787814</td>\n",
       "      <td>3</td>\n",
       "      <td>1</td>\n",
       "    </tr>\n",
       "    <tr>\n",
       "      <th>19</th>\n",
       "      <td>83.235853</td>\n",
       "      <td>1</td>\n",
       "      <td>2</td>\n",
       "    </tr>\n",
       "    <tr>\n",
       "      <th>73</th>\n",
       "      <td>88.241352</td>\n",
       "      <td>1</td>\n",
       "      <td>8</td>\n",
       "    </tr>\n",
       "    <tr>\n",
       "      <th>9</th>\n",
       "      <td>106.010915</td>\n",
=======
       "      <th>4</th>\n",
>>>>>>> 24b24086360749cf55a7596331efd3e4e1da3be2
       "      <td>0</td>\n",
       "      <td>0</td>\n",
       "      <td>0</td>\n",
       "      <td>0</td>\n",
       "      <td>0</td>\n",
       "      <td>0</td>\n",
       "      <td>0</td>\n",
       "      <td>0</td>\n",
       "      <td>0</td>\n",
       "      <td>0</td>\n",
       "      <td>...</td>\n",
       "      <td>0</td>\n",
       "      <td>0</td>\n",
       "      <td>0</td>\n",
       "      <td>0</td>\n",
       "      <td>0</td>\n",
       "      <td>0</td>\n",
       "      <td>0</td>\n",
       "      <td>0</td>\n",
       "      <td>260</td>\n",
       "      <td>0.789272</td>\n",
       "    </tr>\n",
       "  </tbody>\n",
       "</table>\n",
       "<p>5 rows × 787 columns</p>\n",
       "</div>"
      ],
      "text/plain": [
<<<<<<< HEAD
       "     dens_diff  label_x  label_y\n",
       "44    1.751924        9        4\n",
       "25    5.005499        8        2\n",
       "32    5.309825        6        3\n",
       "29    5.448039        2        3\n",
       "50    5.454588        6        5\n",
       "86    9.504035        5        9\n",
       "67   10.078468        4        7\n",
       "34   10.453538        8        3\n",
       "23   10.757864        6        2\n",
       "48   10.764413        3        5\n",
       "49   11.255959        4        5\n",
       "88   11.830392        7        9\n",
       "62   14.958623        9        6\n",
       "78   15.763363        6        8\n",
       "47   16.212452        2        5\n",
       "41   16.710547        6        4\n",
       "72   17.769563        0        8\n",
       "84   20.268448        3        9\n",
       "52   21.217951        8        5\n",
       "51   21.334427        7        5\n",
       "30   22.020372        4        3\n",
       "18   22.775062        0        2\n",
       "83   25.716487        2        9\n",
       "69   26.789015        6        7\n",
       "38   27.468411        2        4\n",
       "27   28.223101        0        3\n",
       "80   30.721986        9        8\n",
       "33   32.098840        7        3\n",
       "43   32.473910        8        4\n",
       "54   33.532926        0        6\n",
       "24   37.546879        7        2\n",
       "4    38.987514        5        0\n",
       "79   42.552378        7        8\n",
       "15   45.688974        7        1\n",
       "81   48.491549        0        9\n",
       "3    50.243473        4        0\n",
       "12   55.767442        4        1\n",
       "17   57.519366        9        1\n",
       "6    60.321941        7        0\n",
       "13   67.023401        5        1\n",
       "55   72.477989        1        6\n",
       "11   77.787814        3        1\n",
       "19   83.235853        1        2\n",
       "73   88.241352        1        8\n",
       "9   106.010915        0        1"
      ]
     },
<<<<<<< HEAD
     "execution_count": 53,
=======
     "execution_count": 19,
>>>>>>> a46d565c1fee6fca94c14e5ee6bc4c0d2dce59e9
=======
       "   label  pixel0  pixel1  pixel2  pixel3  pixel4  pixel5  pixel6  pixel7  \\\n",
       "0      1       0       0       0       0       0       0       0       0   \n",
       "1      0       0       0       0       0       0       0       0       0   \n",
       "2      1       0       0       0       0       0       0       0       0   \n",
       "3      4       0       0       0       0       0       0       0       0   \n",
       "4      0       0       0       0       0       0       0       0       0   \n",
       "\n",
       "   pixel8  ...  pixel776  pixel777  pixel778  pixel779  pixel780  pixel781  \\\n",
       "0       0  ...         0         0         0         0         0         0   \n",
       "1       0  ...         0         0         0         0         0         0   \n",
       "2       0  ...         0         0         0         0         0         0   \n",
       "3       0  ...         0         0         0         0         0         0   \n",
       "4       0  ...         0         0         0         0         0         0   \n",
       "\n",
       "   pixel782  pixel783  density  symmetry  \n",
       "0         0         0       97  0.755102  \n",
       "1         0         0      245  0.902439  \n",
       "2         0         0       79  0.975000  \n",
       "3         0         0      113  0.578947  \n",
       "4         0         0      260  0.789272  \n",
       "\n",
       "[5 rows x 787 columns]"
      ]
     },
     "execution_count": 94,
     "metadata": {},
     "output_type": "execute_result"
    }
   ],
   "source": [
    "newDF['symmetry'] = symmetry\n",
    "newDF.head()"
   ]
  },
  {
   "cell_type": "code",
   "execution_count": 95,
   "metadata": {},
   "outputs": [
    {
     "data": {
      "text/plain": [
       "<matplotlib.axes._subplots.AxesSubplot at 0x1a16d916a0>"
      ]
     },
     "execution_count": 95,
     "metadata": {},
     "output_type": "execute_result"
    },
    {
     "data": {
      "image/png": "iVBORw0KGgoAAAANSUhEUgAAAYIAAAEGCAYAAABo25JHAAAABHNCSVQICAgIfAhkiAAAAAlwSFlzAAALEgAACxIB0t1+/AAAADh0RVh0U29mdHdhcmUAbWF0cGxvdGxpYiB2ZXJzaW9uMy4xLjAsIGh0dHA6Ly9tYXRwbG90bGliLm9yZy+17YcXAAAVw0lEQVR4nO3dfbRddX3n8feHxIBgkCppYXgQ1FRL1Rkwg1Zm4bONVWHqUBao9WGpTNeYaktrBkcXdZjlzBhGW5eyrBEdGZ8Qqdboykjxsas6aAKiECIaEckN3BJEBIQKge/8cU705HKTnEPuPueG3/u11l3n7H1+++xPLpf7uft3zt4nVYUkqV37TDqAJGmyLAJJapxFIEmNswgkqXEWgSQ1buGkA4zq4IMPrqOOOmrSMSRpr3L55ZffUlVLZntsryuCo446ivXr1086hiTtVZL8ZGePOTUkSY2zCCSpcRaBJDXOIpCkxlkEktQ4i0CSGmcRSFLjLAJJatxed0LZQ8HKlSuZnp7mkEMOYdWqVZOOI6lxFsEETE9Ps2XLlknHkCTAqSFJap5HBHPghnOePNL4bbc+CljItlt/MvK2R5591UjjJWl3PCKQpMZZBJLUOKeGJuDg/e4HtvVvJWmyLIIJ+Mun3DbpCJL0K04NSVLjLAJJapxFIEmNswgkqXHNvVjsdX4kaUfNFYHX+ZGkHXU6NZRkeZJrk2xKctZOxpya5JokG5J8oss8kjSKlStX8spXvpKVK1dOOkqnOjsiSLIAOA94PjAFrEuypqquGRizFHgLcEJV/SzJb46yj6e++f+MnGvxLXewALjhljtG2v7yc1858r4k7d1amUHocmroeGBTVV0HkORC4GTgmoExrwfOq6qfAVTVzR3mkdSwiz59/Mjb3HnnAcA+3Hnn5pG2P/WPvj3yviapy6mhw4DNA8tT/XWDfhv47STfSHJZkuWzPVGSM5KsT7J+69atHcWVpDZ1WQSZZV3NWF4ILAWeBZwOnJ/koAdsVLW6qpZV1bIlS5bMeVBJalmXU0NTwBEDy4cDN84y5rKquhf4cZJr6RXDuq5C3b/ogB1uJWlnFi++f4fbh6oui2AdsDTJ0cAW4DTgZTPG/D29I4GPJDmY3lTRdR1m4hdLX9Dl00t6CHnRi++edISx6GxqqKq2ASuAS4CNwEVVtSHJOUlO6g+7BPhpkmuArwJvrqqfdpVJkvRAnZ5QVlVrgbUz1p09cL+AM/tfkqQJ8FpDktQ4i0CSGmcRSFLjLAJJapxFIEmNswgkqXEWgSQ1ziKQpMZZBJLUOItAkhpnEUhS4ywCSWqcRSBJjbMIJKlxFoEkNc4ikKTGdfrBNJKkPbNy5Uqmp6c55JBDWLVqVSf7sAgkaR6bnp5my5Ytne7DItBEjeOvHWk++dcXXzLS+N+48y4WADfcedfI2373lN8fapxFoIkax187w7CQ1DKLoGH+8vu1+VJI0iRYBA3r4pff10985kjj7164ABLunpoaedtn/uPXRxov7Y3uW/zIHW67YBHoIed9f/H5kbe57ZZf/Op2lO1XvOslI+9LGsXtLzm18310WgRJlgPvARYA51fV/5zx+KuBc4Htf5a+r6rO7zLTQ9UJ7z1h5G0W3baIfdiHzbdtHmn7b/zpN0bel6T5q7MiSLIAOA94PjAFrEuypqqumTH0U1W1oqscmt8OqtrhVtL4dXlEcDywqaquA0hyIXAyMLMI1LBX3Hf/pCMAcMCiA3e4lVrSZREcBmweWJ4CnjbLuP+Q5ETgB8CfV9XmmQOSnAGcAXDkkUd2ELVNtX9xP/dT+/vX+AmPe+mkI/guLk1Ml0WQWdbN/I3zeeCTVfXLJH8CXAA85wEbVa0GVgMsW7bM31pz5N4T7p10BA3wLayalC6LYAo4YmD5cODGwQFV9dOBxQ8C7+wwj6QheGTSni6LYB2wNMnR9N4VdBrwssEBSQ6tqpv6iycBGzvMI43VO15xykjjb735573b6ZtG3vatH7t4pPG74pFJezorgqralmQFcAm9t49+uKo2JDkHWF9Va4A3JjkJ2AbcCry6qzxSiza+4ysjb3PPrXf/6naU7X/nrQ+Y1dVeotPzCKpqLbB2xrqzB+6/BXhLlxkkSbvmmcXSPLHfgn12uJXGxSKQ5oljH7140hEAePR+j9zhVg99FoGkHaw49mW7H6SHFI9BJalxFoEkNc4ikKTGWQSS1DiLQJIaZxFIUuMsAklqnEUgSY2zCCSpcRaBJDXOIpCkxlkEktQ4i0CSGmcRSFLjLAJJapxFIEmNswgkqXEWgSQ1bqgiSLKg6yCSpMkY9ohgU5JzkxzTaRpJ0tgNWwRPAX4AnJ/ksiRnJDlwdxslWZ7k2iSbkpy1i3GnJKkky4bMI0maI0MVQVXdUVUfrKpnACuBvwJuSnJBksfPtk1/Ouk84IXAMcDpsx1RJFkMvBH41oP8N0iS9sDQrxEkOSnJZ4H3AO8CHgt8Hli7k82OBzZV1XVVdQ9wIXDyLOP+G7AK+JdRw0uS9tywU0M/pPdL/NyqOraq3l1V/1xVFwNf3Mk2hwGbB5an+ut+JcmxwBFV9YVd7bw/FbU+yfqtW7cOGVmSNIzdFkF/iucjVfXaqvrmzMer6o0723SWdTXwvPsAfw38xe4yVNXqqlpWVcuWLFmyu+GSpBHstgiq6j7g2Q/iuaeAIwaWDwduHFheDDwJ+FqS64GnA2t8wViSxmvhkOO+meR9wKeAX2xfWVVX7GKbdcDSJEcDW4DTgJcNbPtz4ODty0m+BvxlVa0fOr0kaY8NWwTP6N+eM7CugOfsbIOq2pZkBXAJsAD4cFVtSHIOsL6q1jyYwJKkuTVsEby2qq4bXJHksbvbqKrWMuNdRVV19k7GPmvILJKkOTTsu4YunmXdp+cyiCRpMnZ5RJDkicDvAo9M8tKBhw4E9usymCRpPHY3NfQE4MXAQcBLBtbfAby+q1CSpPHZZRFU1eeAzyX5var6f2PKJEkao2FfI/hpki8nuRogyVOSvK3DXJKkMRm2CD4IvAW4F6CqvkfvvABJ0l5u2CLYv6q+PWPdtrkOI0kav2GL4JYkj6N/raAkpwA3dZZKkjQ2w55Q9gZgNfDEJFuAHwOv6CyVJGlshiqC/lnFz0tyALBPVd3RbSxJLVu5ciXT09MccsghrFq1atJxHvKGKoIkBwGvBI4CFia9K0zv4hLUkvSgTU9Ps2XLlknHaMawU0NrgcuAq4D7u4sj6aHo7W9/+0jjb7311l/djrrtqOM1fBHsV1VndppEkjQRw75r6KNJXp/k0CSP2v7VaTJJ0lgMe0RwD3Au8FZ+/XGTRe8D7CVpTu2777473KpbwxbBmcDjq+qWLsNIEsCTn/zkSUdoyrBTQxuAu7oMIkmajGGPCO4DrkzyVeCX21f69lFJ2vsNWwR/3/+SJD3EDHtm8QVdB5EkTcZQrxEkeXGS7yS5NcntSe5IcnvX4SRJ3Rt2auhvgJcCV1VV7W6wJGnvMey7hjYDV49aAkmWJ7k2yaYkZ83y+J8kuSrJlUn+Kckxozy/JGnPDXtEsBJYm+Tr7PiuoXfvbIMkC4DzgOcDU8C6JGuq6pqBYZ+oqr/tjz8JeDewfLR/giRpTwx7RPAOeucR7AcsHvjaleOBTVV1XVXdA1wInDw4oKoGX2c4gF+ftSxJGpNhjwgeVVUvGPG5D6M3pbTdFPC0mYOSvIHemcuLgOeMuA9J0h4a9ojgS0lGLYLMsu4Bf/FX1XlV9TjgPwNvm/WJkjOSrE+yfuvWrSPGkCTtyrBF8Abgi0nuHuHto1PAEQPLhwM37mL8hcC/n+2BqlpdVcuqatmSJUuGjCxJGsZQRVBVi6tqn6p6eFUd2F8+cDebrQOWJjk6ySLgNGDN4IAkSwcWXwT8cJTwkqQ9N+wJZRcn+YMkwx5BUFXbgBXAJcBG4KKq2pDknP47hABWJNmQ5Ep6rxO8asT8kqQ9NOyLxX8LvAZ4b5JPAx+pqu/vbqOqWkvvYy4H1509cP9NI2SVJHVg2KmhL1XVy4HjgOuBS5N8M8lrkjysy4CSpG4NPdWT5NHAq4HXAd8B3kOvGC7tJJkkaSyGmhpK8hngicBHgZdU1U39hz6VZH1X4SRJ3Rv2iOBC4OlV9T+A1yb5TJLjAKpqWWfpJEmdG7YI3lZVtyf5d8DvAxcA7+8uliRpXIYtgvv6ty8C3l9Vn6N3SQhJ0l5u2CLYkuQDwKn0rkK67wjbSpLmsWF/mZ9K78Sw5VV1G/Ao4M2dpZIkjc2wn1l8F/CZgeWbgJt2voUkaW/h9I4kNc4ikKTGWQSS1DiLQJIaZxFIUuMsAklqnEUgSY2zCCSpcRaBJDXOIpCkxlkEktQ4i0CSGmcRSFLjLAJJalynRZBkeZJrk2xKctYsj5+Z5Jok30vy5SSP6TKPJOmBOiuCJAuA84AXAscApyc5Zsaw7wDLquopwMXAqq7ySJJm1+URwfHApqq6rqruAS4ETh4cUFVf7X/oDcBlwOEd5pEkzaLLIjgM2DywPNVftzOvBf7vbA8kOSPJ+iTrt27dOocRJUldFkFmWVezDkxeASwDzp3t8apaXVXLqmrZkiVL5jCiJGmozyx+kKaAIwaWDwdunDkoyfOAtwLPrKpfdphHkjSLLo8I1gFLkxydZBFwGrBmcECSY4EPACdV1c0dZpEk7URnRVBV24AVwCXARuCiqtqQ5JwkJ/WHnQs8Avh0kiuTrNnJ00mSOtLl1BBVtRZYO2Pd2QP3n9fl/iVJu+eZxZLUOItAkhpnEUhS4ywCSWqcRSBJjbMIJKlxFoEkNc4ikKTGWQSS1DiLQJIaZxFIUuMsAklqnEUgSY2zCCSpcRaBJDXOIpCkxlkEktQ4i0CSGmcRSFLjLAJJapxFIEmNswgkqXEWgSQ1rtMiSLI8ybVJNiU5a5bHT0xyRZJtSU7pMoskaXadFUGSBcB5wAuBY4DTkxwzY9gNwKuBT3SVQ5K0aws7fO7jgU1VdR1AkguBk4Frtg+oquv7j93fYQ5J0i50OTV0GLB5YHmqv25kSc5Isj7J+q1bt85JOElST5dFkFnW1YN5oqpaXVXLqmrZkiVL9jCWJGlQl0UwBRwxsHw4cGOH+5MkPQhdFsE6YGmSo5MsAk4D1nS4P0nSg9BZEVTVNmAFcAmwEbioqjYkOSfJSQBJ/m2SKeCPgA8k2dBVHknS7Lp81xBVtRZYO2Pd2QP319GbMpIkTYhnFktS4ywCSWqcRSBJjbMIJKlxFoEkNc4ikKTGWQSS1DiLQJIaZxFIUuMsAklqnEUgSY2zCCSpcRaBJDXOIpCkxlkEktQ4i0CSGmcRSFLjLAJJapxFIEmNswgkqXEWgSQ1ziKQpMZZBJLUuE6LIMnyJNcm2ZTkrFke3zfJp/qPfyvJUV3mkSQ9UGdFkGQBcB7wQuAY4PQkx8wY9lrgZ1X1eOCvgXd2lUeSNLsujwiOBzZV1XVVdQ9wIXDyjDEnAxf0718MPDdJOswkSZohVdXNEyenAMur6nX95T8GnlZVKwbGXN0fM9Vf/lF/zC0znusM4Iz+4hOAa/cw3sHALbsd1a35kAHmR475kAHmR475kAHmR475kAHmR465yPCYqloy2wML9/CJd2W2v+xnts4wY6iq1cDquQgFkGR9VS2bq+fbWzPMlxzzIcN8yTEfMsyXHPMhw3zJ0XWGLqeGpoAjBpYPB27c2ZgkC4FHArd2mEmSNEOXRbAOWJrk6CSLgNOANTPGrAFe1b9/CvCV6mquSpI0q86mhqpqW5IVwCXAAuDDVbUhyTnA+qpaA3wI+GiSTfSOBE7rKs8MczbNtAfmQwaYHznmQwaYHznmQwaYHznmQwaYHzk6zdDZi8WSpL2DZxZLUuMsAklqXFNFsLtLXowpw4eT3Nw/h2IikhyR5KtJNibZkORNE8qxX5JvJ/luP8d/nUSOfpYFSb6T5AsTzHB9kquSXJlk/YQyHJTk4iTf7/98/N4EMjyh/z3Y/nV7kj+bQI4/7/9cXp3kk0n2G3eGfo439TNs6Oz7UFVNfNF7wfpHwGOBRcB3gWMmkONE4Djg6gl+Lw4FjuvfXwz8YELfiwCP6N9/GPAt4OkT+p6cCXwC+MIE/7tcDxw8qf33M1wAvK5/fxFw0ITzLACm6Z0MNc79Hgb8GHh4f/ki4NUT+Pc/Cbga2J/em3u+BCyd6/20dEQwzCUvOldV/8iEz5Woqpuq6or+/TuAjfR+8Medo6rqzv7iw/pfY3/3QpLDgRcB54973/NJkgPp/aHyIYCquqeqbptsKp4L/KiqfjKBfS8EHt4/x2l/Hnge1Dj8DnBZVd1VVduArwN/ONc7aakIDgM2DyxPMYFffvNN/4qvx9L7a3wS+1+Q5ErgZuDSqppEjr8BVgL3T2Dfgwr4hySX9y+rMm6PBbYC/7s/TXZ+kgMmkGPQacAnx73TqtoC/C/gBuAm4OdV9Q/jzkHvaODEJI9Osj/wB+x4ou6caKkIhrqcRUuSPAL4O+DPqur2SWSoqvuq6t/QO/P8+CRPGuf+k7wYuLmqLh/nfnfihKo6jt4Ve9+Q5MQx738hvWnL91fVscAvgIm8lgbQPxH1JODTE9j3b9CbMTga+FfAAUleMe4cVbWR3lWZLwW+SG9Ke9tc76elIhjmkhfNSPIweiXw8ar6zKTz9KcgvgYsH/OuTwBOSnI9venC5yT52JgzAFBVN/ZvbwY+S286c5ymgKmBo7KL6RXDpLwQuKKq/nkC+34e8OOq2lpV9wKfAZ4xgRxU1Yeq6riqOpHetPIP53ofLRXBMJe8aEL/Ut8fAjZW1bsnmGNJkoP69x9O73++748zQ1W9paoOr6qj6P1MfKWqxv6XX5IDkizefh94Ab1pgbGpqmlgc5In9Fc9F7hmnBlmOJ0JTAv13QA8Pcn+/f9fnkvvtbSxS/Kb/dsjgZfSwfeky6uPziu1k0tejDtHkk8CzwIOTjIF/FVVfWjMMU4A/hi4qj8/D/BfqmrtmHMcClzQ/xCjfYCLqmpib9+csN8CPtv/OI6FwCeq6osTyPGnwMf7fyxdB7xmAhnoz4c/H/iPk9h/VX0rycXAFfSmYr7D5C418XdJHg3cC7yhqn421zvwEhOS1LiWpoYkSbOwCCSpcRaBJDXOIpCkxlkEktQ4i0DahSR37ubxo0a9kmySjyQ5Zc+SSXPHIpCkxlkE0hCSPCLJl5Nc0f/MgMEr1y5MckGS7/Wv5b9/f5unJvl6/yJylyQ5dELxpV2yCKTh/Avwh/2Lwj0beFf/0gMATwBWV9VTgNuB/9S/ltN7gVOq6qnAh4F3TCC3tFvNXGJC2kMB/nv/iqD307uE+W/1H9tcVd/o3/8Y8EZ6V4p8EnBpvy8W0LucsTTvWATScF4OLAGeWlX39q9Wuv2jC2dep6XoFceGqhr7Rz1Ko3JqSBrOI+l9bsG9SZ4NPGbgsSMHPtv3dOCfgGuBJdvXJ3lYkt8da2JpSBaBNJyPA8v6Hyr/cna8XPZG4FVJvgc8it4Hu9wDnAK8M8l3gSuZ0PXspd3x6qOS1DiPCCSpcRaBJDXOIpCkxlkEktQ4i0CSGmcRSFLjLAJJatz/B6vjNEQSleosAAAAAElFTkSuQmCC\n",
      "text/plain": [
       "<Figure size 432x288 with 1 Axes>"
      ]
     },
     "metadata": {
      "needs_background": "light"
     },
     "output_type": "display_data"
    }
   ],
   "source": [
    "newDF['symmetry'] = newDF['symmetry']\n",
    "sns.barplot(x=\"label\", y=\"symmetry\", data=newDF, ci=100)"
   ]
  },
  {
   "cell_type": "markdown",
   "metadata": {},
   "source": [
    "### 3.1 Logistic Regression with Symmetry feature only"
   ]
  },
  {
   "cell_type": "code",
   "execution_count": 96,
   "metadata": {},
   "outputs": [],
   "source": [
    "LR = LogisticRegression(random_state=0, solver='lbfgs', multi_class='multinomial')\n",
    "\n",
    "X = newDF.loc[:,[\"symmetry\"]]\n",
    "X = scale(X)\n",
    "y = newDF[\"label\"]"
   ]
  },
  {
   "cell_type": "code",
   "execution_count": 97,
   "metadata": {},
   "outputs": [],
   "source": [
    "X_train, X_test, y_train, y_test = train_test_split(X, y, test_size=0.25, random_state=101)"
   ]
  },
  {
   "cell_type": "code",
   "execution_count": 98,
   "metadata": {},
   "outputs": [
    {
     "data": {
      "text/plain": [
       "LogisticRegression(C=1.0, class_weight=None, dual=False, fit_intercept=True,\n",
       "                   intercept_scaling=1, l1_ratio=None, max_iter=100,\n",
       "                   multi_class='multinomial', n_jobs=None, penalty='l2',\n",
       "                   random_state=0, solver='lbfgs', tol=0.0001, verbose=0,\n",
       "                   warm_start=False)"
      ]
     },
     "execution_count": 98,
     "metadata": {},
     "output_type": "execute_result"
    }
   ],
   "source": [
    "LR.fit(X_train, y_train)"
   ]
  },
  {
   "cell_type": "code",
   "execution_count": 99,
   "metadata": {
    "scrolled": true
   },
   "outputs": [
    {
     "data": {
      "text/plain": [
       "0.20276190476190475"
      ]
     },
     "execution_count": 99,
     "metadata": {},
     "output_type": "execute_result"
    }
   ],
   "source": [
    "prediction_sym = LR.predict(X_test)\n",
    "accuracy_score(y_test, prediction_sym) #only simmerty feature"
   ]
  },
  {
   "cell_type": "code",
   "execution_count": 100,
   "metadata": {},
   "outputs": [
    {
     "data": {
      "image/png": "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\n",
      "text/plain": [
       "<Figure size 432x288 with 2 Axes>"
      ]
     },
     "metadata": {
      "needs_background": "light"
     },
     "output_type": "display_data"
    }
   ],
   "source": [
    "#confusion_matrix(y_test, prediction)\n",
    "plot_confusion_matrix(y_test, prediction_sym, classes=[0,1,2,3,4,5,6,7,8,9], title='Confusion matrix')\n",
    "plt.show()"
   ]
  },
  {
   "cell_type": "markdown",
   "metadata": {},
   "source": [
    "# 4. Logistic Regression with Symmetry and Density features"
   ]
  },
  {
   "cell_type": "code",
   "execution_count": 101,
   "metadata": {},
   "outputs": [],
   "source": [
    "LR = LogisticRegression(random_state=0, solver='lbfgs', multi_class='multinomial')\n",
    "\n",
    "X = newDF.loc[:,[\"density\", \"symmetry\"]]\n",
    "X = scale(X)\n",
    "y = newDF[\"label\"]"
   ]
  },
  {
   "cell_type": "code",
   "execution_count": 102,
   "metadata": {},
   "outputs": [],
   "source": [
    "X_train, X_test, y_train, y_test = train_test_split(X, y, test_size=0.20, random_state=42, shuffle=True)"
   ]
  },
  {
   "cell_type": "code",
   "execution_count": 103,
   "metadata": {},
   "outputs": [
    {
     "data": {
      "text/plain": [
       "LogisticRegression(C=1.0, class_weight=None, dual=False, fit_intercept=True,\n",
       "                   intercept_scaling=1, l1_ratio=None, max_iter=100,\n",
       "                   multi_class='multinomial', n_jobs=None, penalty='l2',\n",
       "                   random_state=0, solver='lbfgs', tol=0.0001, verbose=0,\n",
       "                   warm_start=False)"
      ]
     },
     "execution_count": 103,
     "metadata": {},
     "output_type": "execute_result"
    }
   ],
   "source": [
    "LR.fit(X_train, y_train)"
   ]
  },
  {
   "cell_type": "code",
   "execution_count": 104,
   "metadata": {
    "scrolled": true
   },
   "outputs": [
    {
     "data": {
      "text/plain": [
       "0.33"
      ]
     },
     "execution_count": 104,
>>>>>>> 24b24086360749cf55a7596331efd3e4e1da3be2
     "metadata": {},
     "output_type": "execute_result"
    }
   ],
   "source": [
    "prediction_sym_dens = LR.predict(X_test)\n",
    "accuracy_score(y_test, prediction_sym_dens) #simmerty and density features"
   ]
  },
  {
   "cell_type": "code",
   "execution_count": 105,
   "metadata": {},
   "outputs": [
    {
     "data": {
      "image/png": "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\n",
      "text/plain": [
       "<Figure size 432x288 with 2 Axes>"
      ]
     },
     "metadata": {
      "needs_background": "light"
     },
     "output_type": "display_data"
    }
   ],
   "source": [
    "#confusion_matrix(y_test, prediction)\n",
    "plot_confusion_matrix(y_test, prediction_sym_dens, classes=[0,1,2,3,4,5,6,7,8,9], title='Confusion matrix')\n",
    "plt.show()"
   ]
  },
  {
   "cell_type": "code",
   "execution_count": 106,
   "metadata": {},
   "outputs": [
    {
     "name": "stdout",
     "output_type": "stream",
     "text": [
      "Accuracy: 0.33 (+/- 0.01)\n"
     ]
    }
   ],
   "source": [
    "scores = cross_val_score(LR, X, y, cv=5)\n",
    "print(\"Accuracy: %0.2f (+/- %0.2f)\" % (scores.mean(), scores.std() * 2))"
   ]
  },
  {
   "cell_type": "markdown",
   "metadata": {},
   "source": [
    "# Logistic Regression with all features"
   ]
  },
  {
   "cell_type": "code",
<<<<<<< HEAD
<<<<<<< HEAD
   "execution_count": 57,
=======
   "execution_count": 21,
>>>>>>> a46d565c1fee6fca94c14e5ee6bc4c0d2dce59e9
   "metadata": {},
   "outputs": [],
   "source": [
    "from sklearn.linear_model import LogisticRegression\n",
    "from sklearn.preprocessing import LabelEncoder\n",
    "from sklearn.model_selection import train_test_split, cross_val_score, cross_val_predict\n",
    "from sklearn.metrics import accuracy_score, confusion_matrix\n",
    "from sklearn.preprocessing import scale\n",
    "import warnings\n",
    "warnings.filterwarnings('ignore')"
=======
   "execution_count": 107,
   "metadata": {},
   "outputs": [],
   "source": [
    "from sklearn.preprocessing import OneHotEncoder, LabelEncoder, normalize\n",
    "from tensorflow.keras.utils import to_categorical"
>>>>>>> 24b24086360749cf55a7596331efd3e4e1da3be2
   ]
  },
  {
   "cell_type": "code",
<<<<<<< HEAD
<<<<<<< HEAD
   "execution_count": 82,
   "metadata": {
    "scrolled": true
   },
   "outputs": [
    {
     "ename": "NameError",
     "evalue": "name 'DF_Label_Density' is not defined",
     "output_type": "error",
     "traceback": [
      "\u001b[0;31m---------------------------------------------------------------------------\u001b[0m",
      "\u001b[0;31mNameError\u001b[0m                                 Traceback (most recent call last)",
      "\u001b[0;32m<ipython-input-82-0a217567c813>\u001b[0m in \u001b[0;36m<module>\u001b[0;34m\u001b[0m\n\u001b[1;32m      1\u001b[0m \u001b[0mLR\u001b[0m \u001b[0;34m=\u001b[0m \u001b[0mLogisticRegression\u001b[0m\u001b[0;34m(\u001b[0m\u001b[0;34m)\u001b[0m\u001b[0;34m\u001b[0m\u001b[0;34m\u001b[0m\u001b[0m\n\u001b[1;32m      2\u001b[0m \u001b[0;34m\u001b[0m\u001b[0m\n\u001b[0;32m----> 3\u001b[0;31m \u001b[0mX\u001b[0m \u001b[0;34m=\u001b[0m \u001b[0mnp\u001b[0m\u001b[0;34m.\u001b[0m\u001b[0marray\u001b[0m\u001b[0;34m(\u001b[0m\u001b[0mDF_Label_Density\u001b[0m\u001b[0;34m[\u001b[0m\u001b[0;34m\"density\"\u001b[0m\u001b[0;34m]\u001b[0m\u001b[0;34m)\u001b[0m\u001b[0;34m.\u001b[0m\u001b[0mreshape\u001b[0m\u001b[0;34m(\u001b[0m\u001b[0;34m-\u001b[0m\u001b[0;36m1\u001b[0m\u001b[0;34m,\u001b[0m \u001b[0;36m1\u001b[0m\u001b[0;34m)\u001b[0m\u001b[0;34m\u001b[0m\u001b[0;34m\u001b[0m\u001b[0m\n\u001b[0m\u001b[1;32m      4\u001b[0m \u001b[0mX\u001b[0m \u001b[0;34m=\u001b[0m \u001b[0mscale\u001b[0m\u001b[0;34m(\u001b[0m\u001b[0mX\u001b[0m\u001b[0;34m)\u001b[0m\u001b[0;34m\u001b[0m\u001b[0;34m\u001b[0m\u001b[0m\n\u001b[1;32m      5\u001b[0m \u001b[0my\u001b[0m \u001b[0;34m=\u001b[0m \u001b[0mDF_Label_Density\u001b[0m\u001b[0;34m[\u001b[0m\u001b[0;34m\"label\"\u001b[0m\u001b[0;34m]\u001b[0m\u001b[0;34m\u001b[0m\u001b[0;34m\u001b[0m\u001b[0m\n",
      "\u001b[0;31mNameError\u001b[0m: name 'DF_Label_Density' is not defined"
     ]
    }
   ],
=======
   "execution_count": 22,
=======
   "execution_count": 116,
>>>>>>> 24b24086360749cf55a7596331efd3e4e1da3be2
   "metadata": {},
   "outputs": [],
>>>>>>> a46d565c1fee6fca94c14e5ee6bc4c0d2dce59e9
   "source": [
    "LR = LogisticRegression(random_state=0, solver='lbfgs', multi_class='multinomial')\n",
    "\n",
    "X = clearDF.iloc[:, 1:]\n",
    "y = clearDF.iloc[:, [0]]"
   ]
  },
  {
   "cell_type": "code",
<<<<<<< HEAD
<<<<<<< HEAD
   "execution_count": 110,
=======
   "execution_count": 23,
>>>>>>> a46d565c1fee6fca94c14e5ee6bc4c0d2dce59e9
=======
   "execution_count": 117,
>>>>>>> 24b24086360749cf55a7596331efd3e4e1da3be2
   "metadata": {},
   "outputs": [
    {
     "data": {
      "text/html": [
       "<div>\n",
       "<style scoped>\n",
       "    .dataframe tbody tr th:only-of-type {\n",
       "        vertical-align: middle;\n",
       "    }\n",
       "\n",
       "    .dataframe tbody tr th {\n",
       "        vertical-align: top;\n",
       "    }\n",
       "\n",
       "    .dataframe thead th {\n",
       "        text-align: right;\n",
       "    }\n",
       "</style>\n",
       "<table border=\"1\" class=\"dataframe\">\n",
       "  <thead>\n",
       "    <tr style=\"text-align: right;\">\n",
       "      <th></th>\n",
       "      <th>label</th>\n",
       "      <th>pixel0</th>\n",
       "      <th>pixel1</th>\n",
       "      <th>pixel2</th>\n",
       "      <th>pixel3</th>\n",
       "      <th>pixel4</th>\n",
       "      <th>pixel5</th>\n",
       "      <th>pixel6</th>\n",
       "      <th>pixel7</th>\n",
       "      <th>pixel8</th>\n",
       "      <th>...</th>\n",
       "      <th>pixel774</th>\n",
       "      <th>pixel775</th>\n",
       "      <th>pixel776</th>\n",
       "      <th>pixel777</th>\n",
       "      <th>pixel778</th>\n",
       "      <th>pixel779</th>\n",
       "      <th>pixel780</th>\n",
       "      <th>pixel781</th>\n",
       "      <th>pixel782</th>\n",
       "      <th>pixel783</th>\n",
       "    </tr>\n",
       "  </thead>\n",
       "  <tbody>\n",
       "    <tr>\n",
       "      <th>0</th>\n",
       "      <td>1</td>\n",
       "      <td>255</td>\n",
       "      <td>255</td>\n",
       "      <td>255</td>\n",
       "      <td>255</td>\n",
       "      <td>255</td>\n",
       "      <td>255</td>\n",
       "      <td>255</td>\n",
       "      <td>255</td>\n",
       "      <td>255</td>\n",
       "      <td>...</td>\n",
       "      <td>0</td>\n",
       "      <td>0</td>\n",
       "      <td>0</td>\n",
       "      <td>0</td>\n",
       "      <td>0</td>\n",
       "      <td>0</td>\n",
       "      <td>255</td>\n",
       "      <td>255</td>\n",
       "      <td>255</td>\n",
       "      <td>255</td>\n",
       "    </tr>\n",
       "    <tr>\n",
       "      <th>1</th>\n",
       "      <td>0</td>\n",
       "      <td>255</td>\n",
       "      <td>255</td>\n",
       "      <td>255</td>\n",
       "      <td>255</td>\n",
       "      <td>255</td>\n",
       "      <td>255</td>\n",
       "      <td>255</td>\n",
       "      <td>255</td>\n",
       "      <td>255</td>\n",
       "      <td>...</td>\n",
       "      <td>0</td>\n",
       "      <td>0</td>\n",
       "      <td>0</td>\n",
       "      <td>0</td>\n",
       "      <td>0</td>\n",
       "      <td>0</td>\n",
       "      <td>255</td>\n",
       "      <td>255</td>\n",
       "      <td>255</td>\n",
       "      <td>255</td>\n",
       "    </tr>\n",
       "    <tr>\n",
       "      <th>2</th>\n",
       "      <td>1</td>\n",
       "      <td>255</td>\n",
       "      <td>255</td>\n",
       "      <td>255</td>\n",
       "      <td>255</td>\n",
       "      <td>255</td>\n",
       "      <td>255</td>\n",
       "      <td>255</td>\n",
       "      <td>255</td>\n",
       "      <td>255</td>\n",
       "      <td>...</td>\n",
       "      <td>0</td>\n",
       "      <td>0</td>\n",
       "      <td>0</td>\n",
       "      <td>0</td>\n",
       "      <td>0</td>\n",
       "      <td>0</td>\n",
       "      <td>255</td>\n",
       "      <td>255</td>\n",
       "      <td>255</td>\n",
       "      <td>255</td>\n",
       "    </tr>\n",
       "    <tr>\n",
       "      <th>3</th>\n",
       "      <td>4</td>\n",
       "      <td>255</td>\n",
       "      <td>255</td>\n",
       "      <td>255</td>\n",
       "      <td>255</td>\n",
       "      <td>255</td>\n",
       "      <td>255</td>\n",
       "      <td>255</td>\n",
       "      <td>255</td>\n",
       "      <td>255</td>\n",
       "      <td>...</td>\n",
       "      <td>0</td>\n",
       "      <td>0</td>\n",
       "      <td>0</td>\n",
       "      <td>0</td>\n",
       "      <td>0</td>\n",
       "      <td>0</td>\n",
       "      <td>255</td>\n",
       "      <td>255</td>\n",
       "      <td>255</td>\n",
       "      <td>255</td>\n",
       "    </tr>\n",
       "    <tr>\n",
       "      <th>4</th>\n",
       "      <td>0</td>\n",
       "      <td>255</td>\n",
       "      <td>255</td>\n",
       "      <td>255</td>\n",
       "      <td>255</td>\n",
       "      <td>255</td>\n",
       "      <td>255</td>\n",
       "      <td>255</td>\n",
       "      <td>255</td>\n",
       "      <td>255</td>\n",
       "      <td>...</td>\n",
       "      <td>0</td>\n",
       "      <td>0</td>\n",
       "      <td>0</td>\n",
       "      <td>0</td>\n",
       "      <td>0</td>\n",
       "      <td>0</td>\n",
       "      <td>255</td>\n",
       "      <td>255</td>\n",
       "      <td>255</td>\n",
       "      <td>255</td>\n",
       "    </tr>\n",
       "  </tbody>\n",
       "</table>\n",
       "<p>5 rows × 785 columns</p>\n",
       "</div>"
      ],
      "text/plain": [
       "   label  pixel0  pixel1  pixel2  pixel3  pixel4  pixel5  pixel6  pixel7  \\\n",
       "0      1     255     255     255     255     255     255     255     255   \n",
       "1      0     255     255     255     255     255     255     255     255   \n",
       "2      1     255     255     255     255     255     255     255     255   \n",
       "3      4     255     255     255     255     255     255     255     255   \n",
       "4      0     255     255     255     255     255     255     255     255   \n",
       "\n",
       "   pixel8  ...  pixel774  pixel775  pixel776  pixel777  pixel778  pixel779  \\\n",
       "0     255  ...         0         0         0         0         0         0   \n",
       "1     255  ...         0         0         0         0         0         0   \n",
       "2     255  ...         0         0         0         0         0         0   \n",
       "3     255  ...         0         0         0         0         0         0   \n",
       "4     255  ...         0         0         0         0         0         0   \n",
       "\n",
       "   pixel780  pixel781  pixel782  pixel783  \n",
       "0       255       255       255       255  \n",
       "1       255       255       255       255  \n",
       "2       255       255       255       255  \n",
       "3       255       255       255       255  \n",
       "4       255       255       255       255  \n",
       "\n",
       "[5 rows x 785 columns]"
      ]
     },
     "execution_count": 117,
     "metadata": {},
     "output_type": "execute_result"
    }
   ],
   "source": [
<<<<<<< HEAD
    "LE = LabelEncoder()\n",
    "LE.fit([0,1,2,3,4,5,6,7,8,9])\n",
    "encoded_labels = LE.transform(y)"
   ]
  },
  {
   "cell_type": "code",
<<<<<<< HEAD
   "execution_count": 112,
   "metadata": {},
   "outputs": [],
   "source": [
    "input_data = np.array(df.drop([\"label\"], axis=1))\n",
    "input_data[input_data < 200] = 0"
   ]
  },
  {
   "cell_type": "code",
   "execution_count": 113,
   "metadata": {},
   "outputs": [],
   "source": [
    "X_train, X_test, y_train, y_test = train_test_split(input_data, encoded_labels, test_size=0.33, random_state=42)"
=======
    "clearDF.iloc[:40000, :].head()"
>>>>>>> 24b24086360749cf55a7596331efd3e4e1da3be2
   ]
  },
  {
   "cell_type": "code",
<<<<<<< HEAD
   "execution_count": null,
   "metadata": {},
   "outputs": [],
=======
   "execution_count": 24,
   "metadata": {},
=======
   "execution_count": 118,
   "metadata": {
    "scrolled": true
   },
>>>>>>> 24b24086360749cf55a7596331efd3e4e1da3be2
   "outputs": [
    {
     "data": {
      "text/plain": [
       "LogisticRegression(C=1.0, class_weight=None, dual=False, fit_intercept=True,\n",
       "                   intercept_scaling=1, l1_ratio=None, max_iter=100,\n",
       "                   multi_class='multinomial', n_jobs=None, penalty='l2',\n",
       "                   random_state=0, solver='lbfgs', tol=0.0001, verbose=0,\n",
       "                   warm_start=False)"
      ]
     },
     "execution_count": 118,
     "metadata": {},
     "output_type": "execute_result"
    }
   ],
>>>>>>> a46d565c1fee6fca94c14e5ee6bc4c0d2dce59e9
   "source": [
    "X_train, X_test, y_train, y_test = train_test_split(X, y, test_size=0.25, random_state=42)\n",
    "LR.fit(X_train, y_train)"
   ]
  },
  {
   "cell_type": "code",
<<<<<<< HEAD
<<<<<<< HEAD
   "execution_count": null,
=======
   "execution_count": 25,
>>>>>>> a46d565c1fee6fca94c14e5ee6bc4c0d2dce59e9
=======
   "execution_count": 119,
>>>>>>> 24b24086360749cf55a7596331efd3e4e1da3be2
   "metadata": {},
   "outputs": [
    {
     "data": {
      "text/plain": [
       "0.921047619047619"
      ]
     },
     "execution_count": 119,
     "metadata": {},
     "output_type": "execute_result"
    }
   ],
   "source": [
    "prediction_clearDF = LR.predict(X_test)\n",
    "accuracy_score(y_test, prediction_clearDF)"
   ]
  },
  {
   "cell_type": "code",
<<<<<<< HEAD
   "execution_count": 100,
>>>>>>> 7a2d47a39e0e10d2c65274881756452360e18a75
=======
<<<<<<< HEAD
<<<<<<< HEAD
   "execution_count": null,
   "metadata": {},
   "outputs": [],
=======
   "execution_count": 26,
>>>>>>> 6cbf756b0fd83319ecbec3bd33cdcef98bfdb39e
   "metadata": {},
=======
   "execution_count": 120,
   "metadata": {
    "scrolled": true
   },
>>>>>>> 24b24086360749cf55a7596331efd3e4e1da3be2
   "outputs": [
    {
     "data": {
      "image/png": "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\n",
      "text/plain": [
       "<Figure size 432x288 with 2 Axes>"
      ]
     },
     "metadata": {
      "needs_background": "light"
     },
     "output_type": "display_data"
    }
   ],
>>>>>>> a46d565c1fee6fca94c14e5ee6bc4c0d2dce59e9
   "source": [
    "#confusion_matrix(y_test, prediction)\n",
    "plot_confusion_matrix(y_test, prediction_clearDF, classes=[0,1,2,3,4,5,6,7,8,9], title='Confusion matrix')\n",
    "plt.show()"
   ]
  },
  {
   "cell_type": "code",
<<<<<<< HEAD
<<<<<<< HEAD
   "execution_count": null,
=======
   "execution_count": 27,
>>>>>>> a46d565c1fee6fca94c14e5ee6bc4c0d2dce59e9
   "metadata": {},
   "outputs": [],
   "source": [
    "scores = cross_val_score(LR, X, y, cv=5)\n",
    "print(\"Accuracy: %0.2f (+/- %0.2f)\" % (scores.mean(), scores.std() * 2))"
   ]
<<<<<<< HEAD
  },
  {
   "cell_type": "code",
   "execution_count": 7,
   "metadata": {
    "scrolled": true
   },
   "outputs": [
    {
     "data": {
      "text/html": [
       "<div>\n",
       "<style scoped>\n",
       "    .dataframe tbody tr th:only-of-type {\n",
       "        vertical-align: middle;\n",
       "    }\n",
       "\n",
       "    .dataframe tbody tr th {\n",
       "        vertical-align: top;\n",
       "    }\n",
       "\n",
       "    .dataframe thead th {\n",
       "        text-align: right;\n",
       "    }\n",
       "</style>\n",
       "<table border=\"1\" class=\"dataframe\">\n",
       "  <thead>\n",
       "    <tr style=\"text-align: right;\">\n",
       "      <th></th>\n",
       "      <th>label</th>\n",
       "      <th>pixel0</th>\n",
       "      <th>pixel1</th>\n",
       "      <th>pixel2</th>\n",
       "      <th>pixel3</th>\n",
       "      <th>pixel4</th>\n",
       "      <th>pixel5</th>\n",
       "      <th>pixel6</th>\n",
       "      <th>pixel7</th>\n",
       "      <th>pixel8</th>\n",
       "      <th>...</th>\n",
       "      <th>pixel774</th>\n",
       "      <th>pixel775</th>\n",
       "      <th>pixel776</th>\n",
       "      <th>pixel777</th>\n",
       "      <th>pixel778</th>\n",
       "      <th>pixel779</th>\n",
       "      <th>pixel780</th>\n",
       "      <th>pixel781</th>\n",
       "      <th>pixel782</th>\n",
       "      <th>pixel783</th>\n",
       "    </tr>\n",
       "  </thead>\n",
       "  <tbody>\n",
       "    <tr>\n",
       "      <th>0</th>\n",
       "      <td>1</td>\n",
       "      <td>0</td>\n",
       "      <td>0</td>\n",
       "      <td>0</td>\n",
       "      <td>0</td>\n",
       "      <td>0</td>\n",
       "      <td>0</td>\n",
       "      <td>0</td>\n",
       "      <td>0</td>\n",
       "      <td>0</td>\n",
       "      <td>...</td>\n",
       "      <td>0</td>\n",
       "      <td>0</td>\n",
       "      <td>0</td>\n",
       "      <td>0</td>\n",
       "      <td>0</td>\n",
       "      <td>0</td>\n",
       "      <td>0</td>\n",
       "      <td>0</td>\n",
       "      <td>0</td>\n",
       "      <td>0</td>\n",
       "    </tr>\n",
       "    <tr>\n",
       "      <th>1</th>\n",
       "      <td>0</td>\n",
       "      <td>0</td>\n",
       "      <td>0</td>\n",
       "      <td>0</td>\n",
       "      <td>0</td>\n",
       "      <td>0</td>\n",
       "      <td>0</td>\n",
       "      <td>0</td>\n",
       "      <td>0</td>\n",
       "      <td>0</td>\n",
       "      <td>...</td>\n",
       "      <td>0</td>\n",
       "      <td>0</td>\n",
       "      <td>0</td>\n",
       "      <td>0</td>\n",
       "      <td>0</td>\n",
       "      <td>0</td>\n",
       "      <td>0</td>\n",
       "      <td>0</td>\n",
       "      <td>0</td>\n",
       "      <td>0</td>\n",
       "    </tr>\n",
       "    <tr>\n",
       "      <th>2</th>\n",
       "      <td>1</td>\n",
       "      <td>0</td>\n",
       "      <td>0</td>\n",
       "      <td>0</td>\n",
       "      <td>0</td>\n",
       "      <td>0</td>\n",
       "      <td>0</td>\n",
       "      <td>0</td>\n",
       "      <td>0</td>\n",
       "      <td>0</td>\n",
       "      <td>...</td>\n",
       "      <td>0</td>\n",
       "      <td>0</td>\n",
       "      <td>0</td>\n",
       "      <td>0</td>\n",
       "      <td>0</td>\n",
       "      <td>0</td>\n",
       "      <td>0</td>\n",
       "      <td>0</td>\n",
       "      <td>0</td>\n",
       "      <td>0</td>\n",
       "    </tr>\n",
       "    <tr>\n",
       "      <th>3</th>\n",
       "      <td>4</td>\n",
       "      <td>0</td>\n",
       "      <td>0</td>\n",
       "      <td>0</td>\n",
       "      <td>0</td>\n",
       "      <td>0</td>\n",
       "      <td>0</td>\n",
       "      <td>0</td>\n",
       "      <td>0</td>\n",
       "      <td>0</td>\n",
       "      <td>...</td>\n",
       "      <td>0</td>\n",
       "      <td>0</td>\n",
       "      <td>0</td>\n",
       "      <td>0</td>\n",
       "      <td>0</td>\n",
       "      <td>0</td>\n",
       "      <td>0</td>\n",
       "      <td>0</td>\n",
       "      <td>0</td>\n",
       "      <td>0</td>\n",
       "    </tr>\n",
       "    <tr>\n",
       "      <th>4</th>\n",
       "      <td>0</td>\n",
       "      <td>0</td>\n",
       "      <td>0</td>\n",
       "      <td>0</td>\n",
       "      <td>0</td>\n",
       "      <td>0</td>\n",
       "      <td>0</td>\n",
       "      <td>0</td>\n",
       "      <td>0</td>\n",
       "      <td>0</td>\n",
       "      <td>...</td>\n",
       "      <td>0</td>\n",
       "      <td>0</td>\n",
       "      <td>0</td>\n",
       "      <td>0</td>\n",
       "      <td>0</td>\n",
       "      <td>0</td>\n",
       "      <td>0</td>\n",
       "      <td>0</td>\n",
       "      <td>0</td>\n",
       "      <td>0</td>\n",
       "    </tr>\n",
       "  </tbody>\n",
       "</table>\n",
       "<p>5 rows × 785 columns</p>\n",
       "</div>"
      ],
      "text/plain": [
       "   label  pixel0  pixel1  pixel2  pixel3  pixel4  pixel5  pixel6  pixel7  \\\n",
       "0      1       0       0       0       0       0       0       0       0   \n",
       "1      0       0       0       0       0       0       0       0       0   \n",
       "2      1       0       0       0       0       0       0       0       0   \n",
       "3      4       0       0       0       0       0       0       0       0   \n",
       "4      0       0       0       0       0       0       0       0       0   \n",
       "\n",
       "   pixel8  ...  pixel774  pixel775  pixel776  pixel777  pixel778  pixel779  \\\n",
       "0       0  ...         0         0         0         0         0         0   \n",
       "1       0  ...         0         0         0         0         0         0   \n",
       "2       0  ...         0         0         0         0         0         0   \n",
       "3       0  ...         0         0         0         0         0         0   \n",
       "4       0  ...         0         0         0         0         0         0   \n",
       "\n",
       "   pixel780  pixel781  pixel782  pixel783  \n",
       "0         0         0         0         0  \n",
       "1         0         0         0         0  \n",
       "2         0         0         0         0  \n",
       "3         0         0         0         0  \n",
       "4         0         0         0         0  \n",
       "\n",
       "[5 rows x 785 columns]"
      ]
     },
     "execution_count": 7,
     "metadata": {},
     "output_type": "execute_result"
    }
   ],
   "source": [
    "df.head()"
   ]
  },
  {
   "cell_type": "code",
   "execution_count": 72,
=======
<<<<<<< HEAD
   "execution_count": 75,
>>>>>>> 7a2d47a39e0e10d2c65274881756452360e18a75
=======
   "execution_count": 114,
>>>>>>> 24b24086360749cf55a7596331efd3e4e1da3be2
>>>>>>> 6cbf756b0fd83319ecbec3bd33cdcef98bfdb39e
   "metadata": {},
   "outputs": [
    {
     "name": "stdout",
     "output_type": "stream",
     "text": [
<<<<<<< HEAD
      "pixel783\n",
      "pixel782\n",
      "pixel781\n",
      "pixel780\n",
      "pixel760\n",
      "pixel759\n",
      "pixel758\n",
      "pixel757\n",
      "pixel756\n",
      "9\n"
=======
<<<<<<< HEAD
      "Accuracy: 0.90 (+/- 0.00)\n"
>>>>>>> 7a2d47a39e0e10d2c65274881756452360e18a75
=======
      "Accuracy: 0.90 (+/- 0.01)\n"
>>>>>>> 24b24086360749cf55a7596331efd3e4e1da3be2
>>>>>>> 6cbf756b0fd83319ecbec3bd33cdcef98bfdb39e
     ]
    }
   ],
   "source": [
    "clearDF = df\n",
    "counter = 0\n",
    "first_pix = 0\n",
    "last_pix = 27\n",
    "# while (first_pix < 784) or (last_pix < 784):\n",
    "#     feature_first = \"pixel\" + str(first_pix)\n",
    "#     feature_last = \"pixel\" + str(last_pix)\n",
    "#      if clearDF[feature_first].sum() == 0:\n",
    "#          print(feature_first)\n",
    "#          clearDF = clearDF.drop(feature_first, axis=1)\n",
    "        \n",
    "#     if clearDF[feature_last].sum() == 0:\n",
    "#         print(feature_last) \n",
    "#         clearDF = clearDF.drop(feature_last, axis=1)\n",
    "#         counter += 1\n",
    "        \n",
    "#     first_pix += 28\n",
    "#     last_pix += 28\n",
    "\n",
    "# print(counter)\n",
    "\n",
    "# pix = 0\n",
    "# while (pix < 27):\n",
    "#     feature = \"pixel\" + str(pix)\n",
    "#     if clearDF[feature].sum() == 0:\n",
    "#         print(feature)\n",
    "#         clearDF = clearDF.drop(feature, axis=1)\n",
    "#         counter += 1\n",
    "#     pix += 1\n",
    "    \n",
    "# print(counter)\n",
    "\n",
    "pix = 783\n",
    "while (pix > 755):\n",
    "    feature = \"pixel\" + str(pix)\n",
    "    clearDF[feature].sum()\n",
    "    if clearDF[feature].sum() == 0:\n",
    "        print(feature)\n",
    "        clearDF = clearDF.drop(feature, axis=1)\n",
    "        counter += 1\n",
    "    pix -= 1\n",
    "    \n",
    "print(counter)"
   ]
  },
  {
   "cell_type": "code",
   "execution_count": 56,
   "metadata": {},
   "outputs": [
    {
     "name": "stdout",
     "output_type": "stream",
     "text": [
      "Deleted feature:  pixel0\n",
      "Deleted feature:  pixel1\n",
      "Deleted feature:  pixel2\n",
      "Deleted feature:  pixel3\n",
      "Deleted feature:  pixel4\n",
      "Deleted feature:  pixel5\n",
      "Deleted feature:  pixel6\n",
      "Deleted feature:  pixel7\n",
      "Deleted feature:  pixel8\n",
      "Deleted feature:  pixel9\n",
      "Deleted feature:  pixel10\n",
      "Deleted feature:  pixel11\n",
      "Deleted feature:  pixel16\n",
      "Deleted feature:  pixel17\n",
      "Deleted feature:  pixel18\n",
      "Deleted feature:  pixel19\n",
      "Deleted feature:  pixel20\n",
      "Deleted feature:  pixel21\n",
      "Deleted feature:  pixel22\n",
      "Deleted feature:  pixel23\n",
      "Deleted feature:  pixel24\n",
      "Deleted feature:  pixel25\n",
      "Deleted feature:  pixel26\n",
      "Deleted feature:  pixel27\n",
      "Deleted feature:  pixel28\n",
      "Deleted feature:  pixel29\n",
      "Deleted feature:  pixel30\n",
      "Deleted feature:  pixel31\n",
      "Deleted feature:  pixel52\n",
      "Deleted feature:  pixel53\n",
      "Deleted feature:  pixel54\n",
      "Deleted feature:  pixel55\n",
      "Deleted feature:  pixel56\n",
      "Deleted feature:  pixel57\n",
      "Deleted feature:  pixel82\n",
      "Deleted feature:  pixel83\n",
      "Deleted feature:  pixel84\n",
      "Deleted feature:  pixel85\n",
      "Deleted feature:  pixel111\n",
      "Deleted feature:  pixel112\n",
      "Deleted feature:  pixel139\n",
      "Deleted feature:  pixel140\n",
      "Deleted feature:  pixel141\n",
      "Deleted feature:  pixel168\n",
      "Deleted feature:  pixel196\n",
      "Deleted feature:  pixel392\n",
      "Deleted feature:  pixel420\n",
      "Deleted feature:  pixel421\n",
      "Deleted feature:  pixel448\n",
      "Deleted feature:  pixel476\n",
      "Deleted feature:  pixel532\n",
      "Deleted feature:  pixel560\n",
      "Deleted feature:  pixel644\n",
      "Deleted feature:  pixel645\n",
      "Deleted feature:  pixel671\n",
      "Deleted feature:  pixel672\n",
      "Deleted feature:  pixel673\n",
      "Deleted feature:  pixel699\n",
      "Deleted feature:  pixel700\n",
      "Deleted feature:  pixel701\n",
      "Deleted feature:  pixel727\n",
      "Deleted feature:  pixel728\n",
      "Deleted feature:  pixel729\n",
      "Deleted feature:  pixel730\n",
      "Deleted feature:  pixel731\n",
      "Deleted feature:  pixel754\n",
      "Deleted feature:  pixel755\n",
      "Deleted feature:  pixel756\n",
      "Deleted feature:  pixel757\n",
      "Deleted feature:  pixel758\n",
      "Deleted feature:  pixel759\n",
      "Deleted feature:  pixel760\n",
      "Deleted feature:  pixel780\n",
      "Deleted feature:  pixel781\n",
      "Deleted feature:  pixel782\n",
      "Deleted feature:  pixel783\n"
     ]
    }
   ],
   "source": [
    "clearDF = df\n",
    "for i in df.columns:\n",
    "    if clearDF[i].sum() == 0:\n",
    "        print(\"Deleted feature: \", i)\n",
    "        clearDF = clearDF.drop(i, axis=1)"
   ]
  },
  {
   "cell_type": "code",
   "execution_count": 49,
   "metadata": {},
   "outputs": [],
   "source": [
    "addition = pd.DataFrame()\n",
    "for pix in range(5):\n",
    "    feature = \"new_pix\" + str(pix)\n",
    "    arr_zero = np.zeros((42000, ), dtype=int)\n",
    "    addition[feature] = arr_zero\n",
    "\n",
    "full_clearDF = pd.concat([clearDF, addition], axis=1)"
   ]
  },
  {
   "cell_type": "code",
   "execution_count": 66,
   "metadata": {},
   "outputs": [
    {
     "ename": "ValueError",
     "evalue": "cannot reshape array of size 733 into shape (27,27)",
     "output_type": "error",
     "traceback": [
      "\u001b[0;31m---------------------------------------------------------------------------\u001b[0m",
      "\u001b[0;31mValueError\u001b[0m                                Traceback (most recent call last)",
      "\u001b[0;32m<ipython-input-66-b887db7b0ea4>\u001b[0m in \u001b[0;36m<module>\u001b[0;34m\u001b[0m\n\u001b[1;32m      1\u001b[0m \u001b[0min_data\u001b[0m \u001b[0;34m=\u001b[0m \u001b[0mnp\u001b[0m\u001b[0;34m.\u001b[0m\u001b[0marray\u001b[0m\u001b[0;34m(\u001b[0m\u001b[0mclearDF\u001b[0m\u001b[0;34m.\u001b[0m\u001b[0mdrop\u001b[0m\u001b[0;34m(\u001b[0m\u001b[0;34m[\u001b[0m\u001b[0;34m\"label\"\u001b[0m\u001b[0;34m]\u001b[0m\u001b[0;34m,\u001b[0m \u001b[0maxis\u001b[0m\u001b[0;34m=\u001b[0m\u001b[0;36m1\u001b[0m\u001b[0;34m)\u001b[0m\u001b[0;34m)\u001b[0m\u001b[0;34m\u001b[0m\u001b[0;34m\u001b[0m\u001b[0m\n\u001b[1;32m      2\u001b[0m \u001b[0min_data\u001b[0m\u001b[0;34m[\u001b[0m\u001b[0min_data\u001b[0m \u001b[0;34m<\u001b[0m \u001b[0;36m100\u001b[0m\u001b[0;34m]\u001b[0m \u001b[0;34m=\u001b[0m \u001b[0;36m0\u001b[0m\u001b[0;34m\u001b[0m\u001b[0;34m\u001b[0m\u001b[0m\n\u001b[0;32m----> 3\u001b[0;31m \u001b[0mdigit_image\u001b[0m \u001b[0;34m=\u001b[0m \u001b[0min_data\u001b[0m\u001b[0;34m[\u001b[0m\u001b[0;36m13\u001b[0m\u001b[0;34m]\u001b[0m\u001b[0;34m.\u001b[0m\u001b[0mreshape\u001b[0m\u001b[0;34m(\u001b[0m\u001b[0;36m27\u001b[0m\u001b[0;34m,\u001b[0m \u001b[0;36m27\u001b[0m\u001b[0;34m)\u001b[0m\u001b[0;34m\u001b[0m\u001b[0;34m\u001b[0m\u001b[0m\n\u001b[0m\u001b[1;32m      4\u001b[0m \u001b[0mplt\u001b[0m\u001b[0;34m.\u001b[0m\u001b[0mimshow\u001b[0m\u001b[0;34m(\u001b[0m\u001b[0mdigit_image\u001b[0m\u001b[0;34m,\u001b[0m \u001b[0mcmap\u001b[0m \u001b[0;34m=\u001b[0m \u001b[0;34m'binary'\u001b[0m\u001b[0;34m)\u001b[0m\u001b[0;34m\u001b[0m\u001b[0;34m\u001b[0m\u001b[0m\n\u001b[1;32m      5\u001b[0m \u001b[0mplt\u001b[0m\u001b[0;34m.\u001b[0m\u001b[0mshow\u001b[0m\u001b[0;34m(\u001b[0m\u001b[0;34m)\u001b[0m\u001b[0;34m\u001b[0m\u001b[0;34m\u001b[0m\u001b[0m\n",
      "\u001b[0;31mValueError\u001b[0m: cannot reshape array of size 733 into shape (27,27)"
     ]
    }
   ],
   "source": [
    "in_data = np.array(clearDF.drop([\"label\"], axis=1))\n",
    "in_data[in_data < 100] = 0\n",
    "digit_image = in_data[13].reshape(27, 27)\n",
    "plt.imshow(digit_image, cmap = 'binary')\n",
    "plt.show()"
   ]
  },
  {
   "cell_type": "code",
   "execution_count": null,
   "metadata": {},
   "outputs": [],
   "source": [
    "def determine_useless_features(x):\n",
    "    \n",
    "    for arr in x:\n",
    "        if arr.sum(axis=0) != 0:\n",
    "            "
   ]
  },
  {
   "cell_type": "code",
   "execution_count": 99,
   "metadata": {},
   "outputs": [
    {
     "name": "stdout",
     "output_type": "stream",
     "text": [
      "First half:  40\n",
      "Second half:  50\n",
      "Simmetry:  10\n"
     ]
    }
   ],
   "source": [
    "input_data = np.array(df.drop([\"label\"], axis=1))\n",
    "\n",
    "def check_simmetry(x):\n",
    "    dens_1, dens_2 = 0, 0\n",
    "    simmetry = np.array([])\n",
    "    for i_set in x:\n",
    "        matr = i_set.reshape(28,28)\n",
    "        newDF = pd.DataFrame(matr)\n",
    "        for y in range(13):\n",
    "            dens_1 = dens_1 + np.array(newDF[y]).astype(bool).sum()\n",
    "        for y in range(14, 28):\n",
    "            dens_2 = dens_2 + np.array(newDF[y]).astype(bool).sum()\n",
    "        print(\"First half: \", dens_1)\n",
    "        print(\"Second half: \", dens_2)\n",
    "        print(\"Simmetry: \", abs(dens_1 - dens_2))\n",
    "        break\n",
    "            \n",
    "        simmetry = np.append(simmetry, [abs(dens_1 - dens_2)])\n",
    "    \n",
    "    return simmetry\n",
    "\n",
    "sim = check_simmetry(input_data)"
   ]
  },
  {
   "cell_type": "code",
   "execution_count": 79,
   "metadata": {},
   "outputs": [
    {
     "data": {
      "text/plain": [
       "array([1.000000e+01, 1.800000e+01, 3.900000e+01, ..., 1.117841e+06,\n",
       "       1.117876e+06, 1.117906e+06])"
      ]
     },
     "execution_count": 79,
     "metadata": {},
     "output_type": "execute_result"
    }
   ],
   "source": [
    "sim"
   ]
  },
  {
   "cell_type": "code",
   "execution_count": 58,
   "metadata": {},
   "outputs": [],
   "source": [
    "LR = LogisticRegression()\n",
    "\n",
    "X = clearDF.drop('label', axis=1)\n",
    "X = scale(X)\n",
    "y = clearDF[\"label\"]"
   ]
  },
  {
   "cell_type": "code",
   "execution_count": 59,
   "metadata": {},
   "outputs": [],
   "source": [
    "X_train, X_test, y_train, y_test = train_test_split(X, y, test_size=0.33, random_state=42)"
   ]
  },
  {
   "cell_type": "code",
   "execution_count": null,
   "metadata": {},
   "outputs": [],
   "source": [
    "LR.fit(X_train, y_train)\n",
    "prediction = LR.predict(X_test)"
   ]
  },
  {
   "cell_type": "code",
   "execution_count": 88,
   "metadata": {},
   "outputs": [
    {
     "data": {
      "text/plain": [
       "0.908008658008658"
      ]
     },
     "execution_count": 88,
     "metadata": {},
     "output_type": "execute_result"
    }
   ],
   "source": [
    "confusion_matrix(y_test, prediction)\n",
    "accuracy_score(y_test, prediction)"
   ]
  },
  {
   "cell_type": "code",
<<<<<<< HEAD
   "execution_count": 95,
   "metadata": {},
   "outputs": [
    {
     "data": {
      "text/plain": [
       "array([[1288,    0,    6,    2,    2,   17,   12,    0,    5,    1],\n",
       "       [   0, 1479,    9,    4,    1,    6,    2,    2,   15,    2],\n",
       "       [  11,   23, 1235,   33,   26,   10,   25,   19,   31,    1],\n",
       "       [   8,    4,   40, 1285,    5,   51,    5,   19,   36,   18],\n",
       "       [   6,    7,   13,    4, 1252,    4,    8,    6,    9,   49],\n",
       "       [  11,    4,    8,   47,   23, 1028,   27,    7,   35,   15],\n",
       "       [  15,    6,    8,    0,    9,   16, 1327,    3,   13,    0],\n",
       "       [   4,   11,   23,    9,   25,    4,    3, 1346,    5,   50],\n",
       "       [  11,   32,   12,   34,   16,   43,    6,    4, 1158,   18],\n",
       "       [  13,    6,    7,   23,   31,   17,    0,   47,   17, 1187]])"
      ]
     },
     "execution_count": 95,
     "metadata": {},
     "output_type": "execute_result"
    }
   ],
   "source": [
    "confusion_matrix(y_test, prediction)"
   ]
  },
  {
   "cell_type": "code",
=======
>>>>>>> 24b24086360749cf55a7596331efd3e4e1da3be2
   "execution_count": null,
   "metadata": {},
   "outputs": [],
   "source": []
<<<<<<< HEAD
=======
>>>>>>> a46d565c1fee6fca94c14e5ee6bc4c0d2dce59e9
=======
>>>>>>> 24b24086360749cf55a7596331efd3e4e1da3be2
  }
 ],
 "metadata": {
  "kernelspec": {
   "display_name": "Python 3",
   "language": "python",
   "name": "python3"
  },
  "language_info": {
   "codemirror_mode": {
    "name": "ipython",
    "version": 3
   },
   "file_extension": ".py",
   "mimetype": "text/x-python",
   "name": "python",
   "nbconvert_exporter": "python",
   "pygments_lexer": "ipython3",
   "version": "3.6.8"
  }
 },
 "nbformat": 4,
 "nbformat_minor": 2
}

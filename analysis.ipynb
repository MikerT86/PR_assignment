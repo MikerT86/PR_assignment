{
 "cells": [
  {
   "cell_type": "markdown",
   "metadata": {},
   "source": [
    "# Pattern Recognition - assignment 1\n",
    "\n",
    "* Bjorn Bruns (student id 1)\n",
    "* Mikhail Ternyuk (student id 2)\n",
    "\n",
    "# 1. Exploratory Analysis"
   ]
  },
  {
   "cell_type": "code",
   "execution_count": 2,
   "metadata": {},
   "outputs": [],
   "source": [
    "import pandas as pd\n",
    "import numpy as np\n",
    "import matplotlib.pyplot as plt \n",
    "import matplotlib.image as mpimg\n",
    "import seaborn as sns\n",
    "from scipy import stats\n",
    "\n",
    "%matplotlib inline"
   ]
  },
  {
   "cell_type": "code",
<<<<<<< HEAD
<<<<<<< HEAD
   "execution_count": 2,
=======
   "execution_count": 29,
>>>>>>> a46d565c1fee6fca94c14e5ee6bc4c0d2dce59e9
=======
   "execution_count": 3,
>>>>>>> 7a2d47a39e0e10d2c65274881756452360e18a75
   "metadata": {},
   "outputs": [
    {
     "data": {
      "text/html": [
       "<div>\n",
       "<style scoped>\n",
       "    .dataframe tbody tr th:only-of-type {\n",
       "        vertical-align: middle;\n",
       "    }\n",
       "\n",
       "    .dataframe tbody tr th {\n",
       "        vertical-align: top;\n",
       "    }\n",
       "\n",
       "    .dataframe thead th {\n",
       "        text-align: right;\n",
       "    }\n",
       "</style>\n",
       "<table border=\"1\" class=\"dataframe\">\n",
       "  <thead>\n",
       "    <tr style=\"text-align: right;\">\n",
       "      <th></th>\n",
       "      <th>label</th>\n",
       "      <th>pixel0</th>\n",
       "      <th>pixel1</th>\n",
       "      <th>pixel2</th>\n",
       "      <th>pixel3</th>\n",
       "      <th>pixel4</th>\n",
       "      <th>pixel5</th>\n",
       "      <th>pixel6</th>\n",
       "      <th>pixel7</th>\n",
       "      <th>pixel8</th>\n",
       "      <th>...</th>\n",
       "      <th>pixel774</th>\n",
       "      <th>pixel775</th>\n",
       "      <th>pixel776</th>\n",
       "      <th>pixel777</th>\n",
       "      <th>pixel778</th>\n",
       "      <th>pixel779</th>\n",
       "      <th>pixel780</th>\n",
       "      <th>pixel781</th>\n",
       "      <th>pixel782</th>\n",
       "      <th>pixel783</th>\n",
       "    </tr>\n",
       "  </thead>\n",
       "  <tbody>\n",
       "    <tr>\n",
       "      <th>0</th>\n",
       "      <td>1</td>\n",
       "      <td>0</td>\n",
       "      <td>0</td>\n",
       "      <td>0</td>\n",
       "      <td>0</td>\n",
       "      <td>0</td>\n",
       "      <td>0</td>\n",
       "      <td>0</td>\n",
       "      <td>0</td>\n",
       "      <td>0</td>\n",
       "      <td>...</td>\n",
       "      <td>0</td>\n",
       "      <td>0</td>\n",
       "      <td>0</td>\n",
       "      <td>0</td>\n",
       "      <td>0</td>\n",
       "      <td>0</td>\n",
       "      <td>0</td>\n",
       "      <td>0</td>\n",
       "      <td>0</td>\n",
       "      <td>0</td>\n",
       "    </tr>\n",
       "    <tr>\n",
       "      <th>1</th>\n",
       "      <td>0</td>\n",
       "      <td>0</td>\n",
       "      <td>0</td>\n",
       "      <td>0</td>\n",
       "      <td>0</td>\n",
       "      <td>0</td>\n",
       "      <td>0</td>\n",
       "      <td>0</td>\n",
       "      <td>0</td>\n",
       "      <td>0</td>\n",
       "      <td>...</td>\n",
       "      <td>0</td>\n",
       "      <td>0</td>\n",
       "      <td>0</td>\n",
       "      <td>0</td>\n",
       "      <td>0</td>\n",
       "      <td>0</td>\n",
       "      <td>0</td>\n",
       "      <td>0</td>\n",
       "      <td>0</td>\n",
       "      <td>0</td>\n",
       "    </tr>\n",
       "    <tr>\n",
       "      <th>2</th>\n",
       "      <td>1</td>\n",
       "      <td>0</td>\n",
       "      <td>0</td>\n",
       "      <td>0</td>\n",
       "      <td>0</td>\n",
       "      <td>0</td>\n",
       "      <td>0</td>\n",
       "      <td>0</td>\n",
       "      <td>0</td>\n",
       "      <td>0</td>\n",
       "      <td>...</td>\n",
       "      <td>0</td>\n",
       "      <td>0</td>\n",
       "      <td>0</td>\n",
       "      <td>0</td>\n",
       "      <td>0</td>\n",
       "      <td>0</td>\n",
       "      <td>0</td>\n",
       "      <td>0</td>\n",
       "      <td>0</td>\n",
       "      <td>0</td>\n",
       "    </tr>\n",
       "    <tr>\n",
       "      <th>3</th>\n",
       "      <td>4</td>\n",
       "      <td>0</td>\n",
       "      <td>0</td>\n",
       "      <td>0</td>\n",
       "      <td>0</td>\n",
       "      <td>0</td>\n",
       "      <td>0</td>\n",
       "      <td>0</td>\n",
       "      <td>0</td>\n",
       "      <td>0</td>\n",
       "      <td>...</td>\n",
       "      <td>0</td>\n",
       "      <td>0</td>\n",
       "      <td>0</td>\n",
       "      <td>0</td>\n",
       "      <td>0</td>\n",
       "      <td>0</td>\n",
       "      <td>0</td>\n",
       "      <td>0</td>\n",
       "      <td>0</td>\n",
       "      <td>0</td>\n",
       "    </tr>\n",
       "    <tr>\n",
       "      <th>4</th>\n",
       "      <td>0</td>\n",
       "      <td>0</td>\n",
       "      <td>0</td>\n",
       "      <td>0</td>\n",
       "      <td>0</td>\n",
       "      <td>0</td>\n",
       "      <td>0</td>\n",
       "      <td>0</td>\n",
       "      <td>0</td>\n",
       "      <td>0</td>\n",
       "      <td>...</td>\n",
       "      <td>0</td>\n",
       "      <td>0</td>\n",
       "      <td>0</td>\n",
       "      <td>0</td>\n",
       "      <td>0</td>\n",
       "      <td>0</td>\n",
       "      <td>0</td>\n",
       "      <td>0</td>\n",
       "      <td>0</td>\n",
       "      <td>0</td>\n",
       "    </tr>\n",
       "  </tbody>\n",
       "</table>\n",
       "<p>5 rows × 785 columns</p>\n",
       "</div>"
      ],
      "text/plain": [
       "   label  pixel0  pixel1  pixel2  pixel3  pixel4  pixel5  pixel6  pixel7  \\\n",
       "0      1       0       0       0       0       0       0       0       0   \n",
       "1      0       0       0       0       0       0       0       0       0   \n",
       "2      1       0       0       0       0       0       0       0       0   \n",
       "3      4       0       0       0       0       0       0       0       0   \n",
       "4      0       0       0       0       0       0       0       0       0   \n",
       "\n",
       "   pixel8  ...  pixel774  pixel775  pixel776  pixel777  pixel778  pixel779  \\\n",
       "0       0  ...         0         0         0         0         0         0   \n",
       "1       0  ...         0         0         0         0         0         0   \n",
       "2       0  ...         0         0         0         0         0         0   \n",
       "3       0  ...         0         0         0         0         0         0   \n",
       "4       0  ...         0         0         0         0         0         0   \n",
       "\n",
       "   pixel780  pixel781  pixel782  pixel783  \n",
       "0         0         0         0         0  \n",
       "1         0         0         0         0  \n",
       "2         0         0         0         0  \n",
       "3         0         0         0         0  \n",
       "4         0         0         0         0  \n",
       "\n",
       "[5 rows x 785 columns]"
      ]
     },
<<<<<<< HEAD
<<<<<<< HEAD
     "execution_count": 2,
=======
     "execution_count": 29,
>>>>>>> a46d565c1fee6fca94c14e5ee6bc4c0d2dce59e9
=======
     "execution_count": 3,
>>>>>>> 7a2d47a39e0e10d2c65274881756452360e18a75
     "metadata": {},
     "output_type": "execute_result"
    }
   ],
   "source": [
    "df = pd.read_csv(\"mnist.csv\")\n",
    "df.head()"
   ]
  },
  {
   "cell_type": "code",
   "execution_count": 16,
   "metadata": {},
   "outputs": [
    {
     "name": "stdout",
     "output_type": "stream",
     "text": [
      "740    5\n",
      "Name: label, dtype: int64\n",
      "740      5\n",
      "9193     5\n",
      "11690    8\n",
      "24247    8\n",
      "26361    5\n",
      "27004    5\n",
      "34413    5\n",
      "35846    8\n",
      "36054    5\n",
      "36357    0\n",
      "37458    8\n",
      "Name: label, dtype: int64\n",
      "9064     8\n",
      "9193     5\n",
      "11690    8\n",
      "15953    5\n",
      "24247    8\n",
      "26361    5\n",
      "27004    5\n",
      "34413    5\n",
      "35846    8\n",
      "36054    5\n",
      "36357    0\n",
      "37458    8\n",
      "37650    5\n",
      "Name: label, dtype: int64\n",
      "3374     5\n",
      "5471     8\n",
      "6341     5\n",
      "9064     8\n",
      "15953    5\n",
      "22873    5\n",
      "35381    8\n",
      "37458    8\n",
      "37650    5\n",
      "Name: label, dtype: int64\n",
      "244      5\n",
      "3374     5\n",
      "5471     8\n",
      "6341     5\n",
      "15395    5\n",
      "22721    8\n",
      "22873    5\n",
      "32569    8\n",
      "35381    8\n",
      "36320    8\n",
      "37650    5\n",
      "Name: label, dtype: int64\n",
      "244      5\n",
      "5471     8\n",
      "13032    1\n",
      "15395    5\n",
      "22721    8\n",
      "22873    5\n",
      "27175    5\n",
      "32569    8\n",
      "35381    8\n",
      "35943    8\n",
      "36320    8\n",
      "Name: label, dtype: int64\n",
      "13032    1\n",
      "21778    7\n",
      "26790    8\n",
      "27175    5\n",
      "32569    8\n",
      "35943    8\n",
      "36320    8\n",
      "38142    1\n",
      "39840    8\n",
      "Name: label, dtype: int64\n",
      "3674     2\n",
      "21778    7\n",
      "26790    8\n",
      "38142    1\n",
      "39840    8\n",
      "40907    2\n",
      "Name: label, dtype: int64\n",
      "3674     2\n",
      "39840    8\n",
      "40907    2\n",
      "Name: label, dtype: int64\n",
      "3674     2\n",
      "7599     2\n",
      "40907    2\n",
      "Name: label, dtype: int64\n",
      "235      2\n",
      "2516     4\n",
      "7599     2\n",
      "10307    4\n",
      "17939    2\n",
      "24664    2\n",
      "Name: label, dtype: int64\n",
      "235      2\n",
      "2516     4\n",
      "7599     2\n",
      "8100     0\n",
      "10307    4\n",
      "17939    2\n",
      "17972    2\n",
      "22047    2\n",
      "24664    2\n",
      "27826    2\n",
      "33284    2\n",
      "Name: label, dtype: int64\n",
      "55       2\n",
      "2516     4\n",
      "8100     0\n",
      "11784    1\n",
      "17939    2\n",
      "17972    2\n",
      "21250    2\n",
      "22047    2\n",
      "24664    2\n",
      "27826    2\n",
      "30556    2\n",
      "33284    2\n",
      "40673    2\n",
      "Name: label, dtype: int64\n",
      "55       2\n",
      "2516     4\n",
      "11784    1\n",
      "21250    2\n",
      "28293    2\n",
      "30556    2\n",
      "Name: label, dtype: int64\n",
      "11784    1\n",
      "28293    2\n",
      "Name: label, dtype: int64\n",
      "38323    5\n",
      "Name: label, dtype: int64\n",
      "24909    0\n",
      "Name: label, dtype: int64\n",
      "24909    0\n",
      "Name: label, dtype: int64\n"
     ]
    }
   ],
   "source": [
    "# for i in range(28):\n",
    "#     feature = 'pixel' + str(i)\n",
    "#     border_marked = df[df[feature] != 0]\n",
    "#     if border_marked.shape[0] > 0:\n",
    "#         print(border_marked['label']) \n",
    "        \n",
    "        \n",
    "for i in range(27, 783, 28):\n",
    "    feature = 'pixel' + str(i)\n",
    "    border_marked = df[df[feature] != 0]\n",
    "    if border_marked.shape[0] > 0:\n",
    "        print(border_marked['label'])"
   ]
  },
  {
   "cell_type": "code",
   "execution_count": 4,
   "metadata": {
    "scrolled": true
   },
   "outputs": [
    {
     "name": "stdout",
     "output_type": "stream",
     "text": [
      "<class 'pandas.core.frame.DataFrame'>\n",
      "RangeIndex: 42000 entries, 0 to 41999\n",
      "Columns: 785 entries, label to pixel783\n",
      "dtypes: int64(785)\n",
      "memory usage: 251.5 MB\n"
     ]
    }
   ],
   "source": [
    "df.info()"
   ]
  },
  {
   "cell_type": "code",
<<<<<<< HEAD
<<<<<<< HEAD
   "execution_count": 20,
=======
   "execution_count": 4,
>>>>>>> a46d565c1fee6fca94c14e5ee6bc4c0d2dce59e9
=======
   "execution_count": 3,
>>>>>>> 7a2d47a39e0e10d2c65274881756452360e18a75
   "metadata": {},
   "outputs": [
    {
     "data": {
<<<<<<< HEAD
<<<<<<< HEAD
      "image/png": "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\n",
=======
      "image/png": "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\n",
>>>>>>> a46d565c1fee6fca94c14e5ee6bc4c0d2dce59e9
=======
      "image/png": "iVBORw0KGgoAAAANSUhEUgAAAPsAAAD4CAYAAAAq5pAIAAAABHNCSVQICAgIfAhkiAAAAAlwSFlzAAALEgAACxIB0t1+/AAAADh0RVh0U29mdHdhcmUAbWF0cGxvdGxpYiB2ZXJzaW9uMy4xLjAsIGh0dHA6Ly9tYXRwbG90bGliLm9yZy+17YcXAAANX0lEQVR4nO3db6hc9Z3H8c9nzY2ojSbZe3WjkU1WgjaIpmEIYtaqiEUjEiu41AeSBWn6QKGRgiuuECEPjMs2oeBSSTQ0XbqWSqpG/NOqFMUHloySxLhxV1ezbZqQ3BBIUxFizHcf3MlyjXd+czNz5s/N9/2Cy8yc75x7vhz95Myc3zn354gQgDPfX/W7AQC9QdiBJAg7kARhB5Ig7EAS03q5seHh4Zg3b14vNwmksmfPHh06dMgT1ToKu+1bJP1E0lmSnoqItaX3z5s3T/V6vZNNAiio1WpNa21/jLd9lqR/k3SrpIWS7ra9sN3fB6C7OvnOvkTSxxHxSUQck/RLScuraQtA1ToJ+yWS/jju9d7Gsq+wvdJ23XZ9dHS0g80B6EQnYZ/oJMDXrr2NiA0RUYuI2sjISAebA9CJTsK+V9Kl417PlbSvs3YAdEsnYd8maYHt+banS/qepK3VtAWgam0PvUXEcdv3S/qNxobeNkXEB5V1BqBSHY2zR8TLkl6uqBcAXcTlskAShB1IgrADSRB2IAnCDiRB2IEkCDuQBGEHkiDsQBKEHUiCsANJEHYgCcIOJEHYgSQIO5AEYQeSIOxAEoQdSIKwA0kQdiAJwg4kQdiBJAg7kARhB5Ig7EAShB1IgrADSRB2IAnCDiTR0SyumVx22WVNawsXLiyuu2XLlmJ9+vTpbfU01X3++efF+uuvv16s33777VW2c8brKOy290g6KulLSccjolZFUwCqV8WR/caIOFTB7wHQRXxnB5LoNOwh6be237W9cqI32F5pu267Pjo62uHmALSr07AvjYjFkm6VdJ/tb5/6hojYEBG1iKiNjIx0uDkA7eoo7BGxr/F4UNJzkpZU0RSA6rUddtvn2Z5x8rmk70jaVVVjAKrVydn4iyQ9Z/vk7/mPiHi1kq4G0Jtvvtm0tmDBguK6n332WbGedZz98OHDxfqaNWuKdcbZT0/bYY+ITyRdXWEvALqIoTcgCcIOJEHYgSQIO5AEYQeS4BbXSZo7d27T2tDQUHHdBx98sFjfuHFjWz2d6bZt21asl4ZDJen666+vsp0pjyM7kARhB5Ig7EAShB1IgrADSRB2IAnCDiTBOHsF7rzzzmK9Xq8X68eOHSvWs94C28qJEyf63cKUwpEdSIKwA0kQdiAJwg4kQdiBJAg7kARhB5JgnL0C8+fPL9Y3b95crB85cqRYP1Nn0jn77LOL9ZkzZ/aokxw4sgNJEHYgCcIOJEHYgSQIO5AEYQeSIOxAEoyzV2Dx4sX9bmFKGh4eLtavvPLKHnWSQ8sju+1Ntg/a3jVu2Wzbr9n+qPE4q7ttAujUZD7G/0zSLacse0jSGxGxQNIbjdcABljLsEfEW5IOn7J4uaST14BulnRHxX0BqFi7J+guioj9ktR4vLDZG22vtF23XR8dHW1zcwA61fWz8RGxISJqEVE7U2/oAKaCdsN+wPYcSWo8HqyuJQDd0G7Yt0pa0Xi+QtIL1bQDoFtajrPbfkbSDZKGbe+VtFrSWkm/sn2vpD9IuqubTQ66VvdloztefPHFYv3GG2/sUSdTQ8uwR8TdTUo3VdwLgC7iclkgCcIOJEHYgSQIO5AEYQeS4BbXCpx//vnF+rRp7OZuePbZZ4v1devW9aiTqYEjO5AEYQeSIOxAEoQdSIKwA0kQdiAJwg4kwQBwBa655ppife7cucX6I488Uqw/8cQTxfrQ0FCxPlXddtttxfratWuL9aNHjzatzZgxo62epjKO7EAShB1IgrADSRB2IAnCDiRB2IEkCDuQBOPsPfDUU08V67fccuq8mV/1wAMPFOtXXHHFafc0FVx88cXF+pEjR4r1d955p2nt5ptvbqunqYwjO5AEYQeSIOxAEoQdSIKwA0kQdiAJwg4kwTh7D9x0U3nC21mzZhXrq1atKtZfffXV0+5pKmh1P/s555zTo07ODC2P7LY32T5oe9e4ZY/a/pPt7Y2fZd1tE0CnJvMx/meSJrrEa31ELGr8vFxtWwCq1jLsEfGWpMM96AVAF3Vygu5+2zsbH/Obfum0vdJ23XZ9dHS0g80B6ES7Yf+ppMskLZK0X9KPm70xIjZERC0iaiMjI21uDkCn2gp7RByIiC8j4oSkjZKWVNsWgKq1FXbbc8a9/K6kXc3eC2AwtBxnt/2MpBskDdveK2m1pBtsL5IUkvZI+kEXe0zvggsu6HcLfTFz5sxi/eqrry7W169f37S2dOnS4rrnnntusT4VtQx7RNw9weKnu9ALgC7iclkgCcIOJEHYgSQIO5AEYQeS4BbXAXDHHXcU6/V6vVg/fvx409q0aZ39J963b1+xvnPnzmK99OecX3rppeK6X3zxRbG+Y8eOYr3kscceK9bXrFnT9u8eVBzZgSQIO5AEYQeSIOxAEoQdSIKwA0kQdiAJxtkHwD333FOsb9y4sVgvjQm3uk30lVdeKdbffvvtYr3VWPh1113XtLZ69eriusPDw8X6888/X6w//vjjTWvXXnttcd0zEUd2IAnCDiRB2IEkCDuQBGEHkiDsQBKEHUiCcfYBcNVVVxXrl19+ebH+5JNPtr3tZcvKE/CuW7euWK/Vah3VOzF79uxivTTOnhFHdiAJwg4kQdiBJAg7kARhB5Ig7EAShB1IgnH2AdBqSuYPP/ywR51MLa3ud8dXtTyy277U9u9s77b9ge0fNpbPtv2a7Y8aj7O63y6Adk3mY/xxST+KiG9KukbSfbYXSnpI0hsRsUDSG43XAAZUy7BHxP6IeK/x/Kik3ZIukbRc0ubG2zZLKs9hBKCvTusEne15kr4l6feSLoqI/dLYPwiSLmyyzkrbddv10dHRzroF0LZJh932NyRtkbQqIv482fUiYkNE1CKiNjIy0k6PACowqbDbHtJY0H8REb9uLD5ge06jPkfSwe60CKAKkzkbb0lPS9odEePvd9wqaUXj+QpJL1TfHoCqTGacfamkeyS9b3t7Y9nDktZK+pXteyX9QdJd3WkRQBVahj0i3pbkJuWbqm0HQLdwuSyQBGEHkiDsQBKEHUiCsANJcIsrpqwZM2YU64sWLWpa+/TTT6tuZ+BxZAeSIOxAEoQdSIKwA0kQdiAJwg4kQdiBJBhnx5Q1NDRUrJf+MtK2bduqbmfgcWQHkiDsQBKEHUiCsANJEHYgCcIOJEHYgSQYZ8eUdezYsWL9wIEDTWt33ZXvL59zZAeSIOxAEoQdSIKwA0kQdiAJwg4kQdiBJFqOs9u+VNLPJf2NpBOSNkTET2w/Kun7kkYbb304Il7uVqPAqaZPn16s79ixo0edTA2TuajmuKQfRcR7tmdIetf2a43a+oj41+61B6Aqk5mffb+k/Y3nR23vlnRJtxsDUK3T+s5ue56kb0n6fWPR/bZ32t5ke1aTdVbartuuj46OTvQWAD0w6bDb/oakLZJWRcSfJf1U0mWSFmnsyP/jidaLiA0RUYuIWulvggHorkmF3faQxoL+i4j4tSRFxIGI+DIiTkjaKGlJ99oE0KmWYbdtSU9L2h0R68YtnzPubd+VtKv69gBUZTJn45dKukfS+7a3N5Y9LOlu24skhaQ9kn7QlQ4BVGIyZ+PfluQJSoypA1MIV9ABSRB2IAnCDiRB2IEkCDuQBGEHkiDsQBKEHUiCsANJEHYgCcIOJEHYgSQIO5AEYQeScET0bmP2qKT/HbdoWNKhnjVwega1t0HtS6K3dlXZ299GxIR//62nYf/axu16RNT61kDBoPY2qH1J9NauXvXGx3ggCcIOJNHvsG/o8/ZLBrW3Qe1Lord29aS3vn5nB9A7/T6yA+gRwg4k0Zew277F9n/Z/tj2Q/3ooRnbe2y/b3u77Xqfe9lk+6DtXeOWzbb9mu2PGo8TzrHXp94etf2nxr7bbntZn3q71PbvbO+2/YHtHzaW93XfFfrqyX7r+Xd222dJ+m9JN0vaK2mbpLsj4j972kgTtvdIqkVE3y/AsP1tSX+R9POIuLKx7F8kHY6ItY1/KGdFxD8NSG+PSvpLv6fxbsxWNGf8NOOS7pD0j+rjviv09Q/qwX7rx5F9iaSPI+KTiDgm6ZeSlvehj4EXEW9JOnzK4uWSNjeeb9bY/yw916S3gRAR+yPivcbzo5JOTjPe131X6Ksn+hH2SyT9cdzrvRqs+d5D0m9tv2t7Zb+bmcBFEbFfGvufR9KFfe7nVC2n8e6lU6YZH5h91870553qR9gnmkpqkMb/lkbEYkm3Srqv8XEVkzOpabx7ZYJpxgdCu9Ofd6ofYd8r6dJxr+dK2teHPiYUEfsajwclPafBm4r6wMkZdBuPB/vcz/8bpGm8J5pmXAOw7/o5/Xk/wr5N0gLb821Pl/Q9SVv70MfX2D6vceJEts+T9B0N3lTUWyWtaDxfIemFPvbyFYMyjXezacbV533X9+nPI6LnP5KWaeyM/P9I+ud+9NCkr7+TtKPx80G/e5P0jMY+1n2hsU9E90r6a0lvSPqo8Th7gHr7d0nvS9qpsWDN6VNvf6+xr4Y7JW1v/Czr974r9NWT/cblskASXEEHJEHYgSQIO5AEYQeSIOxAEoQdSIKwA0n8H1KK37xRIzOKAAAAAElFTkSuQmCC\n",
>>>>>>> 7a2d47a39e0e10d2c65274881756452360e18a75
      "text/plain": [
       "<Figure size 432x288 with 1 Axes>"
      ]
     },
     "metadata": {
      "needs_background": "light"
     },
     "output_type": "display_data"
    }
   ],
   "source": [
    "input_data = np.array(df.drop([\"label\"], axis=1))\n",
    "digit_image = input_data[22873].reshape(28, 28)\n",
    "plt.imshow(digit_image, cmap = 'binary')\n",
    "plt.show()"
   ]
  },
  {
<<<<<<< HEAD
   "cell_type": "code",
<<<<<<< HEAD
=======
   "execution_count": 5,
=======
   "cell_type": "markdown",
>>>>>>> 7a2d47a39e0e10d2c65274881756452360e18a75
   "metadata": {},
   "source": [
    "### 1.1 Predicting Majority class"
   ]
  },
  {
   "cell_type": "code",
<<<<<<< HEAD
>>>>>>> a46d565c1fee6fca94c14e5ee6bc4c0d2dce59e9
   "execution_count": 6,
=======
   "execution_count": 17,
>>>>>>> 7a2d47a39e0e10d2c65274881756452360e18a75
   "metadata": {
    "scrolled": false
   },
   "outputs": [
    {
<<<<<<< HEAD
     "ename": "NameError",
     "evalue": "name 'labels' is not defined",
     "output_type": "error",
     "traceback": [
      "\u001b[0;31m---------------------------------------------------------------------------\u001b[0m",
      "\u001b[0;31mNameError\u001b[0m                                 Traceback (most recent call last)",
      "\u001b[0;32m<ipython-input-6-b6bfdec8e3ec>\u001b[0m in \u001b[0;36m<module>\u001b[0;34m\u001b[0m\n\u001b[0;32m----> 1\u001b[0;31m \u001b[0mplt\u001b[0m\u001b[0;34m.\u001b[0m\u001b[0mhist\u001b[0m\u001b[0;34m(\u001b[0m\u001b[0mlabels\u001b[0m\u001b[0;34m,\u001b[0m \u001b[0mbins\u001b[0m\u001b[0;34m=\u001b[0m\u001b[0;36m50\u001b[0m\u001b[0;34m,\u001b[0m \u001b[0mhisttype\u001b[0m\u001b[0;34m=\u001b[0m\u001b[0;34m'step'\u001b[0m\u001b[0;34m)\u001b[0m\u001b[0;34m\u001b[0m\u001b[0;34m\u001b[0m\u001b[0m\n\u001b[0m",
      "\u001b[0;31mNameError\u001b[0m: name 'labels' is not defined"
     ]
=======
     "data": {
      "image/png": "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\n",
      "text/plain": [
       "<Figure size 432x288 with 1 Axes>"
      ]
     },
     "metadata": {
      "needs_background": "light"
     },
     "output_type": "display_data"
>>>>>>> a46d565c1fee6fca94c14e5ee6bc4c0d2dce59e9
    }
   ],
   "source": [
    "plt.hist(labels, bins=50, histtype='step')\n",
    "plt.show()"
   ]
  },
  {
   "cell_type": "code",
<<<<<<< HEAD
<<<<<<< HEAD
   "execution_count": null,
   "metadata": {},
   "outputs": [],
   "source": [
    "labels = df[\"label\"]\n",
    "for i in range(0,10):\n",
    "    count_i = labels[labels == i]\n",
    "    precentege = count_i.count()/labels.count() * 100 \n",
    "    print(\"Label {}: {:0.2f}%\".format(i, precentege))"
   ]
  },
  {
   "cell_type": "code",
   "execution_count": 25,
=======
   "execution_count": 7,
>>>>>>> a46d565c1fee6fca94c14e5ee6bc4c0d2dce59e9
=======
   "execution_count": 42,
>>>>>>> 7a2d47a39e0e10d2c65274881756452360e18a75
   "metadata": {},
   "outputs": [
    {
     "name": "stdout",
     "output_type": "stream",
     "text": [
      "Label 0: 9.84%\n",
      "Label 1: 11.15%\n",
      "Label 2: 9.95%\n",
      "Label 3: 10.36%\n",
      "Label 4: 9.70%\n",
      "Label 5: 9.04%\n",
      "Label 6: 9.85%\n",
      "Label 7: 10.48%\n",
      "Label 8: 9.67%\n",
      "Label 9: 9.97%\n"
     ]
    }
   ],
   "source": [
<<<<<<< HEAD
    "input_data = np.array(df.drop([\"label\"], axis=1))\n",
    "input_data[input_data < 200] = 0"
   ]
  },
  {
   "cell_type": "code",
<<<<<<< HEAD
   "execution_count": 26,
=======
   "execution_count": 8,
>>>>>>> a46d565c1fee6fca94c14e5ee6bc4c0d2dce59e9
   "metadata": {},
   "outputs": [
    {
     "data": {
<<<<<<< HEAD
      "image/png": "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\n",
=======
      "image/png": "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\n",
>>>>>>> a46d565c1fee6fca94c14e5ee6bc4c0d2dce59e9
      "text/plain": [
       "<Figure size 432x288 with 1 Axes>"
      ]
     },
     "metadata": {
      "needs_background": "light"
     },
     "output_type": "display_data"
    }
   ],
   "source": [
    "digit_image = input_data[22873].reshape(28, 28)\n",
    "plt.imshow(digit_image, cmap = 'binary')\n",
    "plt.show()"
=======
    "labels = df[\"label\"]\n",
    "entries = np.array([])\n",
    "for i in range(10):\n",
    "    count_i = labels[labels == i]\n",
    "    precentege = count_i.count()/labels.count() * 100 \n",
    "    print(\"Label {}: {:0.2f}%\".format(i, precentege))\n",
    "    entries = np.append(entries, [i, precentege])"
   ]
  },
  {
   "cell_type": "markdown",
   "metadata": {},
   "source": [
    "### 1.3 With futher analysis some additional notes:\n",
    "    1. For all none zero features its usefull to make them equals (=1). We might have seen a lot more variety if        will be work woth binary distinguishable values\n",
    "    2. To reduce tilt of digits (it makes symmetry feature more strong) \n",
    "    3. Put digit at frame centre\n",
    "    4. Try to overlap digits to calculate mean difference"
>>>>>>> 7a2d47a39e0e10d2c65274881756452360e18a75
   ]
  },
  {
   "cell_type": "code",
<<<<<<< HEAD
<<<<<<< HEAD
   "execution_count": 45,
=======
   "execution_count": 9,
>>>>>>> a46d565c1fee6fca94c14e5ee6bc4c0d2dce59e9
   "metadata": {},
   "outputs": [],
   "source": [
    "#new_df = df.drop([\"label\"], axis=1) \n",
    "df[\"density\"] = df.iloc[:, 1:].astype(bool).sum(axis=1)"
=======
   "execution_count": 5,
   "metadata": {},
   "outputs": [],
   "source": [
    "labels = df['label']\n",
    "newDF = df.drop('label', axis=1)\n",
    "\n",
    "newDF[newDF > 0] = 1\n",
    "\n",
    "newDF = pd.concat([labels, newDF], axis=1)"
>>>>>>> 7a2d47a39e0e10d2c65274881756452360e18a75
   ]
  },
  {
   "cell_type": "code",
<<<<<<< HEAD
<<<<<<< HEAD
   "execution_count": null,
=======
   "execution_count": 10,
>>>>>>> a46d565c1fee6fca94c14e5ee6bc4c0d2dce59e9
=======
   "execution_count": 29,
>>>>>>> 7a2d47a39e0e10d2c65274881756452360e18a75
   "metadata": {},
   "outputs": [],
   "source": [
    "new_df.iloc[:, [0,-1]]"
   ]
  },
  {
   "cell_type": "code",
   "execution_count": 46,
   "metadata": {
    "scrolled": true
   },
   "outputs": [
    {
     "data": {
      "text/html": [
       "<div>\n",
       "<style scoped>\n",
       "    .dataframe tbody tr th:only-of-type {\n",
       "        vertical-align: middle;\n",
       "    }\n",
       "\n",
       "    .dataframe tbody tr th {\n",
       "        vertical-align: top;\n",
       "    }\n",
       "\n",
       "    .dataframe thead th {\n",
       "        text-align: right;\n",
       "    }\n",
       "</style>\n",
       "<table border=\"1\" class=\"dataframe\">\n",
       "  <thead>\n",
       "    <tr style=\"text-align: right;\">\n",
       "      <th></th>\n",
       "      <th>label</th>\n",
       "      <th>pixel0</th>\n",
       "      <th>pixel1</th>\n",
       "      <th>pixel2</th>\n",
       "      <th>pixel3</th>\n",
       "      <th>pixel4</th>\n",
       "      <th>pixel5</th>\n",
       "      <th>pixel6</th>\n",
       "      <th>pixel7</th>\n",
       "      <th>pixel8</th>\n",
       "      <th>...</th>\n",
       "      <th>pixel774</th>\n",
       "      <th>pixel775</th>\n",
       "      <th>pixel776</th>\n",
       "      <th>pixel777</th>\n",
       "      <th>pixel778</th>\n",
       "      <th>pixel779</th>\n",
       "      <th>pixel780</th>\n",
       "      <th>pixel781</th>\n",
       "      <th>pixel782</th>\n",
       "      <th>pixel783</th>\n",
       "    </tr>\n",
       "  </thead>\n",
       "  <tbody>\n",
       "    <tr>\n",
       "      <th>0</th>\n",
       "      <td>1</td>\n",
       "      <td>0</td>\n",
       "      <td>0</td>\n",
       "      <td>0</td>\n",
       "      <td>0</td>\n",
       "      <td>0</td>\n",
       "      <td>0</td>\n",
       "      <td>0</td>\n",
       "      <td>0</td>\n",
       "      <td>0</td>\n",
       "      <td>...</td>\n",
       "      <td>0</td>\n",
       "      <td>0</td>\n",
       "      <td>0</td>\n",
       "      <td>0</td>\n",
       "      <td>0</td>\n",
       "      <td>0</td>\n",
       "      <td>0</td>\n",
       "      <td>0</td>\n",
       "      <td>0</td>\n",
       "      <td>0</td>\n",
       "    </tr>\n",
       "    <tr>\n",
       "      <th>1</th>\n",
       "      <td>0</td>\n",
       "      <td>0</td>\n",
       "      <td>0</td>\n",
       "      <td>0</td>\n",
       "      <td>0</td>\n",
       "      <td>0</td>\n",
       "      <td>0</td>\n",
       "      <td>0</td>\n",
       "      <td>0</td>\n",
       "      <td>0</td>\n",
       "      <td>...</td>\n",
       "      <td>0</td>\n",
       "      <td>0</td>\n",
       "      <td>0</td>\n",
       "      <td>0</td>\n",
       "      <td>0</td>\n",
       "      <td>0</td>\n",
       "      <td>0</td>\n",
       "      <td>0</td>\n",
       "      <td>0</td>\n",
<<<<<<< HEAD
       "      <td>246</td>\n",
=======
       "      <td>0</td>\n",
>>>>>>> 7a2d47a39e0e10d2c65274881756452360e18a75
       "    </tr>\n",
       "    <tr>\n",
       "      <th>2</th>\n",
       "      <td>1</td>\n",
       "      <td>0</td>\n",
       "      <td>0</td>\n",
       "      <td>0</td>\n",
       "      <td>0</td>\n",
       "      <td>0</td>\n",
       "      <td>0</td>\n",
       "      <td>0</td>\n",
       "      <td>0</td>\n",
       "      <td>0</td>\n",
       "      <td>...</td>\n",
       "      <td>0</td>\n",
       "      <td>0</td>\n",
       "      <td>0</td>\n",
       "      <td>0</td>\n",
       "      <td>0</td>\n",
       "      <td>0</td>\n",
       "      <td>0</td>\n",
       "      <td>0</td>\n",
       "      <td>0</td>\n",
       "      <td>0</td>\n",
       "    </tr>\n",
       "    <tr>\n",
       "      <th>3</th>\n",
       "      <td>4</td>\n",
       "      <td>0</td>\n",
       "      <td>0</td>\n",
       "      <td>0</td>\n",
       "      <td>0</td>\n",
       "      <td>0</td>\n",
       "      <td>0</td>\n",
       "      <td>0</td>\n",
       "      <td>0</td>\n",
       "      <td>0</td>\n",
       "      <td>...</td>\n",
       "      <td>0</td>\n",
       "      <td>0</td>\n",
       "      <td>0</td>\n",
       "      <td>0</td>\n",
       "      <td>0</td>\n",
       "      <td>0</td>\n",
       "      <td>0</td>\n",
       "      <td>0</td>\n",
       "      <td>0</td>\n",
       "      <td>0</td>\n",
       "    </tr>\n",
       "    <tr>\n",
       "      <th>4</th>\n",
       "      <td>0</td>\n",
       "      <td>0</td>\n",
       "      <td>0</td>\n",
       "      <td>0</td>\n",
       "      <td>0</td>\n",
       "      <td>0</td>\n",
       "      <td>0</td>\n",
       "      <td>0</td>\n",
       "      <td>0</td>\n",
       "      <td>0</td>\n",
       "      <td>...</td>\n",
       "      <td>0</td>\n",
       "      <td>0</td>\n",
       "      <td>0</td>\n",
       "      <td>0</td>\n",
       "      <td>0</td>\n",
       "      <td>0</td>\n",
       "      <td>0</td>\n",
       "      <td>0</td>\n",
       "      <td>0</td>\n",
<<<<<<< HEAD
       "      <td>261</td>\n",
=======
       "      <td>0</td>\n",
>>>>>>> 7a2d47a39e0e10d2c65274881756452360e18a75
       "    </tr>\n",
       "  </tbody>\n",
       "</table>\n",
       "<p>5 rows × 785 columns</p>\n",
       "</div>"
      ],
      "text/plain": [
       "   label  pixel0  pixel1  pixel2  pixel3  pixel4  pixel5  pixel6  pixel7  \\\n",
       "0      1       0       0       0       0       0       0       0       0   \n",
       "1      0       0       0       0       0       0       0       0       0   \n",
       "2      1       0       0       0       0       0       0       0       0   \n",
       "3      4       0       0       0       0       0       0       0       0   \n",
       "4      0       0       0       0       0       0       0       0       0   \n",
       "\n",
       "   pixel8  ...  pixel774  pixel775  pixel776  pixel777  pixel778  pixel779  \\\n",
       "0       0  ...         0         0         0         0         0         0   \n",
       "1       0  ...         0         0         0         0         0         0   \n",
       "2       0  ...         0         0         0         0         0         0   \n",
       "3       0  ...         0         0         0         0         0         0   \n",
       "4       0  ...         0         0         0         0         0         0   \n",
       "\n",
<<<<<<< HEAD
       "   pixel781  pixel782  pixel783  density  \n",
       "0         0         0         0       98  \n",
       "1         0         0         0      246  \n",
       "2         0         0         0       80  \n",
       "3         0         0         0      114  \n",
       "4         0         0         0      261  \n",
=======
       "   pixel780  pixel781  pixel782  pixel783  \n",
       "0         0         0         0         0  \n",
       "1         0         0         0         0  \n",
       "2         0         0         0         0  \n",
       "3         0         0         0         0  \n",
       "4         0         0         0         0  \n",
>>>>>>> 7a2d47a39e0e10d2c65274881756452360e18a75
       "\n",
       "[5 rows x 785 columns]"
      ]
     },
<<<<<<< HEAD
<<<<<<< HEAD
     "execution_count": 46,
=======
     "execution_count": 10,
>>>>>>> a46d565c1fee6fca94c14e5ee6bc4c0d2dce59e9
=======
     "execution_count": 29,
>>>>>>> 7a2d47a39e0e10d2c65274881756452360e18a75
     "metadata": {},
     "output_type": "execute_result"
    }
   ],
   "source": [
<<<<<<< HEAD
    "df.head()"
=======
    "newDF.head()"
>>>>>>> 7a2d47a39e0e10d2c65274881756452360e18a75
   ]
  },
  {
   "cell_type": "code",
<<<<<<< HEAD
<<<<<<< HEAD
   "execution_count": 47,
=======
   "execution_count": 11,
>>>>>>> a46d565c1fee6fca94c14e5ee6bc4c0d2dce59e9
   "metadata": {},
   "outputs": [],
   "source": [
    "DF_Label_Density = df.iloc[:, [0,-1]]"
=======
   "execution_count": 7,
   "metadata": {},
   "outputs": [
    {
     "data": {
      "image/png": "iVBORw0KGgoAAAANSUhEUgAAA9UAAAJACAYAAACDlkVbAAAABHNCSVQICAgIfAhkiAAAAAlwSFlzAAALEgAACxIB0t1+/AAAADh0RVh0U29mdHdhcmUAbWF0cGxvdGxpYiB2ZXJzaW9uMy4xLjAsIGh0dHA6Ly9tYXRwbG90bGliLm9yZy+17YcXAAAgAElEQVR4nO3dT4htd5k++ue9iU5aB5GUIcTYRyRcdNLxcgiCzSWNdJN2Eh0IZiAZCHGgoOAkONFJg4NWe3AbIZJwcsFWBLXNIHR3CEJauIgVCZr0+dkG8U/MISlxYGZN9L2D7P55+qRqV53v/lN7rf35wKb2XrWr1nfVSa3Hx7X3W9XdAQAAAK7f/3HeCwAAAICpUqoBAABgkFINAAAAg5RqAAAAGKRUAwAAwCClGgAAAAatVKqr6p6q+mlVPV9VD65rUQDMg5wAYBk5wRzU6N+prqobkvxnkr9O8kKSHya5r7v/46Svufnmm/vChQtD+4NVPf3007/t7oPzXgfsCznB1MgJ2C45wdSclBM3rvA970ryfHf/PEmq6htJ7k1y4i/BhQsXcnh4uMIuYVxV/fK81wB7Rk4wKXICtk5OMCkn5cQqL/++Lcmvr3r8wmIbACRyAoDl5ASzsEqprmO2ve615FX1QFUdVtXh0dHRCrsDYGLkBADLyAlmYZVS/UKS2696/LYkL177pO5+qLsvdvfFgwNvUwLYI3ICgGXkBLOwSqn+YZI7quodVfXGJB9J8th6lgXADMgJAJaRE8zC8KCy7n61qj6Z5F+T3JDkke5+bm0rA2DS5AQAy8gJ5mKV6d/p7seTPL6mtQAwM3ICgGXkBHOwysu/AQAAYK8p1QAAADBIqQYAAIBBSjUAAAAMUqoBAABgkFINAAAAg5RqAAAAGKRUAwAAwCClGgAAAAYp1QAAADBIqQYAAIBBSjUAAAAMUqoBAABgkFINAAAAg5RqAAAAGHTjeS+A6amqlb9Hd69hJQDTs45z6Hlw3gbYTZvKFef9s3OlGgAAAAYp1QAAADBIqQYAAIBBSjUAAAAMWmlQWVX9IskrSf6Q5NXuvriORQEwD3ICgGXkBHOwjunff9Xdv13D92EHTXVKLbBTZp8T+3CuPOkYTYcF1mD2OcG8efk3AAAADFq1VHeSf6uqp6vqgXUsCIBZkRMALCMnmLxVX/79vu5+saremuSJqvpf3f3U1U9Y/HI8kCRvf/vbV9wdABMjJwBYRk4weStdqe7uFxcfX07ynSR3HfOch7r7YndfPDg4WGV3AEyMnABgGTnBHAyX6qr6s6p683/fT/I3SZ5d18LYrqo69gYwao454Vz5eif9TPycgNPMMSfYT6u8/PuWJN9ZhOSNSf6pu/9lLasCYA7kBADLyAlmYbhUd/fPk/zFGtcCwIzICQCWkRPMhT+pBQAAAIOUagAAABikVAMAAMCgVf9ONRNzHtNXu3vr+wQAANgGV6oBAABgkFINAAAAg5RqAAAAGKRUAwAAwCClGgAAAAaZ/j1TpnwDjDuPc+g+OOnnKj8AmDJXqgEAAGCQUg0AAACDlGoAAAAYpFQDAADAIIPKZmDbA3UMlAHYTSednw1eA4DNcaUaAAAABinVAAAAMEipBgAAgEFKNQAAAAw6tVRX1SNV9XJVPXvVtrdU1RNV9bPFx5s2u0wAdpWcAGAZOcHcneVK9aUk91yz7cEkT3b3HUmeXDxmw6rq2BvAObuUCefErpxXu3vl2zq+93nYlX8DYGMuZcI5Aac5tVR391NJfnfN5nuTPLq4/2iSD655XQBMhJwAYBk5wdyNvqf6lu6+kiSLj29d35IAmAE5AcAycoLZ2Pigsqp6oKoOq+rw6Oho07sDYGLkBADLyAl23Wipfqmqbk2SxceXT3pidz/U3Re7++LBwcHg7gCYGDkBwDJygtkYLdWPJbl/cf/+JN9dz3IAmAk5AcAycoLZuPG0J1TV15PcneTmqnohyeeSfCHJN6vqY0l+leTDm1zkvjmPqafnNfEVmD45cX12/Xx70vpM5AZGyQnm7tRS3d33nfCp9695LQBMkJwAYBk5wdxtfFAZAAAAzJVSDQAAAIOUagAAABikVAMAAMCgUweVsVmmqQIAAKOO+6sNOsZ2uVINAAAAg5RqAAAAGKRUAwAAwCClGgAAAAYZVLZnjhtkAACnOSk/NjUM56TvK8cA/idDyc6fK9UAAAAwSKkGAACAQUo1AAAADFKqAQAAYJBSDQAAAINM/94SU/kAzpfzMACwCa5UAwAAwCClGgAAAAYp1QAAADBIqQYAAIBBp5bqqnqkql6uqmev2vb5qvpNVT2zuH1gs8sEYFfJCQCWkRPM3VmuVF9Kcs8x27/c3Xcubo+vd1msqruPvQFswKXICQBOdilyghk7tVR391NJfreFtQAwQXICgGXkBHO3ynuqP1lVP168nOOmta0IgLmQEwAsIyeYhdFS/ZUk70xyZ5IrSb540hOr6oGqOqyqw6Ojo8HdATAxcgKAZeQEszFUqrv7pe7+Q3f/MclXk9y15LkPdffF7r54cHAwuk4AJkROALCMnGBOhkp1Vd161cMPJXn2pOfum6o69rZJBpIBu0ZOALCMnGBObjztCVX19SR3J7m5ql5I8rkkd1fVnUk6yS+SfHyDawRgh8kJAJaRE8zdqaW6u+87ZvPDG1gLABMkJwBYRk4wd6tM/wYAAIC9plQDAADAIKUaAAAABp36nmqOt+mJ3scx1Rtg3Enn0G2fz0/a366f488j9wBgClypBgAAgEFKNQAAAAxSqgEAAGCQUg0AAACDlGoAAAAYZPr3Dtr1CbAArN+uTAXflSnfshCAqXClGgAAAAYp1QAAADBIqQYAAIBBSjUAAAAMUqoBAABgkOnfZ7Ark1ABWL/jpkzv0nl/l9ayKSZ9AzBlrlQDAADAIKUaAAAABinVAAAAMOjUUl1Vt1fV96rqclU9V1WfWmx/S1U9UVU/W3y8afPLBWDXyAkAlpETzN1ZrlS/muQz3f2uJO9N8omqeneSB5M82d13JHly8XjSqurY2yZ19+tuABMzu5w47tzs/AwwbHY5AVc7tVR395Xu/tHi/itJLie5Lcm9SR5dPO3RJB/c1CIB2F1yAoBl5ARzd13vqa6qC0nek+QHSW7p7ivJa78oSd667sUBMC1yAoBl5ARzdOZSXVVvSvKtJJ/u7t9fx9c9UFWHVXV4dHQ0skYAJkBOALCMnGCuzlSqq+oNee0X4Gvd/e3F5peq6tbF529N8vJxX9vdD3X3xe6+eHBwsI41A7Bj5AQAy8gJ5uws078rycNJLnf3l6761GNJ7l/cvz/Jd9e/PAB2nZwAYBk5wdzdeIbnvC/JR5P8pKqeWWz7bJIvJPlmVX0sya+SfHgzSwRgx+1NTpw0AXzTfykCYOL2JifYT6eW6u7+fpKT/tfC+9e7HACmRk4AsIycYO6ua/o3AAAA8CdKNQAAAAxSqgEAAGCQUg0AAACDzjL9GwDgzE6akg4Ac+RKNQAAAAxSqgEAAGCQUg0AAACDlGoAAAAYZFDZVU4arFJVG/veAEzfcef4dWTHFMg3APadK9UAAAAwSKkGAACAQUo1AAAADFKqAQAAYJBSDQAAAINM/z4Dk00BuF6yA4BtkDfnz5VqAAAAGKRUAwAAwCClGgAAAAYp1QAAADDo1FJdVbdX1feq6nJVPVdVn1ps/3xV/aaqnlncPrD55QKwa+QEAMvICebuLNO/X03yme7+UVW9OcnTVfXE4nNf7u6/39zyAJgAOQHAMnKCWTu1VHf3lSRXFvdfqarLSW7b9MIAmAY5AcAycoK5u673VFfVhSTvSfKDxaZPVtWPq+qRqrppzWsDYGLkBADLyAnm6MyluqrelORbST7d3b9P8pUk70xyZ177f56+eMLXPVBVh1V1eHR0tIYlA7CL5AQAy8gJ5upMpbqq3pDXfgG+1t3fTpLufqm7/9Ddf0zy1SR3Hfe13f1Qd1/s7osHBwfrWjcAO0ROALCMnGDOzjL9u5I8nORyd3/pqu23XvW0DyV5dv3LA2DXyQkAlpETzN1Zpn+/L8lHk/ykqp5ZbPtskvuq6s4kneQXST6+kRUCsOvkBADLyAlm7SzTv7+fpI751OPrXw4AUyMnAFhGTjB31zX9GwAAAPgTpRoAAAAGKdUAAAAwSKkGAACAQUo1AAAADFKqAQAAYJBSDQAAAIOUagAAABikVAMAAMCg6u7t7azqKMkvFw9vTvLbre38fDjG3fLn3X1w3osATiYnZmlKxygnYMfJiVma0jEemxNbLdX/Y8dVh9198Vx2viWOEWDcPpxfHCPAuH04vzjGafDybwAAABikVAMAAMCg8yzVD53jvrfFMQKM24fzi2MEGLcP5xfHOAHn9p5qAAAAmDov/wYAAIBBWy/VVXVPVf20qp6vqge3vf9NqapHqurlqnr2qm1vqaonqupni483necaV1FVt1fV96rqclU9V1WfWmyfzTECu0FOTJOcALZljjkx94xI5p0TWy3VVXVDkn9M8rdJ3p3kvqp69zbXsEGXktxzzbYHkzzZ3XckeXLxeKpeTfKZ7n5Xkvcm+cTi325OxwicMzkx6XOonAA2bsY5cSnzzohkxjmx7SvVdyV5vrt/3t3/leQbSe7d8ho2orufSvK7azbfm+TRxf1Hk3xwq4tao+6+0t0/Wtx/JcnlJLdlRscI7AQ5MVFyAtiSWebE3DMimXdObLtU35bk11c9fmGxba5u6e4ryWv/ESV56zmvZy2q6kKS9yT5QWZ6jMC5kRMzICeADdqnnJjt+XNuObHtUl3HbDN+fEKq6k1JvpXk0939+/NeDzA7cmLi5ASwYXJi4uaYE9su1S8kuf2qx29L8uKW17BNL1XVrUmy+PjyOa9nJVX1hrz2C/C17v72YvOsjhE4d3JiwuQEsAX7lBOzO3/ONSe2Xap/mOSOqnpHVb0xyUeSPLblNWzTY0nuX9y/P8l3z3EtK6mqSvJwksvd/aWrPjWbYwR2gpyYKDkBbMk+5cSszp9zzonq3u6rJarqA0n+IckNSR7p7r/b6gI2pKq+nuTuJDcneSnJ55L8c5JvJnl7kl8l+XB3XzuAYBKq6i+T/HuSnyT542LzZ/Pa+yBmcYzAbpAT0zyHyglgW+aYE3PPiGTeObH1Ug0AAABzse2XfwMAAMBsKNUAAAAwSKkGAACAQUo1AAAADFKqAQAAYJBSDQAAAIOUagAAABikVAMAAMAgpRoAAAAGKdUAAAAwSKkGAACAQUo1AAAADFKqAQAAYJBSDQAAAIOUagAAABi0Uqmuqnuq6qdV9XxVPbiuRQEwD3ICgGXkBHNQ3T32hVU3JPnPJH+d5IUkP0xyX3f/x0lfc/PNN/eFCxeG9gerevrpp3/b3QfnvQ7YF3KCqZETsF1ygqk5KSduXOF73pXk+e7+eZJU1TeS3JvkxF+CCxcu5PDwcIVdwriq+uV5rwH2jJxgUuQEbJ2cYFJOyolVXv59W5JfX/X4hcU2AEjkBADLyQlmYZVSXcdse91ryavqgao6rKrDo6OjFXYHwMTICQCWkRPMwiql+oUkt1/1+G1JXrz2Sd39UHdf7O6LBwfepgSwR+QEAMvICWZhlVL9wyR3VNU7quqNST6S5LH1LAuAGZATACwjJ5iF4UFl3f1qVX0yyb8muSHJI9393NpWBsCkyQkAlpETzMUq07/T3Y8neXxNawFgZuQEAMvICeZglZd/AwAAwF5TqgEAAGCQUg0AAACDlGoAAAAYpFQDAADAIKUaAAAABinVAAAAMEipBgAAgEFKNQAAAAxSqgEAAGCQUg0AAACDlGoAAAAYpFQDAADAIKUaAAAABinVAAAAMOjG814AAMxRVZ33Eraiu897CQB7bVfyZp/zwJVqAAAAGKRUAwAAwCClGgAAAAYp1QAAADBopUFlVfWLJK8k+UOSV7v74joWBcA8yAkAlpETzME6pn//VXf/dg3fZ2vWMSFvqtPtrvfYp3qcwE6ZXE5cr12ZvHoejjt22QFcp9nnxDrsetactL59yAQv/wYAAIBBq5bqTvJvVfV0VT1w3BOq6oGqOqyqw6OjoxV3B8DEyAkAlpETTN6qpfp93f1/JfnbJJ+oqv/72id090PdfbG7Lx4cHKy4OwAmRk4AsIycYPJWKtXd/eLi48tJvpPkrnUsCoB5kBMALCMnmIPhUl1Vf1ZVb/7v+0n+Jsmz61oYANM2x5yoqmNvAFy/OebEruvuM9/WZR9yc5Xp37ck+c7ih3Jjkn/q7n9Zy6oAmAM5AcAycoJZGC7V3f3zJH+xxrUAMCNyAoBl5ARz4U9qAQAAwCClGgAAAAYp1QAAADBolUFlk3XSNLs5TqJb1XE/k3VOAwRgfq43T+UKwJ/oJNPjSjUAAAAMUqoBAABgkFINAAAAg5RqAAAAGKRUAwAAwKC9nP69DidN5TPBFGD6TF4FYNM2mTXr6CSb/ItJc+tSrlQDAADAIKUaAAAABinVAAAAMEipBgAAgEEGlQHADlvH0JZdH7x23PqmOqwGgP3jSjUAAAAMUqoBAABgkFINAAAAg5RqAAAAGHRqqa6qR6rq5ap69qptb6mqJ6rqZ4uPN212mQDsKjkBwDJygrk7y5XqS0nuuWbbg0me7O47kjy5eMwEdPexN4AVXMqEc6KqXnc7D5s8P0/xvH/cv8uuTzEHTnQpE86Jddjk+WyK5/i5ObVUd/dTSX53zeZ7kzy6uP9okg+ueV0ATIScAGAZOcHcjb6n+pbuvpIki49vXd+SAJgBOQHAMnKC2dj4oLKqeqCqDqvq8OjoaNO7A2Bi5AQAy8gJdt1oqX6pqm5NksXHl096Ync/1N0Xu/viwcHB4O4AmBg5AcAycoLZGC3VjyW5f3H//iTfXc9yAJgJOQHAMnKC2TjLn9T6epL/L8n/WVUvVNXHknwhyV9X1c+S/PXiMQB7SE5M01T/GoSp4DA9coK5u/G0J3T3fSd86v1rXgsAEyQnAFhGTjB3Gx9UBgAAAHOlVAMAAMAgpRoAAAAGKdUAAAAw6NRBZQDA+uz6hO2T1mfCNsD52vX82GeuVAMAAMAgpRoAAAAGKdUAAAAwSKkGAACAQQaVXWUdw1lOeu6cBgvswzEC8D8ZYAbAusytN7hSDQAAAIOUagAAABikVAMAAMAgpRoAAAAGKdUAAAAwyPRvAGDYcRNcTQQH9pXz335ypRoAAAAGKdUAAAAwSKkGAACAQUo1AAAADDq1VFfVI1X1clU9e9W2z1fVb6rqmcXtA5tdJgC7Sk4AsIycYO7OcqX6UpJ7jtn+5e6+c3F7fL3L2i3d/bobAP/bpex5TgCw1KXIiTM7rnucR/+oqmNvvN6ppbq7n0ryuy2sBYAJkhMALCMnmLtV3lP9yar68eLlHDetbUUAzIWcAGAZOcEsjJbqryR5Z5I7k1xJ8sWTnlhVD1TVYVUdHh0dDe4OgImREwAsIyeYjaFS3d0vdfcfuvuPSb6a5K4lz32ouy9298WDg4PRdQIwIXICgGXkBHMyVKqr6tarHn4oybMnPZf9YZgB8N/kBADLyAnm5MbTnlBVX09yd5Kbq+qFJJ9LcndV3Zmkk/wiycc3uEYAdpicAGAZOcHcnVqqu/u+YzY/vIG1ADBBcgKAZeQEc7fK9G8AAADYa0o1AAAADFKqAQAAYNCp76lmPU6agt3dK38PADgvsgmAfedKNQAAAAxSqgEAAGCQUg0AAACDlGoAAAAYpFQDAADAINO/z5mpqQD7ZR1/DeI8yCuA+drkOX7X820dXKkGAACAQUo1AAAADFKqAQAAYJBSDQAAAIOUagAAABhk+vdMrWvKnmmvAPM01fP7PkyRBfbbJv9KxFTP/bvOlWoAAAAYpFQDAADAIKUaAAAABp1aqqvq9qr6XlVdrqrnqupTi+1vqaonqupni483bX65AOwaOQHAMnKCuTvLlepXk3ymu9+V5L1JPlFV707yYJInu/uOJE8uHu+N7t7pG8AWyYk1qKqt3nadfINZkRNbdh7n/n0+b59aqrv7Snf/aHH/lSSXk9yW5N4kjy6e9miSD25qkQDsLjkBwDJygrm7rvdUV9WFJO9J8oMkt3T3leS1X5Qkb1334gCYFjkBwDJygjk6c6muqjcl+VaST3f376/j6x6oqsOqOjw6OhpZIwATICcAWEZOMFdnKtVV9Ya89gvwte7+9mLzS1V16+LztyZ5+biv7e6Huvtid188ODhYx5oB2DFyAoBl5ARzdpbp35Xk4SSXu/tLV33qsST3L+7fn+S7618eALtOTgCwjJxg7m48w3Pel+SjSX5SVc8stn02yReSfLOqPpbkV0k+vJklArDjJp0Tx00mncJ07DnZl+mwsMcmnRPX46Tz2TpyZVeyyTn79U4t1d39/SQn/Qu+f73LAWBq5AQAy8gJ5u66pn8DAAAAf6JUAwAAwCClGgAAAAYp1QAAADDoLNO/AQBWZmIswHQ4Z5+dK9UAAAAwSKkGAACAQUo1AAAADFKqAQAAYJBBZSx13ICCqjqHlQBsz0nDWZz/Xs8gG4DT7fr/pnYuX40r1QAAADBIqQYAAIBBSjUAAAAMUqoBAABgkFINAAAAg0z/ZqldmkoIcN5MRwVgXWTKfLhSDQAAAIOUagAAABikVAMAAMAgpRoAAAAGnVqqq+r2qvpeVV2uqueq6lOL7Z+vqt9U1TOL2wc2v1wAdo2cAGAZOcHcnWX696tJPtPdP6qqNyd5uqqeWHzuy93995tbHufNVELgDOQEAMvICWbt1FLd3VeSXFncf6WqLie5bdMLA2Aa5AQAy8gJ5u663lNdVReSvCfJDxabPllVP66qR6rqpjWvDYCJkRMALCMnmKMzl+qqelOSbyX5dHf/PslXkrwzyZ157f95+uIJX/dAVR1W1eHR0dEalgzALpITACwjJ5irM5XqqnpDXvsF+Fp3fztJuvul7v5Dd/8xyVeT3HXc13b3Q919sbsvHhwcrGvdAOwQOQHAMnKCOTvL9O9K8nCSy939pau233rV0z6U5Nn1Lw+AXScnAFhGTjB3Z5n+/b4kH03yk6p6ZrHts0nuq6o7k3SSXyT5+EZWCMCukxMALCMnmLWzTP/+fpI65lOPr385AEyNnABgGTnB3F3X9G8AAADgT5RqAAAAGKRUAwAAwCClGgAAAAYp1QAAADBIqQYAAIBBSjUAAAAMUqoBAABgkFINAAAAg6q7t7ezqqMkv1w8vDnJb7e28/PhGHfLn3f3wXkvAjiZnJilKR2jnIAdJydmaUrHeGxObLVU/48dVx1298Vz2fmWOEaAcftwfnGMAOP24fziGKfBy78BAABgkFINAAAAg86zVD90jvveFscIMG4fzi+OEWDcPpxfHOMEnNt7qgEAAGDqvPwbAAAABm29VFfVPVX106p6vqoe3Pb+N6WqHqmql6vq2au2vaWqnqiqny0+3nSea1xFVd1eVd+rqstV9VxVfWqxfTbHCOwGOTFNcgLYljnmxNwzIpl3Tmy1VFfVDUn+McnfJnl3kvuq6t3bXMMGXUpyzzXbHkzyZHffkeTJxeOpejXJZ7r7XUnem+QTi3+7OR0jcM7kxKTPoXIC2LgZ58SlzDsjkhnnxLavVN+V5Pnu/nl3/1eSbyS5d8tr2IjufirJ767ZfG+SRxf3H03ywa0uao26+0p3/2hx/5Ukl5PclhkdI7AT5MREyQlgS2aZE3PPiGTeObHtUn1bkl9f9fiFxba5uqW7rySv/UeU5K3nvJ61qKoLSd6T5AeZ6TEC50ZOzICcADZon3JitufPueXEtkt1HbPN+PEJqao3JflWkk939+/Pez3A7MiJiZMTwIbJiYmbY05su1S/kOT2qx6/LcmLW17DNr1UVbcmyeLjy+e8npVU1Rvy2i/A17r724vNszpG4NzJiQmTE8AW7FNOzO78Odec2Hap/mGSO6rqHVX1xiQfSfLYltewTY8luX9x//4k3z3HtaykqirJw0kud/eXrvrUbI4R2AlyYqLkBLAl+5QTszp/zjknqnu7r5aoqg8k+YckNyR5pLv/bqsL2JCq+nqSu5PcnOSlJJ9L8s9Jvpnk7Ul+leTD3X3tAIJJqKq/TPLvSX6S5I+LzZ/Na++DmMUxArtBTkzzHCongG2ZY07MPSOSeefE1ks1AAAAzMW2X/4NAAAAs6FUAwAAwCClGgAAAAYp1QAAADBIqQYAAIBBSjUAAAAMUqoBAABgkFINAAAAg5RqAAAAGKRUAwAAwCClGgAAAAYp1QAAADBIqQYAAIBBSjUAAAAMUqoBAABg0EqluqruqaqfVtXzVfXguhYFwDzICQCWkRPMQXX32BdW3ZDkP5P8dZIXkvwwyX3d/R8nfc3NN9/cFy5cGNofrOrpp5/+bXcfnPc6YF/ICaZGTsB2yQmm5qScuHGF73lXkue7++dJUlXfSHJvkhN/CS5cuJDDw8MVdgnjquqX570G2DNygkmRE7B1coJJOSknVnn5921Jfn3V4xcW2wAgkRMALCcnmIVVSnUds+11ryWvqgeq6rCqDo+OjlbYHQATIycAWEZOMAurlOoXktx+1eO3JXnx2id190PdfbG7Lx4ceJsSwB6REwAsIyeYhVVK9Q+T3FFV76iqNyb5SJLH1rMsAGZATgCwjJxgFoYHlXX3q1X1yST/muSGJI9093NrWxkAkyYnAFhGTjAXq0z/Tnc/nuTxNa0FgJmREwAsIyeYg1Ve/g0AAAB7TakGAACAQUo1AAAADFKqAQAAYJBSDQAAAIOUagAAABikVAMAAMAgpRoAAAAGKdUAAAAwSKkGAACAQUo1AAAADFKqAQAAYJBSDQAAAIOUagAAABikVAMAAMAgpRoAAAAGKdUAAAAwSKkGAACAQUo1AAAADLpxlS+uql8keSXJH5K82t0X17EoAOZBTgCwjJxgDlYq1Qt/1d2/XcP3AWCe5AQAy8gJJm0dpRoAAIAdUVXnvYS16u7zXsJSq76nupP8W1U9XVUPrGNBAMyKnABgGTnB5K16pfp93f1iVb01yRNV9b+6+6mrn7D45XggSd7+9revuDsAJkZOALCMnGDyVrpS3d0vLj6+nOQ7Se465vnpXWUAAAyHSURBVDkPdffF7r54cHCwyu4AmBg5AcAycoI5GC7VVfVnVfXm/76f5G+SPLuuhQEwbXICgGXkBHOxysu/b0nyncWb4G9M8k/d/S9rWRUAc7DXOTG3ITHrsOuDZoCt2+ucuF77nCvHHfsuZcpwqe7unyf5izWuBYAZkRMALCMnmItVp38DAADA3lKqAQAAYJBSDQAAAIOUagAAABi0yvTvydrnyXmbtEsT+ABWISc243p+rjIF2Fcy6Gyu9+e0yVxxpRoAAAAGKdUAAAAwSKkGAACAQUo1AAAADFKqAQAAYNBeTv8GgKm4nmmlJsYCTMcunbN35S8u7NLP5Hq4Ug0AAACDlGoAAAAYpFQDAADAIKUaAAAABhlUxnXblUEGALts18+Vm1zfOgbNnPQ9dv3nCrDLdv0cuuvrO4kr1QAAADBIqQYAAIBBSjUAAAAMUqoBAABg0KmluqoeqaqXq+rZq7a9paqeqKqfLT7etNllArCr5AQAy8gJ5u4sV6ovJbnnmm0PJnmyu+9I8uTi8Wx19+RuAFt0KTPLiamehze5vqo6822TxwJM0qXMLCd2nXPodp1aqrv7qSS/u2bzvUkeXdx/NMkH17wuACZCTgCwjJxg7kbfU31Ld19JksXHt65vSQDMgJwAYBk5wWxsfFBZVT1QVYdVdXh0dLTp3QEwMXICgGXkBLtutFS/VFW3Jsni48snPbG7H+rui9198eDgYHB3AEyMnABgGTnBbIyW6seS3L+4f3+S765nOQDMhJwAYBk5wWzceNoTqurrSe5OcnNVvZDkc0m+kOSbVfWxJL9K8uFNLpLl1jVp9TimBAKnkRO7b5M5sQ6yBuZNTuz+/15fx/r2+Vx+aqnu7vtO+NT717wWACZITgCwjJxg7jY+qAwAAADmSqkGAACAQUo1AAAADFKqAQAAYNCpg8qmbtcnngIwHTLlbPZ5Aiyw33Zlyvd55NX17HNuOeFKNQAAAAxSqgEAAGCQUg0AAACDlGoAAAAYNPtBZZzN3IYFADBGHgDsJsMyd5cr1QAAADBIqQYAAIBBSjUAAAAMUqoBAABgkFINAAAAg2Y//fu4KaYm5wEw4qTJ2HIFAM7upNyc6l+gcKUaAAAABinVAAAAMEipBgAAgEFKNQAAAAw6tVRX1SNV9XJVPXvVts9X1W+q6pnF7QObXSYAu0pOALCMnGDuzjL9+1KS/yfJ/3vN9i9399+vfUVbMNWpcqbLAjvqUmaWE9drV3JlHTlxvd9jV44d2GmXsic5set/JWId5+xdOZZdcuqV6u5+KsnvtrAWACZITgCwjJxg7lZ5T/Unq+rHi5dz3HTSk6rqgao6rKrDo6OjFXYHwMTICQCWkRPMwmip/kqSdya5M8mVJF886Ynd/VB3X+zuiwcHB4O7A2Bi5AQAy8gJZmOoVHf3S939h+7+Y5KvJrlrvcsCYMrkBADLyAnm5CyDyl6nqm7t7iuLhx9K8uyy57M7DJQBtmFKOXE9A1d2/Rx6Petb16CZ477Prv+cgPM3pZxYh+POi+s6Dzvnnr9TS3VVfT3J3UlurqoXknwuyd1VdWeSTvKLJB/f4BoB2GFyAoBl5ARzd2qp7u77jtn88AbWAsAEyQkAlpETzN0q078BAABgrynVAAAAMEipBgAAgEFD078BYGrWNWV1Lk6aFruOn9NJ38OEWoA/2fVz4iZzc9eP/Xq5Ug0AAACDlGoAAAAYpFQDAADAIKUaAAAABinVAAAAMMj0bwC4xtymkl4PU8EB4Pq4Ug0AAACDlGoAAAAYpFQDAADAIKUaAAAABinVAAAAMMj07x20jgmrALBOm5wKDsD5ci5fjSvVAAAAMEipBgAAgEFKNQAAAAw6tVRX1e1V9b2qulxVz1XVpxbb31JVT1TVzxYfb9r8cgHYNXICgGXkBHN3livVryb5THe/K8l7k3yiqt6d5MEkT3b3HUmeXDwGYP/MLieq6tgbAENmlxNTdR751t2vu83NqaW6u690948W919JcjnJbUnuTfLo4mmPJvngphYJwO6SEwAsIyeYu+t6T3VVXUjyniQ/SHJLd19JXvtFSfLWdS8OgGmREwAsIyeYozOX6qp6U5JvJfl0d//+Or7ugao6rKrDo6OjkTUCMAFyAoBl5ARzdaZSXVVvyGu/AF/r7m8vNr9UVbcuPn9rkpeP+9rufqi7L3b3xYODg3WsGYAdIycAWEZOMGdnmf5dSR5Ocrm7v3TVpx5Lcv/i/v1Jvrv+5QGw6+QEAMvICebuxjM8531JPprkJ1X1zGLbZ5N8Ick3q+pjSX6V5MObWSIAO25vcuKkCalznGR6Vscdu0npwDX2JifOw66cc/c5C08t1d39/SQn/Uu9f73LAWBq5AQAy8gJ5u66pn8DAAAAf6JUAwAAwCClGgAAAAYp1QAAADDoLNO/AWDyTppKuo6pqcd9j32ZgrorU2cBdtn1nCs3mVfrsC/5dj1cqQYAAIBBSjUAAAAMUqoBAABgkFINAAAAgwwqmykDBADO5rjz5aaGl13vOs7DrgzCAdhXu3Ie3pVcmgJXqgEAAGCQUg0AAACDlGoAAAAYpFQDAADAIKUaAAAABpn+PQMm8wGs10nn1U1OZN2Vaa/rIJcApsV5ezWuVAMAAMAgpRoAAAAGKdUAAAAwSKkGAACAQaeW6qq6vaq+V1WXq+q5qvrUYvvnq+o3VfXM4vaBzS8XgF0jJwBYRk4wd2eZ/v1qks9094+q6s1Jnq6qJxaf+3J3//3mljd/c5r2CuytvcmJ65mOui/ndxNjgTPYm5w4iXPlvJ1aqrv7SpIri/uvVNXlJLdtemEATIOcAGAZOcHcXdd7qqvqQpL3JPnBYtMnq+rHVfVIVd205rUBMDFyAoBl5ARzdOZSXVVvSvKtJJ/u7t8n+UqSdya5M6/9P09fPOHrHqiqw6o6PDo6WsOSAdhFcgKAZeQEc3WmUl1Vb8hrvwBf6+5vJ0l3v9Tdf+juPyb5apK7jvva7n6ouy9298WDg4N1rRuAHSInAFhGTjBnZ5n+XUkeTnK5u7901fZbr3rah5I8u/7lAbDr5AQAy8gJ5u4s07/fl+SjSX5SVc8stn02yX1VdWeSTvKLJB/fyAoB2HVy4hgmvQL8b3KCWTvL9O/vJznu74I8vv7lADA1cgKAZeQEc3dd078BAACAP1GqAQAAYJBSDQAAAIPOMqiMDTLIBgAAYLpcqQYAAIBBSjUAAAAMUqoBAABgkFINAAAAg5RqAAAAGFTbnD5dVUdJfrl4eHOS325t5+fDMe6WP+/ug/NeBHAyOTFLUzpGOQE7Tk7M0pSO8dic2Gqp/h87rjrs7ovnsvMtcYwA4/bh/OIYAcbtw/nFMU6Dl38DAADAIKUaAAAABp1nqX7oHPe9LY4RYNw+nF8cI8C4fTi/OMYJOLf3VAMAAMDUefk3AAAADNp6qa6qe6rqp1X1fFU9uO39b0pVPVJVL1fVs1dte0tVPVFVP1t8vOk817iKqrq9qr5XVZer6rmq+tRi+2yOEdgNcmKa5ASwLXPMiblnRDLvnNhqqa6qG5L8Y5K/TfLuJPdV1bu3uYYNupTknmu2PZjkye6+I8mTi8dT9WqSz3T3u5K8N8knFv92czpG4JzJiUmfQ+UEsHEzzolLmXdGJDPOiW1fqb4ryfPd/fPu/q8k30hy75bXsBHd/VSS312z+d4kjy7uP5rkg1td1Bp195Xu/tHi/itJLie5LTM6RmAnyImJkhPAlswyJ+aeEcm8c2Lbpfq2JL++6vELi21zdUt3X0le+48oyVvPeT1rUVUXkrwnyQ8y02MEzo2cmAE5AWzQPuXEbM+fc8uJbZfqOmab8eMTUlVvSvKtJJ/u7t+f93qA2ZETEycngA2TExM3x5zYdql+IcntVz1+W5IXt7yGbXqpqm5NksXHl895PSupqjfktV+Ar3X3txebZ3WMwLmTExMmJ4At2KecmN35c645se1S/cMkd1TVO6rqjUk+kuSxLa9hmx5Lcv/i/v1JvnuOa1lJVVWSh5Nc7u4vXfWp2RwjsBPkxETJCWBL9iknZnX+nHNOVPd2Xy1RVR9I8g9JbkjySHf/3VYXsCFV9fUkdye5OclLST6X5J+TfDPJ25P8KsmHu/vaAQSTUFV/meTfk/wkyR8Xmz+b194HMYtjBHaDnJjmOVROANsyx5yYe0Yk886JrZdqAAAAmIttv/wbAAAAZkOpBgAAgEFKNQAAAAxSqgEAAGCQUg0AAACDlGoAAAAYpFQDAADAIKUaAAAABv3/uj9/cCiF0D8AAAAASUVORK5CYII=\n",
      "text/plain": [
       "<Figure size 1440x720 with 9 Axes>"
      ]
     },
     "metadata": {
      "needs_background": "light"
     },
     "output_type": "display_data"
    }
   ],
   "source": [
    "input_data = np.array(newDF.drop([\"label\"], axis=1))\n",
    "digit_image = input_data[3].reshape(28, 28)\n",
    "# plt.imshow(digit_image, cmap = 'binary')\n",
    "# plt.show()\n",
    "\n",
    "fig, axes = plt.subplots(nrows=3, ncols=3, figsize=(20, 10))\n",
    "axes = axes.flat\n",
    "\n",
    "for i in range(9):\n",
    "    digit_image = input_data[i].reshape(28, 28)\n",
    "    axes[i].imshow(digit_image, cmap = 'binary')\n",
    "    #axes[i].axis('off')"
   ]
  },
  {
   "cell_type": "markdown",
   "metadata": {},
   "source": [
    "# 2. Calculating density"
   ]
  },
  {
   "cell_type": "code",
   "execution_count": 58,
   "metadata": {},
   "outputs": [],
   "source": [
    "new_df = newDF \n",
    "new_df[\"density\"] = new_df.iloc[:, 1:-1].astype(bool).sum(axis=1)"
>>>>>>> 7a2d47a39e0e10d2c65274881756452360e18a75
   ]
  },
  {
   "cell_type": "code",
<<<<<<< HEAD
<<<<<<< HEAD
   "execution_count": 48,
=======
   "execution_count": 12,
>>>>>>> a46d565c1fee6fca94c14e5ee6bc4c0d2dce59e9
=======
   "execution_count": 59,
>>>>>>> 7a2d47a39e0e10d2c65274881756452360e18a75
   "metadata": {},
   "outputs": [
    {
     "data": {
      "text/html": [
       "<div>\n",
       "<style scoped>\n",
       "    .dataframe tbody tr th:only-of-type {\n",
       "        vertical-align: middle;\n",
       "    }\n",
       "\n",
       "    .dataframe tbody tr th {\n",
       "        vertical-align: top;\n",
       "    }\n",
       "\n",
       "    .dataframe thead th {\n",
       "        text-align: right;\n",
       "    }\n",
       "</style>\n",
       "<table border=\"1\" class=\"dataframe\">\n",
       "  <thead>\n",
       "    <tr style=\"text-align: right;\">\n",
       "      <th></th>\n",
       "      <th>label</th>\n",
       "      <th>pixel0</th>\n",
       "      <th>pixel1</th>\n",
       "      <th>pixel2</th>\n",
       "      <th>pixel3</th>\n",
       "      <th>pixel4</th>\n",
       "      <th>pixel5</th>\n",
       "      <th>pixel6</th>\n",
       "      <th>pixel7</th>\n",
       "      <th>pixel8</th>\n",
       "      <th>...</th>\n",
       "      <th>pixel775</th>\n",
       "      <th>pixel776</th>\n",
       "      <th>pixel777</th>\n",
       "      <th>pixel778</th>\n",
       "      <th>pixel779</th>\n",
       "      <th>pixel780</th>\n",
       "      <th>pixel781</th>\n",
       "      <th>pixel782</th>\n",
       "      <th>pixel783</th>\n",
       "      <th>density</th>\n",
       "    </tr>\n",
       "  </thead>\n",
       "  <tbody>\n",
       "    <tr>\n",
       "      <th>0</th>\n",
       "      <td>1</td>\n",
       "      <td>0</td>\n",
       "      <td>0</td>\n",
       "      <td>0</td>\n",
       "      <td>0</td>\n",
       "      <td>0</td>\n",
       "      <td>0</td>\n",
       "      <td>0</td>\n",
       "      <td>0</td>\n",
       "      <td>0</td>\n",
       "      <td>...</td>\n",
       "      <td>0</td>\n",
       "      <td>0</td>\n",
       "      <td>0</td>\n",
       "      <td>0</td>\n",
       "      <td>0</td>\n",
       "      <td>0</td>\n",
       "      <td>0</td>\n",
       "      <td>0</td>\n",
       "      <td>0</td>\n",
       "      <td>97</td>\n",
       "    </tr>\n",
       "    <tr>\n",
       "      <th>1</th>\n",
       "      <td>0</td>\n",
<<<<<<< HEAD
       "      <td>246</td>\n",
=======
       "      <td>0</td>\n",
       "      <td>0</td>\n",
       "      <td>0</td>\n",
       "      <td>0</td>\n",
       "      <td>0</td>\n",
       "      <td>0</td>\n",
       "      <td>0</td>\n",
       "      <td>0</td>\n",
       "      <td>0</td>\n",
       "      <td>...</td>\n",
       "      <td>0</td>\n",
       "      <td>0</td>\n",
       "      <td>0</td>\n",
       "      <td>0</td>\n",
       "      <td>0</td>\n",
       "      <td>0</td>\n",
       "      <td>0</td>\n",
       "      <td>0</td>\n",
       "      <td>0</td>\n",
       "      <td>245</td>\n",
>>>>>>> 7a2d47a39e0e10d2c65274881756452360e18a75
       "    </tr>\n",
       "    <tr>\n",
       "      <th>2</th>\n",
       "      <td>1</td>\n",
       "      <td>0</td>\n",
       "      <td>0</td>\n",
       "      <td>0</td>\n",
       "      <td>0</td>\n",
       "      <td>0</td>\n",
       "      <td>0</td>\n",
       "      <td>0</td>\n",
       "      <td>0</td>\n",
       "      <td>0</td>\n",
       "      <td>...</td>\n",
       "      <td>0</td>\n",
       "      <td>0</td>\n",
       "      <td>0</td>\n",
       "      <td>0</td>\n",
       "      <td>0</td>\n",
       "      <td>0</td>\n",
       "      <td>0</td>\n",
       "      <td>0</td>\n",
       "      <td>0</td>\n",
       "      <td>79</td>\n",
       "    </tr>\n",
       "    <tr>\n",
       "      <th>3</th>\n",
       "      <td>4</td>\n",
       "      <td>0</td>\n",
       "      <td>0</td>\n",
       "      <td>0</td>\n",
       "      <td>0</td>\n",
       "      <td>0</td>\n",
       "      <td>0</td>\n",
       "      <td>0</td>\n",
       "      <td>0</td>\n",
       "      <td>0</td>\n",
       "      <td>...</td>\n",
       "      <td>0</td>\n",
       "      <td>0</td>\n",
       "      <td>0</td>\n",
       "      <td>0</td>\n",
       "      <td>0</td>\n",
       "      <td>0</td>\n",
       "      <td>0</td>\n",
       "      <td>0</td>\n",
       "      <td>0</td>\n",
       "      <td>113</td>\n",
       "    </tr>\n",
       "    <tr>\n",
       "      <th>4</th>\n",
       "      <td>0</td>\n",
<<<<<<< HEAD
       "      <td>261</td>\n",
=======
       "      <td>0</td>\n",
       "      <td>0</td>\n",
       "      <td>0</td>\n",
       "      <td>0</td>\n",
       "      <td>0</td>\n",
       "      <td>0</td>\n",
       "      <td>0</td>\n",
       "      <td>0</td>\n",
       "      <td>0</td>\n",
       "      <td>...</td>\n",
       "      <td>0</td>\n",
       "      <td>0</td>\n",
       "      <td>0</td>\n",
       "      <td>0</td>\n",
       "      <td>0</td>\n",
       "      <td>0</td>\n",
       "      <td>0</td>\n",
       "      <td>0</td>\n",
       "      <td>0</td>\n",
       "      <td>260</td>\n",
>>>>>>> 7a2d47a39e0e10d2c65274881756452360e18a75
       "    </tr>\n",
       "  </tbody>\n",
       "</table>\n",
       "<p>5 rows × 786 columns</p>\n",
       "</div>"
      ],
      "text/plain": [
<<<<<<< HEAD
       "   label  density\n",
       "0      1       98\n",
       "1      0      246\n",
       "2      1       80\n",
       "3      4      114\n",
       "4      0      261"
      ]
     },
<<<<<<< HEAD
     "execution_count": 48,
=======
     "execution_count": 12,
>>>>>>> a46d565c1fee6fca94c14e5ee6bc4c0d2dce59e9
=======
       "   label  pixel0  pixel1  pixel2  pixel3  pixel4  pixel5  pixel6  pixel7  \\\n",
       "0      1       0       0       0       0       0       0       0       0   \n",
       "1      0       0       0       0       0       0       0       0       0   \n",
       "2      1       0       0       0       0       0       0       0       0   \n",
       "3      4       0       0       0       0       0       0       0       0   \n",
       "4      0       0       0       0       0       0       0       0       0   \n",
       "\n",
       "   pixel8  ...  pixel775  pixel776  pixel777  pixel778  pixel779  pixel780  \\\n",
       "0       0  ...         0         0         0         0         0         0   \n",
       "1       0  ...         0         0         0         0         0         0   \n",
       "2       0  ...         0         0         0         0         0         0   \n",
       "3       0  ...         0         0         0         0         0         0   \n",
       "4       0  ...         0         0         0         0         0         0   \n",
       "\n",
       "   pixel781  pixel782  pixel783  density  \n",
       "0         0         0         0       97  \n",
       "1         0         0         0      245  \n",
       "2         0         0         0       79  \n",
       "3         0         0         0      113  \n",
       "4         0         0         0      260  \n",
       "\n",
       "[5 rows x 786 columns]"
      ]
     },
     "execution_count": 59,
     "metadata": {},
     "output_type": "execute_result"
    }
   ],
   "source": [
    "new_df.head()"
   ]
  },
  {
   "cell_type": "code",
   "execution_count": 60,
   "metadata": {},
   "outputs": [],
   "source": [
    "DF_Label_Density = new_df.iloc[:, [0,-2, -1]]"
   ]
  },
  {
   "cell_type": "code",
   "execution_count": 61,
   "metadata": {},
   "outputs": [
    {
     "data": {
      "text/html": [
       "<div>\n",
       "<style scoped>\n",
       "    .dataframe tbody tr th:only-of-type {\n",
       "        vertical-align: middle;\n",
       "    }\n",
       "\n",
       "    .dataframe tbody tr th {\n",
       "        vertical-align: top;\n",
       "    }\n",
       "\n",
       "    .dataframe thead th {\n",
       "        text-align: right;\n",
       "    }\n",
       "</style>\n",
       "<table border=\"1\" class=\"dataframe\">\n",
       "  <thead>\n",
       "    <tr style=\"text-align: right;\">\n",
       "      <th></th>\n",
       "      <th>label</th>\n",
       "      <th>pixel783</th>\n",
       "      <th>density</th>\n",
       "    </tr>\n",
       "  </thead>\n",
       "  <tbody>\n",
       "    <tr>\n",
       "      <th>0</th>\n",
       "      <td>1</td>\n",
       "      <td>0</td>\n",
       "      <td>97</td>\n",
       "    </tr>\n",
       "    <tr>\n",
       "      <th>1</th>\n",
       "      <td>0</td>\n",
       "      <td>0</td>\n",
       "      <td>245</td>\n",
       "    </tr>\n",
       "    <tr>\n",
       "      <th>2</th>\n",
       "      <td>1</td>\n",
       "      <td>0</td>\n",
       "      <td>79</td>\n",
       "    </tr>\n",
       "    <tr>\n",
       "      <th>3</th>\n",
       "      <td>4</td>\n",
       "      <td>0</td>\n",
       "      <td>113</td>\n",
       "    </tr>\n",
       "    <tr>\n",
       "      <th>4</th>\n",
       "      <td>0</td>\n",
       "      <td>0</td>\n",
       "      <td>260</td>\n",
       "    </tr>\n",
       "  </tbody>\n",
       "</table>\n",
       "</div>"
      ],
      "text/plain": [
       "   label  pixel783  density\n",
       "0      1         0       97\n",
       "1      0         0      245\n",
       "2      1         0       79\n",
       "3      4         0      113\n",
       "4      0         0      260"
      ]
     },
     "execution_count": 61,
>>>>>>> 7a2d47a39e0e10d2c65274881756452360e18a75
     "metadata": {},
     "output_type": "execute_result"
    }
   ],
   "source": [
    "DF_Label_Density.head()"
   ]
  },
  {
   "cell_type": "code",
<<<<<<< HEAD
<<<<<<< HEAD
   "execution_count": 49,
=======
   "execution_count": 13,
>>>>>>> a46d565c1fee6fca94c14e5ee6bc4c0d2dce59e9
=======
   "execution_count": 11,
>>>>>>> 7a2d47a39e0e10d2c65274881756452360e18a75
   "metadata": {},
   "outputs": [
    {
     "data": {
      "text/plain": [
<<<<<<< HEAD
<<<<<<< HEAD
       "<matplotlib.axes._subplots.AxesSubplot at 0x1a1655df60>"
      ]
     },
     "execution_count": 49,
=======
       "<matplotlib.axes._subplots.AxesSubplot at 0x1a21db0590>"
      ]
     },
     "execution_count": 13,
>>>>>>> a46d565c1fee6fca94c14e5ee6bc4c0d2dce59e9
=======
       "<matplotlib.axes._subplots.AxesSubplot at 0x1a1a1f0048>"
      ]
     },
     "execution_count": 11,
>>>>>>> 7a2d47a39e0e10d2c65274881756452360e18a75
     "metadata": {},
     "output_type": "execute_result"
    },
    {
     "data": {
<<<<<<< HEAD
<<<<<<< HEAD
      "image/png": "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\n",
=======
      "image/png": "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\n",
>>>>>>> a46d565c1fee6fca94c14e5ee6bc4c0d2dce59e9
=======
      "image/png": "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\n",
>>>>>>> 7a2d47a39e0e10d2c65274881756452360e18a75
      "text/plain": [
       "<Figure size 432x288 with 1 Axes>"
      ]
     },
     "metadata": {
      "needs_background": "light"
     },
     "output_type": "display_data"
    }
   ],
   "source": [
    "sns.kdeplot(DF_Label_Density[\"label\"], DF_Label_Density[\"density\"], )"
   ]
  },
  {
   "cell_type": "code",
<<<<<<< HEAD
<<<<<<< HEAD
   "execution_count": null,
   "metadata": {},
   "outputs": [],
=======
   "execution_count": 14,
=======
   "execution_count": 34,
>>>>>>> 7a2d47a39e0e10d2c65274881756452360e18a75
   "metadata": {},
   "outputs": [
    {
     "data": {
      "text/plain": [
       "<matplotlib.axes._subplots.AxesSubplot at 0x1a1b1d7da0>"
      ]
     },
     "execution_count": 34,
     "metadata": {},
     "output_type": "execute_result"
    },
    {
     "data": {
      "image/png": "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\n",
      "text/plain": [
       "<Figure size 432x288 with 1 Axes>"
      ]
     },
     "metadata": {
      "needs_background": "light"
     },
     "output_type": "display_data"
    }
   ],
>>>>>>> a46d565c1fee6fca94c14e5ee6bc4c0d2dce59e9
   "source": [
    "sns.barplot(x=\"label\", y=\"density\", data=DF_Label_Density, ci=68)"
   ]
  },
  {
   "cell_type": "code",
<<<<<<< HEAD
<<<<<<< HEAD
   "execution_count": null,
   "metadata": {},
   "outputs": [],
=======
   "execution_count": 15,
=======
   "execution_count": 250,
>>>>>>> 7a2d47a39e0e10d2c65274881756452360e18a75
   "metadata": {},
   "outputs": [
    {
     "data": {
      "text/plain": [
       "<matplotlib.axes._subplots.AxesSubplot at 0x12b36a470>"
      ]
     },
     "execution_count": 250,
     "metadata": {},
     "output_type": "execute_result"
    },
    {
     "data": {
      "image/png": "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\n",
      "text/plain": [
       "<Figure size 432x288 with 1 Axes>"
      ]
     },
     "metadata": {
      "needs_background": "light"
     },
     "output_type": "display_data"
    }
   ],
>>>>>>> a46d565c1fee6fca94c14e5ee6bc4c0d2dce59e9
   "source": [
    "sns.boxplot(x=\"label\", y=\"density\", data=DF_Label_Density)"
   ]
  },
  {
   "cell_type": "markdown",
   "metadata": {},
   "source": [
    "### 2.1 Deleting useless features!"
   ]
  },
  {
   "cell_type": "code",
<<<<<<< HEAD
<<<<<<< HEAD
   "execution_count": 50,
=======
   "execution_count": 16,
>>>>>>> a46d565c1fee6fca94c14e5ee6bc4c0d2dce59e9
   "metadata": {},
   "outputs": [
    {
     "data": {
      "text/plain": [
       "144.25143266475644"
      ]
     },
<<<<<<< HEAD
     "execution_count": 50,
=======
     "execution_count": 16,
>>>>>>> a46d565c1fee6fca94c14e5ee6bc4c0d2dce59e9
     "metadata": {},
     "output_type": "execute_result"
=======
   "execution_count": 290,
   "metadata": {},
   "outputs": [],
   "source": [
    "clearDF = newDF\n",
    "for i in clearDF.columns:\n",
    "    if clearDF[i].sum() == 0:\n",
    "        clearDF.drop(i, axis=1, inplace=True)"
   ]
  },
  {
   "cell_type": "markdown",
   "metadata": {},
   "source": [
    "### 2.2 Mean diviation and standart diviation"
   ]
  },
  {
   "cell_type": "code",
   "execution_count": 51,
   "metadata": {},
   "outputs": [
    {
     "name": "stdout",
     "output_type": "stream",
     "text": [
      "Label: 0, Mean diviation : 191.74, Standartd diviation : 33.70\n",
      "Label: 1, Mean diviation : 85.73, Standartd diviation : 20.01\n",
      "Label: 2, Mean diviation : 168.97, Standartd diviation : 33.06\n",
      "Label: 3, Mean diviation : 163.52, Standartd diviation : 33.64\n",
      "Label: 4, Mean diviation : 141.50, Standartd diviation : 27.92\n",
      "Label: 5, Mean diviation : 152.76, Standartd diviation : 33.77\n",
      "Label: 6, Mean diviation : 158.21, Standartd diviation : 32.66\n",
      "Label: 7, Mean diviation : 131.42, Standartd diviation : 27.03\n",
      "Label: 8, Mean diviation : 173.97, Standartd diviation : 32.84\n",
      "Label: 9, Mean diviation : 143.25, Standartd diviation : 28.54\n"
     ]
>>>>>>> 7a2d47a39e0e10d2c65274881756452360e18a75
    }
   ],
   "source": [
    "for i in range(10):\n",
    "    DF_Label_Density = new_df.iloc[:, [0,-2, -1]]\n",
    "    digit_density = DF_Label_Density['density'][DF_Label_Density['label'] == i]\n",
    "    text = \"Label: {}, Mean diviation : {:0.2f}, Standartd diviation : {:0.2f}\" \n",
    "    print(text.format(i, digit_density.mean(), digit_density.std()))"
   ]
  },
  {
   "cell_type": "code",
<<<<<<< HEAD
<<<<<<< HEAD
   "execution_count": 51,
=======
   "execution_count": 17,
>>>>>>> a46d565c1fee6fca94c14e5ee6bc4c0d2dce59e9
=======
   "execution_count": 56,
>>>>>>> 7a2d47a39e0e10d2c65274881756452360e18a75
   "metadata": {},
   "outputs": [],
   "source": [
    "def density_analyse(data):\n",
    "    mean_diff = []\n",
    "    for i in range(0, 10):\n",
    "        for j in range(0, 10):\n",
    "            if j != i:\n",
    "                mean_dense_i = DF_Label_Density['density'][DF_Label_Density['label'] == i].mean()\n",
    "                mean_dense_j = DF_Label_Density['density'][DF_Label_Density['label'] == j].mean()\n",
    "                mean_difference = abs(mean_dense_i - mean_dense_j)\n",
    "                mean_diff.append([mean_difference, j, i])\n",
    "    \n",
    "    data_frame = pd.DataFrame(mean_diff, columns=[\"dens_diff\", \"label_x\", \"label_y\"])\n",
    "    sorted_df = data_frame.sort_values(by='dens_diff')\n",
    "                \n",
    "    return sorted_df.iloc[::2], np.array(sorted_df.iloc[1:2]).reshape(3), np.array(sorted_df.iloc[-2:-1]).reshape(3) "
   ]
  },
  {
   "cell_type": "code",
<<<<<<< HEAD
<<<<<<< HEAD
   "execution_count": 52,
=======
   "execution_count": 18,
>>>>>>> a46d565c1fee6fca94c14e5ee6bc4c0d2dce59e9
=======
   "execution_count": 57,
>>>>>>> 7a2d47a39e0e10d2c65274881756452360e18a75
   "metadata": {
    "scrolled": true
   },
   "outputs": [
    {
     "name": "stdout",
     "output_type": "stream",
     "text": [
<<<<<<< HEAD
      "Max mean density difference 106 between 0 and 1\n",
      "Min mean density difference 2 between 4 and 9\n"
=======
      "Max mean density difference 106.01 between 0 and 1\n",
      "Min mean density difference 1.75 between 4 and 9\n"
>>>>>>> 7a2d47a39e0e10d2c65274881756452360e18a75
     ]
    }
   ],
   "source": [
    "mean_diff, min_diff, max_diff = density_analyse(DF_Label_Density)\n",
    "\n",
    "print(\"Max mean density difference {:0.2f} between {} and {}\".format(max_diff[0], int(max_diff[1]), int(max_diff[2])))\n",
    "print(\"Min mean density difference {:0.2f} between {} and {}\".format(min_diff[0], int(min_diff[1]), int(min_diff[2])))\n"
   ]
  },
  {
   "cell_type": "code",
<<<<<<< HEAD
<<<<<<< HEAD
   "execution_count": 53,
=======
   "execution_count": 19,
>>>>>>> a46d565c1fee6fca94c14e5ee6bc4c0d2dce59e9
   "metadata": {},
=======
   "execution_count": 16,
   "metadata": {
    "scrolled": true
   },
>>>>>>> 7a2d47a39e0e10d2c65274881756452360e18a75
   "outputs": [
    {
     "data": {
      "text/html": [
       "<div>\n",
       "<style scoped>\n",
       "    .dataframe tbody tr th:only-of-type {\n",
       "        vertical-align: middle;\n",
       "    }\n",
       "\n",
       "    .dataframe tbody tr th {\n",
       "        vertical-align: top;\n",
       "    }\n",
       "\n",
       "    .dataframe thead th {\n",
       "        text-align: right;\n",
       "    }\n",
       "</style>\n",
       "<table border=\"1\" class=\"dataframe\">\n",
       "  <thead>\n",
       "    <tr style=\"text-align: right;\">\n",
       "      <th></th>\n",
       "      <th>dens_diff</th>\n",
       "      <th>label_x</th>\n",
       "      <th>label_y</th>\n",
       "    </tr>\n",
       "  </thead>\n",
       "  <tbody>\n",
       "    <tr>\n",
       "      <th>44</th>\n",
       "      <td>1.751924</td>\n",
       "      <td>9</td>\n",
       "      <td>4</td>\n",
       "    </tr>\n",
       "    <tr>\n",
       "      <th>25</th>\n",
       "      <td>5.005499</td>\n",
       "      <td>8</td>\n",
       "      <td>2</td>\n",
       "    </tr>\n",
       "    <tr>\n",
       "      <th>32</th>\n",
       "      <td>5.309825</td>\n",
       "      <td>6</td>\n",
       "      <td>3</td>\n",
       "    </tr>\n",
       "    <tr>\n",
       "      <th>29</th>\n",
       "      <td>5.448039</td>\n",
       "      <td>2</td>\n",
       "      <td>3</td>\n",
       "    </tr>\n",
       "    <tr>\n",
       "      <th>50</th>\n",
       "      <td>5.454588</td>\n",
       "      <td>6</td>\n",
       "      <td>5</td>\n",
       "    </tr>\n",
<<<<<<< HEAD
       "    <tr>\n",
       "      <th>86</th>\n",
       "      <td>9.504035</td>\n",
       "      <td>5</td>\n",
       "      <td>9</td>\n",
       "    </tr>\n",
       "    <tr>\n",
       "      <th>67</th>\n",
       "      <td>10.078468</td>\n",
       "      <td>4</td>\n",
       "      <td>7</td>\n",
       "    </tr>\n",
       "    <tr>\n",
       "      <th>34</th>\n",
       "      <td>10.453538</td>\n",
       "      <td>8</td>\n",
       "      <td>3</td>\n",
       "    </tr>\n",
       "    <tr>\n",
       "      <th>23</th>\n",
       "      <td>10.757864</td>\n",
       "      <td>6</td>\n",
       "      <td>2</td>\n",
       "    </tr>\n",
       "    <tr>\n",
       "      <th>48</th>\n",
       "      <td>10.764413</td>\n",
       "      <td>3</td>\n",
       "      <td>5</td>\n",
       "    </tr>\n",
       "    <tr>\n",
       "      <th>49</th>\n",
       "      <td>11.255959</td>\n",
       "      <td>4</td>\n",
       "      <td>5</td>\n",
       "    </tr>\n",
       "    <tr>\n",
       "      <th>88</th>\n",
       "      <td>11.830392</td>\n",
       "      <td>7</td>\n",
       "      <td>9</td>\n",
       "    </tr>\n",
       "    <tr>\n",
       "      <th>62</th>\n",
       "      <td>14.958623</td>\n",
       "      <td>9</td>\n",
       "      <td>6</td>\n",
       "    </tr>\n",
       "    <tr>\n",
       "      <th>78</th>\n",
       "      <td>15.763363</td>\n",
       "      <td>6</td>\n",
       "      <td>8</td>\n",
       "    </tr>\n",
       "    <tr>\n",
       "      <th>47</th>\n",
       "      <td>16.212452</td>\n",
       "      <td>2</td>\n",
       "      <td>5</td>\n",
       "    </tr>\n",
       "    <tr>\n",
       "      <th>41</th>\n",
       "      <td>16.710547</td>\n",
       "      <td>6</td>\n",
       "      <td>4</td>\n",
       "    </tr>\n",
       "    <tr>\n",
       "      <th>72</th>\n",
       "      <td>17.769563</td>\n",
       "      <td>0</td>\n",
       "      <td>8</td>\n",
       "    </tr>\n",
       "    <tr>\n",
       "      <th>84</th>\n",
       "      <td>20.268448</td>\n",
       "      <td>3</td>\n",
       "      <td>9</td>\n",
       "    </tr>\n",
       "    <tr>\n",
       "      <th>52</th>\n",
       "      <td>21.217951</td>\n",
       "      <td>8</td>\n",
       "      <td>5</td>\n",
       "    </tr>\n",
       "    <tr>\n",
       "      <th>51</th>\n",
       "      <td>21.334427</td>\n",
       "      <td>7</td>\n",
       "      <td>5</td>\n",
       "    </tr>\n",
       "    <tr>\n",
       "      <th>30</th>\n",
       "      <td>22.020372</td>\n",
       "      <td>4</td>\n",
       "      <td>3</td>\n",
       "    </tr>\n",
       "    <tr>\n",
       "      <th>18</th>\n",
       "      <td>22.775062</td>\n",
       "      <td>0</td>\n",
       "      <td>2</td>\n",
       "    </tr>\n",
       "    <tr>\n",
       "      <th>83</th>\n",
       "      <td>25.716487</td>\n",
       "      <td>2</td>\n",
       "      <td>9</td>\n",
       "    </tr>\n",
       "    <tr>\n",
       "      <th>69</th>\n",
       "      <td>26.789015</td>\n",
       "      <td>6</td>\n",
       "      <td>7</td>\n",
       "    </tr>\n",
       "    <tr>\n",
       "      <th>38</th>\n",
       "      <td>27.468411</td>\n",
       "      <td>2</td>\n",
       "      <td>4</td>\n",
       "    </tr>\n",
       "    <tr>\n",
       "      <th>27</th>\n",
       "      <td>28.223101</td>\n",
       "      <td>0</td>\n",
       "      <td>3</td>\n",
       "    </tr>\n",
       "    <tr>\n",
       "      <th>80</th>\n",
       "      <td>30.721986</td>\n",
       "      <td>9</td>\n",
       "      <td>8</td>\n",
       "    </tr>\n",
       "    <tr>\n",
       "      <th>33</th>\n",
       "      <td>32.098840</td>\n",
       "      <td>7</td>\n",
       "      <td>3</td>\n",
       "    </tr>\n",
       "    <tr>\n",
       "      <th>43</th>\n",
       "      <td>32.473910</td>\n",
       "      <td>8</td>\n",
       "      <td>4</td>\n",
       "    </tr>\n",
       "    <tr>\n",
       "      <th>54</th>\n",
       "      <td>33.532926</td>\n",
       "      <td>0</td>\n",
       "      <td>6</td>\n",
       "    </tr>\n",
       "    <tr>\n",
       "      <th>24</th>\n",
       "      <td>37.546879</td>\n",
       "      <td>7</td>\n",
       "      <td>2</td>\n",
       "    </tr>\n",
       "    <tr>\n",
       "      <th>4</th>\n",
       "      <td>38.987514</td>\n",
       "      <td>5</td>\n",
       "      <td>0</td>\n",
       "    </tr>\n",
       "    <tr>\n",
       "      <th>79</th>\n",
       "      <td>42.552378</td>\n",
       "      <td>7</td>\n",
       "      <td>8</td>\n",
       "    </tr>\n",
       "    <tr>\n",
       "      <th>15</th>\n",
       "      <td>45.688974</td>\n",
       "      <td>7</td>\n",
       "      <td>1</td>\n",
       "    </tr>\n",
       "    <tr>\n",
       "      <th>81</th>\n",
       "      <td>48.491549</td>\n",
       "      <td>0</td>\n",
       "      <td>9</td>\n",
       "    </tr>\n",
       "    <tr>\n",
       "      <th>3</th>\n",
       "      <td>50.243473</td>\n",
       "      <td>4</td>\n",
       "      <td>0</td>\n",
       "    </tr>\n",
       "    <tr>\n",
       "      <th>12</th>\n",
       "      <td>55.767442</td>\n",
       "      <td>4</td>\n",
       "      <td>1</td>\n",
       "    </tr>\n",
       "    <tr>\n",
       "      <th>17</th>\n",
       "      <td>57.519366</td>\n",
       "      <td>9</td>\n",
       "      <td>1</td>\n",
       "    </tr>\n",
       "    <tr>\n",
       "      <th>6</th>\n",
       "      <td>60.321941</td>\n",
       "      <td>7</td>\n",
       "      <td>0</td>\n",
       "    </tr>\n",
       "    <tr>\n",
       "      <th>13</th>\n",
       "      <td>67.023401</td>\n",
       "      <td>5</td>\n",
       "      <td>1</td>\n",
       "    </tr>\n",
       "    <tr>\n",
       "      <th>55</th>\n",
       "      <td>72.477989</td>\n",
       "      <td>1</td>\n",
       "      <td>6</td>\n",
       "    </tr>\n",
       "    <tr>\n",
       "      <th>11</th>\n",
       "      <td>77.787814</td>\n",
       "      <td>3</td>\n",
       "      <td>1</td>\n",
       "    </tr>\n",
       "    <tr>\n",
       "      <th>19</th>\n",
       "      <td>83.235853</td>\n",
       "      <td>1</td>\n",
       "      <td>2</td>\n",
       "    </tr>\n",
       "    <tr>\n",
       "      <th>73</th>\n",
       "      <td>88.241352</td>\n",
       "      <td>1</td>\n",
       "      <td>8</td>\n",
       "    </tr>\n",
       "    <tr>\n",
       "      <th>9</th>\n",
       "      <td>106.010915</td>\n",
       "      <td>0</td>\n",
       "      <td>1</td>\n",
       "    </tr>\n",
=======
>>>>>>> 7a2d47a39e0e10d2c65274881756452360e18a75
       "  </tbody>\n",
       "</table>\n",
       "</div>"
      ],
      "text/plain": [
<<<<<<< HEAD
       "     dens_diff  label_x  label_y\n",
       "44    1.751924        9        4\n",
       "25    5.005499        8        2\n",
       "32    5.309825        6        3\n",
       "29    5.448039        2        3\n",
       "50    5.454588        6        5\n",
       "86    9.504035        5        9\n",
       "67   10.078468        4        7\n",
       "34   10.453538        8        3\n",
       "23   10.757864        6        2\n",
       "48   10.764413        3        5\n",
       "49   11.255959        4        5\n",
       "88   11.830392        7        9\n",
       "62   14.958623        9        6\n",
       "78   15.763363        6        8\n",
       "47   16.212452        2        5\n",
       "41   16.710547        6        4\n",
       "72   17.769563        0        8\n",
       "84   20.268448        3        9\n",
       "52   21.217951        8        5\n",
       "51   21.334427        7        5\n",
       "30   22.020372        4        3\n",
       "18   22.775062        0        2\n",
       "83   25.716487        2        9\n",
       "69   26.789015        6        7\n",
       "38   27.468411        2        4\n",
       "27   28.223101        0        3\n",
       "80   30.721986        9        8\n",
       "33   32.098840        7        3\n",
       "43   32.473910        8        4\n",
       "54   33.532926        0        6\n",
       "24   37.546879        7        2\n",
       "4    38.987514        5        0\n",
       "79   42.552378        7        8\n",
       "15   45.688974        7        1\n",
       "81   48.491549        0        9\n",
       "3    50.243473        4        0\n",
       "12   55.767442        4        1\n",
       "17   57.519366        9        1\n",
       "6    60.321941        7        0\n",
       "13   67.023401        5        1\n",
       "55   72.477989        1        6\n",
       "11   77.787814        3        1\n",
       "19   83.235853        1        2\n",
       "73   88.241352        1        8\n",
       "9   106.010915        0        1"
      ]
     },
<<<<<<< HEAD
     "execution_count": 53,
=======
     "execution_count": 19,
>>>>>>> a46d565c1fee6fca94c14e5ee6bc4c0d2dce59e9
=======
       "    dens_diff  label_x  label_y\n",
       "44   1.751924        9        4\n",
       "25   5.005499        8        2\n",
       "32   5.309825        6        3\n",
       "29   5.448039        2        3\n",
       "50   5.454588        6        5"
      ]
     },
     "execution_count": 16,
>>>>>>> 7a2d47a39e0e10d2c65274881756452360e18a75
     "metadata": {},
     "output_type": "execute_result"
    }
   ],
   "source": [
    "mean_diff.head()"
   ]
  },
  {
   "cell_type": "markdown",
   "metadata": {},
   "source": [
    "### 2.3 Logistic Regression with Density feature only"
   ]
  },
  {
   "cell_type": "code",
<<<<<<< HEAD
<<<<<<< HEAD
   "execution_count": 57,
=======
   "execution_count": 21,
>>>>>>> a46d565c1fee6fca94c14e5ee6bc4c0d2dce59e9
=======
   "execution_count": 71,
>>>>>>> 7a2d47a39e0e10d2c65274881756452360e18a75
   "metadata": {},
   "outputs": [],
   "source": [
    "from sklearn.linear_model import LogisticRegression\n",
    "from sklearn.preprocessing import LabelEncoder\n",
    "from sklearn.model_selection import train_test_split, cross_val_score, cross_val_predict\n",
    "from sklearn.metrics import accuracy_score, confusion_matrix\n",
    "from sklearn.preprocessing import scale\n",
    "from sklearn.utils.multiclass import unique_labels\n",
    "import warnings\n",
    "warnings.filterwarnings('ignore')"
   ]
  },
  {
   "cell_type": "code",
<<<<<<< HEAD
<<<<<<< HEAD
   "execution_count": 82,
   "metadata": {
    "scrolled": true
   },
   "outputs": [
    {
     "ename": "NameError",
     "evalue": "name 'DF_Label_Density' is not defined",
     "output_type": "error",
     "traceback": [
      "\u001b[0;31m---------------------------------------------------------------------------\u001b[0m",
      "\u001b[0;31mNameError\u001b[0m                                 Traceback (most recent call last)",
      "\u001b[0;32m<ipython-input-82-0a217567c813>\u001b[0m in \u001b[0;36m<module>\u001b[0;34m\u001b[0m\n\u001b[1;32m      1\u001b[0m \u001b[0mLR\u001b[0m \u001b[0;34m=\u001b[0m \u001b[0mLogisticRegression\u001b[0m\u001b[0;34m(\u001b[0m\u001b[0;34m)\u001b[0m\u001b[0;34m\u001b[0m\u001b[0;34m\u001b[0m\u001b[0m\n\u001b[1;32m      2\u001b[0m \u001b[0;34m\u001b[0m\u001b[0m\n\u001b[0;32m----> 3\u001b[0;31m \u001b[0mX\u001b[0m \u001b[0;34m=\u001b[0m \u001b[0mnp\u001b[0m\u001b[0;34m.\u001b[0m\u001b[0marray\u001b[0m\u001b[0;34m(\u001b[0m\u001b[0mDF_Label_Density\u001b[0m\u001b[0;34m[\u001b[0m\u001b[0;34m\"density\"\u001b[0m\u001b[0;34m]\u001b[0m\u001b[0;34m)\u001b[0m\u001b[0;34m.\u001b[0m\u001b[0mreshape\u001b[0m\u001b[0;34m(\u001b[0m\u001b[0;34m-\u001b[0m\u001b[0;36m1\u001b[0m\u001b[0;34m,\u001b[0m \u001b[0;36m1\u001b[0m\u001b[0;34m)\u001b[0m\u001b[0;34m\u001b[0m\u001b[0;34m\u001b[0m\u001b[0m\n\u001b[0m\u001b[1;32m      4\u001b[0m \u001b[0mX\u001b[0m \u001b[0;34m=\u001b[0m \u001b[0mscale\u001b[0m\u001b[0;34m(\u001b[0m\u001b[0mX\u001b[0m\u001b[0;34m)\u001b[0m\u001b[0;34m\u001b[0m\u001b[0;34m\u001b[0m\u001b[0m\n\u001b[1;32m      5\u001b[0m \u001b[0my\u001b[0m \u001b[0;34m=\u001b[0m \u001b[0mDF_Label_Density\u001b[0m\u001b[0;34m[\u001b[0m\u001b[0;34m\"label\"\u001b[0m\u001b[0;34m]\u001b[0m\u001b[0;34m\u001b[0m\u001b[0;34m\u001b[0m\u001b[0m\n",
      "\u001b[0;31mNameError\u001b[0m: name 'DF_Label_Density' is not defined"
     ]
    }
   ],
=======
   "execution_count": 22,
=======
   "execution_count": 63,
>>>>>>> 7a2d47a39e0e10d2c65274881756452360e18a75
   "metadata": {},
   "outputs": [],
>>>>>>> a46d565c1fee6fca94c14e5ee6bc4c0d2dce59e9
   "source": [
    "LR = LogisticRegression(random_state=0, solver='lbfgs', multi_class='multinomial')\n",
    "\n",
    "X = DF_Label_Density.loc[:,[\"density\"]]\n",
    "X = scale(X)\n",
    "#X = normalize(X)\n",
    "y = DF_Label_Density[\"label\"]"
   ]
  },
  {
   "cell_type": "code",
<<<<<<< HEAD
<<<<<<< HEAD
   "execution_count": 110,
=======
   "execution_count": 23,
>>>>>>> a46d565c1fee6fca94c14e5ee6bc4c0d2dce59e9
   "metadata": {},
   "outputs": [],
   "source": [
    "LE = LabelEncoder()\n",
    "LE.fit([0,1,2,3,4,5,6,7,8,9])\n",
    "encoded_labels = LE.transform(y)"
   ]
  },
  {
   "cell_type": "code",
<<<<<<< HEAD
   "execution_count": 112,
   "metadata": {},
   "outputs": [],
   "source": [
    "input_data = np.array(df.drop([\"label\"], axis=1))\n",
    "input_data[input_data < 200] = 0"
   ]
  },
  {
   "cell_type": "code",
   "execution_count": 113,
   "metadata": {},
   "outputs": [],
   "source": [
    "X_train, X_test, y_train, y_test = train_test_split(input_data, encoded_labels, test_size=0.33, random_state=42)"
=======
   "execution_count": 64,
   "metadata": {},
   "outputs": [],
   "source": [
    "X_train, X_test, y_train, y_test = train_test_split(X, y, test_size=0.25, random_state=42)"
>>>>>>> 7a2d47a39e0e10d2c65274881756452360e18a75
   ]
  },
  {
   "cell_type": "code",
<<<<<<< HEAD
   "execution_count": null,
   "metadata": {},
   "outputs": [],
=======
   "execution_count": 24,
=======
   "execution_count": 65,
>>>>>>> 7a2d47a39e0e10d2c65274881756452360e18a75
   "metadata": {},
   "outputs": [
    {
     "data": {
      "text/plain": [
       "LogisticRegression(C=1.0, class_weight=None, dual=False, fit_intercept=True,\n",
       "                   intercept_scaling=1, l1_ratio=None, max_iter=100,\n",
       "                   multi_class='multinomial', n_jobs=None, penalty='l2',\n",
       "                   random_state=0, solver='lbfgs', tol=0.0001, verbose=0,\n",
       "                   warm_start=False)"
      ]
     },
     "execution_count": 65,
     "metadata": {},
     "output_type": "execute_result"
    }
   ],
>>>>>>> a46d565c1fee6fca94c14e5ee6bc4c0d2dce59e9
   "source": [
    "LR.fit(X_train, y_train)"
   ]
  },
  {
   "cell_type": "code",
<<<<<<< HEAD
<<<<<<< HEAD
   "execution_count": null,
=======
   "execution_count": 25,
>>>>>>> a46d565c1fee6fca94c14e5ee6bc4c0d2dce59e9
=======
   "execution_count": 114,
   "metadata": {},
   "outputs": [],
   "source": [
    "def plot_confusion_matrix(y_true, y_pred, classes,\n",
    "                          normalize=False,\n",
    "                          title=None,\n",
    "                          cmap=plt.cm.Blues):\n",
    "    if not title:\n",
    "        if normalize:\n",
    "            title = 'Normalized confusion matrix'\n",
    "        else:\n",
    "            title = 'Confusion matrix, without normalization'\n",
    "\n",
    "    # Compute confusion matrix\n",
    "    cm = confusion_matrix(y_true, y_pred)\n",
    "    # Only use the labels that appear in the data\n",
    "    #classes = classes[unique_labels(y_true, y_pred)]\n",
    "    fig, ax = plt.subplots()\n",
    "    im = ax.imshow(cm, interpolation='nearest', cmap=cmap)\n",
    "    ax.figure.colorbar(im, ax=ax)\n",
    "    # We want to show all ticks...\n",
    "    ax.set(xticks=np.arange(cm.shape[1]),\n",
    "           yticks=np.arange(cm.shape[0]),\n",
    "           # ... and label them with the respective list entries\n",
    "           xticklabels=classes, yticklabels=classes,\n",
    "           title=title,\n",
    "           ylabel='True label',\n",
    "           xlabel='Predicted label')\n",
    "\n",
    "    # Rotate the tick labels and set their alignment.\n",
    "    plt.setp(ax.get_xticklabels(), rotation=45, ha=\"right\",\n",
    "             rotation_mode=\"anchor\")\n",
    "\n",
    "    # Loop over data dimensions and create text annotations.\n",
    "    fmt = '.2f' if normalize else 'd'\n",
    "    thresh = cm.max() / 2.\n",
    "    for i in range(cm.shape[0]):\n",
    "        for j in range(cm.shape[1]):\n",
    "            ax.text(j, i, format(cm[i, j], fmt),\n",
    "                    ha=\"center\", va=\"center\",\n",
    "                    color=\"white\" if cm[i, j] > thresh else \"black\")\n",
    "    fig.tight_layout()\n",
    "    return ax"
   ]
  },
  {
   "cell_type": "code",
   "execution_count": 66,
>>>>>>> 7a2d47a39e0e10d2c65274881756452360e18a75
   "metadata": {},
   "outputs": [],
   "source": [
    "prediction = LR.predict(X_test)"
   ]
  },
  {
   "cell_type": "code",
<<<<<<< HEAD
<<<<<<< HEAD
   "execution_count": null,
   "metadata": {},
   "outputs": [],
=======
   "execution_count": 26,
=======
   "execution_count": 67,
   "metadata": {},
   "outputs": [
    {
     "data": {
      "text/plain": [
       "0.25866666666666666"
      ]
     },
     "execution_count": 67,
     "metadata": {},
     "output_type": "execute_result"
    }
   ],
   "source": [
    "accuracy_score(y_test, prediction)  #only density feature"
   ]
  },
  {
   "cell_type": "code",
   "execution_count": 87,
   "metadata": {
    "scrolled": true
   },
   "outputs": [
    {
     "data": {
      "image/png": "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\n",
      "text/plain": [
       "<Figure size 432x288 with 2 Axes>"
      ]
     },
     "metadata": {
      "needs_background": "light"
     },
     "output_type": "display_data"
    }
   ],
   "source": [
    "#confusion_matrix(y_test, prediction)\n",
    "plot_confusion_matrix(y_test, prediction, classes=[0,1,2,3,4,5,6,7,8,9], title='Confusion matrix')\n",
    "plt.show()"
   ]
  },
  {
   "cell_type": "code",
   "execution_count": 133,
   "metadata": {
    "scrolled": true
   },
   "outputs": [
    {
     "name": "stdout",
     "output_type": "stream",
     "text": [
      "Accuracy: 0.33 (+/- 0.01)\n"
     ]
    }
   ],
   "source": [
    "scores = cross_val_score(LR, X, y, cv=5)\n",
    "print(\"Accuracy: %0.2f (+/- %0.2f)\" % (scores.mean(), scores.std() * 2))"
   ]
  },
  {
   "cell_type": "markdown",
   "metadata": {},
   "source": [
    "# 3. Calculating symmetry (new feature) "
   ]
  },
  {
   "cell_type": "code",
   "execution_count": 88,
   "metadata": {},
   "outputs": [],
   "source": [
    "#testDf = df.iloc[2]\n",
    "\n",
    "symmetry = np.array([])\n",
    "for index in range(newDF.shape[0]):\n",
    "    sim_level = 0\n",
    "    testDf = np.array(newDF.iloc[[index], 1:])\n",
    "    total_density = testDf[0][:].astype(bool).sum() \n",
    "    i = 0\n",
    "    j = 783\n",
    "    while i < 392:\n",
    "        if testDf[0][i] != 0 and testDf[0][j] != 0:\n",
    "            sim_level += 2\n",
    "        i += 1\n",
    "        j -= 1\n",
    "        #print(\"Row {}, simmetry: {}\".format(index, sim_level/sum_ink))\n",
    "\n",
    "    symmetry = np.append(symmetry, [sim_level/total_density])"
   ]
  },
  {
   "cell_type": "code",
   "execution_count": 89,
   "metadata": {},
   "outputs": [
    {
     "data": {
      "text/html": [
       "<div>\n",
       "<style scoped>\n",
       "    .dataframe tbody tr th:only-of-type {\n",
       "        vertical-align: middle;\n",
       "    }\n",
       "\n",
       "    .dataframe tbody tr th {\n",
       "        vertical-align: top;\n",
       "    }\n",
       "\n",
       "    .dataframe thead th {\n",
       "        text-align: right;\n",
       "    }\n",
       "</style>\n",
       "<table border=\"1\" class=\"dataframe\">\n",
       "  <thead>\n",
       "    <tr style=\"text-align: right;\">\n",
       "      <th></th>\n",
       "      <th>label</th>\n",
       "      <th>pixel0</th>\n",
       "      <th>pixel1</th>\n",
       "      <th>pixel2</th>\n",
       "      <th>pixel3</th>\n",
       "      <th>pixel4</th>\n",
       "      <th>pixel5</th>\n",
       "      <th>pixel6</th>\n",
       "      <th>pixel7</th>\n",
       "      <th>pixel8</th>\n",
       "      <th>...</th>\n",
       "      <th>pixel776</th>\n",
       "      <th>pixel777</th>\n",
       "      <th>pixel778</th>\n",
       "      <th>pixel779</th>\n",
       "      <th>pixel780</th>\n",
       "      <th>pixel781</th>\n",
       "      <th>pixel782</th>\n",
       "      <th>pixel783</th>\n",
       "      <th>density</th>\n",
       "      <th>symmetry</th>\n",
       "    </tr>\n",
       "  </thead>\n",
       "  <tbody>\n",
       "    <tr>\n",
       "      <th>0</th>\n",
       "      <td>1</td>\n",
       "      <td>0</td>\n",
       "      <td>0</td>\n",
       "      <td>0</td>\n",
       "      <td>0</td>\n",
       "      <td>0</td>\n",
       "      <td>0</td>\n",
       "      <td>0</td>\n",
       "      <td>0</td>\n",
       "      <td>0</td>\n",
       "      <td>...</td>\n",
       "      <td>0</td>\n",
       "      <td>0</td>\n",
       "      <td>0</td>\n",
       "      <td>0</td>\n",
       "      <td>0</td>\n",
       "      <td>0</td>\n",
       "      <td>0</td>\n",
       "      <td>0</td>\n",
       "      <td>97</td>\n",
       "      <td>0.755102</td>\n",
       "    </tr>\n",
       "    <tr>\n",
       "      <th>1</th>\n",
       "      <td>0</td>\n",
       "      <td>0</td>\n",
       "      <td>0</td>\n",
       "      <td>0</td>\n",
       "      <td>0</td>\n",
       "      <td>0</td>\n",
       "      <td>0</td>\n",
       "      <td>0</td>\n",
       "      <td>0</td>\n",
       "      <td>0</td>\n",
       "      <td>...</td>\n",
       "      <td>0</td>\n",
       "      <td>0</td>\n",
       "      <td>0</td>\n",
       "      <td>0</td>\n",
       "      <td>0</td>\n",
       "      <td>0</td>\n",
       "      <td>0</td>\n",
       "      <td>0</td>\n",
       "      <td>245</td>\n",
       "      <td>0.902439</td>\n",
       "    </tr>\n",
       "    <tr>\n",
       "      <th>2</th>\n",
       "      <td>1</td>\n",
       "      <td>0</td>\n",
       "      <td>0</td>\n",
       "      <td>0</td>\n",
       "      <td>0</td>\n",
       "      <td>0</td>\n",
       "      <td>0</td>\n",
       "      <td>0</td>\n",
       "      <td>0</td>\n",
       "      <td>0</td>\n",
       "      <td>...</td>\n",
       "      <td>0</td>\n",
       "      <td>0</td>\n",
       "      <td>0</td>\n",
       "      <td>0</td>\n",
       "      <td>0</td>\n",
       "      <td>0</td>\n",
       "      <td>0</td>\n",
       "      <td>0</td>\n",
       "      <td>79</td>\n",
       "      <td>0.975000</td>\n",
       "    </tr>\n",
       "    <tr>\n",
       "      <th>3</th>\n",
       "      <td>4</td>\n",
       "      <td>0</td>\n",
       "      <td>0</td>\n",
       "      <td>0</td>\n",
       "      <td>0</td>\n",
       "      <td>0</td>\n",
       "      <td>0</td>\n",
       "      <td>0</td>\n",
       "      <td>0</td>\n",
       "      <td>0</td>\n",
       "      <td>...</td>\n",
       "      <td>0</td>\n",
       "      <td>0</td>\n",
       "      <td>0</td>\n",
       "      <td>0</td>\n",
       "      <td>0</td>\n",
       "      <td>0</td>\n",
       "      <td>0</td>\n",
       "      <td>0</td>\n",
       "      <td>113</td>\n",
       "      <td>0.578947</td>\n",
       "    </tr>\n",
       "    <tr>\n",
       "      <th>4</th>\n",
       "      <td>0</td>\n",
       "      <td>0</td>\n",
       "      <td>0</td>\n",
       "      <td>0</td>\n",
       "      <td>0</td>\n",
       "      <td>0</td>\n",
       "      <td>0</td>\n",
       "      <td>0</td>\n",
       "      <td>0</td>\n",
       "      <td>0</td>\n",
       "      <td>...</td>\n",
       "      <td>0</td>\n",
       "      <td>0</td>\n",
       "      <td>0</td>\n",
       "      <td>0</td>\n",
       "      <td>0</td>\n",
       "      <td>0</td>\n",
       "      <td>0</td>\n",
       "      <td>0</td>\n",
       "      <td>260</td>\n",
       "      <td>0.789272</td>\n",
       "    </tr>\n",
       "  </tbody>\n",
       "</table>\n",
       "<p>5 rows × 787 columns</p>\n",
       "</div>"
      ],
      "text/plain": [
       "   label  pixel0  pixel1  pixel2  pixel3  pixel4  pixel5  pixel6  pixel7  \\\n",
       "0      1       0       0       0       0       0       0       0       0   \n",
       "1      0       0       0       0       0       0       0       0       0   \n",
       "2      1       0       0       0       0       0       0       0       0   \n",
       "3      4       0       0       0       0       0       0       0       0   \n",
       "4      0       0       0       0       0       0       0       0       0   \n",
       "\n",
       "   pixel8  ...  pixel776  pixel777  pixel778  pixel779  pixel780  pixel781  \\\n",
       "0       0  ...         0         0         0         0         0         0   \n",
       "1       0  ...         0         0         0         0         0         0   \n",
       "2       0  ...         0         0         0         0         0         0   \n",
       "3       0  ...         0         0         0         0         0         0   \n",
       "4       0  ...         0         0         0         0         0         0   \n",
       "\n",
       "   pixel782  pixel783  density  symmetry  \n",
       "0         0         0       97  0.755102  \n",
       "1         0         0      245  0.902439  \n",
       "2         0         0       79  0.975000  \n",
       "3         0         0      113  0.578947  \n",
       "4         0         0      260  0.789272  \n",
       "\n",
       "[5 rows x 787 columns]"
      ]
     },
     "execution_count": 89,
     "metadata": {},
     "output_type": "execute_result"
    }
   ],
   "source": [
    "newDF['symmetry'] = symmetry\n",
    "newDF.head()"
   ]
  },
  {
   "cell_type": "code",
   "execution_count": 90,
   "metadata": {},
   "outputs": [
    {
     "data": {
      "text/plain": [
       "<matplotlib.axes._subplots.AxesSubplot at 0x1a231c8518>"
      ]
     },
     "execution_count": 90,
     "metadata": {},
     "output_type": "execute_result"
    },
    {
     "data": {
      "image/png": "iVBORw0KGgoAAAANSUhEUgAAAX4AAAEGCAYAAABiq/5QAAAABHNCSVQICAgIfAhkiAAAAAlwSFlzAAALEgAACxIB0t1+/AAAADh0RVh0U29mdHdhcmUAbWF0cGxvdGxpYiB2ZXJzaW9uMy4xLjAsIGh0dHA6Ly9tYXRwbG90bGliLm9yZy+17YcXAAAUqElEQVR4nO3df7BfdX3n8eeLhIDEQAhcIAvSSMug1F9ghkXZpRXU0opinchI1cYONjuzaHXtNqJ2Vrez7iKuVqfdcRvBmq0oYoTFOg4aEXBqKxp+yI9GiyJCQi4JjRQQt/x67x/fE7mJCfl+k5zvubnn+Zi5c77nfM/5fl5zCa977uee7/mmqpAk9cc+XQeQJI2XxS9JPWPxS1LPWPyS1DMWvyT1zOyuAwzj0EMPrUWLFnUdQ5L2KjfccMP9VTWx7fa9ovgXLVrEmjVruo4hSXuVJD/Z3naneiSpZyx+SeoZi1+Sesbil6SesfglqWcsfknqGYtfknrG4pekntkr3sA1EyxfvpzJyUmOOOIILrzwwq7jSOoxi39MJicnWb9+fdcxJMmpHknqG4tfknrGqZ5ddPefPX+k/R/fvACYzeObfzLSsUf/l1tHTCZJT88zfknqGYtfknrGqZ4xOXT/J4HHm6UkdcfiH5P//IIHuo4gSYBTPZLUOxa/JPWMxS9JPdOLOX7vkyNJT+lF8XufHEl6Si+KX5KG0ZfZgVbn+JPMT7IqyfeTrE3ykiQLkqxOckezPLjNDJI0rC2zA5OTk11HaVXbZ/wfB66qqiVJ5gAHAO8Frq6qC5KcD5wPvHvYF3zxn/yfkUPMu/8hZgF33//QSMff8OHfH3ksSZruWiv+JAcCpwJvAaiqR4FHk5wF/Gaz20rgWkYofkka1mVfOGmk/R9+eC6wDw8/fM/Ix579+u+MtH+X2pzqOQbYBPx1kpuSXJRkLnB4VW0AaJaHbe/gJMuSrEmyZtOmTS3GlKR+abP4ZwMnAp+oqhOAnzGY1hlKVa2oqsVVtXhiYmK3gjw5Zy5P7HcgT86Zu1uvI0kzQZtz/OuAdVV1fbO+ikHx35dkYVVtSLIQ2NhiBgB+duwr2x5C0gwwb96TWy1nqtaKv6omk9yT5Liq+gFwOvCPzddS4IJmeWVbGSRpFK868+ddRxiLtq/qeTtwSXNFz53AHzCYXrosybnA3cDrW84gSZqi1eKvqpuBxdt56vQ2x5Uk7Zg3aZOknrH4JalnLH5J6hmLX5J6xuKXpJ6x+CWpZyx+SeoZi1+Sesbil6SesfglqWcsfknqGYtfknrG4peknrH4JalnLH5J6pm2P4hFkjSi5cuXMzk5yRFHHMGFF164x1/f4pekaWZycpL169e39voWv8au7bMZSU/P4tfYtX02Mwx/+GhcXrjqqyMfc/DDjzALuPvhR0Y6/ntLfmuo/Sz+nrHwBqbDDx+pKxZ/z1h40vT3xLyDtlruaRa/dtt1p/7GSPv/fPYsSPj5unUjHfsb37xuh8/95R//7UgZHrj/Z79Yjnrs2z7y6pH2l0b14KvPbvX1Wy3+JHcBDwFPAI9X1eIkC4DPA4uAu4Czq+qnbeaQJD1lHGf8L6uq+6esnw9cXVUXJDm/WX/3GHLMOKf8xSkjHzPngTnswz7c88A9Ix3/rbd/a+SxJE1PXbxz9yxgZfN4JfDaDjKoQ/OrWFDF/KrOMsydcyBz95vP3DkHdpZB6krbZ/wFfC1JAX9VVSuAw6tqA0BVbUhy2PYOTLIMWAZw9NFHtxxT4/SmJ57sOgKn/Orruo4AeJWVutF28Z9SVfc25b46yfeHPbD5IbECYPHixd2dGs4wdUDxJE9SB/gtnQ68ykpdaLX4q+reZrkxyRXAScB9SRY2Z/sLgY1tZtDWHjvlsa4jaJrxt47+aW2OP8ncJPO2PAZeCdwGfAlY2uy2FLiyrQySdm7Lbx2Tk5NdR9GYtHnGfzhwRZIt43y2qq5K8l3gsiTnAncDr28xgzRWH3zTkpH237zxXwbLyQ0jHfu+z6waaRxpqtaKv6ruBF64ne3/DJze1rhS36394DdG2v/RzT//xXLUY5/7vtNG2l/Tgx/EIkk94y0bpA7tP2ufrZZdOGT/g7Zaauaz+KUOnXDIvK4j8LYTfq/rCBozp3okqWcsfknqGYtfknrG4peknrH4JalnLH5J6hmLX5J6xuKXpJ6x+CWpZyx+SeoZi1+Sesbil6SesfglqWcsfknqGYtfknrG4peknrH4JalnLH5J6pmhij/JrLaDSJLGY9gz/h8m+XCS41tNI0lq3bDF/wLgn4CLknw7ybIkBw5zYJJZSW5K8uVm/dlJrk9yR5LPJ5mzi9klSbtgqOKvqoeq6pNV9VJgOfB+YEOSlUl+bSeHvwNYO2X9Q8CfV9WxwE+Bc3chtyRpFw09x5/kNUmuAD4OfAQ4Bvhb4CtPc9xRwKuAi5r1AKcBq5pdVgKv3eX0kqSRzR5yvzuAa4APV9XfT9m+KsmpT3Pcxxj8hjCvWT8EeKCqHm/W1wFHbu/AJMuAZQBHH330kDElSTuz0zP+5oqeT1fVuduUPgBV9Uc7OO5MYGNV3TB183Z2re0dX1UrqmpxVS2emJjYWUxJ0pB2WvxV9QTwsl147VOA1yS5C7iUwRTPx4D5Sbb8pnEUcO8uvLYkaRcNe1XP3yf5yyT/PsmJW76e7oCqek9VHVVVi4A3AN+oqjcymDJa0uy2FLhyV8NLkkY37Bz/S5vln03ZVgzO4kf1buDSJP8NuAm4eBdeQ5K0i4Yt/nOr6s6pG5IcM+wgVXUtcG3z+E7gpGGPlSTtWcNO9azazrYv7MkgkqTxeNoz/iTPAX4dOCjJ66Y8dSCwf5vBJEnt2NlUz3HAmcB84NVTtj8E/GFboSRJ7Xna4q+qK4Erk7ykqv5hTJkkSS0ado7/n5NcneQ2gCQvSPKnLeaSJLVk2OL/JPAe4DGAqrqFwbX5kqS9zLDFf0BVfWebbY9vd09J0rQ2bPHfn+RXae6rk2QJsKG1VJKk1gz7Bq7zgBXAc5KsB34MvKm1VJKk1gxV/M27bV+eZC6wT1U91G4sSX2zfPlyJicnOeKII7jwwgu7jjOjDVX8SeYDvw8sAmYPPk9lx7dklqRRTU5Osn79+q5j9MKwUz1fAb4N3Ao82V4cSVLbhi3+/avqXa0mkTSjfOADHxhp/82bN/9iOcqxo46j4a/q+Zskf5hkYZIFW75aTSZJasWwZ/yPAh8G3sdTH5VYDD5wXZK0Fxm2+N8F/FpV3d9mGEn9td9++221VHuGLf7bgUfaDCKp357//Od3HaE3hi3+J4Cbk1wD/OuWjV7OKUl7n2GL//82X5Kkvdyw79xd2XYQSdJ4DHU5Z5Izk9yUZHOSB5M8lOTBtsNJkva8Yad6Pga8Dri1qmpnO0uSpq9h38B1D3CbpS9Je79hz/iXA19Jch1bX9Xz0R0dkGR/4JvAfs04q6rq/UmeDVwKLABuBN5cVY/uYn5J0oiGPeP/IIPr+PcH5k35ejr/CpxWVS8EXgSckeRk4EPAn1fVscBPgXN3JbgkadcMe8a/oKpeOcoLN9NCDzer+zZfBZwG/F6zfSXwAeATo7y2JGnXDXvG//UkIxU/QJJZSW4GNgKrgR8BD1TVls/rXQccuYNjlyVZk2TNpk2bRh1akrQDwxb/ecBVSX4+yuWcVfVEVb0IOAo4CXju9nbbwbErqmpxVS2emJgYMqYkaWeGfQPXzubzd3b8A0muBU4G5ieZ3Zz1HwXcuzuvLUkazbBv4FqV5HeSDPsbAkkmmo9sJMkzgJcDa4FrgCXNbkuBK0eLLEnaHcMW+f8G3gjckeSCJM8Z4piFwDVJbgG+C6yuqi8D7wbeleSHwCHAxbuQW5K0i4ad6vk6gz/wHgScA6xOcg/wSeAzVfXYdo65BThhO9vvZDDfL0nqwChTN4cAbwHeCtwEfBw4kcHVOpKkvcRQZ/xJLgeeA/wN8Oqq2tA89fkka9oKJ0na84Y9478UOLmq/gdwbpLLk5wIUFWLW0snSdrjhi3+P62qB5P8O+C3GLzj1nfbStJeaNjif6JZvgr4RFVdCcxpJ5IkqU3DFv/6JH8FnM3gLp37jXCsJGkaGba8zwa+CpxRVQ8wuKXyn7SWSpLUmmGv438EuHzK+gZgw46PkCRNV07XSFLPWPyS1DMWvyT1jMUvST1j8UtSz1j8ktQzFr8k9YzFL0k9Y/FLUs9Y/JLUMxa/JPWMxS9JPWPxS1LPWPyS1DOtFX+SZyW5JsnaJLcneUezfUGS1UnuaJYHt5VBkvTL2jzjfxz446p6LnAycF6S44Hzgaur6ljg6mZdkjQmrRV/VW2oqhubxw8Ba4EjgbMYfFg7zfK1bWWQJP2ysczxJ1kEnABcDxzefILXlk/yOmwHxyxLsibJmk2bNo0jpiT1QuvFn+SZwBeBd1bVg8MeV1UrqmpxVS2emJhoL6Ak9UyrxZ9kXwalf0lVbfnM3vuSLGyeXwhsbDODJGlrbV7VE+BiYG1VfXTKU18CljaPlwJXtpVBkvTLZrf42qcAbwZuTXJzs+29wAXAZUnOBe4GXt9iBknSNlor/qr6OyA7ePr0tsaVJD0937krST1j8UtSz1j8ktQzFr8k9YzFL0k9Y/FLUs9Y/JLUMxa/JPWMxS9JPWPxS1LPWPyS1DMWvyT1jMUvST1j8UtSz1j8ktQzFr8k9YzFL0k9Y/FLUs9Y/JLUMxa/JPWMxS9JPWPxS1LPWPyS1DOtFX+STyXZmOS2KdsWJFmd5I5meXBb40uStq/NM/5PA2dss+184OqqOha4ulmXJI1Ra8VfVd8ENm+z+SxgZfN4JfDatsaXJG3fuOf4D6+qDQDN8rAd7ZhkWZI1SdZs2rRpbAElaaabtn/craoVVbW4qhZPTEx0HUeSZoxxF/99SRYCNMuNYx5fknpv3MX/JWBp83gpcOWYx5ek3mvzcs7PAf8AHJdkXZJzgQuAVyS5A3hFsy5JGqPZbb1wVZ2zg6dOb2tMSdLOTds/7kqS2mHxS1LPWPyS1DMWvyT1jMUvST1j8UtSz1j8ktQzFr8k9YzFL0k9Y/FLUs9Y/JLUMxa/JPWMxS9JPWPxS1LPWPyS1DMWvyT1jMUvST1j8UtSz1j8ktQzFr8k9YzFL0k9Y/FLUs9Y/JLUM50Uf5IzkvwgyQ+TnN9FBknqq7EXf5JZwP8Cfhs4HjgnyfHjziFJfdXFGf9JwA+r6s6qehS4FDirgxyS1EupqvEOmCwBzqiqtzbrbwb+bVW9bZv9lgHLmtXjgB/s5tCHAvfv5mvsrumQAaZHDjM8ZTrkmA4ZYHrkmA4ZYM/k+JWqmth24+zdfNFdke1s+6WfPlW1AlixxwZN1lTV4j31entrhumSwwzTK8d0yDBdckyHDG3n6GKqZx3wrCnrRwH3dpBDknqpi+L/LnBskmcnmQO8AfhSBzkkqZfGPtVTVY8neRvwVWAW8Kmqun0MQ++xaaPdMB0ywPTIYYanTIcc0yEDTI8c0yEDtJhj7H/clSR1y3fuSlLPWPyS1DMzvvinw+0hknwqycYkt3UxfpPhWUmuSbI2ye1J3tFRjv2TfCfJ95oc/7WLHE2WWUluSvLlDjPcleTWJDcnWdNRhvlJViX5fvPv4yUdZDiu+R5s+XowyTs7yPGfmn+XtyX5XJL9O8jwjmb821v7HlTVjP1i8MfjHwHHAHOA7wHHd5DjVOBE4LYOvxcLgRObx/OAf+roexHgmc3jfYHrgZM7+p68C/gs8OUO/7vcBRza1fhNhpXAW5vHc4D5HeeZBUwyePPROMc9Evgx8Ixm/TLgLWPO8DzgNuAABhfffB04dk+PM9PP+KfF7SGq6pvA5nGPu02GDVV1Y/P4IWAtg3/o485RVfVws7pv8zX2KwySHAW8Crho3GNPJ0kOZHBicjFAVT1aVQ90m4rTgR9V1U86GHs28IwksxmU77jfY/Rc4NtV9UhVPQ5cB/zunh5kphf/kcA9U9bX0UHZTTdJFgEnMDjb7mL8WUluBjYCq6uqixwfA5YDT3Yw9lQFfC3JDc1tSsbtGGAT8NfNtNdFSeZ2kGOqNwCfG/egVbUe+J/A3cAG4F+q6mtjjnEbcGqSQ5IcAPwOW7/hdY+Y6cU/1O0h+iTJM4EvAu+sqge7yFBVT1TVixi8a/ukJM8b5/hJzgQ2VtUN4xx3B06pqhMZ3K32vCSnjnn82QymIT9RVScAPwM6u1V686bO1wBf6GDsgxnMCDwb+DfA3CRvGmeGqloLfAhYDVzFYHr68T09zkwvfm8PMUWSfRmU/iVVdXnXeZophWuBM8Y89CnAa5LcxWD677QknxlzBgCq6t5muRG4gsH05DitA9ZN+a1rFYMfBF35beDGqrqvg7FfDvy4qjZV1WPA5cBLxx2iqi6uqhOr6lQGU8R37OkxZnrxe3uIRpIwmMddW1Uf7TDHRJL5zeNnMPif7fvjzFBV76mqo6pqEYN/E9+oqrGe2QEkmZtk3pbHwCsZ/Ko/NlU1CdyT5Lhm0+nAP44zwzbOoYNpnsbdwMlJDmj+fzmdwd/CxirJYc3yaOB1tPD96OLunGNT3d0eYitJPgf8JnBoknXA+6vq4jHHOAV4M3BrM78O8N6q+sqYcywEVjYfyLMPcFlVdXY5ZccOB64YdAyzgc9W1VUd5Hg7cElzcnQn8AcdZKCZ034F8B+6GL+qrk+yCriRwfTKTXRz+4YvJjkEeAw4r6p+uqcH8JYNktQzM32qR5K0DYtfknrG4peknrH4JalnLH5J6hmLX9pGkod38vyiUe+0muTTSZbsXjJpz7D4JalnLH5pB5I8M8nVSW5s7pk/9c6us5OsTHJLcy/7A5pjXpzkuuama19NsrCj+NIOWfzSjv0/4Hebm6i9DPhI81Z+gOOAFVX1AuBB4D8290L6C2BJVb0Y+BTwwQ5yS09rRt+yQdpNAf57c8fMJxnc0vvw5rl7qupbzePPAH/E4G6KzwNWNz8fZjG4va80rVj80o69EZgAXlxVjzV389zyUXzb3uukGPyguL2qxv7RhdIonOqRduwgBvftfyzJy4BfmfLc0VM+m/Yc4O+AHwATW7Yn2TfJr481sTQEi1/asUuAxc2HoL+RrW8fvRZYmuQWYAGDDzJ5FFgCfCjJ94Cb6eB+7tLOeHdOSeoZz/glqWcsfknqGYtfknrG4peknrH4JalnLH5J6hmLX5J65v8DJ0O4hsKtxt4AAAAASUVORK5CYII=\n",
      "text/plain": [
       "<Figure size 432x288 with 1 Axes>"
      ]
     },
     "metadata": {
      "needs_background": "light"
     },
     "output_type": "display_data"
    }
   ],
   "source": [
    "newDF['symmetry'] = newDF['symmetry']*100\n",
    "sns.barplot(x=\"label\", y=\"symmetry\", data=newDF, ci=100)"
   ]
  },
  {
   "cell_type": "markdown",
   "metadata": {},
   "source": [
    "### 3.1 Logistic Regression with Symmetry feature only"
   ]
  },
  {
   "cell_type": "code",
   "execution_count": 115,
   "metadata": {},
   "outputs": [],
   "source": [
    "LR = LogisticRegression(random_state=0, solver='lbfgs', multi_class='multinomial')\n",
    "\n",
    "X = newDF.loc[:,[\"symmetry\"]]\n",
    "X = scale(X)\n",
    "y = newDF[\"label\"]"
   ]
  },
  {
   "cell_type": "code",
   "execution_count": 116,
   "metadata": {},
   "outputs": [],
   "source": [
    "X_train, X_test, y_train, y_test = train_test_split(X, y, test_size=0.25, random_state=42)"
   ]
  },
  {
   "cell_type": "code",
   "execution_count": 117,
   "metadata": {},
   "outputs": [
    {
     "data": {
      "text/plain": [
       "LogisticRegression(C=1.0, class_weight=None, dual=False, fit_intercept=True,\n",
       "                   intercept_scaling=1, l1_ratio=None, max_iter=100,\n",
       "                   multi_class='multinomial', n_jobs=None, penalty='l2',\n",
       "                   random_state=0, solver='lbfgs', tol=0.0001, verbose=0,\n",
       "                   warm_start=False)"
      ]
     },
     "execution_count": 117,
     "metadata": {},
     "output_type": "execute_result"
    }
   ],
   "source": [
    "LR.fit(X_train, y_train)"
   ]
  },
  {
   "cell_type": "code",
   "execution_count": 118,
   "metadata": {
    "scrolled": true
   },
   "outputs": [
    {
     "data": {
      "text/plain": [
       "0.20123809523809524"
      ]
     },
     "execution_count": 118,
     "metadata": {},
     "output_type": "execute_result"
    }
   ],
   "source": [
    "prediction_sym = LR.predict(X_test)\n",
    "accuracy_score(y_test, prediction_sym) #only simmerty feature"
   ]
  },
  {
   "cell_type": "code",
   "execution_count": 119,
   "metadata": {},
   "outputs": [
    {
     "data": {
      "image/png": "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\n",
      "text/plain": [
       "<Figure size 432x288 with 2 Axes>"
      ]
     },
     "metadata": {
      "needs_background": "light"
     },
     "output_type": "display_data"
    }
   ],
   "source": [
    "#confusion_matrix(y_test, prediction)\n",
    "plot_confusion_matrix(y_test, prediction_sym, classes=[0,1,2,3,4,5,6,7,8,9], title='Confusion matrix')\n",
    "plt.show()"
   ]
  },
  {
   "cell_type": "markdown",
   "metadata": {},
   "source": [
    "# 4. Logistic Regression with Symmetry and Density features"
   ]
  },
  {
   "cell_type": "code",
   "execution_count": 120,
   "metadata": {},
   "outputs": [],
   "source": [
    "LR = LogisticRegression(random_state=0, solver='lbfgs', multi_class='multinomial')\n",
    "\n",
    "X = newDF.loc[:,[\"density\", \"symmetry\"]]\n",
    "X = scale(X)\n",
    "y = newDF[\"label\"]"
   ]
  },
  {
   "cell_type": "code",
   "execution_count": 121,
   "metadata": {},
   "outputs": [],
   "source": [
    "X_train, X_test, y_train, y_test = train_test_split(X, y, test_size=0.25, random_state=42)"
   ]
  },
  {
   "cell_type": "code",
   "execution_count": 122,
   "metadata": {},
   "outputs": [
    {
     "data": {
      "text/plain": [
       "LogisticRegression(C=1.0, class_weight=None, dual=False, fit_intercept=True,\n",
       "                   intercept_scaling=1, l1_ratio=None, max_iter=100,\n",
       "                   multi_class='multinomial', n_jobs=None, penalty='l2',\n",
       "                   random_state=0, solver='lbfgs', tol=0.0001, verbose=0,\n",
       "                   warm_start=False)"
      ]
     },
     "execution_count": 122,
     "metadata": {},
     "output_type": "execute_result"
    }
   ],
   "source": [
    "LR.fit(X_train, y_train)"
   ]
  },
  {
   "cell_type": "code",
   "execution_count": 123,
   "metadata": {
    "scrolled": true
   },
   "outputs": [
    {
     "data": {
      "text/plain": [
       "0.32704761904761903"
      ]
     },
     "execution_count": 123,
     "metadata": {},
     "output_type": "execute_result"
    }
   ],
   "source": [
    "prediction_sym_dens = LR.predict(X_test)\n",
    "accuracy_score(y_test, prediction_sym_dens) #simmerty and density features"
   ]
  },
  {
   "cell_type": "code",
   "execution_count": 124,
   "metadata": {},
   "outputs": [
    {
     "data": {
      "image/png": "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\n",
      "text/plain": [
       "<Figure size 432x288 with 2 Axes>"
      ]
     },
     "metadata": {
      "needs_background": "light"
     },
     "output_type": "display_data"
    }
   ],
   "source": [
    "#confusion_matrix(y_test, prediction)\n",
    "plot_confusion_matrix(y_test, prediction_sym_dens, classes=[0,1,2,3,4,5,6,7,8,9], title='Confusion matrix')\n",
    "plt.show()"
   ]
  },
  {
   "cell_type": "code",
   "execution_count": 125,
   "metadata": {},
   "outputs": [
    {
     "name": "stdout",
     "output_type": "stream",
     "text": [
      "Accuracy: 0.33 (+/- 0.01)\n"
     ]
    }
   ],
   "source": [
    "scores = cross_val_score(LR, X, y, cv=5)\n",
    "print(\"Accuracy: %0.2f (+/- %0.2f)\" % (scores.mean(), scores.std() * 2))"
   ]
  },
  {
   "cell_type": "markdown",
   "metadata": {},
   "source": [
    "# Logistic Regression with all features"
   ]
  },
  {
   "cell_type": "code",
   "execution_count": 17,
   "metadata": {},
   "outputs": [],
   "source": [
    "from sklearn.preprocessing import OneHotEncoder, LabelEncoder, normalize\n",
    "from tensorflow.keras.utils import to_categorical"
   ]
  },
  {
   "cell_type": "code",
   "execution_count": 142,
   "metadata": {},
   "outputs": [],
   "source": [
    "LR = LogisticRegression(random_state=0, solver='lbfgs', multi_class='multinomial')\n",
    "\n",
    "X = newDF.iloc[:40000, 1:-2]\n",
    "y = newDF.iloc[:40000, [0]]"
   ]
  },
  {
   "cell_type": "code",
   "execution_count": 141,
   "metadata": {},
   "outputs": [
    {
     "data": {
      "text/html": [
       "<div>\n",
       "<style scoped>\n",
       "    .dataframe tbody tr th:only-of-type {\n",
       "        vertical-align: middle;\n",
       "    }\n",
       "\n",
       "    .dataframe tbody tr th {\n",
       "        vertical-align: top;\n",
       "    }\n",
       "\n",
       "    .dataframe thead th {\n",
       "        text-align: right;\n",
       "    }\n",
       "</style>\n",
       "<table border=\"1\" class=\"dataframe\">\n",
       "  <thead>\n",
       "    <tr style=\"text-align: right;\">\n",
       "      <th></th>\n",
       "      <th>pixel0</th>\n",
       "      <th>pixel1</th>\n",
       "      <th>pixel2</th>\n",
       "      <th>pixel3</th>\n",
       "      <th>pixel4</th>\n",
       "      <th>pixel5</th>\n",
       "      <th>pixel6</th>\n",
       "      <th>pixel7</th>\n",
       "      <th>pixel8</th>\n",
       "      <th>pixel9</th>\n",
       "      <th>...</th>\n",
       "      <th>pixel774</th>\n",
       "      <th>pixel775</th>\n",
       "      <th>pixel776</th>\n",
       "      <th>pixel777</th>\n",
       "      <th>pixel778</th>\n",
       "      <th>pixel779</th>\n",
       "      <th>pixel780</th>\n",
       "      <th>pixel781</th>\n",
       "      <th>pixel782</th>\n",
       "      <th>pixel783</th>\n",
       "    </tr>\n",
       "  </thead>\n",
       "  <tbody>\n",
       "    <tr>\n",
       "      <th>0</th>\n",
       "      <td>0</td>\n",
       "      <td>0</td>\n",
       "      <td>0</td>\n",
       "      <td>0</td>\n",
       "      <td>0</td>\n",
       "      <td>0</td>\n",
       "      <td>0</td>\n",
       "      <td>0</td>\n",
       "      <td>0</td>\n",
       "      <td>0</td>\n",
       "      <td>...</td>\n",
       "      <td>0</td>\n",
       "      <td>0</td>\n",
       "      <td>0</td>\n",
       "      <td>0</td>\n",
       "      <td>0</td>\n",
       "      <td>0</td>\n",
       "      <td>0</td>\n",
       "      <td>0</td>\n",
       "      <td>0</td>\n",
       "      <td>0</td>\n",
       "    </tr>\n",
       "    <tr>\n",
       "      <th>1</th>\n",
       "      <td>0</td>\n",
       "      <td>0</td>\n",
       "      <td>0</td>\n",
       "      <td>0</td>\n",
       "      <td>0</td>\n",
       "      <td>0</td>\n",
       "      <td>0</td>\n",
       "      <td>0</td>\n",
       "      <td>0</td>\n",
       "      <td>0</td>\n",
       "      <td>...</td>\n",
       "      <td>0</td>\n",
       "      <td>0</td>\n",
       "      <td>0</td>\n",
       "      <td>0</td>\n",
       "      <td>0</td>\n",
       "      <td>0</td>\n",
       "      <td>0</td>\n",
       "      <td>0</td>\n",
       "      <td>0</td>\n",
       "      <td>0</td>\n",
       "    </tr>\n",
       "    <tr>\n",
       "      <th>2</th>\n",
       "      <td>0</td>\n",
       "      <td>0</td>\n",
       "      <td>0</td>\n",
       "      <td>0</td>\n",
       "      <td>0</td>\n",
       "      <td>0</td>\n",
       "      <td>0</td>\n",
       "      <td>0</td>\n",
       "      <td>0</td>\n",
       "      <td>0</td>\n",
       "      <td>...</td>\n",
       "      <td>0</td>\n",
       "      <td>0</td>\n",
       "      <td>0</td>\n",
       "      <td>0</td>\n",
       "      <td>0</td>\n",
       "      <td>0</td>\n",
       "      <td>0</td>\n",
       "      <td>0</td>\n",
       "      <td>0</td>\n",
       "      <td>0</td>\n",
       "    </tr>\n",
       "    <tr>\n",
       "      <th>3</th>\n",
       "      <td>0</td>\n",
       "      <td>0</td>\n",
       "      <td>0</td>\n",
       "      <td>0</td>\n",
       "      <td>0</td>\n",
       "      <td>0</td>\n",
       "      <td>0</td>\n",
       "      <td>0</td>\n",
       "      <td>0</td>\n",
       "      <td>0</td>\n",
       "      <td>...</td>\n",
       "      <td>0</td>\n",
       "      <td>0</td>\n",
       "      <td>0</td>\n",
       "      <td>0</td>\n",
       "      <td>0</td>\n",
       "      <td>0</td>\n",
       "      <td>0</td>\n",
       "      <td>0</td>\n",
       "      <td>0</td>\n",
       "      <td>0</td>\n",
       "    </tr>\n",
       "    <tr>\n",
       "      <th>4</th>\n",
       "      <td>0</td>\n",
       "      <td>0</td>\n",
       "      <td>0</td>\n",
       "      <td>0</td>\n",
       "      <td>0</td>\n",
       "      <td>0</td>\n",
       "      <td>0</td>\n",
       "      <td>0</td>\n",
       "      <td>0</td>\n",
       "      <td>0</td>\n",
       "      <td>...</td>\n",
       "      <td>0</td>\n",
       "      <td>0</td>\n",
       "      <td>0</td>\n",
       "      <td>0</td>\n",
       "      <td>0</td>\n",
       "      <td>0</td>\n",
       "      <td>0</td>\n",
       "      <td>0</td>\n",
       "      <td>0</td>\n",
       "      <td>0</td>\n",
       "    </tr>\n",
       "  </tbody>\n",
       "</table>\n",
       "<p>5 rows × 784 columns</p>\n",
       "</div>"
      ],
      "text/plain": [
       "   pixel0  pixel1  pixel2  pixel3  pixel4  pixel5  pixel6  pixel7  pixel8  \\\n",
       "0       0       0       0       0       0       0       0       0       0   \n",
       "1       0       0       0       0       0       0       0       0       0   \n",
       "2       0       0       0       0       0       0       0       0       0   \n",
       "3       0       0       0       0       0       0       0       0       0   \n",
       "4       0       0       0       0       0       0       0       0       0   \n",
       "\n",
       "   pixel9  ...  pixel774  pixel775  pixel776  pixel777  pixel778  pixel779  \\\n",
       "0       0  ...         0         0         0         0         0         0   \n",
       "1       0  ...         0         0         0         0         0         0   \n",
       "2       0  ...         0         0         0         0         0         0   \n",
       "3       0  ...         0         0         0         0         0         0   \n",
       "4       0  ...         0         0         0         0         0         0   \n",
       "\n",
       "   pixel780  pixel781  pixel782  pixel783  \n",
       "0         0         0         0         0  \n",
       "1         0         0         0         0  \n",
       "2         0         0         0         0  \n",
       "3         0         0         0         0  \n",
       "4         0         0         0         0  \n",
       "\n",
       "[5 rows x 784 columns]"
      ]
     },
     "execution_count": 141,
     "metadata": {},
     "output_type": "execute_result"
    }
   ],
   "source": [
    "newDF.iloc[:40000, 1:-2].head()"
   ]
  },
  {
   "cell_type": "code",
   "execution_count": 143,
   "metadata": {
    "scrolled": true
   },
   "outputs": [
    {
     "data": {
      "text/plain": [
       "LogisticRegression(C=1.0, class_weight=None, dual=False, fit_intercept=True,\n",
       "                   intercept_scaling=1, l1_ratio=None, max_iter=100,\n",
       "                   multi_class='multinomial', n_jobs=None, penalty='l2',\n",
       "                   random_state=0, solver='lbfgs', tol=0.0001, verbose=0,\n",
       "                   warm_start=False)"
      ]
     },
     "execution_count": 143,
     "metadata": {},
     "output_type": "execute_result"
    }
   ],
   "source": [
    "X_train, X_test, y_train, y_test = train_test_split(X, y, test_size=0.33, random_state=42)\n",
    "LR.fit(X_train, y_train)"
   ]
  },
  {
   "cell_type": "code",
   "execution_count": 144,
   "metadata": {},
   "outputs": [
    {
     "data": {
      "text/plain": [
       "0.9052272727272728"
      ]
     },
     "execution_count": 144,
     "metadata": {},
     "output_type": "execute_result"
    }
   ],
   "source": [
    "prediction = LR.predict(X_test)\n",
    "accuracy_score(y_test, prediction)"
   ]
  },
  {
   "cell_type": "code",
   "execution_count": 99,
   "metadata": {},
   "outputs": [
    {
     "data": {
      "text/plain": [
       "LogisticRegression(C=1.0, class_weight=None, dual=False, fit_intercept=True,\n",
       "                   intercept_scaling=1, l1_ratio=None, max_iter=100,\n",
       "                   multi_class='multinomial', n_jobs=None, penalty='l2',\n",
       "                   random_state=0, solver='lbfgs', tol=0.0001, verbose=0,\n",
       "                   warm_start=False)"
      ]
     },
     "execution_count": 99,
     "metadata": {},
     "output_type": "execute_result"
    }
   ],
   "source": [
    "LR = LogisticRegression(random_state=0, solver='lbfgs', multi_class='multinomial')\n",
    "\n",
    "X = newDF.iloc[:, 1:]\n",
    "y = newDF.iloc[:, [0]]\n",
    "X = normalize(X)\n",
    "\n",
    "X_train, X_test, y_train, y_test = train_test_split(X, y, test_size=0.33, random_state=42)\n",
    "LR.fit(X_train, y_train)"
   ]
  },
  {
   "cell_type": "code",
   "execution_count": 100,
>>>>>>> 7a2d47a39e0e10d2c65274881756452360e18a75
   "metadata": {},
   "outputs": [
    {
     "data": {
      "text/plain": [
       "0.9068542568542568"
      ]
     },
     "execution_count": 100,
     "metadata": {},
     "output_type": "execute_result"
    }
   ],
>>>>>>> a46d565c1fee6fca94c14e5ee6bc4c0d2dce59e9
   "source": [
    "prediction = LR.predict(X_test)\n",
    "accuracy_score(y_test, prediction)"
   ]
  },
  {
   "cell_type": "code",
<<<<<<< HEAD
<<<<<<< HEAD
   "execution_count": null,
=======
   "execution_count": 27,
>>>>>>> a46d565c1fee6fca94c14e5ee6bc4c0d2dce59e9
   "metadata": {},
   "outputs": [],
   "source": [
    "scores = cross_val_score(LR, X, y, cv=5)\n",
    "print(\"Accuracy: %0.2f (+/- %0.2f)\" % (scores.mean(), scores.std() * 2))"
   ]
<<<<<<< HEAD
  },
  {
   "cell_type": "code",
   "execution_count": 7,
   "metadata": {
    "scrolled": true
   },
   "outputs": [
    {
     "data": {
      "text/html": [
       "<div>\n",
       "<style scoped>\n",
       "    .dataframe tbody tr th:only-of-type {\n",
       "        vertical-align: middle;\n",
       "    }\n",
       "\n",
       "    .dataframe tbody tr th {\n",
       "        vertical-align: top;\n",
       "    }\n",
       "\n",
       "    .dataframe thead th {\n",
       "        text-align: right;\n",
       "    }\n",
       "</style>\n",
       "<table border=\"1\" class=\"dataframe\">\n",
       "  <thead>\n",
       "    <tr style=\"text-align: right;\">\n",
       "      <th></th>\n",
       "      <th>label</th>\n",
       "      <th>pixel0</th>\n",
       "      <th>pixel1</th>\n",
       "      <th>pixel2</th>\n",
       "      <th>pixel3</th>\n",
       "      <th>pixel4</th>\n",
       "      <th>pixel5</th>\n",
       "      <th>pixel6</th>\n",
       "      <th>pixel7</th>\n",
       "      <th>pixel8</th>\n",
       "      <th>...</th>\n",
       "      <th>pixel774</th>\n",
       "      <th>pixel775</th>\n",
       "      <th>pixel776</th>\n",
       "      <th>pixel777</th>\n",
       "      <th>pixel778</th>\n",
       "      <th>pixel779</th>\n",
       "      <th>pixel780</th>\n",
       "      <th>pixel781</th>\n",
       "      <th>pixel782</th>\n",
       "      <th>pixel783</th>\n",
       "    </tr>\n",
       "  </thead>\n",
       "  <tbody>\n",
       "    <tr>\n",
       "      <th>0</th>\n",
       "      <td>1</td>\n",
       "      <td>0</td>\n",
       "      <td>0</td>\n",
       "      <td>0</td>\n",
       "      <td>0</td>\n",
       "      <td>0</td>\n",
       "      <td>0</td>\n",
       "      <td>0</td>\n",
       "      <td>0</td>\n",
       "      <td>0</td>\n",
       "      <td>...</td>\n",
       "      <td>0</td>\n",
       "      <td>0</td>\n",
       "      <td>0</td>\n",
       "      <td>0</td>\n",
       "      <td>0</td>\n",
       "      <td>0</td>\n",
       "      <td>0</td>\n",
       "      <td>0</td>\n",
       "      <td>0</td>\n",
       "      <td>0</td>\n",
       "    </tr>\n",
       "    <tr>\n",
       "      <th>1</th>\n",
       "      <td>0</td>\n",
       "      <td>0</td>\n",
       "      <td>0</td>\n",
       "      <td>0</td>\n",
       "      <td>0</td>\n",
       "      <td>0</td>\n",
       "      <td>0</td>\n",
       "      <td>0</td>\n",
       "      <td>0</td>\n",
       "      <td>0</td>\n",
       "      <td>...</td>\n",
       "      <td>0</td>\n",
       "      <td>0</td>\n",
       "      <td>0</td>\n",
       "      <td>0</td>\n",
       "      <td>0</td>\n",
       "      <td>0</td>\n",
       "      <td>0</td>\n",
       "      <td>0</td>\n",
       "      <td>0</td>\n",
       "      <td>0</td>\n",
       "    </tr>\n",
       "    <tr>\n",
       "      <th>2</th>\n",
       "      <td>1</td>\n",
       "      <td>0</td>\n",
       "      <td>0</td>\n",
       "      <td>0</td>\n",
       "      <td>0</td>\n",
       "      <td>0</td>\n",
       "      <td>0</td>\n",
       "      <td>0</td>\n",
       "      <td>0</td>\n",
       "      <td>0</td>\n",
       "      <td>...</td>\n",
       "      <td>0</td>\n",
       "      <td>0</td>\n",
       "      <td>0</td>\n",
       "      <td>0</td>\n",
       "      <td>0</td>\n",
       "      <td>0</td>\n",
       "      <td>0</td>\n",
       "      <td>0</td>\n",
       "      <td>0</td>\n",
       "      <td>0</td>\n",
       "    </tr>\n",
       "    <tr>\n",
       "      <th>3</th>\n",
       "      <td>4</td>\n",
       "      <td>0</td>\n",
       "      <td>0</td>\n",
       "      <td>0</td>\n",
       "      <td>0</td>\n",
       "      <td>0</td>\n",
       "      <td>0</td>\n",
       "      <td>0</td>\n",
       "      <td>0</td>\n",
       "      <td>0</td>\n",
       "      <td>...</td>\n",
       "      <td>0</td>\n",
       "      <td>0</td>\n",
       "      <td>0</td>\n",
       "      <td>0</td>\n",
       "      <td>0</td>\n",
       "      <td>0</td>\n",
       "      <td>0</td>\n",
       "      <td>0</td>\n",
       "      <td>0</td>\n",
       "      <td>0</td>\n",
       "    </tr>\n",
       "    <tr>\n",
       "      <th>4</th>\n",
       "      <td>0</td>\n",
       "      <td>0</td>\n",
       "      <td>0</td>\n",
       "      <td>0</td>\n",
       "      <td>0</td>\n",
       "      <td>0</td>\n",
       "      <td>0</td>\n",
       "      <td>0</td>\n",
       "      <td>0</td>\n",
       "      <td>0</td>\n",
       "      <td>...</td>\n",
       "      <td>0</td>\n",
       "      <td>0</td>\n",
       "      <td>0</td>\n",
       "      <td>0</td>\n",
       "      <td>0</td>\n",
       "      <td>0</td>\n",
       "      <td>0</td>\n",
       "      <td>0</td>\n",
       "      <td>0</td>\n",
       "      <td>0</td>\n",
       "    </tr>\n",
       "  </tbody>\n",
       "</table>\n",
       "<p>5 rows × 785 columns</p>\n",
       "</div>"
      ],
      "text/plain": [
       "   label  pixel0  pixel1  pixel2  pixel3  pixel4  pixel5  pixel6  pixel7  \\\n",
       "0      1       0       0       0       0       0       0       0       0   \n",
       "1      0       0       0       0       0       0       0       0       0   \n",
       "2      1       0       0       0       0       0       0       0       0   \n",
       "3      4       0       0       0       0       0       0       0       0   \n",
       "4      0       0       0       0       0       0       0       0       0   \n",
       "\n",
       "   pixel8  ...  pixel774  pixel775  pixel776  pixel777  pixel778  pixel779  \\\n",
       "0       0  ...         0         0         0         0         0         0   \n",
       "1       0  ...         0         0         0         0         0         0   \n",
       "2       0  ...         0         0         0         0         0         0   \n",
       "3       0  ...         0         0         0         0         0         0   \n",
       "4       0  ...         0         0         0         0         0         0   \n",
       "\n",
       "   pixel780  pixel781  pixel782  pixel783  \n",
       "0         0         0         0         0  \n",
       "1         0         0         0         0  \n",
       "2         0         0         0         0  \n",
       "3         0         0         0         0  \n",
       "4         0         0         0         0  \n",
       "\n",
       "[5 rows x 785 columns]"
      ]
     },
     "execution_count": 7,
     "metadata": {},
     "output_type": "execute_result"
    }
   ],
   "source": [
    "df.head()"
   ]
  },
  {
   "cell_type": "code",
   "execution_count": 72,
=======
   "execution_count": 75,
>>>>>>> 7a2d47a39e0e10d2c65274881756452360e18a75
   "metadata": {},
   "outputs": [
    {
     "name": "stdout",
     "output_type": "stream",
     "text": [
<<<<<<< HEAD
      "pixel783\n",
      "pixel782\n",
      "pixel781\n",
      "pixel780\n",
      "pixel760\n",
      "pixel759\n",
      "pixel758\n",
      "pixel757\n",
      "pixel756\n",
      "9\n"
=======
      "Accuracy: 0.90 (+/- 0.00)\n"
>>>>>>> 7a2d47a39e0e10d2c65274881756452360e18a75
     ]
    }
   ],
   "source": [
    "clearDF = df\n",
    "counter = 0\n",
    "first_pix = 0\n",
    "last_pix = 27\n",
    "# while (first_pix < 784) or (last_pix < 784):\n",
    "#     feature_first = \"pixel\" + str(first_pix)\n",
    "#     feature_last = \"pixel\" + str(last_pix)\n",
    "#      if clearDF[feature_first].sum() == 0:\n",
    "#          print(feature_first)\n",
    "#          clearDF = clearDF.drop(feature_first, axis=1)\n",
    "        \n",
    "#     if clearDF[feature_last].sum() == 0:\n",
    "#         print(feature_last) \n",
    "#         clearDF = clearDF.drop(feature_last, axis=1)\n",
    "#         counter += 1\n",
    "        \n",
    "#     first_pix += 28\n",
    "#     last_pix += 28\n",
    "\n",
    "# print(counter)\n",
    "\n",
    "# pix = 0\n",
    "# while (pix < 27):\n",
    "#     feature = \"pixel\" + str(pix)\n",
    "#     if clearDF[feature].sum() == 0:\n",
    "#         print(feature)\n",
    "#         clearDF = clearDF.drop(feature, axis=1)\n",
    "#         counter += 1\n",
    "#     pix += 1\n",
    "    \n",
    "# print(counter)\n",
    "\n",
    "pix = 783\n",
    "while (pix > 755):\n",
    "    feature = \"pixel\" + str(pix)\n",
    "    clearDF[feature].sum()\n",
    "    if clearDF[feature].sum() == 0:\n",
    "        print(feature)\n",
    "        clearDF = clearDF.drop(feature, axis=1)\n",
    "        counter += 1\n",
    "    pix -= 1\n",
    "    \n",
    "print(counter)"
   ]
  },
  {
   "cell_type": "code",
   "execution_count": 56,
   "metadata": {},
   "outputs": [
    {
     "name": "stdout",
     "output_type": "stream",
     "text": [
      "Deleted feature:  pixel0\n",
      "Deleted feature:  pixel1\n",
      "Deleted feature:  pixel2\n",
      "Deleted feature:  pixel3\n",
      "Deleted feature:  pixel4\n",
      "Deleted feature:  pixel5\n",
      "Deleted feature:  pixel6\n",
      "Deleted feature:  pixel7\n",
      "Deleted feature:  pixel8\n",
      "Deleted feature:  pixel9\n",
      "Deleted feature:  pixel10\n",
      "Deleted feature:  pixel11\n",
      "Deleted feature:  pixel16\n",
      "Deleted feature:  pixel17\n",
      "Deleted feature:  pixel18\n",
      "Deleted feature:  pixel19\n",
      "Deleted feature:  pixel20\n",
      "Deleted feature:  pixel21\n",
      "Deleted feature:  pixel22\n",
      "Deleted feature:  pixel23\n",
      "Deleted feature:  pixel24\n",
      "Deleted feature:  pixel25\n",
      "Deleted feature:  pixel26\n",
      "Deleted feature:  pixel27\n",
      "Deleted feature:  pixel28\n",
      "Deleted feature:  pixel29\n",
      "Deleted feature:  pixel30\n",
      "Deleted feature:  pixel31\n",
      "Deleted feature:  pixel52\n",
      "Deleted feature:  pixel53\n",
      "Deleted feature:  pixel54\n",
      "Deleted feature:  pixel55\n",
      "Deleted feature:  pixel56\n",
      "Deleted feature:  pixel57\n",
      "Deleted feature:  pixel82\n",
      "Deleted feature:  pixel83\n",
      "Deleted feature:  pixel84\n",
      "Deleted feature:  pixel85\n",
      "Deleted feature:  pixel111\n",
      "Deleted feature:  pixel112\n",
      "Deleted feature:  pixel139\n",
      "Deleted feature:  pixel140\n",
      "Deleted feature:  pixel141\n",
      "Deleted feature:  pixel168\n",
      "Deleted feature:  pixel196\n",
      "Deleted feature:  pixel392\n",
      "Deleted feature:  pixel420\n",
      "Deleted feature:  pixel421\n",
      "Deleted feature:  pixel448\n",
      "Deleted feature:  pixel476\n",
      "Deleted feature:  pixel532\n",
      "Deleted feature:  pixel560\n",
      "Deleted feature:  pixel644\n",
      "Deleted feature:  pixel645\n",
      "Deleted feature:  pixel671\n",
      "Deleted feature:  pixel672\n",
      "Deleted feature:  pixel673\n",
      "Deleted feature:  pixel699\n",
      "Deleted feature:  pixel700\n",
      "Deleted feature:  pixel701\n",
      "Deleted feature:  pixel727\n",
      "Deleted feature:  pixel728\n",
      "Deleted feature:  pixel729\n",
      "Deleted feature:  pixel730\n",
      "Deleted feature:  pixel731\n",
      "Deleted feature:  pixel754\n",
      "Deleted feature:  pixel755\n",
      "Deleted feature:  pixel756\n",
      "Deleted feature:  pixel757\n",
      "Deleted feature:  pixel758\n",
      "Deleted feature:  pixel759\n",
      "Deleted feature:  pixel760\n",
      "Deleted feature:  pixel780\n",
      "Deleted feature:  pixel781\n",
      "Deleted feature:  pixel782\n",
      "Deleted feature:  pixel783\n"
     ]
    }
   ],
   "source": [
    "clearDF = df\n",
    "for i in df.columns:\n",
    "    if clearDF[i].sum() == 0:\n",
    "        print(\"Deleted feature: \", i)\n",
    "        clearDF = clearDF.drop(i, axis=1)"
   ]
  },
  {
   "cell_type": "code",
   "execution_count": 49,
   "metadata": {},
   "outputs": [],
   "source": [
    "addition = pd.DataFrame()\n",
    "for pix in range(5):\n",
    "    feature = \"new_pix\" + str(pix)\n",
    "    arr_zero = np.zeros((42000, ), dtype=int)\n",
    "    addition[feature] = arr_zero\n",
    "\n",
    "full_clearDF = pd.concat([clearDF, addition], axis=1)"
   ]
  },
  {
   "cell_type": "code",
   "execution_count": 66,
   "metadata": {},
   "outputs": [
    {
     "ename": "ValueError",
     "evalue": "cannot reshape array of size 733 into shape (27,27)",
     "output_type": "error",
     "traceback": [
      "\u001b[0;31m---------------------------------------------------------------------------\u001b[0m",
      "\u001b[0;31mValueError\u001b[0m                                Traceback (most recent call last)",
      "\u001b[0;32m<ipython-input-66-b887db7b0ea4>\u001b[0m in \u001b[0;36m<module>\u001b[0;34m\u001b[0m\n\u001b[1;32m      1\u001b[0m \u001b[0min_data\u001b[0m \u001b[0;34m=\u001b[0m \u001b[0mnp\u001b[0m\u001b[0;34m.\u001b[0m\u001b[0marray\u001b[0m\u001b[0;34m(\u001b[0m\u001b[0mclearDF\u001b[0m\u001b[0;34m.\u001b[0m\u001b[0mdrop\u001b[0m\u001b[0;34m(\u001b[0m\u001b[0;34m[\u001b[0m\u001b[0;34m\"label\"\u001b[0m\u001b[0;34m]\u001b[0m\u001b[0;34m,\u001b[0m \u001b[0maxis\u001b[0m\u001b[0;34m=\u001b[0m\u001b[0;36m1\u001b[0m\u001b[0;34m)\u001b[0m\u001b[0;34m)\u001b[0m\u001b[0;34m\u001b[0m\u001b[0;34m\u001b[0m\u001b[0m\n\u001b[1;32m      2\u001b[0m \u001b[0min_data\u001b[0m\u001b[0;34m[\u001b[0m\u001b[0min_data\u001b[0m \u001b[0;34m<\u001b[0m \u001b[0;36m100\u001b[0m\u001b[0;34m]\u001b[0m \u001b[0;34m=\u001b[0m \u001b[0;36m0\u001b[0m\u001b[0;34m\u001b[0m\u001b[0;34m\u001b[0m\u001b[0m\n\u001b[0;32m----> 3\u001b[0;31m \u001b[0mdigit_image\u001b[0m \u001b[0;34m=\u001b[0m \u001b[0min_data\u001b[0m\u001b[0;34m[\u001b[0m\u001b[0;36m13\u001b[0m\u001b[0;34m]\u001b[0m\u001b[0;34m.\u001b[0m\u001b[0mreshape\u001b[0m\u001b[0;34m(\u001b[0m\u001b[0;36m27\u001b[0m\u001b[0;34m,\u001b[0m \u001b[0;36m27\u001b[0m\u001b[0;34m)\u001b[0m\u001b[0;34m\u001b[0m\u001b[0;34m\u001b[0m\u001b[0m\n\u001b[0m\u001b[1;32m      4\u001b[0m \u001b[0mplt\u001b[0m\u001b[0;34m.\u001b[0m\u001b[0mimshow\u001b[0m\u001b[0;34m(\u001b[0m\u001b[0mdigit_image\u001b[0m\u001b[0;34m,\u001b[0m \u001b[0mcmap\u001b[0m \u001b[0;34m=\u001b[0m \u001b[0;34m'binary'\u001b[0m\u001b[0;34m)\u001b[0m\u001b[0;34m\u001b[0m\u001b[0;34m\u001b[0m\u001b[0m\n\u001b[1;32m      5\u001b[0m \u001b[0mplt\u001b[0m\u001b[0;34m.\u001b[0m\u001b[0mshow\u001b[0m\u001b[0;34m(\u001b[0m\u001b[0;34m)\u001b[0m\u001b[0;34m\u001b[0m\u001b[0;34m\u001b[0m\u001b[0m\n",
      "\u001b[0;31mValueError\u001b[0m: cannot reshape array of size 733 into shape (27,27)"
     ]
    }
   ],
   "source": [
    "in_data = np.array(clearDF.drop([\"label\"], axis=1))\n",
    "in_data[in_data < 100] = 0\n",
    "digit_image = in_data[13].reshape(27, 27)\n",
    "plt.imshow(digit_image, cmap = 'binary')\n",
    "plt.show()"
   ]
  },
  {
   "cell_type": "code",
   "execution_count": null,
   "metadata": {},
   "outputs": [],
   "source": [
    "def determine_useless_features(x):\n",
    "    \n",
    "    for arr in x:\n",
    "        if arr.sum(axis=0) != 0:\n",
    "            "
   ]
  },
  {
   "cell_type": "code",
   "execution_count": 99,
   "metadata": {},
   "outputs": [
    {
     "name": "stdout",
     "output_type": "stream",
     "text": [
      "First half:  40\n",
      "Second half:  50\n",
      "Simmetry:  10\n"
     ]
    }
   ],
   "source": [
    "input_data = np.array(df.drop([\"label\"], axis=1))\n",
    "\n",
    "def check_simmetry(x):\n",
    "    dens_1, dens_2 = 0, 0\n",
    "    simmetry = np.array([])\n",
    "    for i_set in x:\n",
    "        matr = i_set.reshape(28,28)\n",
    "        newDF = pd.DataFrame(matr)\n",
    "        for y in range(13):\n",
    "            dens_1 = dens_1 + np.array(newDF[y]).astype(bool).sum()\n",
    "        for y in range(14, 28):\n",
    "            dens_2 = dens_2 + np.array(newDF[y]).astype(bool).sum()\n",
    "        print(\"First half: \", dens_1)\n",
    "        print(\"Second half: \", dens_2)\n",
    "        print(\"Simmetry: \", abs(dens_1 - dens_2))\n",
    "        break\n",
    "            \n",
    "        simmetry = np.append(simmetry, [abs(dens_1 - dens_2)])\n",
    "    \n",
    "    return simmetry\n",
    "\n",
    "sim = check_simmetry(input_data)"
   ]
  },
  {
   "cell_type": "code",
   "execution_count": 79,
   "metadata": {},
   "outputs": [
    {
     "data": {
      "text/plain": [
       "array([1.000000e+01, 1.800000e+01, 3.900000e+01, ..., 1.117841e+06,\n",
       "       1.117876e+06, 1.117906e+06])"
      ]
     },
     "execution_count": 79,
     "metadata": {},
     "output_type": "execute_result"
    }
   ],
   "source": [
    "sim"
   ]
  },
  {
   "cell_type": "code",
   "execution_count": 58,
   "metadata": {},
   "outputs": [],
   "source": [
    "LR = LogisticRegression()\n",
    "\n",
    "X = clearDF.drop('label', axis=1)\n",
    "X = scale(X)\n",
    "y = clearDF[\"label\"]"
   ]
  },
  {
   "cell_type": "code",
   "execution_count": 59,
   "metadata": {},
   "outputs": [],
   "source": [
    "X_train, X_test, y_train, y_test = train_test_split(X, y, test_size=0.33, random_state=42)"
   ]
  },
  {
   "cell_type": "code",
   "execution_count": null,
   "metadata": {},
   "outputs": [],
   "source": [
    "LR.fit(X_train, y_train)\n",
    "prediction = LR.predict(X_test)"
   ]
  },
  {
   "cell_type": "code",
   "execution_count": 88,
   "metadata": {},
   "outputs": [
    {
     "data": {
      "text/plain": [
       "0.908008658008658"
      ]
     },
     "execution_count": 88,
     "metadata": {},
     "output_type": "execute_result"
    }
   ],
   "source": [
    "confusion_matrix(y_test, prediction)\n",
    "accuracy_score(y_test, prediction)"
   ]
  },
  {
   "cell_type": "code",
   "execution_count": 95,
   "metadata": {},
   "outputs": [
    {
     "data": {
      "text/plain": [
       "array([[1288,    0,    6,    2,    2,   17,   12,    0,    5,    1],\n",
       "       [   0, 1479,    9,    4,    1,    6,    2,    2,   15,    2],\n",
       "       [  11,   23, 1235,   33,   26,   10,   25,   19,   31,    1],\n",
       "       [   8,    4,   40, 1285,    5,   51,    5,   19,   36,   18],\n",
       "       [   6,    7,   13,    4, 1252,    4,    8,    6,    9,   49],\n",
       "       [  11,    4,    8,   47,   23, 1028,   27,    7,   35,   15],\n",
       "       [  15,    6,    8,    0,    9,   16, 1327,    3,   13,    0],\n",
       "       [   4,   11,   23,    9,   25,    4,    3, 1346,    5,   50],\n",
       "       [  11,   32,   12,   34,   16,   43,    6,    4, 1158,   18],\n",
       "       [  13,    6,    7,   23,   31,   17,    0,   47,   17, 1187]])"
      ]
     },
     "execution_count": 95,
     "metadata": {},
     "output_type": "execute_result"
    }
   ],
   "source": [
    "confusion_matrix(y_test, prediction)"
   ]
  },
  {
   "cell_type": "code",
   "execution_count": null,
   "metadata": {},
   "outputs": [],
   "source": []
=======
>>>>>>> a46d565c1fee6fca94c14e5ee6bc4c0d2dce59e9
  }
 ],
 "metadata": {
  "kernelspec": {
   "display_name": "Python 3",
   "language": "python",
   "name": "python3"
  },
  "language_info": {
   "codemirror_mode": {
    "name": "ipython",
    "version": 3
   },
   "file_extension": ".py",
   "mimetype": "text/x-python",
   "name": "python",
   "nbconvert_exporter": "python",
   "pygments_lexer": "ipython3",
   "version": "3.6.8"
  }
 },
 "nbformat": 4,
 "nbformat_minor": 2
}
